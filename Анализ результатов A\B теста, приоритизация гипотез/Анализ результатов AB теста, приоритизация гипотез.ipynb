{
 "cells": [
  {
   "cell_type": "markdown",
   "metadata": {},
   "source": [
    "<span style=\"color:green\">**Поздравляю, твой проект принят!**</span>\n",
    "\n",
    "Алексей, отличная работа, получился качественный аналитический отчет. Поставленные задачи были успешно выполнены! Спасибо за обозначение корректировок. Недочёты исправлены! Надеюсь, ревью было полезным:) Желаю успехов в учебе и следующих проектах!"
   ]
  },
  {
   "cell_type": "code",
   "execution_count": 1,
   "metadata": {},
   "outputs": [],
   "source": [
    "import pandas as pd\n",
    "import datetime as dt\n",
    "import numpy as np\n",
    "import seaborn as sns\n",
    "import matplotlib.pyplot as plt\n",
    "import scipy.stats as st\n",
    "pd.options.display.max_colwidth = 1"
   ]
  },
  {
   "cell_type": "markdown",
   "metadata": {},
   "source": [
    "#### Загрузка, предварительная обработка данных."
   ]
  },
  {
   "cell_type": "code",
   "execution_count": 2,
   "metadata": {},
   "outputs": [],
   "source": [
    "hyp = pd.read_csv('/datasets/hypothesis.csv')\n",
    "orders = pd.read_csv('/datasets/orders.csv')\n",
    "visitors = pd.read_csv('/datasets/visitors.csv')"
   ]
  },
  {
   "cell_type": "code",
   "execution_count": 3,
   "metadata": {},
   "outputs": [
    {
     "name": "stdout",
     "output_type": "stream",
     "text": [
      "<class 'pandas.core.frame.DataFrame'>\n",
      "RangeIndex: 9 entries, 0 to 8\n",
      "Data columns (total 5 columns):\n",
      " #   Column      Non-Null Count  Dtype \n",
      "---  ------      --------------  ----- \n",
      " 0   Hypothesis  9 non-null      object\n",
      " 1   Reach       9 non-null      int64 \n",
      " 2   Impact      9 non-null      int64 \n",
      " 3   Confidence  9 non-null      int64 \n",
      " 4   Efforts     9 non-null      int64 \n",
      "dtypes: int64(4), object(1)\n",
      "memory usage: 488.0+ bytes\n"
     ]
    },
    {
     "data": {
      "text/plain": [
       "None"
      ]
     },
     "metadata": {},
     "output_type": "display_data"
    },
    {
     "name": "stdout",
     "output_type": "stream",
     "text": [
      "<class 'pandas.core.frame.DataFrame'>\n",
      "RangeIndex: 1197 entries, 0 to 1196\n",
      "Data columns (total 5 columns):\n",
      " #   Column         Non-Null Count  Dtype \n",
      "---  ------         --------------  ----- \n",
      " 0   transactionId  1197 non-null   int64 \n",
      " 1   visitorId      1197 non-null   int64 \n",
      " 2   date           1197 non-null   object\n",
      " 3   revenue        1197 non-null   int64 \n",
      " 4   group          1197 non-null   object\n",
      "dtypes: int64(3), object(2)\n",
      "memory usage: 46.9+ KB\n"
     ]
    },
    {
     "data": {
      "text/plain": [
       "None"
      ]
     },
     "metadata": {},
     "output_type": "display_data"
    },
    {
     "name": "stdout",
     "output_type": "stream",
     "text": [
      "<class 'pandas.core.frame.DataFrame'>\n",
      "RangeIndex: 62 entries, 0 to 61\n",
      "Data columns (total 3 columns):\n",
      " #   Column    Non-Null Count  Dtype \n",
      "---  ------    --------------  ----- \n",
      " 0   date      62 non-null     object\n",
      " 1   group     62 non-null     object\n",
      " 2   visitors  62 non-null     int64 \n",
      "dtypes: int64(1), object(2)\n",
      "memory usage: 1.6+ KB\n"
     ]
    },
    {
     "data": {
      "text/plain": [
       "None"
      ]
     },
     "metadata": {},
     "output_type": "display_data"
    }
   ],
   "source": [
    "display(hyp.info())\n",
    "display(orders.info())\n",
    "display(visitors.info())"
   ]
  },
  {
   "cell_type": "code",
   "execution_count": 4,
   "metadata": {},
   "outputs": [
    {
     "data": {
      "text/html": [
       "<div>\n",
       "<style scoped>\n",
       "    .dataframe tbody tr th:only-of-type {\n",
       "        vertical-align: middle;\n",
       "    }\n",
       "\n",
       "    .dataframe tbody tr th {\n",
       "        vertical-align: top;\n",
       "    }\n",
       "\n",
       "    .dataframe thead th {\n",
       "        text-align: right;\n",
       "    }\n",
       "</style>\n",
       "<table border=\"1\" class=\"dataframe\">\n",
       "  <thead>\n",
       "    <tr style=\"text-align: right;\">\n",
       "      <th></th>\n",
       "      <th>Hypothesis</th>\n",
       "      <th>Reach</th>\n",
       "      <th>Impact</th>\n",
       "      <th>Confidence</th>\n",
       "      <th>Efforts</th>\n",
       "    </tr>\n",
       "  </thead>\n",
       "  <tbody>\n",
       "    <tr>\n",
       "      <th>0</th>\n",
       "      <td>Добавить два новых канала привлечения трафика, что позволит привлекать на 30% больше пользователей</td>\n",
       "      <td>3</td>\n",
       "      <td>10</td>\n",
       "      <td>8</td>\n",
       "      <td>6</td>\n",
       "    </tr>\n",
       "    <tr>\n",
       "      <th>1</th>\n",
       "      <td>Запустить собственную службу доставки, что сократит срок доставки заказов</td>\n",
       "      <td>2</td>\n",
       "      <td>5</td>\n",
       "      <td>4</td>\n",
       "      <td>10</td>\n",
       "    </tr>\n",
       "    <tr>\n",
       "      <th>2</th>\n",
       "      <td>Добавить блоки рекомендаций товаров на сайт интернет магазина, чтобы повысить конверсию и средний чек заказа</td>\n",
       "      <td>8</td>\n",
       "      <td>3</td>\n",
       "      <td>7</td>\n",
       "      <td>3</td>\n",
       "    </tr>\n",
       "    <tr>\n",
       "      <th>3</th>\n",
       "      <td>Изменить структура категорий, что увеличит конверсию, т.к. пользователи быстрее найдут нужный товар</td>\n",
       "      <td>8</td>\n",
       "      <td>3</td>\n",
       "      <td>3</td>\n",
       "      <td>8</td>\n",
       "    </tr>\n",
       "    <tr>\n",
       "      <th>4</th>\n",
       "      <td>Изменить цвет фона главной страницы, чтобы увеличить вовлеченность пользователей</td>\n",
       "      <td>3</td>\n",
       "      <td>1</td>\n",
       "      <td>1</td>\n",
       "      <td>1</td>\n",
       "    </tr>\n",
       "    <tr>\n",
       "      <th>5</th>\n",
       "      <td>Добавить страницу отзывов клиентов о магазине, что позволит увеличить количество заказов</td>\n",
       "      <td>3</td>\n",
       "      <td>2</td>\n",
       "      <td>2</td>\n",
       "      <td>3</td>\n",
       "    </tr>\n",
       "    <tr>\n",
       "      <th>6</th>\n",
       "      <td>Показать на главной странице баннеры с актуальными акциями и распродажами, чтобы увеличить конверсию</td>\n",
       "      <td>5</td>\n",
       "      <td>3</td>\n",
       "      <td>8</td>\n",
       "      <td>3</td>\n",
       "    </tr>\n",
       "    <tr>\n",
       "      <th>7</th>\n",
       "      <td>Добавить форму подписки на все основные страницы, чтобы собрать базу клиентов для email-рассылок</td>\n",
       "      <td>10</td>\n",
       "      <td>7</td>\n",
       "      <td>8</td>\n",
       "      <td>5</td>\n",
       "    </tr>\n",
       "    <tr>\n",
       "      <th>8</th>\n",
       "      <td>Запустить акцию, дающую скидку на товар в день рождения</td>\n",
       "      <td>1</td>\n",
       "      <td>9</td>\n",
       "      <td>9</td>\n",
       "      <td>5</td>\n",
       "    </tr>\n",
       "  </tbody>\n",
       "</table>\n",
       "</div>"
      ],
      "text/plain": [
       "                                                                                                     Hypothesis  \\\n",
       "0  Добавить два новых канала привлечения трафика, что позволит привлекать на 30% больше пользователей             \n",
       "1  Запустить собственную службу доставки, что сократит срок доставки заказов                                      \n",
       "2  Добавить блоки рекомендаций товаров на сайт интернет магазина, чтобы повысить конверсию и средний чек заказа   \n",
       "3  Изменить структура категорий, что увеличит конверсию, т.к. пользователи быстрее найдут нужный товар            \n",
       "4  Изменить цвет фона главной страницы, чтобы увеличить вовлеченность пользователей                               \n",
       "5  Добавить страницу отзывов клиентов о магазине, что позволит увеличить количество заказов                       \n",
       "6  Показать на главной странице баннеры с актуальными акциями и распродажами, чтобы увеличить конверсию           \n",
       "7  Добавить форму подписки на все основные страницы, чтобы собрать базу клиентов для email-рассылок               \n",
       "8  Запустить акцию, дающую скидку на товар в день рождения                                                        \n",
       "\n",
       "   Reach  Impact  Confidence  Efforts  \n",
       "0  3      10      8           6        \n",
       "1  2      5       4           10       \n",
       "2  8      3       7           3        \n",
       "3  8      3       3           8        \n",
       "4  3      1       1           1        \n",
       "5  3      2       2           3        \n",
       "6  5      3       8           3        \n",
       "7  10     7       8           5        \n",
       "8  1      9       9           5        "
      ]
     },
     "metadata": {},
     "output_type": "display_data"
    },
    {
     "data": {
      "text/html": [
       "<div>\n",
       "<style scoped>\n",
       "    .dataframe tbody tr th:only-of-type {\n",
       "        vertical-align: middle;\n",
       "    }\n",
       "\n",
       "    .dataframe tbody tr th {\n",
       "        vertical-align: top;\n",
       "    }\n",
       "\n",
       "    .dataframe thead th {\n",
       "        text-align: right;\n",
       "    }\n",
       "</style>\n",
       "<table border=\"1\" class=\"dataframe\">\n",
       "  <thead>\n",
       "    <tr style=\"text-align: right;\">\n",
       "      <th></th>\n",
       "      <th>transactionId</th>\n",
       "      <th>visitorId</th>\n",
       "      <th>date</th>\n",
       "      <th>revenue</th>\n",
       "      <th>group</th>\n",
       "    </tr>\n",
       "  </thead>\n",
       "  <tbody>\n",
       "    <tr>\n",
       "      <th>0</th>\n",
       "      <td>3667963787</td>\n",
       "      <td>3312258926</td>\n",
       "      <td>2019-08-15</td>\n",
       "      <td>1650</td>\n",
       "      <td>B</td>\n",
       "    </tr>\n",
       "    <tr>\n",
       "      <th>1</th>\n",
       "      <td>2804400009</td>\n",
       "      <td>3642806036</td>\n",
       "      <td>2019-08-15</td>\n",
       "      <td>730</td>\n",
       "      <td>B</td>\n",
       "    </tr>\n",
       "    <tr>\n",
       "      <th>2</th>\n",
       "      <td>2961555356</td>\n",
       "      <td>4069496402</td>\n",
       "      <td>2019-08-15</td>\n",
       "      <td>400</td>\n",
       "      <td>A</td>\n",
       "    </tr>\n",
       "    <tr>\n",
       "      <th>3</th>\n",
       "      <td>3797467345</td>\n",
       "      <td>1196621759</td>\n",
       "      <td>2019-08-15</td>\n",
       "      <td>9759</td>\n",
       "      <td>B</td>\n",
       "    </tr>\n",
       "    <tr>\n",
       "      <th>4</th>\n",
       "      <td>2282983706</td>\n",
       "      <td>2322279887</td>\n",
       "      <td>2019-08-15</td>\n",
       "      <td>2308</td>\n",
       "      <td>B</td>\n",
       "    </tr>\n",
       "  </tbody>\n",
       "</table>\n",
       "</div>"
      ],
      "text/plain": [
       "   transactionId   visitorId        date  revenue group\n",
       "0  3667963787     3312258926  2019-08-15  1650     B   \n",
       "1  2804400009     3642806036  2019-08-15  730      B   \n",
       "2  2961555356     4069496402  2019-08-15  400      A   \n",
       "3  3797467345     1196621759  2019-08-15  9759     B   \n",
       "4  2282983706     2322279887  2019-08-15  2308     B   "
      ]
     },
     "metadata": {},
     "output_type": "display_data"
    },
    {
     "data": {
      "text/html": [
       "<div>\n",
       "<style scoped>\n",
       "    .dataframe tbody tr th:only-of-type {\n",
       "        vertical-align: middle;\n",
       "    }\n",
       "\n",
       "    .dataframe tbody tr th {\n",
       "        vertical-align: top;\n",
       "    }\n",
       "\n",
       "    .dataframe thead th {\n",
       "        text-align: right;\n",
       "    }\n",
       "</style>\n",
       "<table border=\"1\" class=\"dataframe\">\n",
       "  <thead>\n",
       "    <tr style=\"text-align: right;\">\n",
       "      <th></th>\n",
       "      <th>date</th>\n",
       "      <th>group</th>\n",
       "      <th>visitors</th>\n",
       "    </tr>\n",
       "  </thead>\n",
       "  <tbody>\n",
       "    <tr>\n",
       "      <th>0</th>\n",
       "      <td>2019-08-01</td>\n",
       "      <td>A</td>\n",
       "      <td>719</td>\n",
       "    </tr>\n",
       "    <tr>\n",
       "      <th>1</th>\n",
       "      <td>2019-08-02</td>\n",
       "      <td>A</td>\n",
       "      <td>619</td>\n",
       "    </tr>\n",
       "    <tr>\n",
       "      <th>2</th>\n",
       "      <td>2019-08-03</td>\n",
       "      <td>A</td>\n",
       "      <td>507</td>\n",
       "    </tr>\n",
       "    <tr>\n",
       "      <th>3</th>\n",
       "      <td>2019-08-04</td>\n",
       "      <td>A</td>\n",
       "      <td>717</td>\n",
       "    </tr>\n",
       "    <tr>\n",
       "      <th>4</th>\n",
       "      <td>2019-08-05</td>\n",
       "      <td>A</td>\n",
       "      <td>756</td>\n",
       "    </tr>\n",
       "  </tbody>\n",
       "</table>\n",
       "</div>"
      ],
      "text/plain": [
       "         date group  visitors\n",
       "0  2019-08-01  A     719     \n",
       "1  2019-08-02  A     619     \n",
       "2  2019-08-03  A     507     \n",
       "3  2019-08-04  A     717     \n",
       "4  2019-08-05  A     756     "
      ]
     },
     "metadata": {},
     "output_type": "display_data"
    }
   ],
   "source": [
    "display(hyp,\n",
    "       orders.head(),\n",
    "       visitors.head())"
   ]
  },
  {
   "cell_type": "code",
   "execution_count": 5,
   "metadata": {},
   "outputs": [],
   "source": [
    "# скорректируем наименование столбцов\n",
    "\n",
    "hyp.columns = hyp.columns.str.lower()"
   ]
  },
  {
   "cell_type": "code",
   "execution_count": 6,
   "metadata": {},
   "outputs": [],
   "source": [
    "# приведем столбцы date к корректному типу\n",
    "\n",
    "orders['date'] = orders['date'].map(lambda x: dt.datetime.strptime(x, '%Y-%m-%d'))\n",
    "\n",
    "visitors['date'] = visitors['date'].map(lambda x: dt.datetime.strptime(x, '%Y-%m-%d'))"
   ]
  },
  {
   "cell_type": "code",
   "execution_count": 7,
   "metadata": {
    "scrolled": true
   },
   "outputs": [
    {
     "data": {
      "text/plain": [
       "(0, 0)"
      ]
     },
     "execution_count": 7,
     "metadata": {},
     "output_type": "execute_result"
    }
   ],
   "source": [
    "# дубликатов нет\n",
    "\n",
    "orders.duplicated().sum(), visitors.duplicated().sum()"
   ]
  },
  {
   "cell_type": "markdown",
   "metadata": {},
   "source": [
    "На шаге 1 загружены таблицы hypotesys, orders, visitors. \n",
    "Получена общая информация о таблицах. \n",
    "В ходе предварительной обработки изменены наименования столбцов, тип данных в столбцах date на корректные. \n",
    "Дубликатов, пропусков в данных нет. "
   ]
  },
  {
   "cell_type": "code",
   "execution_count": 8,
   "metadata": {},
   "outputs": [
    {
     "name": "stdout",
     "output_type": "stream",
     "text": [
      "Количество пользователей, попавших в обе группы =  58\n"
     ]
    }
   ],
   "source": [
    "orders.groupby('visitorId').agg({'group' : 'nunique'}).query('group>1').count()\n",
    "\n",
    "double_users = orders.groupby('visitorId').agg({'group' : 'nunique'}).reset_index().query('group>1')['visitorId'].unique()\n",
    "print('Количество пользователей, попавших в обе группы = ', len(double_users))\n",
    "\n",
    "orders = orders.query('visitorId not in @double_users').reset_index()"
   ]
  },
  {
   "cell_type": "code",
   "execution_count": 9,
   "metadata": {},
   "outputs": [
    {
     "name": "stdout",
     "output_type": "stream",
     "text": [
      "<class 'pandas.core.frame.DataFrame'>\n",
      "RangeIndex: 1016 entries, 0 to 1015\n",
      "Data columns (total 6 columns):\n",
      " #   Column         Non-Null Count  Dtype         \n",
      "---  ------         --------------  -----         \n",
      " 0   index          1016 non-null   int64         \n",
      " 1   transactionId  1016 non-null   int64         \n",
      " 2   visitorId      1016 non-null   int64         \n",
      " 3   date           1016 non-null   datetime64[ns]\n",
      " 4   revenue        1016 non-null   int64         \n",
      " 5   group          1016 non-null   object        \n",
      "dtypes: datetime64[ns](1), int64(4), object(1)\n",
      "memory usage: 47.8+ KB\n"
     ]
    }
   ],
   "source": [
    "orders.info()"
   ]
  },
  {
   "cell_type": "markdown",
   "metadata": {},
   "source": [
    "#### Часть 1. Приоритизация гипотез."
   ]
  },
  {
   "cell_type": "code",
   "execution_count": 10,
   "metadata": {},
   "outputs": [
    {
     "data": {
      "text/html": [
       "<div>\n",
       "<style scoped>\n",
       "    .dataframe tbody tr th:only-of-type {\n",
       "        vertical-align: middle;\n",
       "    }\n",
       "\n",
       "    .dataframe tbody tr th {\n",
       "        vertical-align: top;\n",
       "    }\n",
       "\n",
       "    .dataframe thead th {\n",
       "        text-align: right;\n",
       "    }\n",
       "</style>\n",
       "<table border=\"1\" class=\"dataframe\">\n",
       "  <thead>\n",
       "    <tr style=\"text-align: right;\">\n",
       "      <th></th>\n",
       "      <th>hypothesis</th>\n",
       "      <th>reach</th>\n",
       "      <th>impact</th>\n",
       "      <th>confidence</th>\n",
       "      <th>efforts</th>\n",
       "      <th>ice</th>\n",
       "      <th>rice</th>\n",
       "    </tr>\n",
       "  </thead>\n",
       "  <tbody>\n",
       "    <tr>\n",
       "      <th>8</th>\n",
       "      <td>Запустить акцию, дающую скидку на товар в день рождения</td>\n",
       "      <td>1</td>\n",
       "      <td>9</td>\n",
       "      <td>9</td>\n",
       "      <td>5</td>\n",
       "      <td>16.200</td>\n",
       "      <td>16.2</td>\n",
       "    </tr>\n",
       "    <tr>\n",
       "      <th>0</th>\n",
       "      <td>Добавить два новых канала привлечения трафика, что позволит привлекать на 30% больше пользователей</td>\n",
       "      <td>3</td>\n",
       "      <td>10</td>\n",
       "      <td>8</td>\n",
       "      <td>6</td>\n",
       "      <td>13.333</td>\n",
       "      <td>40.0</td>\n",
       "    </tr>\n",
       "    <tr>\n",
       "      <th>7</th>\n",
       "      <td>Добавить форму подписки на все основные страницы, чтобы собрать базу клиентов для email-рассылок</td>\n",
       "      <td>10</td>\n",
       "      <td>7</td>\n",
       "      <td>8</td>\n",
       "      <td>5</td>\n",
       "      <td>11.200</td>\n",
       "      <td>112.0</td>\n",
       "    </tr>\n",
       "    <tr>\n",
       "      <th>6</th>\n",
       "      <td>Показать на главной странице баннеры с актуальными акциями и распродажами, чтобы увеличить конверсию</td>\n",
       "      <td>5</td>\n",
       "      <td>3</td>\n",
       "      <td>8</td>\n",
       "      <td>3</td>\n",
       "      <td>8.000</td>\n",
       "      <td>40.0</td>\n",
       "    </tr>\n",
       "    <tr>\n",
       "      <th>2</th>\n",
       "      <td>Добавить блоки рекомендаций товаров на сайт интернет магазина, чтобы повысить конверсию и средний чек заказа</td>\n",
       "      <td>8</td>\n",
       "      <td>3</td>\n",
       "      <td>7</td>\n",
       "      <td>3</td>\n",
       "      <td>7.000</td>\n",
       "      <td>56.0</td>\n",
       "    </tr>\n",
       "    <tr>\n",
       "      <th>1</th>\n",
       "      <td>Запустить собственную службу доставки, что сократит срок доставки заказов</td>\n",
       "      <td>2</td>\n",
       "      <td>5</td>\n",
       "      <td>4</td>\n",
       "      <td>10</td>\n",
       "      <td>2.000</td>\n",
       "      <td>4.0</td>\n",
       "    </tr>\n",
       "    <tr>\n",
       "      <th>5</th>\n",
       "      <td>Добавить страницу отзывов клиентов о магазине, что позволит увеличить количество заказов</td>\n",
       "      <td>3</td>\n",
       "      <td>2</td>\n",
       "      <td>2</td>\n",
       "      <td>3</td>\n",
       "      <td>1.333</td>\n",
       "      <td>4.0</td>\n",
       "    </tr>\n",
       "    <tr>\n",
       "      <th>3</th>\n",
       "      <td>Изменить структура категорий, что увеличит конверсию, т.к. пользователи быстрее найдут нужный товар</td>\n",
       "      <td>8</td>\n",
       "      <td>3</td>\n",
       "      <td>3</td>\n",
       "      <td>8</td>\n",
       "      <td>1.125</td>\n",
       "      <td>9.0</td>\n",
       "    </tr>\n",
       "    <tr>\n",
       "      <th>4</th>\n",
       "      <td>Изменить цвет фона главной страницы, чтобы увеличить вовлеченность пользователей</td>\n",
       "      <td>3</td>\n",
       "      <td>1</td>\n",
       "      <td>1</td>\n",
       "      <td>1</td>\n",
       "      <td>1.000</td>\n",
       "      <td>3.0</td>\n",
       "    </tr>\n",
       "  </tbody>\n",
       "</table>\n",
       "</div>"
      ],
      "text/plain": [
       "                                                                                                     hypothesis  \\\n",
       "8  Запустить акцию, дающую скидку на товар в день рождения                                                        \n",
       "0  Добавить два новых канала привлечения трафика, что позволит привлекать на 30% больше пользователей             \n",
       "7  Добавить форму подписки на все основные страницы, чтобы собрать базу клиентов для email-рассылок               \n",
       "6  Показать на главной странице баннеры с актуальными акциями и распродажами, чтобы увеличить конверсию           \n",
       "2  Добавить блоки рекомендаций товаров на сайт интернет магазина, чтобы повысить конверсию и средний чек заказа   \n",
       "1  Запустить собственную службу доставки, что сократит срок доставки заказов                                      \n",
       "5  Добавить страницу отзывов клиентов о магазине, что позволит увеличить количество заказов                       \n",
       "3  Изменить структура категорий, что увеличит конверсию, т.к. пользователи быстрее найдут нужный товар            \n",
       "4  Изменить цвет фона главной страницы, чтобы увеличить вовлеченность пользователей                               \n",
       "\n",
       "   reach  impact  confidence  efforts     ice   rice  \n",
       "8  1      9       9           5        16.200  16.2   \n",
       "0  3      10      8           6        13.333  40.0   \n",
       "7  10     7       8           5        11.200  112.0  \n",
       "6  5      3       8           3        8.000   40.0   \n",
       "2  8      3       7           3        7.000   56.0   \n",
       "1  2      5       4           10       2.000   4.0    \n",
       "5  3      2       2           3        1.333   4.0    \n",
       "3  8      3       3           8        1.125   9.0    \n",
       "4  3      1       1           1        1.000   3.0    "
      ]
     },
     "metadata": {},
     "output_type": "display_data"
    },
    {
     "data": {
      "text/html": [
       "<div>\n",
       "<style scoped>\n",
       "    .dataframe tbody tr th:only-of-type {\n",
       "        vertical-align: middle;\n",
       "    }\n",
       "\n",
       "    .dataframe tbody tr th {\n",
       "        vertical-align: top;\n",
       "    }\n",
       "\n",
       "    .dataframe thead th {\n",
       "        text-align: right;\n",
       "    }\n",
       "</style>\n",
       "<table border=\"1\" class=\"dataframe\">\n",
       "  <thead>\n",
       "    <tr style=\"text-align: right;\">\n",
       "      <th></th>\n",
       "      <th>hypothesis</th>\n",
       "      <th>reach</th>\n",
       "      <th>impact</th>\n",
       "      <th>confidence</th>\n",
       "      <th>efforts</th>\n",
       "      <th>ice</th>\n",
       "      <th>rice</th>\n",
       "    </tr>\n",
       "  </thead>\n",
       "  <tbody>\n",
       "    <tr>\n",
       "      <th>7</th>\n",
       "      <td>Добавить форму подписки на все основные страницы, чтобы собрать базу клиентов для email-рассылок</td>\n",
       "      <td>10</td>\n",
       "      <td>7</td>\n",
       "      <td>8</td>\n",
       "      <td>5</td>\n",
       "      <td>11.200</td>\n",
       "      <td>112.0</td>\n",
       "    </tr>\n",
       "    <tr>\n",
       "      <th>2</th>\n",
       "      <td>Добавить блоки рекомендаций товаров на сайт интернет магазина, чтобы повысить конверсию и средний чек заказа</td>\n",
       "      <td>8</td>\n",
       "      <td>3</td>\n",
       "      <td>7</td>\n",
       "      <td>3</td>\n",
       "      <td>7.000</td>\n",
       "      <td>56.0</td>\n",
       "    </tr>\n",
       "    <tr>\n",
       "      <th>0</th>\n",
       "      <td>Добавить два новых канала привлечения трафика, что позволит привлекать на 30% больше пользователей</td>\n",
       "      <td>3</td>\n",
       "      <td>10</td>\n",
       "      <td>8</td>\n",
       "      <td>6</td>\n",
       "      <td>13.333</td>\n",
       "      <td>40.0</td>\n",
       "    </tr>\n",
       "    <tr>\n",
       "      <th>6</th>\n",
       "      <td>Показать на главной странице баннеры с актуальными акциями и распродажами, чтобы увеличить конверсию</td>\n",
       "      <td>5</td>\n",
       "      <td>3</td>\n",
       "      <td>8</td>\n",
       "      <td>3</td>\n",
       "      <td>8.000</td>\n",
       "      <td>40.0</td>\n",
       "    </tr>\n",
       "    <tr>\n",
       "      <th>8</th>\n",
       "      <td>Запустить акцию, дающую скидку на товар в день рождения</td>\n",
       "      <td>1</td>\n",
       "      <td>9</td>\n",
       "      <td>9</td>\n",
       "      <td>5</td>\n",
       "      <td>16.200</td>\n",
       "      <td>16.2</td>\n",
       "    </tr>\n",
       "    <tr>\n",
       "      <th>3</th>\n",
       "      <td>Изменить структура категорий, что увеличит конверсию, т.к. пользователи быстрее найдут нужный товар</td>\n",
       "      <td>8</td>\n",
       "      <td>3</td>\n",
       "      <td>3</td>\n",
       "      <td>8</td>\n",
       "      <td>1.125</td>\n",
       "      <td>9.0</td>\n",
       "    </tr>\n",
       "    <tr>\n",
       "      <th>1</th>\n",
       "      <td>Запустить собственную службу доставки, что сократит срок доставки заказов</td>\n",
       "      <td>2</td>\n",
       "      <td>5</td>\n",
       "      <td>4</td>\n",
       "      <td>10</td>\n",
       "      <td>2.000</td>\n",
       "      <td>4.0</td>\n",
       "    </tr>\n",
       "    <tr>\n",
       "      <th>5</th>\n",
       "      <td>Добавить страницу отзывов клиентов о магазине, что позволит увеличить количество заказов</td>\n",
       "      <td>3</td>\n",
       "      <td>2</td>\n",
       "      <td>2</td>\n",
       "      <td>3</td>\n",
       "      <td>1.333</td>\n",
       "      <td>4.0</td>\n",
       "    </tr>\n",
       "    <tr>\n",
       "      <th>4</th>\n",
       "      <td>Изменить цвет фона главной страницы, чтобы увеличить вовлеченность пользователей</td>\n",
       "      <td>3</td>\n",
       "      <td>1</td>\n",
       "      <td>1</td>\n",
       "      <td>1</td>\n",
       "      <td>1.000</td>\n",
       "      <td>3.0</td>\n",
       "    </tr>\n",
       "  </tbody>\n",
       "</table>\n",
       "</div>"
      ],
      "text/plain": [
       "                                                                                                     hypothesis  \\\n",
       "7  Добавить форму подписки на все основные страницы, чтобы собрать базу клиентов для email-рассылок               \n",
       "2  Добавить блоки рекомендаций товаров на сайт интернет магазина, чтобы повысить конверсию и средний чек заказа   \n",
       "0  Добавить два новых канала привлечения трафика, что позволит привлекать на 30% больше пользователей             \n",
       "6  Показать на главной странице баннеры с актуальными акциями и распродажами, чтобы увеличить конверсию           \n",
       "8  Запустить акцию, дающую скидку на товар в день рождения                                                        \n",
       "3  Изменить структура категорий, что увеличит конверсию, т.к. пользователи быстрее найдут нужный товар            \n",
       "1  Запустить собственную службу доставки, что сократит срок доставки заказов                                      \n",
       "5  Добавить страницу отзывов клиентов о магазине, что позволит увеличить количество заказов                       \n",
       "4  Изменить цвет фона главной страницы, чтобы увеличить вовлеченность пользователей                               \n",
       "\n",
       "   reach  impact  confidence  efforts     ice   rice  \n",
       "7  10     7       8           5        11.200  112.0  \n",
       "2  8      3       7           3        7.000   56.0   \n",
       "0  3      10      8           6        13.333  40.0   \n",
       "6  5      3       8           3        8.000   40.0   \n",
       "8  1      9       9           5        16.200  16.2   \n",
       "3  8      3       3           8        1.125   9.0    \n",
       "1  2      5       4           10       2.000   4.0    \n",
       "5  3      2       2           3        1.333   4.0    \n",
       "4  3      1       1           1        1.000   3.0    "
      ]
     },
     "metadata": {},
     "output_type": "display_data"
    }
   ],
   "source": [
    "hyp_prior = hyp # создадим таблицу, в которой подсчитаем значения ICE и RICE\n",
    "hyp_prior['ice'] = round((hyp_prior['impact'] * hyp_prior['confidence']) / hyp_prior['efforts'], 3)\n",
    "hyp_prior['rice'] = round((hyp_prior['reach'] * hyp_prior['impact'] * hyp_prior['confidence']) / hyp_prior['efforts'], 3)\n",
    "\n",
    "display(hyp_prior.sort_values(by='ice', ascending= False), # отсортируем по убыванию приоритета\n",
    "        hyp_prior.sort_values(by='rice', ascending= False))"
   ]
  },
  {
   "cell_type": "markdown",
   "metadata": {},
   "source": [
    "При использовании модификации метода ICE - RICE, имеет значение параметр охвата (reach). Приоритизация изменилась с учетом того, что в формулу расчета добавлен соответствующий множитель reach."
   ]
  },
  {
   "cell_type": "markdown",
   "metadata": {},
   "source": [
    "#### Часть 2. Анализ A/B-теста."
   ]
  },
  {
   "cell_type": "markdown",
   "metadata": {},
   "source": [
    "##### Построим график кумулятивной выручки по группам. Сделаем выводы и предположения."
   ]
  },
  {
   "cell_type": "code",
   "execution_count": 11,
   "metadata": {},
   "outputs": [
    {
     "data": {
      "image/png": "[encoded data removed]",
      "text/plain": [
       "<Figure size 1080x720 with 1 Axes>"
      ]
     },
     "metadata": {
      "needs_background": "light"
     },
     "output_type": "display_data"
    }
   ],
   "source": [
    "datesGroups = orders[['date','group']].drop_duplicates()\n",
    " \n",
    "ordersAggregated = datesGroups.apply(lambda x: orders[np.logical_and(orders['date'] <= x['date'], orders['group'] == x['group'])]\\\n",
    ".agg({'date' : 'max', 'group' : 'max', 'transactionId' : 'nunique', 'visitorId' : 'nunique', 'revenue' : 'sum'}), axis=1).sort_values(by=['date','group'])\n",
    "\n",
    "visitorsAggregated = datesGroups.apply(lambda x: visitors[np.logical_and(visitors['date'] <= x['date'], visitors['group'] == x['group'])].agg({'date' : 'max', 'group' : 'max', 'visitors' : 'sum'}), axis=1).sort_values(by=['date','group'])\n",
    "\n",
    "cumulativeData = ordersAggregated.merge(visitorsAggregated, left_on=['date', 'group'], right_on=['date', 'group'])\n",
    "cumulativeData.columns = ['date', 'group', 'orders', 'buyers', 'revenue', 'visitors']\n",
    "\n",
    "cumulativeRevenueA = cumulativeData[cumulativeData['group']=='A'][['date','revenue', 'orders']]\n",
    "cumulativeRevenueB = cumulativeData[cumulativeData['group']=='B'][['date','revenue', 'orders']]\n",
    "\n",
    "plt.figure(figsize=(15, 10))\n",
    "plt.plot(cumulativeRevenueA['date'], cumulativeRevenueA['revenue'], label='A')\n",
    "plt.plot(cumulativeRevenueB['date'], cumulativeRevenueB['revenue'], label='B')\n",
    "plt.title('График кумулятивной выручки по группам')\n",
    "plt.xlabel('Дата')\n",
    "plt.ylabel('Выручка')\n",
    "plt.grid()\n",
    "plt.legend()\n",
    "plt.show()\n",
    "\n"
   ]
  },
  {
   "cell_type": "markdown",
   "metadata": {},
   "source": [
    "Примерно с 18.08.2019 отмечается рост выручки в группе B, что может свидетельствовать о росте числа заказов либо дорогих заказов."
   ]
  },
  {
   "cell_type": "markdown",
   "metadata": {},
   "source": [
    "##### Построим график кумулятивного среднего чека по группам. Сделаем выводы и предположения."
   ]
  },
  {
   "cell_type": "code",
   "execution_count": 12,
   "metadata": {},
   "outputs": [
    {
     "data": {
      "image/png": "[encoded data removed]",
      "text/plain": [
       "<Figure size 1080x720 with 1 Axes>"
      ]
     },
     "metadata": {
      "needs_background": "light"
     },
     "output_type": "display_data"
    }
   ],
   "source": [
    "plt.figure(figsize=(15, 10))\n",
    "plt.plot(cumulativeRevenueA['date'], cumulativeRevenueA['revenue']/cumulativeRevenueA['orders'], label='A')\n",
    "plt.plot(cumulativeRevenueB['date'], cumulativeRevenueB['revenue']/cumulativeRevenueB['orders'], label='B')\n",
    "plt.title('График кумулятивного среднего чека по группам')\n",
    "plt.xlabel('Дата')\n",
    "plt.ylabel('Кумулятивный cредний чек')\n",
    "plt.grid()\n",
    "plt.legend()\n",
    "plt.show()"
   ]
  },
  {
   "cell_type": "markdown",
   "metadata": {},
   "source": [
    "Средний чек в группе B резко возрастает также 18.08.2019 по причине дорогих покупок. Средний чек в каждой группе стабилизируется к концу теста."
   ]
  },
  {
   "cell_type": "markdown",
   "metadata": {},
   "source": [
    "##### Построим график относительного изменения кумулятивного среднего чека группы B к группе A. Сделаем выводы и предположения."
   ]
  },
  {
   "cell_type": "code",
   "execution_count": 13,
   "metadata": {},
   "outputs": [
    {
     "data": {
      "image/png": "[encoded data removed]",
      "text/plain": [
       "<Figure size 1080x720 with 1 Axes>"
      ]
     },
     "metadata": {
      "needs_background": "light"
     },
     "output_type": "display_data"
    }
   ],
   "source": [
    "mergedCumulativeRevenue = cumulativeRevenueA.merge(cumulativeRevenueB, left_on='date', right_on='date', how='left', suffixes=['A', 'B'])\n",
    "\n",
    "plt.figure(figsize=(15, 10))\n",
    "plt.plot(mergedCumulativeRevenue['date'], (mergedCumulativeRevenue['revenueB']/mergedCumulativeRevenue['ordersB'])/(mergedCumulativeRevenue['revenueA']/mergedCumulativeRevenue['ordersA'])-1)\n",
    "plt.axhline(y=0, color='black', linestyle='--')\n",
    "plt.title('График относительного изменения кумулятивного среднего чека группы B к группе A')\n",
    "plt.xlabel('Дата')\n",
    "plt.ylabel('Доля')\n",
    "plt.grid()\n",
    "plt.show()"
   ]
  },
  {
   "cell_type": "markdown",
   "metadata": {},
   "source": [
    "В нескольких точках график различия между сегментами резко «скачет», что является признаком крупных заказов и выбросов."
   ]
  },
  {
   "cell_type": "markdown",
   "metadata": {},
   "source": [
    "##### Построим график кумулятивного среднего количества заказов на посетителя по группам. Сделаем выводы и предположения."
   ]
  },
  {
   "cell_type": "code",
   "execution_count": 14,
   "metadata": {},
   "outputs": [
    {
     "data": {
      "image/png": "[encoded data removed]",
      "text/plain": [
       "<Figure size 1080x504 with 1 Axes>"
      ]
     },
     "metadata": {
      "needs_background": "light"
     },
     "output_type": "display_data"
    }
   ],
   "source": [
    "cumulativeData['conversion'] = cumulativeData['orders']/cumulativeData['visitors']\n",
    "\n",
    "cumulativeDataA = cumulativeData[cumulativeData['group']=='A']\n",
    "\n",
    "cumulativeDataB = cumulativeData[cumulativeData['group']=='B']\n",
    "\n",
    "plt.figure(figsize=(15, 7))\n",
    "plt.plot(cumulativeDataA['date'], cumulativeDataA['conversion'], label='A')\n",
    "plt.plot(cumulativeDataB['date'], cumulativeDataB['conversion'], label='B')\n",
    "plt.axis([dt.datetime(2019, 8, 1), dt.datetime(2019, 9, 1), 0.02, 0.038])\n",
    "plt.title('График кумулятивного среднего количества заказов на посетителя по группам')\n",
    "plt.xlabel('Дата')\n",
    "plt.ylabel('Cреднее количество заказов на посетителя')\n",
    "plt.legend()\n",
    "plt.grid()\n",
    "plt.show()"
   ]
  },
  {
   "cell_type": "markdown",
   "metadata": {},
   "source": [
    "В начале теста конверсия в группе А выше, затем конверсия в группе B стала больше. Затем значения конверсий стабилизировались, B выше A."
   ]
  },
  {
   "cell_type": "markdown",
   "metadata": {},
   "source": [
    "##### Построим график относительного изменения кумулятивного среднего количества заказов на посетителя группы B к группе A. Сделаем выводы и предположения."
   ]
  },
  {
   "cell_type": "code",
   "execution_count": 15,
   "metadata": {},
   "outputs": [
    {
     "data": {
      "image/png": "[encoded data removed]",
      "text/plain": [
       "<Figure size 1080x720 with 1 Axes>"
      ]
     },
     "metadata": {
      "needs_background": "light"
     },
     "output_type": "display_data"
    }
   ],
   "source": [
    "mergedCumulativeConversions = cumulativeDataA[['date','conversion']].merge(cumulativeDataB[['date','conversion']], left_on='date', right_on='date', how='left', suffixes=['A', 'B'])\n",
    "\n",
    "plt.figure(figsize=(15, 10))\n",
    "plt.plot(mergedCumulativeConversions['date'], mergedCumulativeConversions['conversionB']/mergedCumulativeConversions['conversionA']-1, label=\"Относительный прирост конверсии группы B относительно группы A\")\n",
    "\n",
    "plt.axhline(y=0, color='black', linestyle='--')\n",
    "plt.axhline(y=0.15, color='grey', linestyle='--')\n",
    "plt.title('График относительного изменения кумулятивного среднего количества заказов на посетителя группы B к группе A')\n",
    "plt.xlabel('Дата')\n",
    "plt.ylabel('Среднее количество заказов на посетителя')\n",
    "plt.legend()\n",
    "plt.grid()\n",
    "plt.show()"
   ]
  },
  {
   "cell_type": "markdown",
   "metadata": {},
   "source": [
    "Группа B выходит вперед после 05.08.2019, лидирует до конца теста."
   ]
  },
  {
   "cell_type": "markdown",
   "metadata": {},
   "source": [
    "##### Построим точечный график количества заказов по пользователям. Сделаем выводы и предположения."
   ]
  },
  {
   "cell_type": "code",
   "execution_count": 16,
   "metadata": {},
   "outputs": [
    {
     "data": {
      "image/png": "[encoded data removed]",
      "text/plain": [
       "<Figure size 720x504 with 1 Axes>"
      ]
     },
     "metadata": {
      "needs_background": "light"
     },
     "output_type": "display_data"
    }
   ],
   "source": [
    "ordersByUsers = (\n",
    "    orders.groupby('visitorId', as_index=False)\n",
    "    .agg({'transactionId': 'nunique'})\n",
    ")\n",
    "\n",
    "ordersByUsers.columns = ['visitorId', 'transactionId']\n",
    "\n",
    "x_values = pd.Series(range(0, len(ordersByUsers)))\n",
    "plt.figure(figsize=(10, 7))\n",
    "plt.scatter(x_values, ordersByUsers['transactionId'])\n",
    "plt.xlabel('Пользователи')\n",
    "plt.ylabel('Количество заказов')\n",
    "plt.title(\"Количество заказов по пользователям\")\n",
    "plt.grid()\n",
    "plt.show()"
   ]
  },
  {
   "cell_type": "markdown",
   "metadata": {},
   "source": [
    "Есть немного пользователей, которые делали заказы 2 и более раз."
   ]
  },
  {
   "cell_type": "markdown",
   "metadata": {},
   "source": [
    "##### Посчитаем 95-й и 99-й перцентили количества заказов на пользователя. Выберем границу для определения аномальных пользователей."
   ]
  },
  {
   "cell_type": "code",
   "execution_count": 17,
   "metadata": {
    "scrolled": true
   },
   "outputs": [
    {
     "data": {
      "text/plain": [
       "array([1., 2.])"
      ]
     },
     "execution_count": 17,
     "metadata": {},
     "output_type": "execute_result"
    }
   ],
   "source": [
    "np.percentile(ordersByUsers['transactionId'], [95, 99])"
   ]
  },
  {
   "cell_type": "markdown",
   "metadata": {},
   "source": [
    "Не более 5% пользователей оформляли больше 1 заказа, 1% - больше 2 заказов."
   ]
  },
  {
   "cell_type": "markdown",
   "metadata": {},
   "source": [
    "##### Построим точечный график стоимостей заказов. Сделаем выводы и предположения."
   ]
  },
  {
   "cell_type": "code",
   "execution_count": 18,
   "metadata": {},
   "outputs": [
    {
     "data": {
      "image/png": "[encoded data removed]",
      "text/plain": [
       "<Figure size 720x504 with 1 Axes>"
      ]
     },
     "metadata": {
      "needs_background": "light"
     },
     "output_type": "display_data"
    }
   ],
   "source": [
    "x_values = pd.Series(range(0, len(orders['revenue'])))\n",
    "plt.figure(figsize=(10, 7))\n",
    "plt.scatter(x_values, orders['revenue']) \n",
    "plt.xlabel('Пользователи')\n",
    "plt.ylabel('Стоимость заказов')\n",
    "plt.title(\"Стоимости заказов\")\n",
    "plt.ylim([0,150000])\n",
    "plt.grid()\n",
    "plt.show()"
   ]
  },
  {
   "cell_type": "markdown",
   "metadata": {},
   "source": [
    "Аномальными выглядят заказы со стоимостью свыше 20 тысяч."
   ]
  },
  {
   "cell_type": "markdown",
   "metadata": {},
   "source": [
    "##### Посчитаем 95-й и 99-й перцентили стоимости заказов. Выберем границу для определения аномальных заказов."
   ]
  },
  {
   "cell_type": "code",
   "execution_count": 19,
   "metadata": {},
   "outputs": [
    {
     "data": {
      "text/plain": [
       "array([26785., 53904.])"
      ]
     },
     "execution_count": 19,
     "metadata": {},
     "output_type": "execute_result"
    }
   ],
   "source": [
    "np.percentile(orders['revenue'] , [95, 99])"
   ]
  },
  {
   "cell_type": "markdown",
   "metadata": {},
   "source": [
    "Не более 5% пользователей оформили заказ на 27 тысяч, 1% - на 54 тысячи."
   ]
  },
  {
   "cell_type": "markdown",
   "metadata": {},
   "source": [
    "##### Посчитаем статистическую значимость различий в среднем количестве заказов на посетителя между группами по «сырым» данным. Сделаем выводы и предположения."
   ]
  },
  {
   "cell_type": "markdown",
   "metadata": {},
   "source": [
    "Сформулируем гипотезы:\n",
    "\n",
    "H0:Среднее количество заказов на посетителя в группах A и B равны\n",
    "\n",
    "H1:Среднее количество заказов на посетителя в группах A и B различны, статистически значимые отличия есть"
   ]
  },
  {
   "cell_type": "code",
   "execution_count": 20,
   "metadata": {
    "scrolled": true
   },
   "outputs": [
    {
     "name": "stdout",
     "output_type": "stream",
     "text": [
      "P-value: 0.011\n",
      "Относительные различия: 0.160\n"
     ]
    }
   ],
   "source": [
    "visitorsADaily = visitors[visitors['group'] == 'A'][['date', 'visitors']]\n",
    "visitorsADaily.columns = ['date', 'visitorsPerDateA']\n",
    "\n",
    "visitorsACummulative = visitorsADaily.apply(\n",
    "    lambda x: visitorsADaily[visitorsADaily['date'] <= x['date']].agg(\n",
    "        {'date': 'max', 'visitorsPerDateA': 'sum'}\n",
    "    ),\n",
    "    axis=1,\n",
    ")\n",
    "visitorsACummulative.columns = ['date', 'visitorsCummulativeA']\n",
    "\n",
    "visitorsBDaily = visitors[visitors['group'] == 'B'][['date', 'visitors']]\n",
    "visitorsBDaily.columns = ['date', 'visitorsPerDateB']\n",
    "\n",
    "visitorsBCummulative = visitorsBDaily.apply(\n",
    "    lambda x: visitorsBDaily[visitorsBDaily['date'] <= x['date']].agg(\n",
    "        {'date': 'max', 'visitorsPerDateB': 'sum'}\n",
    "    ),\n",
    "    axis=1,\n",
    ")\n",
    "visitorsBCummulative.columns = ['date', 'visitorsCummulativeB']\n",
    "\n",
    "ordersADaily = (\n",
    "    orders[orders['group'] == 'A'][['date', 'transactionId', 'visitorId', 'revenue']]\n",
    "    .groupby('date', as_index=False)\n",
    "    .agg({'transactionId': pd.Series.nunique, 'revenue': 'sum'})\n",
    ")\n",
    "ordersADaily.columns = ['date', 'ordersPerDateA', 'revenuePerDateA']\n",
    "\n",
    "ordersACummulative = ordersADaily.apply(\n",
    "    lambda x: ordersADaily[ordersADaily['date'] <= x['date']].agg(\n",
    "        {'date': 'max', 'ordersPerDateA': 'sum', 'revenuePerDateA': 'sum'}\n",
    "    ),\n",
    "    axis=1,\n",
    ").sort_values(by=['date'])\n",
    "ordersACummulative.columns = [\n",
    "    'date',\n",
    "    'ordersCummulativeA',\n",
    "    'revenueCummulativeA',\n",
    "]\n",
    "\n",
    "ordersBDaily = (\n",
    "    orders[orders['group'] == 'B'][['date', 'transactionId', 'visitorId', 'revenue']]\n",
    "    .groupby('date', as_index=False)\n",
    "    .agg({'transactionId': pd.Series.nunique, 'revenue': 'sum'})\n",
    ")\n",
    "ordersBDaily.columns = ['date', 'ordersPerDateB', 'revenuePerDateB']\n",
    "\n",
    "ordersBCummulative = ordersBDaily.apply(\n",
    "    lambda x: ordersBDaily[ordersBDaily['date'] <= x['date']].agg(\n",
    "        {'date': 'max', 'ordersPerDateB': 'sum', 'revenuePerDateB': 'sum'}\n",
    "    ),\n",
    "    axis=1,\n",
    ").sort_values(by=['date'])\n",
    "ordersBCummulative.columns = [\n",
    "    'date',\n",
    "    'ordersCummulativeB',\n",
    "    'revenueCummulativeB',\n",
    "]\n",
    "\n",
    "data = (\n",
    "    ordersADaily.merge(\n",
    "        ordersBDaily, left_on='date', right_on='date', how='left'\n",
    "    )\n",
    "    .merge(ordersACummulative, left_on='date', right_on='date', how='left')\n",
    "    .merge(ordersBCummulative, left_on='date', right_on='date', how='left')\n",
    "    .merge(visitorsADaily, left_on='date', right_on='date', how='left')\n",
    "    .merge(visitorsBDaily, left_on='date', right_on='date', how='left')\n",
    "    .merge(visitorsACummulative, left_on='date', right_on='date', how='left')\n",
    "    .merge(visitorsBCummulative, left_on='date', right_on='date', how='left')\n",
    ")\n",
    "\n",
    "ordersByUsersA = (\n",
    "    orders[orders['group'] == 'A']\n",
    "    .groupby('visitorId', as_index=False)\n",
    "    .agg({'transactionId': pd.Series.nunique})\n",
    ")\n",
    "ordersByUsersA.columns = ['visitorId', 'transactionId']\n",
    "\n",
    "ordersByUsersB = (\n",
    "    orders[orders['group'] == 'B']\n",
    "    .groupby('visitorId', as_index=False)\n",
    "    .agg({'transactionId': pd.Series.nunique})\n",
    ")\n",
    "ordersByUsersB.columns = ['visitorId', 'transactionId'] \n",
    "sampleA = pd.concat([ordersByUsersA['transactionId'],pd.Series(0, index=np.arange(data['visitorsPerDateA'].sum() - len(ordersByUsersA['transactionId'])), name='orders')],axis=0)\n",
    "\n",
    "sampleB = pd.concat([ordersByUsersB['transactionId'],pd.Series(0, index=np.arange(data['visitorsPerDateB'].sum() - len(ordersByUsersB['transactionId'])), name='orders')],axis=0)\n",
    "print('P-value:',\"{0:.3f}\".format(st.mannwhitneyu(sampleA, sampleB)[1]))\n",
    "\n",
    "print('Относительные различия:',\"{0:.3f}\".format(sampleB.mean() / sampleA.mean() - 1))"
   ]
  },
  {
   "cell_type": "markdown",
   "metadata": {},
   "source": [
    "P-value меньше 0.05, отвергаем нулевую гипотезу. \"Сырые данные\" говорят о том, что в среднем количестве заказов между группами есть статистически значимые различия. Относительный прирост среднего группы В к конверсии группы А равен 16%"
   ]
  },
  {
   "cell_type": "markdown",
   "metadata": {},
   "source": [
    "##### Посчитаем статистическую значимость различий в среднем чеке заказа между группами по «сырым» данным. Сделаем выводы и предположения."
   ]
  },
  {
   "cell_type": "markdown",
   "metadata": {},
   "source": [
    "Сформулируем гипотезы:\n",
    "\n",
    "H0:Средние чеки групп A и B равны\n",
    "\n",
    "H1:Средние чеки групп A и B не равны и имеют статистически значимые различия"
   ]
  },
  {
   "cell_type": "code",
   "execution_count": 21,
   "metadata": {
    "scrolled": true
   },
   "outputs": [
    {
     "name": "stdout",
     "output_type": "stream",
     "text": [
      "P-value: 0.829\n",
      "Относительные различия: 0.287\n"
     ]
    }
   ],
   "source": [
    "print('P-value:','{0:.3f}'.format(st.mannwhitneyu(orders[orders['group']=='A']['revenue'], orders[orders['group']=='B']['revenue'])[1]))\n",
    "print('Относительные различия:','{0:.3f}'.format(orders[orders['group']=='B']['revenue'].mean()/orders[orders['group']=='A']['revenue'].mean()-1)) "
   ]
  },
  {
   "cell_type": "markdown",
   "metadata": {},
   "source": [
    "P-value значительно больше 0.05, различий в среднем чеке нет. Относительное различие среднего чека между сегментами около 28%."
   ]
  },
  {
   "cell_type": "markdown",
   "metadata": {},
   "source": [
    "##### Посчитаем статистическую значимость различий в среднем количестве заказов на посетителя между группами по «очищенным» данным. Сделаем выводы и предположения."
   ]
  },
  {
   "cell_type": "markdown",
   "metadata": {},
   "source": [
    "95-й и 99-й перцентили средних чеков равны 28 и 58,233 тысяч, соответственно.\n",
    "\n",
    "95-й и 99-й перцентили числа заказов на одного пользователя равны 2 и 4 на пользователя.\n",
    "\n",
    "Примем за аномальных пользователей тех, кто потратил более 30 тысяч, либо оформил более 3 заказов.\n",
    "\n",
    "Удалять будем именно пользователей — сначала определим аномальные заказы. Затем пользователей, совершивших их, и добавим их в список аномальных."
   ]
  },
  {
   "cell_type": "code",
   "execution_count": 22,
   "metadata": {
    "scrolled": true
   },
   "outputs": [
    {
     "name": "stdout",
     "output_type": "stream",
     "text": [
      "487    113298937\n",
      "937    148427295\n",
      "792    204675465\n",
      "33     249864742\n",
      "586    358944393\n",
      "Name: visitorId, dtype: int64\n",
      "86\n"
     ]
    }
   ],
   "source": [
    "usersWithManyOrders = pd.concat(\n",
    "    [\n",
    "\n",
    "        ordersByUsersA[ordersByUsersA['transactionId'] > int(np.percentile(ordersByUsers['transactionId'], [95]))]['visitorId'],\n",
    "        ordersByUsersB[ordersByUsersB['transactionId'] > int(np.percentile(ordersByUsers['transactionId'], [95]))]['visitorId'],\n",
    "    ],\n",
    "    axis=0,\n",
    ")\n",
    "usersWithExpensiveOrders = orders[orders['revenue'] > int(np.percentile(orders['revenue'], [95]))]['visitorId']\n",
    "abnormalUsers = (\n",
    "    pd.concat([usersWithManyOrders, usersWithExpensiveOrders], axis=0)\n",
    "    .drop_duplicates()\n",
    "    .sort_values()\n",
    ")\n",
    "\n",
    "print(abnormalUsers.head(5))\n",
    "print(abnormalUsers.shape[0]) "
   ]
  },
  {
   "cell_type": "markdown",
   "metadata": {},
   "source": [
    "Всего 86 аномальных пользователей.\n",
    "\n",
    "Создадим переменные sampleAFiltered и sampleBFiltered, в которых сохраним очищенные данные о заказах — не включая аномальных пользователей. Выведем p-value для сравнения среднего между очищенными группами. Округлим p-value до трех знаков после запятой. Выведем относительный прирост среднего очищенной группы B, округлив до трёх знаков после запятой."
   ]
  },
  {
   "cell_type": "code",
   "execution_count": 23,
   "metadata": {
    "scrolled": true
   },
   "outputs": [
    {
     "name": "stdout",
     "output_type": "stream",
     "text": [
      "P-value: 0.016\n",
      "Относительные различия: 0.174\n"
     ]
    }
   ],
   "source": [
    "sampleAFiltered = pd.concat(\n",
    "    [\n",
    "        ordersByUsersA[\n",
    "            np.logical_not(ordersByUsersA['visitorId'].isin(abnormalUsers))\n",
    "        ]['transactionId'],\n",
    "        pd.Series(\n",
    "            0,\n",
    "            index=np.arange(\n",
    "                data['visitorsPerDateA'].sum() - len(ordersByUsersA['transactionId'])\n",
    "            ),\n",
    "            name='orders',\n",
    "        ),\n",
    "    ],\n",
    "    axis=0,\n",
    ")\n",
    "\n",
    "sampleBFiltered = pd.concat(\n",
    "    [\n",
    "        ordersByUsersB[\n",
    "            np.logical_not(ordersByUsersB['visitorId'].isin(abnormalUsers))\n",
    "        ]['transactionId'],\n",
    "        pd.Series(\n",
    "            0,\n",
    "            index=np.arange(\n",
    "                data['visitorsPerDateB'].sum() - len(ordersByUsersB['transactionId'])\n",
    "            ),\n",
    "            name='orders',\n",
    "        ),\n",
    "    ],\n",
    "    axis=0,\n",
    ") \n",
    "print('P-value:','{0:.3f}'.format(st.mannwhitneyu(sampleAFiltered, sampleBFiltered)[1]))\n",
    "print('Относительные различия:','{0:.3f}'.format(sampleBFiltered.mean()/sampleAFiltered.mean()-1)) "
   ]
  },
  {
   "cell_type": "markdown",
   "metadata": {},
   "source": [
    "Как и в случае с сырым данными, статистическая значимость достигнута. Сегмент В лучше сегмента А."
   ]
  },
  {
   "cell_type": "markdown",
   "metadata": {},
   "source": [
    "##### Посчитаем статистическую значимость различий в среднем чеке заказа между группами по «очищенным» данным. Сделаем выводы и предположения."
   ]
  },
  {
   "cell_type": "code",
   "execution_count": 24,
   "metadata": {},
   "outputs": [
    {
     "name": "stdout",
     "output_type": "stream",
     "text": [
      "P-value: 0.727\n",
      "Относительные различия: -0.034\n"
     ]
    }
   ],
   "source": [
    "print('P-value:',\n",
    "    '{0:.3f}'.format(\n",
    "        st.mannwhitneyu(\n",
    "            orders[\n",
    "                np.logical_and(\n",
    "                    orders['group'] == 'A',\n",
    "                    np.logical_not(orders['visitorId'].isin(abnormalUsers)),\n",
    "                )\n",
    "            ]['revenue'],\n",
    "            orders[\n",
    "                np.logical_and(\n",
    "                    orders['group'] == 'B',\n",
    "                    np.logical_not(orders['visitorId'].isin(abnormalUsers)),\n",
    "                )\n",
    "            ]['revenue'],\n",
    "        )[1]\n",
    "    )\n",
    ")\n",
    "\n",
    "print('Относительные различия:',\n",
    "    \"{0:.3f}\".format(\n",
    "        orders[\n",
    "            np.logical_and(\n",
    "                orders['group'] == 'B',\n",
    "                np.logical_not(orders['visitorId'].isin(abnormalUsers)),\n",
    "            )\n",
    "        ]['revenue'].mean()\n",
    "        / orders[\n",
    "            np.logical_and(\n",
    "                orders['group'] == 'A',\n",
    "                np.logical_not(orders['visitorId'].isin(abnormalUsers)),\n",
    "            )\n",
    "        ]['revenue'].mean()\n",
    "        - 1\n",
    "    )\n",
    ") "
   ]
  },
  {
   "cell_type": "markdown",
   "metadata": {},
   "source": [
    "Значение p-value стало больше с 0.729 до 0.979, однако относительные различия уменьшились с 26% до 1,7%. Это означает, что в данных стало меньше шума."
   ]
  },
  {
   "cell_type": "markdown",
   "metadata": {},
   "source": [
    "##### Примем решение по результатам теста и объясните его. Варианты решений:\n",
    "1. Остановить тест, зафиксировать победу одной из групп.\n",
    "2. Остановить тест, зафиксировать отсутствие различий между группами.\n",
    "3. Продолжить тест."
   ]
  },
  {
   "cell_type": "markdown",
   "metadata": {},
   "source": [
    "#### Выводы.\n",
    "\n",
    "В ходе выполнения проекта сформулированы гипотезы, выполнена приоритизация, проанализированы результаты A/B-теста.\n",
    "\n",
    "На стадии предварительной обработки данных изменены наименования столбцов датафрейме hypothesis, тип данных в столбцах date на корректные (в orders и visitors). Дубликатов, пропусков в данных нет. Удалены пользователи, попавшие в обе группы.\n",
    "\n",
    "На шаге \"Приоритизация гипотез\" создана таблица (путем дополнения соответствующими столбцами таблицы hypothesis), в которой рассчитаны значения методов ICE и RICE. Выполнена сортировка таблицы по показателям каждого метода.\n",
    "\n",
    "При исследовании кумулятивных метрик установлено, что с 18.08.2019 отмечается рост выручки в группе B, что может свидетельствовать о росте числа заказов либо дорогих заказов. Средний чек в группе B резко возрастает также 18.08.2019 по причине дорогих покупок. Средний чек в каждой группе стабилизируется к концу теста. В нескольких точках график относительного изменения кумулятивного среднего чека резко «скачет», что является признаком крупных заказов и выбросов. В начале теста конверсия в группе А выше, затем конверсия в группе B стала больше. Затем значения конверсий стабилизировались, B выше A. В начале теста конверсия в группе А выше, затем конверсия в группе B стала больше. Затем значения конверсий стабилизировались, B выше A.\n",
    "\n",
    "Не более 5% пользователей оформляли больше 1 заказа, 1% - больше 2 заказов. Не более 5% пользователей оформили заказ на 27 тысяч, 1% - на 54 тысячи.\n",
    "\n",
    "Есть статистически значимое различие в среднем количестве заказов на посетителя между группами и по \"очищенным\" данным и по \"сырым\" данным.\n",
    "\n",
    "Нет статистически значимого различия в среднем чеке заказа между группами ни по \"сырым\", ни по \"очищенным\" данным.\n",
    "\n",
    "Графики различия среднего количества заказов на посетителя и среднего чека между группами сообщают о том, что группа B лучше группы A.\n",
    "\n",
    "Можно остановить тест, так как группа B превосходит группу А."
   ]
  },
  {
   "cell_type": "code",
   "execution_count": null,
   "metadata": {},
   "outputs": [],
   "source": []
  }
 ],
 "metadata": {
  "ExecuteTimeLog": [
   {
    "duration": 1356,
    "start_time": "2025-03-01T14:59:45.977Z"
   },
   {
    "duration": 27,
    "start_time": "2025-03-01T15:00:31.845Z"
   },
   {
    "duration": 64,
    "start_time": "2025-03-01T15:10:19.331Z"
   },
   {
    "duration": 96,
    "start_time": "2025-03-01T15:10:44.015Z"
   },
   {
    "duration": 22,
    "start_time": "2025-03-01T15:11:04.864Z"
   },
   {
    "duration": 12,
    "start_time": "2025-03-01T15:11:43.356Z"
   },
   {
    "duration": 27,
    "start_time": "2025-03-01T15:12:04.309Z"
   },
   {
    "duration": 22,
    "start_time": "2025-03-01T15:12:37.867Z"
   },
   {
    "duration": 17,
    "start_time": "2025-03-01T15:13:01.149Z"
   },
   {
    "duration": 5,
    "start_time": "2025-03-01T15:30:25.140Z"
   },
   {
    "duration": 14,
    "start_time": "2025-03-01T15:36:44.643Z"
   },
   {
    "duration": 63,
    "start_time": "2025-03-01T15:38:10.518Z"
   },
   {
    "duration": 5,
    "start_time": "2025-03-01T15:38:17.753Z"
   },
   {
    "duration": 10,
    "start_time": "2025-03-01T15:38:53.648Z"
   },
   {
    "duration": 10,
    "start_time": "2025-03-01T15:39:02.353Z"
   },
   {
    "duration": 4,
    "start_time": "2025-03-01T15:39:14.243Z"
   },
   {
    "duration": 8,
    "start_time": "2025-03-01T15:41:26.127Z"
   },
   {
    "duration": 6,
    "start_time": "2025-03-01T15:41:31.741Z"
   },
   {
    "duration": 9,
    "start_time": "2025-03-01T15:41:36.332Z"
   },
   {
    "duration": 5,
    "start_time": "2025-03-01T15:41:49.214Z"
   },
   {
    "duration": 5,
    "start_time": "2025-03-01T15:41:54.408Z"
   },
   {
    "duration": 7,
    "start_time": "2025-03-01T15:42:22.043Z"
   },
   {
    "duration": 4,
    "start_time": "2025-03-01T16:26:24.227Z"
   },
   {
    "duration": 80,
    "start_time": "2025-03-01T16:26:24.233Z"
   },
   {
    "duration": 29,
    "start_time": "2025-03-01T16:26:24.315Z"
   },
   {
    "duration": 17,
    "start_time": "2025-03-01T16:26:24.346Z"
   },
   {
    "duration": 7,
    "start_time": "2025-03-01T16:26:24.365Z"
   },
   {
    "duration": 44,
    "start_time": "2025-03-01T16:26:24.374Z"
   },
   {
    "duration": 16,
    "start_time": "2025-03-01T16:26:24.419Z"
   },
   {
    "duration": 6,
    "start_time": "2025-03-01T16:32:05.471Z"
   },
   {
    "duration": 2,
    "start_time": "2025-03-01T16:35:16.433Z"
   },
   {
    "duration": 88,
    "start_time": "2025-03-01T16:35:16.437Z"
   },
   {
    "duration": 26,
    "start_time": "2025-03-01T16:35:16.527Z"
   },
   {
    "duration": 15,
    "start_time": "2025-03-01T16:35:16.554Z"
   },
   {
    "duration": 3,
    "start_time": "2025-03-01T16:35:16.571Z"
   },
   {
    "duration": 17,
    "start_time": "2025-03-01T16:35:16.575Z"
   },
   {
    "duration": 19,
    "start_time": "2025-03-01T16:35:16.593Z"
   },
   {
    "duration": 14,
    "start_time": "2025-03-01T16:53:10.164Z"
   },
   {
    "duration": 6,
    "start_time": "2025-03-01T16:56:57.495Z"
   },
   {
    "duration": 12,
    "start_time": "2025-03-01T16:57:30.002Z"
   },
   {
    "duration": 12,
    "start_time": "2025-03-01T16:58:32.546Z"
   },
   {
    "duration": 13,
    "start_time": "2025-03-01T16:58:39.880Z"
   },
   {
    "duration": 17,
    "start_time": "2025-03-01T16:58:59.887Z"
   },
   {
    "duration": 11,
    "start_time": "2025-03-01T17:00:27.175Z"
   },
   {
    "duration": 16,
    "start_time": "2025-03-01T17:00:37.834Z"
   },
   {
    "duration": 21,
    "start_time": "2025-03-01T17:04:48.692Z"
   },
   {
    "duration": 21,
    "start_time": "2025-03-01T17:05:00.187Z"
   },
   {
    "duration": 21,
    "start_time": "2025-03-01T17:17:14.513Z"
   },
   {
    "duration": 3,
    "start_time": "2025-03-01T17:17:37.804Z"
   },
   {
    "duration": 65,
    "start_time": "2025-03-01T17:17:37.809Z"
   },
   {
    "duration": 27,
    "start_time": "2025-03-01T17:17:37.876Z"
   },
   {
    "duration": 16,
    "start_time": "2025-03-01T17:17:37.904Z"
   },
   {
    "duration": 7,
    "start_time": "2025-03-01T17:17:37.922Z"
   },
   {
    "duration": 31,
    "start_time": "2025-03-01T17:17:37.930Z"
   },
   {
    "duration": 34,
    "start_time": "2025-03-01T17:17:37.962Z"
   },
   {
    "duration": 29,
    "start_time": "2025-03-01T17:17:37.998Z"
   },
   {
    "duration": 4,
    "start_time": "2025-03-01T17:18:16.406Z"
   },
   {
    "duration": 4,
    "start_time": "2025-03-01T17:18:34.867Z"
   },
   {
    "duration": 4,
    "start_time": "2025-03-01T17:21:51.186Z"
   },
   {
    "duration": 3,
    "start_time": "2025-03-01T17:22:39.570Z"
   },
   {
    "duration": 3,
    "start_time": "2025-03-01T18:06:11.743Z"
   },
   {
    "duration": 75,
    "start_time": "2025-03-01T18:06:11.748Z"
   },
   {
    "duration": 25,
    "start_time": "2025-03-01T18:06:11.825Z"
   },
   {
    "duration": 33,
    "start_time": "2025-03-01T18:06:11.851Z"
   },
   {
    "duration": 4,
    "start_time": "2025-03-01T18:06:11.886Z"
   },
   {
    "duration": 12,
    "start_time": "2025-03-01T18:06:11.892Z"
   },
   {
    "duration": 12,
    "start_time": "2025-03-01T18:06:11.905Z"
   },
   {
    "duration": 23,
    "start_time": "2025-03-01T18:06:11.919Z"
   },
   {
    "duration": 1361,
    "start_time": "2025-03-02T09:16:39.796Z"
   },
   {
    "duration": 66,
    "start_time": "2025-03-02T09:16:41.159Z"
   },
   {
    "duration": 26,
    "start_time": "2025-03-02T09:16:41.226Z"
   },
   {
    "duration": 15,
    "start_time": "2025-03-02T09:16:41.254Z"
   },
   {
    "duration": 4,
    "start_time": "2025-03-02T09:16:41.271Z"
   },
   {
    "duration": 13,
    "start_time": "2025-03-02T09:16:41.276Z"
   },
   {
    "duration": 28,
    "start_time": "2025-03-02T09:16:41.291Z"
   },
   {
    "duration": 37,
    "start_time": "2025-03-02T09:16:41.320Z"
   },
   {
    "duration": 101,
    "start_time": "2025-03-02T09:16:41.358Z"
   },
   {
    "duration": 30,
    "start_time": "2025-03-02T09:19:04.365Z"
   },
   {
    "duration": 564,
    "start_time": "2025-03-02T09:20:12.097Z"
   },
   {
    "duration": 232,
    "start_time": "2025-03-02T09:22:46.525Z"
   },
   {
    "duration": 335,
    "start_time": "2025-03-02T09:23:47.288Z"
   },
   {
    "duration": 236,
    "start_time": "2025-03-02T09:25:09.417Z"
   },
   {
    "duration": 408,
    "start_time": "2025-03-02T09:25:54.138Z"
   },
   {
    "duration": 8,
    "start_time": "2025-03-02T09:27:06.288Z"
   },
   {
    "duration": 1417,
    "start_time": "2025-03-02T09:27:23.640Z"
   },
   {
    "duration": 137,
    "start_time": "2025-03-02T09:27:37.211Z"
   },
   {
    "duration": 1466,
    "start_time": "2025-03-02T09:28:19.252Z"
   },
   {
    "duration": 5,
    "start_time": "2025-03-02T09:28:27.728Z"
   },
   {
    "duration": 139,
    "start_time": "2025-03-02T09:28:49.168Z"
   },
   {
    "duration": 5,
    "start_time": "2025-03-02T09:29:11.647Z"
   },
   {
    "duration": 49,
    "start_time": "2025-03-02T13:02:14.987Z"
   },
   {
    "duration": 1275,
    "start_time": "2025-03-02T13:02:32.653Z"
   },
   {
    "duration": 64,
    "start_time": "2025-03-02T13:02:33.930Z"
   },
   {
    "duration": 30,
    "start_time": "2025-03-02T13:02:33.996Z"
   },
   {
    "duration": 66,
    "start_time": "2025-03-02T13:02:34.028Z"
   },
   {
    "duration": 4,
    "start_time": "2025-03-02T13:02:34.095Z"
   },
   {
    "duration": 19,
    "start_time": "2025-03-02T13:02:34.101Z"
   },
   {
    "duration": 32,
    "start_time": "2025-03-02T13:02:34.121Z"
   },
   {
    "duration": 22,
    "start_time": "2025-03-02T13:02:34.155Z"
   },
   {
    "duration": 591,
    "start_time": "2025-03-02T13:02:34.179Z"
   },
   {
    "duration": 243,
    "start_time": "2025-03-02T13:02:34.772Z"
   },
   {
    "duration": 235,
    "start_time": "2025-03-02T13:02:35.017Z"
   },
   {
    "duration": 356,
    "start_time": "2025-03-02T13:02:35.254Z"
   },
   {
    "duration": 239,
    "start_time": "2025-03-02T13:02:35.612Z"
   },
   {
    "duration": 343,
    "start_time": "2025-03-02T13:02:35.853Z"
   },
   {
    "duration": 150,
    "start_time": "2025-03-02T13:02:36.198Z"
   },
   {
    "duration": 5,
    "start_time": "2025-03-02T13:02:36.350Z"
   },
   {
    "duration": 170,
    "start_time": "2025-03-02T13:02:36.356Z"
   },
   {
    "duration": 5,
    "start_time": "2025-03-02T13:02:36.528Z"
   },
   {
    "duration": 290,
    "start_time": "2025-03-02T13:03:20.873Z"
   },
   {
    "duration": 1230,
    "start_time": "2025-03-02T17:42:47.169Z"
   },
   {
    "duration": 190,
    "start_time": "2025-03-02T17:42:48.400Z"
   },
   {
    "duration": 28,
    "start_time": "2025-03-02T17:42:48.591Z"
   },
   {
    "duration": 16,
    "start_time": "2025-03-02T17:42:48.621Z"
   },
   {
    "duration": 4,
    "start_time": "2025-03-02T17:42:48.639Z"
   },
   {
    "duration": 13,
    "start_time": "2025-03-02T17:42:48.645Z"
   },
   {
    "duration": 7,
    "start_time": "2025-03-02T17:42:48.660Z"
   },
   {
    "duration": 53,
    "start_time": "2025-03-02T17:42:48.668Z"
   },
   {
    "duration": 566,
    "start_time": "2025-03-02T17:42:48.723Z"
   },
   {
    "duration": 230,
    "start_time": "2025-03-02T17:42:49.291Z"
   },
   {
    "duration": 366,
    "start_time": "2025-03-02T17:42:49.523Z"
   },
   {
    "duration": 219,
    "start_time": "2025-03-02T17:42:49.890Z"
   },
   {
    "duration": 355,
    "start_time": "2025-03-02T17:42:50.111Z"
   },
   {
    "duration": 140,
    "start_time": "2025-03-02T17:42:50.468Z"
   },
   {
    "duration": 5,
    "start_time": "2025-03-02T17:42:50.609Z"
   },
   {
    "duration": 153,
    "start_time": "2025-03-02T17:42:50.615Z"
   },
   {
    "duration": 4,
    "start_time": "2025-03-02T17:42:50.770Z"
   },
   {
    "duration": 224,
    "start_time": "2025-03-02T17:44:09.595Z"
   },
   {
    "duration": 102,
    "start_time": "2025-03-02T17:45:12.347Z"
   },
   {
    "duration": 222,
    "start_time": "2025-03-02T17:46:29.451Z"
   },
   {
    "duration": 1921,
    "start_time": "2025-03-02T17:50:21.217Z"
   },
   {
    "duration": 320,
    "start_time": "2025-03-02T17:50:50.210Z"
   },
   {
    "duration": 334,
    "start_time": "2025-03-02T17:51:23.274Z"
   },
   {
    "duration": 10,
    "start_time": "2025-03-02T17:53:24.030Z"
   },
   {
    "duration": 10,
    "start_time": "2025-03-02T17:53:37.349Z"
   },
   {
    "duration": 8,
    "start_time": "2025-03-02T18:03:03.909Z"
   },
   {
    "duration": 15,
    "start_time": "2025-03-02T18:04:19.129Z"
   },
   {
    "duration": 35,
    "start_time": "2025-03-02T18:04:25.398Z"
   },
   {
    "duration": 11,
    "start_time": "2025-03-02T18:06:08.463Z"
   },
   {
    "duration": 1715,
    "start_time": "2025-03-02T18:06:23.821Z"
   },
   {
    "duration": 13,
    "start_time": "2025-03-02T18:06:40.163Z"
   },
   {
    "duration": 3,
    "start_time": "2025-03-02T18:16:46.514Z"
   },
   {
    "duration": 420,
    "start_time": "2025-03-02T18:16:51.788Z"
   },
   {
    "duration": 7,
    "start_time": "2025-03-02T18:16:52.541Z"
   },
   {
    "duration": 4,
    "start_time": "2025-03-02T18:17:10.629Z"
   },
   {
    "duration": 395,
    "start_time": "2025-03-02T18:17:15.102Z"
   },
   {
    "duration": 3,
    "start_time": "2025-03-02T18:17:40.718Z"
   },
   {
    "duration": 97,
    "start_time": "2025-03-02T18:17:40.723Z"
   },
   {
    "duration": 30,
    "start_time": "2025-03-02T18:17:40.822Z"
   },
   {
    "duration": 20,
    "start_time": "2025-03-02T18:17:40.854Z"
   },
   {
    "duration": 3,
    "start_time": "2025-03-02T18:17:40.876Z"
   },
   {
    "duration": 36,
    "start_time": "2025-03-02T18:17:40.881Z"
   },
   {
    "duration": 7,
    "start_time": "2025-03-02T18:17:40.920Z"
   },
   {
    "duration": 23,
    "start_time": "2025-03-02T18:17:40.930Z"
   },
   {
    "duration": 27,
    "start_time": "2025-03-02T18:17:40.955Z"
   },
   {
    "duration": 0,
    "start_time": "2025-03-02T18:17:41.006Z"
   },
   {
    "duration": 0,
    "start_time": "2025-03-02T18:17:41.007Z"
   },
   {
    "duration": 0,
    "start_time": "2025-03-02T18:17:41.009Z"
   },
   {
    "duration": 0,
    "start_time": "2025-03-02T18:17:41.009Z"
   },
   {
    "duration": 0,
    "start_time": "2025-03-02T18:17:41.011Z"
   },
   {
    "duration": 0,
    "start_time": "2025-03-02T18:17:41.012Z"
   },
   {
    "duration": 0,
    "start_time": "2025-03-02T18:17:41.014Z"
   },
   {
    "duration": 0,
    "start_time": "2025-03-02T18:17:41.015Z"
   },
   {
    "duration": 0,
    "start_time": "2025-03-02T18:17:41.017Z"
   },
   {
    "duration": 0,
    "start_time": "2025-03-02T18:17:41.019Z"
   },
   {
    "duration": 0,
    "start_time": "2025-03-02T18:17:41.020Z"
   },
   {
    "duration": 0,
    "start_time": "2025-03-02T18:17:41.021Z"
   },
   {
    "duration": 0,
    "start_time": "2025-03-02T18:17:41.023Z"
   },
   {
    "duration": 28,
    "start_time": "2025-03-02T18:18:42.074Z"
   },
   {
    "duration": 3,
    "start_time": "2025-03-02T18:21:14.481Z"
   },
   {
    "duration": 77,
    "start_time": "2025-03-02T18:21:14.486Z"
   },
   {
    "duration": 26,
    "start_time": "2025-03-02T18:21:14.564Z"
   },
   {
    "duration": 14,
    "start_time": "2025-03-02T18:21:14.592Z"
   },
   {
    "duration": 4,
    "start_time": "2025-03-02T18:21:14.608Z"
   },
   {
    "duration": 16,
    "start_time": "2025-03-02T18:21:14.614Z"
   },
   {
    "duration": 20,
    "start_time": "2025-03-02T18:21:14.631Z"
   },
   {
    "duration": 20,
    "start_time": "2025-03-02T18:21:14.652Z"
   },
   {
    "duration": 52,
    "start_time": "2025-03-02T18:21:14.673Z"
   },
   {
    "duration": 0,
    "start_time": "2025-03-02T18:21:14.727Z"
   },
   {
    "duration": 0,
    "start_time": "2025-03-02T18:21:14.728Z"
   },
   {
    "duration": 0,
    "start_time": "2025-03-02T18:21:14.729Z"
   },
   {
    "duration": 0,
    "start_time": "2025-03-02T18:21:14.730Z"
   },
   {
    "duration": 0,
    "start_time": "2025-03-02T18:21:14.731Z"
   },
   {
    "duration": 1,
    "start_time": "2025-03-02T18:21:14.731Z"
   },
   {
    "duration": 0,
    "start_time": "2025-03-02T18:21:14.732Z"
   },
   {
    "duration": 0,
    "start_time": "2025-03-02T18:21:14.733Z"
   },
   {
    "duration": 0,
    "start_time": "2025-03-02T18:21:14.734Z"
   },
   {
    "duration": 0,
    "start_time": "2025-03-02T18:21:14.735Z"
   },
   {
    "duration": 0,
    "start_time": "2025-03-02T18:21:14.736Z"
   },
   {
    "duration": 0,
    "start_time": "2025-03-02T18:21:14.737Z"
   },
   {
    "duration": 0,
    "start_time": "2025-03-02T18:21:14.738Z"
   },
   {
    "duration": 3,
    "start_time": "2025-03-02T18:23:30.647Z"
   },
   {
    "duration": 67,
    "start_time": "2025-03-02T18:23:30.651Z"
   },
   {
    "duration": 24,
    "start_time": "2025-03-02T18:23:30.720Z"
   },
   {
    "duration": 15,
    "start_time": "2025-03-02T18:23:30.746Z"
   },
   {
    "duration": 3,
    "start_time": "2025-03-02T18:23:30.763Z"
   },
   {
    "duration": 50,
    "start_time": "2025-03-02T18:23:30.767Z"
   },
   {
    "duration": 12,
    "start_time": "2025-03-02T18:23:30.819Z"
   },
   {
    "duration": 25,
    "start_time": "2025-03-02T18:23:30.834Z"
   },
   {
    "duration": 508,
    "start_time": "2025-03-02T18:23:30.861Z"
   },
   {
    "duration": 247,
    "start_time": "2025-03-02T18:23:31.370Z"
   },
   {
    "duration": 357,
    "start_time": "2025-03-02T18:23:31.619Z"
   },
   {
    "duration": 243,
    "start_time": "2025-03-02T18:23:31.978Z"
   },
   {
    "duration": 386,
    "start_time": "2025-03-02T18:23:32.223Z"
   },
   {
    "duration": 145,
    "start_time": "2025-03-02T18:23:32.611Z"
   },
   {
    "duration": 5,
    "start_time": "2025-03-02T18:23:32.757Z"
   },
   {
    "duration": 158,
    "start_time": "2025-03-02T18:23:32.763Z"
   },
   {
    "duration": 5,
    "start_time": "2025-03-02T18:23:32.922Z"
   },
   {
    "duration": 480,
    "start_time": "2025-03-02T18:23:32.928Z"
   },
   {
    "duration": 9,
    "start_time": "2025-03-02T18:23:33.410Z"
   },
   {
    "duration": 6,
    "start_time": "2025-03-02T18:23:33.421Z"
   },
   {
    "duration": 84,
    "start_time": "2025-03-02T18:23:33.428Z"
   },
   {
    "duration": 13,
    "start_time": "2025-03-02T18:23:33.514Z"
   },
   {
    "duration": 1434,
    "start_time": "2025-03-03T17:43:46.704Z"
   },
   {
    "duration": 65,
    "start_time": "2025-03-03T17:43:48.140Z"
   },
   {
    "duration": 34,
    "start_time": "2025-03-03T17:43:48.207Z"
   },
   {
    "duration": 19,
    "start_time": "2025-03-03T17:43:48.243Z"
   },
   {
    "duration": 4,
    "start_time": "2025-03-03T17:43:48.263Z"
   },
   {
    "duration": 15,
    "start_time": "2025-03-03T17:43:48.269Z"
   },
   {
    "duration": 9,
    "start_time": "2025-03-03T17:43:48.314Z"
   },
   {
    "duration": 48,
    "start_time": "2025-03-03T17:43:48.325Z"
   },
   {
    "duration": 172,
    "start_time": "2025-03-03T17:43:48.375Z"
   },
   {
    "duration": 0,
    "start_time": "2025-03-03T17:43:48.549Z"
   },
   {
    "duration": 0,
    "start_time": "2025-03-03T17:43:48.550Z"
   },
   {
    "duration": 0,
    "start_time": "2025-03-03T17:43:48.551Z"
   },
   {
    "duration": 0,
    "start_time": "2025-03-03T17:43:48.552Z"
   },
   {
    "duration": 0,
    "start_time": "2025-03-03T17:43:48.554Z"
   },
   {
    "duration": 0,
    "start_time": "2025-03-03T17:43:48.555Z"
   },
   {
    "duration": 0,
    "start_time": "2025-03-03T17:43:48.556Z"
   },
   {
    "duration": 0,
    "start_time": "2025-03-03T17:43:48.557Z"
   },
   {
    "duration": 0,
    "start_time": "2025-03-03T17:43:48.558Z"
   },
   {
    "duration": 0,
    "start_time": "2025-03-03T17:43:48.559Z"
   },
   {
    "duration": 0,
    "start_time": "2025-03-03T17:43:48.560Z"
   },
   {
    "duration": 1,
    "start_time": "2025-03-03T17:43:48.561Z"
   },
   {
    "duration": 0,
    "start_time": "2025-03-03T17:43:48.563Z"
   },
   {
    "duration": 3,
    "start_time": "2025-03-03T17:44:05.866Z"
   },
   {
    "duration": 73,
    "start_time": "2025-03-03T17:44:05.871Z"
   },
   {
    "duration": 29,
    "start_time": "2025-03-03T17:44:05.945Z"
   },
   {
    "duration": 16,
    "start_time": "2025-03-03T17:44:05.976Z"
   },
   {
    "duration": 10,
    "start_time": "2025-03-03T17:44:05.995Z"
   },
   {
    "duration": 18,
    "start_time": "2025-03-03T17:44:06.007Z"
   },
   {
    "duration": 17,
    "start_time": "2025-03-03T17:44:06.026Z"
   },
   {
    "duration": 30,
    "start_time": "2025-03-03T17:44:06.045Z"
   },
   {
    "duration": 139,
    "start_time": "2025-03-03T17:44:06.077Z"
   },
   {
    "duration": 0,
    "start_time": "2025-03-03T17:44:06.218Z"
   },
   {
    "duration": 0,
    "start_time": "2025-03-03T17:44:06.220Z"
   },
   {
    "duration": 0,
    "start_time": "2025-03-03T17:44:06.223Z"
   },
   {
    "duration": 0,
    "start_time": "2025-03-03T17:44:06.224Z"
   },
   {
    "duration": 0,
    "start_time": "2025-03-03T17:44:06.225Z"
   },
   {
    "duration": 0,
    "start_time": "2025-03-03T17:44:06.227Z"
   },
   {
    "duration": 0,
    "start_time": "2025-03-03T17:44:06.229Z"
   },
   {
    "duration": 0,
    "start_time": "2025-03-03T17:44:06.231Z"
   },
   {
    "duration": 0,
    "start_time": "2025-03-03T17:44:06.233Z"
   },
   {
    "duration": 0,
    "start_time": "2025-03-03T17:44:06.234Z"
   },
   {
    "duration": 0,
    "start_time": "2025-03-03T17:44:06.235Z"
   },
   {
    "duration": 0,
    "start_time": "2025-03-03T17:44:06.237Z"
   },
   {
    "duration": 0,
    "start_time": "2025-03-03T17:44:06.238Z"
   },
   {
    "duration": 643,
    "start_time": "2025-03-03T17:44:23.203Z"
   },
   {
    "duration": 253,
    "start_time": "2025-03-03T17:47:53.963Z"
   },
   {
    "duration": 424,
    "start_time": "2025-03-03T17:52:35.524Z"
   },
   {
    "duration": 230,
    "start_time": "2025-03-03T17:59:37.561Z"
   },
   {
    "duration": 438,
    "start_time": "2025-03-03T18:02:25.700Z"
   },
   {
    "duration": 3,
    "start_time": "2025-03-03T18:05:44.292Z"
   },
   {
    "duration": 64,
    "start_time": "2025-03-03T18:05:44.297Z"
   },
   {
    "duration": 36,
    "start_time": "2025-03-03T18:05:44.363Z"
   },
   {
    "duration": 19,
    "start_time": "2025-03-03T18:05:44.401Z"
   },
   {
    "duration": 4,
    "start_time": "2025-03-03T18:05:44.423Z"
   },
   {
    "duration": 20,
    "start_time": "2025-03-03T18:05:44.429Z"
   },
   {
    "duration": 8,
    "start_time": "2025-03-03T18:05:44.451Z"
   },
   {
    "duration": 53,
    "start_time": "2025-03-03T18:05:44.460Z"
   },
   {
    "duration": 538,
    "start_time": "2025-03-03T18:05:44.515Z"
   },
   {
    "duration": 276,
    "start_time": "2025-03-03T18:05:45.055Z"
   },
   {
    "duration": 454,
    "start_time": "2025-03-03T18:05:45.333Z"
   },
   {
    "duration": 250,
    "start_time": "2025-03-03T18:05:45.788Z"
   },
   {
    "duration": 404,
    "start_time": "2025-03-03T18:05:46.040Z"
   },
   {
    "duration": 192,
    "start_time": "2025-03-03T18:05:46.447Z"
   },
   {
    "duration": 5,
    "start_time": "2025-03-03T18:05:46.641Z"
   },
   {
    "duration": 175,
    "start_time": "2025-03-03T18:05:46.648Z"
   },
   {
    "duration": 5,
    "start_time": "2025-03-03T18:05:46.825Z"
   },
   {
    "duration": 445,
    "start_time": "2025-03-03T18:05:46.832Z"
   },
   {
    "duration": 11,
    "start_time": "2025-03-03T18:05:47.279Z"
   },
   {
    "duration": 34,
    "start_time": "2025-03-03T18:05:47.291Z"
   },
   {
    "duration": 33,
    "start_time": "2025-03-03T18:05:47.327Z"
   },
   {
    "duration": 14,
    "start_time": "2025-03-03T18:05:47.361Z"
   },
   {
    "duration": 1468,
    "start_time": "2025-03-04T14:59:42.590Z"
   },
   {
    "duration": 77,
    "start_time": "2025-03-04T14:59:44.060Z"
   },
   {
    "duration": 31,
    "start_time": "2025-03-04T14:59:44.139Z"
   },
   {
    "duration": 18,
    "start_time": "2025-03-04T14:59:44.171Z"
   },
   {
    "duration": 9,
    "start_time": "2025-03-04T14:59:44.191Z"
   },
   {
    "duration": 30,
    "start_time": "2025-03-04T14:59:44.201Z"
   },
   {
    "duration": 24,
    "start_time": "2025-03-04T14:59:44.232Z"
   },
   {
    "duration": 118,
    "start_time": "2025-03-04T14:59:44.257Z"
   },
   {
    "duration": 637,
    "start_time": "2025-03-04T14:59:44.377Z"
   },
   {
    "duration": 264,
    "start_time": "2025-03-04T14:59:45.016Z"
   },
   {
    "duration": 427,
    "start_time": "2025-03-04T14:59:45.282Z"
   },
   {
    "duration": 258,
    "start_time": "2025-03-04T14:59:45.711Z"
   },
   {
    "duration": 417,
    "start_time": "2025-03-04T14:59:45.971Z"
   },
   {
    "duration": 160,
    "start_time": "2025-03-04T14:59:46.392Z"
   },
   {
    "duration": 5,
    "start_time": "2025-03-04T14:59:46.554Z"
   },
   {
    "duration": 192,
    "start_time": "2025-03-04T14:59:46.560Z"
   },
   {
    "duration": 55,
    "start_time": "2025-03-04T14:59:46.754Z"
   },
   {
    "duration": 498,
    "start_time": "2025-03-04T14:59:46.811Z"
   },
   {
    "duration": 10,
    "start_time": "2025-03-04T14:59:47.311Z"
   },
   {
    "duration": 123,
    "start_time": "2025-03-04T14:59:47.322Z"
   },
   {
    "duration": 154,
    "start_time": "2025-03-04T14:59:47.447Z"
   },
   {
    "duration": 18,
    "start_time": "2025-03-04T14:59:47.603Z"
   },
   {
    "duration": 9,
    "start_time": "2025-03-04T15:45:11.929Z"
   },
   {
    "duration": 3,
    "start_time": "2025-03-04T15:58:53.394Z"
   },
   {
    "duration": 134,
    "start_time": "2025-03-04T15:58:53.399Z"
   },
   {
    "duration": 110,
    "start_time": "2025-03-04T15:58:53.534Z"
   },
   {
    "duration": 132,
    "start_time": "2025-03-04T15:58:53.646Z"
   },
   {
    "duration": 55,
    "start_time": "2025-03-04T15:58:53.780Z"
   },
   {
    "duration": 46,
    "start_time": "2025-03-04T15:58:53.837Z"
   },
   {
    "duration": 62,
    "start_time": "2025-03-04T15:58:53.885Z"
   },
   {
    "duration": 60,
    "start_time": "2025-03-04T15:58:53.950Z"
   },
   {
    "duration": 652,
    "start_time": "2025-03-04T15:58:54.012Z"
   },
   {
    "duration": 270,
    "start_time": "2025-03-04T15:58:54.665Z"
   },
   {
    "duration": 337,
    "start_time": "2025-03-04T15:58:54.937Z"
   },
   {
    "duration": 245,
    "start_time": "2025-03-04T15:58:55.276Z"
   },
   {
    "duration": 385,
    "start_time": "2025-03-04T15:58:55.523Z"
   },
   {
    "duration": 198,
    "start_time": "2025-03-04T15:58:55.910Z"
   },
   {
    "duration": 6,
    "start_time": "2025-03-04T15:58:56.111Z"
   },
   {
    "duration": 224,
    "start_time": "2025-03-04T15:58:56.119Z"
   },
   {
    "duration": 6,
    "start_time": "2025-03-04T15:58:56.345Z"
   },
   {
    "duration": 374,
    "start_time": "2025-03-04T15:58:56.353Z"
   },
   {
    "duration": 11,
    "start_time": "2025-03-04T15:58:56.729Z"
   },
   {
    "duration": 130,
    "start_time": "2025-03-04T15:58:56.742Z"
   },
   {
    "duration": 133,
    "start_time": "2025-03-04T15:58:56.874Z"
   },
   {
    "duration": 82,
    "start_time": "2025-03-04T15:58:57.009Z"
   },
   {
    "duration": 3,
    "start_time": "2025-03-04T16:20:52.582Z"
   },
   {
    "duration": 80,
    "start_time": "2025-03-04T16:20:52.587Z"
   },
   {
    "duration": 27,
    "start_time": "2025-03-04T16:20:52.668Z"
   },
   {
    "duration": 16,
    "start_time": "2025-03-04T16:20:52.697Z"
   },
   {
    "duration": 13,
    "start_time": "2025-03-04T16:20:52.714Z"
   },
   {
    "duration": 19,
    "start_time": "2025-03-04T16:20:52.729Z"
   },
   {
    "duration": 157,
    "start_time": "2025-03-04T16:20:52.750Z"
   },
   {
    "duration": 38,
    "start_time": "2025-03-04T16:20:52.909Z"
   },
   {
    "duration": 534,
    "start_time": "2025-03-04T16:20:52.950Z"
   },
   {
    "duration": 251,
    "start_time": "2025-03-04T16:20:53.486Z"
   },
   {
    "duration": 355,
    "start_time": "2025-03-04T16:20:53.739Z"
   },
   {
    "duration": 320,
    "start_time": "2025-03-04T16:20:54.096Z"
   },
   {
    "duration": 388,
    "start_time": "2025-03-04T16:20:54.418Z"
   },
   {
    "duration": 156,
    "start_time": "2025-03-04T16:20:54.808Z"
   },
   {
    "duration": 6,
    "start_time": "2025-03-04T16:20:54.966Z"
   },
   {
    "duration": 181,
    "start_time": "2025-03-04T16:20:54.974Z"
   },
   {
    "duration": 5,
    "start_time": "2025-03-04T16:20:55.156Z"
   },
   {
    "duration": 502,
    "start_time": "2025-03-04T16:20:55.163Z"
   },
   {
    "duration": 11,
    "start_time": "2025-03-04T16:20:55.666Z"
   },
   {
    "duration": 119,
    "start_time": "2025-03-04T16:20:55.679Z"
   },
   {
    "duration": 131,
    "start_time": "2025-03-04T16:20:55.799Z"
   },
   {
    "duration": 15,
    "start_time": "2025-03-04T16:20:55.931Z"
   },
   {
    "duration": 1440,
    "start_time": "2025-03-04T16:55:31.062Z"
   },
   {
    "duration": 77,
    "start_time": "2025-03-04T16:55:32.504Z"
   },
   {
    "duration": 33,
    "start_time": "2025-03-04T16:55:32.582Z"
   },
   {
    "duration": 30,
    "start_time": "2025-03-04T16:55:32.617Z"
   },
   {
    "duration": 10,
    "start_time": "2025-03-04T16:55:32.649Z"
   },
   {
    "duration": 118,
    "start_time": "2025-03-04T16:55:32.660Z"
   },
   {
    "duration": 10,
    "start_time": "2025-03-04T16:55:32.780Z"
   },
   {
    "duration": 24,
    "start_time": "2025-03-04T16:55:32.792Z"
   },
   {
    "duration": 632,
    "start_time": "2025-03-04T16:55:32.817Z"
   },
   {
    "duration": 266,
    "start_time": "2025-03-04T16:55:33.451Z"
   },
   {
    "duration": 441,
    "start_time": "2025-03-04T16:55:33.718Z"
   },
   {
    "duration": 246,
    "start_time": "2025-03-04T16:55:34.161Z"
   },
   {
    "duration": 372,
    "start_time": "2025-03-04T16:55:34.408Z"
   },
   {
    "duration": 159,
    "start_time": "2025-03-04T16:55:34.782Z"
   },
   {
    "duration": 5,
    "start_time": "2025-03-04T16:55:34.943Z"
   },
   {
    "duration": 168,
    "start_time": "2025-03-04T16:55:34.949Z"
   },
   {
    "duration": 5,
    "start_time": "2025-03-04T16:55:35.119Z"
   },
   {
    "duration": 377,
    "start_time": "2025-03-04T16:55:35.126Z"
   },
   {
    "duration": 11,
    "start_time": "2025-03-04T16:55:35.505Z"
   },
   {
    "duration": 10,
    "start_time": "2025-03-04T16:55:35.517Z"
   },
   {
    "duration": 50,
    "start_time": "2025-03-04T16:55:35.529Z"
   },
   {
    "duration": 14,
    "start_time": "2025-03-04T16:55:35.581Z"
   },
   {
    "duration": 1119,
    "start_time": "2025-03-04T17:06:05.403Z"
   },
   {
    "duration": 65,
    "start_time": "2025-03-04T17:06:06.524Z"
   },
   {
    "duration": 33,
    "start_time": "2025-03-04T17:06:06.592Z"
   },
   {
    "duration": 69,
    "start_time": "2025-03-04T17:06:06.628Z"
   },
   {
    "duration": 93,
    "start_time": "2025-03-04T17:06:06.699Z"
   },
   {
    "duration": 44,
    "start_time": "2025-03-04T17:06:06.794Z"
   },
   {
    "duration": 30,
    "start_time": "2025-03-04T17:06:06.840Z"
   },
   {
    "duration": 28,
    "start_time": "2025-03-04T17:06:06.871Z"
   },
   {
    "duration": 608,
    "start_time": "2025-03-04T17:06:06.901Z"
   },
   {
    "duration": 258,
    "start_time": "2025-03-04T17:06:07.512Z"
   },
   {
    "duration": 352,
    "start_time": "2025-03-04T17:06:07.771Z"
   },
   {
    "duration": 239,
    "start_time": "2025-03-04T17:06:08.125Z"
   },
   {
    "duration": 374,
    "start_time": "2025-03-04T17:06:08.366Z"
   },
   {
    "duration": 153,
    "start_time": "2025-03-04T17:06:08.742Z"
   },
   {
    "duration": 5,
    "start_time": "2025-03-04T17:06:08.897Z"
   },
   {
    "duration": 168,
    "start_time": "2025-03-04T17:06:08.903Z"
   },
   {
    "duration": 5,
    "start_time": "2025-03-04T17:06:09.072Z"
   },
   {
    "duration": 366,
    "start_time": "2025-03-04T17:06:09.079Z"
   },
   {
    "duration": 20,
    "start_time": "2025-03-04T17:06:09.447Z"
   },
   {
    "duration": 9,
    "start_time": "2025-03-04T17:06:09.469Z"
   },
   {
    "duration": 33,
    "start_time": "2025-03-04T17:06:09.480Z"
   },
   {
    "duration": 14,
    "start_time": "2025-03-04T17:06:09.515Z"
   },
   {
    "duration": 1297,
    "start_time": "2025-03-05T05:09:50.462Z"
   },
   {
    "duration": 94,
    "start_time": "2025-03-05T05:09:57.809Z"
   },
   {
    "duration": 4,
    "start_time": "2025-03-05T05:10:01.671Z"
   },
   {
    "duration": 157,
    "start_time": "2025-03-05T05:10:01.676Z"
   },
   {
    "duration": 77,
    "start_time": "2025-03-05T05:10:01.835Z"
   },
   {
    "duration": 35,
    "start_time": "2025-03-05T05:10:01.914Z"
   },
   {
    "duration": 45,
    "start_time": "2025-03-05T05:10:01.951Z"
   },
   {
    "duration": 29,
    "start_time": "2025-03-05T05:10:01.998Z"
   },
   {
    "duration": 41,
    "start_time": "2025-03-05T05:10:02.028Z"
   },
   {
    "duration": 44,
    "start_time": "2025-03-05T05:10:02.070Z"
   },
   {
    "duration": 575,
    "start_time": "2025-03-05T05:10:02.117Z"
   },
   {
    "duration": 254,
    "start_time": "2025-03-05T05:10:02.694Z"
   },
   {
    "duration": 395,
    "start_time": "2025-03-05T05:10:02.949Z"
   },
   {
    "duration": 249,
    "start_time": "2025-03-05T05:10:03.346Z"
   },
   {
    "duration": 368,
    "start_time": "2025-03-05T05:10:03.597Z"
   },
   {
    "duration": 154,
    "start_time": "2025-03-05T05:10:03.967Z"
   },
   {
    "duration": 6,
    "start_time": "2025-03-05T05:10:04.122Z"
   },
   {
    "duration": 177,
    "start_time": "2025-03-05T05:10:04.129Z"
   },
   {
    "duration": 5,
    "start_time": "2025-03-05T05:10:04.308Z"
   },
   {
    "duration": 349,
    "start_time": "2025-03-05T05:10:04.314Z"
   },
   {
    "duration": 10,
    "start_time": "2025-03-05T05:10:04.665Z"
   },
   {
    "duration": 94,
    "start_time": "2025-03-05T05:10:04.677Z"
   },
   {
    "duration": 221,
    "start_time": "2025-03-05T05:10:04.773Z"
   },
   {
    "duration": 71,
    "start_time": "2025-03-05T05:10:04.996Z"
   },
   {
    "duration": 11,
    "start_time": "2025-03-05T05:27:55.482Z"
   },
   {
    "duration": 9,
    "start_time": "2025-03-05T05:28:38.357Z"
   },
   {
    "duration": 84,
    "start_time": "2025-03-05T05:34:55.604Z"
   },
   {
    "duration": 16,
    "start_time": "2025-03-05T05:35:03.632Z"
   },
   {
    "duration": 11,
    "start_time": "2025-03-05T05:35:19.487Z"
   },
   {
    "duration": 87,
    "start_time": "2025-03-05T05:35:53.648Z"
   },
   {
    "duration": 15,
    "start_time": "2025-03-05T05:35:59.205Z"
   },
   {
    "duration": 16,
    "start_time": "2025-03-05T05:36:34.656Z"
   },
   {
    "duration": 11,
    "start_time": "2025-03-05T05:36:36.021Z"
   },
   {
    "duration": 15,
    "start_time": "2025-03-05T05:37:39.499Z"
   },
   {
    "duration": 3,
    "start_time": "2025-03-05T05:37:50.092Z"
   },
   {
    "duration": 83,
    "start_time": "2025-03-05T05:37:50.097Z"
   },
   {
    "duration": 26,
    "start_time": "2025-03-05T05:37:50.182Z"
   },
   {
    "duration": 21,
    "start_time": "2025-03-05T05:37:50.210Z"
   },
   {
    "duration": 3,
    "start_time": "2025-03-05T05:37:50.232Z"
   },
   {
    "duration": 22,
    "start_time": "2025-03-05T05:37:50.236Z"
   },
   {
    "duration": 27,
    "start_time": "2025-03-05T05:37:50.259Z"
   },
   {
    "duration": 24,
    "start_time": "2025-03-05T05:37:50.287Z"
   },
   {
    "duration": 13,
    "start_time": "2025-03-05T05:37:50.313Z"
   },
   {
    "duration": 10,
    "start_time": "2025-03-05T05:37:50.328Z"
   },
   {
    "duration": 27,
    "start_time": "2025-03-05T05:37:50.340Z"
   },
   {
    "duration": 555,
    "start_time": "2025-03-05T05:37:50.369Z"
   },
   {
    "duration": 221,
    "start_time": "2025-03-05T05:37:50.926Z"
   },
   {
    "duration": 332,
    "start_time": "2025-03-05T05:37:51.149Z"
   },
   {
    "duration": 214,
    "start_time": "2025-03-05T05:37:51.483Z"
   },
   {
    "duration": 332,
    "start_time": "2025-03-05T05:37:51.699Z"
   },
   {
    "duration": 165,
    "start_time": "2025-03-05T05:37:52.032Z"
   },
   {
    "duration": 5,
    "start_time": "2025-03-05T05:37:52.200Z"
   },
   {
    "duration": 163,
    "start_time": "2025-03-05T05:37:52.207Z"
   },
   {
    "duration": 5,
    "start_time": "2025-03-05T05:37:52.372Z"
   },
   {
    "duration": 319,
    "start_time": "2025-03-05T05:37:52.378Z"
   },
   {
    "duration": 9,
    "start_time": "2025-03-05T05:37:52.698Z"
   },
   {
    "duration": 13,
    "start_time": "2025-03-05T05:37:52.708Z"
   },
   {
    "duration": 40,
    "start_time": "2025-03-05T05:37:52.724Z"
   },
   {
    "duration": 12,
    "start_time": "2025-03-05T05:37:52.766Z"
   },
   {
    "duration": 19,
    "start_time": "2025-03-05T05:42:44.578Z"
   },
   {
    "duration": 3,
    "start_time": "2025-03-05T05:42:52.740Z"
   },
   {
    "duration": 145,
    "start_time": "2025-03-05T05:42:52.745Z"
   },
   {
    "duration": 25,
    "start_time": "2025-03-05T05:42:52.892Z"
   },
   {
    "duration": 148,
    "start_time": "2025-03-05T05:42:52.919Z"
   },
   {
    "duration": 3,
    "start_time": "2025-03-05T05:42:53.069Z"
   },
   {
    "duration": 28,
    "start_time": "2025-03-05T05:42:53.073Z"
   },
   {
    "duration": 122,
    "start_time": "2025-03-05T05:42:53.102Z"
   },
   {
    "duration": 15,
    "start_time": "2025-03-05T05:42:53.225Z"
   },
   {
    "duration": 9,
    "start_time": "2025-03-05T05:42:53.242Z"
   },
   {
    "duration": 20,
    "start_time": "2025-03-05T05:42:53.253Z"
   },
   {
    "duration": 491,
    "start_time": "2025-03-05T05:42:53.275Z"
   },
   {
    "duration": 249,
    "start_time": "2025-03-05T05:42:53.768Z"
   },
   {
    "duration": 348,
    "start_time": "2025-03-05T05:42:54.019Z"
   },
   {
    "duration": 307,
    "start_time": "2025-03-05T05:42:54.368Z"
   },
   {
    "duration": 331,
    "start_time": "2025-03-05T05:42:54.676Z"
   },
   {
    "duration": 161,
    "start_time": "2025-03-05T05:42:55.008Z"
   },
   {
    "duration": 5,
    "start_time": "2025-03-05T05:42:55.170Z"
   },
   {
    "duration": 188,
    "start_time": "2025-03-05T05:42:55.177Z"
   },
   {
    "duration": 6,
    "start_time": "2025-03-05T05:42:55.366Z"
   },
   {
    "duration": 344,
    "start_time": "2025-03-05T05:42:55.373Z"
   },
   {
    "duration": 10,
    "start_time": "2025-03-05T05:42:55.718Z"
   },
   {
    "duration": 23,
    "start_time": "2025-03-05T05:42:55.730Z"
   },
   {
    "duration": 92,
    "start_time": "2025-03-05T05:42:55.755Z"
   },
   {
    "duration": 12,
    "start_time": "2025-03-05T05:42:55.849Z"
   },
   {
    "duration": 151,
    "start_time": "2025-03-05T06:22:43.702Z"
   },
   {
    "duration": 3,
    "start_time": "2025-03-05T06:41:20.174Z"
   },
   {
    "duration": 69,
    "start_time": "2025-03-05T06:41:20.179Z"
   },
   {
    "duration": 27,
    "start_time": "2025-03-05T06:41:20.250Z"
   },
   {
    "duration": 17,
    "start_time": "2025-03-05T06:41:20.280Z"
   },
   {
    "duration": 3,
    "start_time": "2025-03-05T06:41:20.299Z"
   },
   {
    "duration": 46,
    "start_time": "2025-03-05T06:41:20.304Z"
   },
   {
    "duration": 22,
    "start_time": "2025-03-05T06:41:20.352Z"
   },
   {
    "duration": 47,
    "start_time": "2025-03-05T06:41:20.376Z"
   },
   {
    "duration": 10,
    "start_time": "2025-03-05T06:41:20.426Z"
   },
   {
    "duration": 40,
    "start_time": "2025-03-05T06:41:20.438Z"
   },
   {
    "duration": 471,
    "start_time": "2025-03-05T06:41:20.479Z"
   },
   {
    "duration": 238,
    "start_time": "2025-03-05T06:41:20.952Z"
   },
   {
    "duration": 297,
    "start_time": "2025-03-05T06:41:21.192Z"
   },
   {
    "duration": 224,
    "start_time": "2025-03-05T06:41:21.491Z"
   },
   {
    "duration": 376,
    "start_time": "2025-03-05T06:41:21.717Z"
   },
   {
    "duration": 249,
    "start_time": "2025-03-05T06:41:22.095Z"
   },
   {
    "duration": 4,
    "start_time": "2025-03-05T06:41:22.347Z"
   },
   {
    "duration": 159,
    "start_time": "2025-03-05T06:41:22.353Z"
   },
   {
    "duration": 5,
    "start_time": "2025-03-05T06:41:22.514Z"
   },
   {
    "duration": 343,
    "start_time": "2025-03-05T06:41:22.520Z"
   },
   {
    "duration": 10,
    "start_time": "2025-03-05T06:41:22.865Z"
   },
   {
    "duration": 61,
    "start_time": "2025-03-05T06:41:22.877Z"
   },
   {
    "duration": 33,
    "start_time": "2025-03-05T06:41:22.940Z"
   },
   {
    "duration": 13,
    "start_time": "2025-03-05T06:41:22.975Z"
   },
   {
    "duration": 3,
    "start_time": "2025-03-05T07:06:40.660Z"
   },
   {
    "duration": 81,
    "start_time": "2025-03-05T07:06:40.665Z"
   },
   {
    "duration": 27,
    "start_time": "2025-03-05T07:06:40.748Z"
   },
   {
    "duration": 15,
    "start_time": "2025-03-05T07:06:40.776Z"
   },
   {
    "duration": 14,
    "start_time": "2025-03-05T07:06:40.793Z"
   },
   {
    "duration": 23,
    "start_time": "2025-03-05T07:06:40.808Z"
   },
   {
    "duration": 20,
    "start_time": "2025-03-05T07:06:40.833Z"
   },
   {
    "duration": 24,
    "start_time": "2025-03-05T07:06:40.854Z"
   },
   {
    "duration": 37,
    "start_time": "2025-03-05T07:06:40.880Z"
   },
   {
    "duration": 30,
    "start_time": "2025-03-05T07:06:40.919Z"
   },
   {
    "duration": 474,
    "start_time": "2025-03-05T07:06:40.951Z"
   },
   {
    "duration": 229,
    "start_time": "2025-03-05T07:06:41.426Z"
   },
   {
    "duration": 319,
    "start_time": "2025-03-05T07:06:41.657Z"
   },
   {
    "duration": 217,
    "start_time": "2025-03-05T07:06:41.978Z"
   },
   {
    "duration": 346,
    "start_time": "2025-03-05T07:06:42.196Z"
   },
   {
    "duration": 159,
    "start_time": "2025-03-05T07:06:42.547Z"
   },
   {
    "duration": 5,
    "start_time": "2025-03-05T07:06:42.708Z"
   },
   {
    "duration": 170,
    "start_time": "2025-03-05T07:06:42.714Z"
   },
   {
    "duration": 5,
    "start_time": "2025-03-05T07:06:42.885Z"
   },
   {
    "duration": 311,
    "start_time": "2025-03-05T07:06:42.891Z"
   },
   {
    "duration": 10,
    "start_time": "2025-03-05T07:06:43.204Z"
   },
   {
    "duration": 24,
    "start_time": "2025-03-05T07:06:43.216Z"
   },
   {
    "duration": 61,
    "start_time": "2025-03-05T07:06:43.241Z"
   },
   {
    "duration": 14,
    "start_time": "2025-03-05T07:06:43.303Z"
   },
   {
    "duration": 4,
    "start_time": "2025-03-05T07:15:44.140Z"
   },
   {
    "duration": 153,
    "start_time": "2025-03-05T07:16:16.059Z"
   },
   {
    "duration": 5,
    "start_time": "2025-03-05T07:16:35.756Z"
   },
   {
    "duration": 1447,
    "start_time": "2025-03-05T12:48:30.557Z"
   },
   {
    "duration": 76,
    "start_time": "2025-03-05T12:48:32.007Z"
   },
   {
    "duration": 56,
    "start_time": "2025-03-05T12:48:32.085Z"
   },
   {
    "duration": 28,
    "start_time": "2025-03-05T12:48:32.143Z"
   },
   {
    "duration": 4,
    "start_time": "2025-03-05T12:48:32.173Z"
   },
   {
    "duration": 68,
    "start_time": "2025-03-05T12:48:32.180Z"
   },
   {
    "duration": 102,
    "start_time": "2025-03-05T12:48:32.250Z"
   },
   {
    "duration": 23,
    "start_time": "2025-03-05T12:48:32.354Z"
   },
   {
    "duration": 13,
    "start_time": "2025-03-05T12:48:32.379Z"
   },
   {
    "duration": 31,
    "start_time": "2025-03-05T12:48:32.395Z"
   },
   {
    "duration": 709,
    "start_time": "2025-03-05T12:48:32.428Z"
   },
   {
    "duration": 305,
    "start_time": "2025-03-05T12:48:33.139Z"
   },
   {
    "duration": 404,
    "start_time": "2025-03-05T12:48:33.446Z"
   },
   {
    "duration": 257,
    "start_time": "2025-03-05T12:48:33.852Z"
   },
   {
    "duration": 399,
    "start_time": "2025-03-05T12:48:34.111Z"
   },
   {
    "duration": 207,
    "start_time": "2025-03-05T12:48:34.512Z"
   },
   {
    "duration": 6,
    "start_time": "2025-03-05T12:48:34.721Z"
   },
   {
    "duration": 260,
    "start_time": "2025-03-05T12:48:34.729Z"
   },
   {
    "duration": 5,
    "start_time": "2025-03-05T12:48:34.991Z"
   },
   {
    "duration": 403,
    "start_time": "2025-03-05T12:48:34.998Z"
   },
   {
    "duration": 20,
    "start_time": "2025-03-05T12:48:35.403Z"
   },
   {
    "duration": 79,
    "start_time": "2025-03-05T12:48:35.425Z"
   },
   {
    "duration": 1,
    "start_time": "2025-03-05T12:48:35.505Z"
   },
   {
    "duration": 0,
    "start_time": "2025-03-05T12:48:35.507Z"
   },
   {
    "duration": 10,
    "start_time": "2025-03-05T12:49:56.716Z"
   },
   {
    "duration": 111,
    "start_time": "2025-03-05T12:51:05.970Z"
   },
   {
    "duration": 1586,
    "start_time": "2025-03-05T12:51:27.357Z"
   },
   {
    "duration": 9,
    "start_time": "2025-03-05T12:51:40.577Z"
   },
   {
    "duration": 9,
    "start_time": "2025-03-05T12:52:22.767Z"
   },
   {
    "duration": 15,
    "start_time": "2025-03-05T12:54:08.545Z"
   },
   {
    "duration": 12,
    "start_time": "2025-03-05T12:55:06.983Z"
   },
   {
    "duration": 4,
    "start_time": "2025-03-05T12:56:25.988Z"
   },
   {
    "duration": 69,
    "start_time": "2025-03-05T12:56:25.994Z"
   },
   {
    "duration": 33,
    "start_time": "2025-03-05T12:56:26.065Z"
   },
   {
    "duration": 22,
    "start_time": "2025-03-05T12:56:26.100Z"
   },
   {
    "duration": 4,
    "start_time": "2025-03-05T12:56:26.125Z"
   },
   {
    "duration": 17,
    "start_time": "2025-03-05T12:56:26.131Z"
   },
   {
    "duration": 12,
    "start_time": "2025-03-05T12:56:26.149Z"
   },
   {
    "duration": 17,
    "start_time": "2025-03-05T12:56:26.162Z"
   },
   {
    "duration": 40,
    "start_time": "2025-03-05T12:56:26.182Z"
   },
   {
    "duration": 29,
    "start_time": "2025-03-05T12:56:26.223Z"
   },
   {
    "duration": 744,
    "start_time": "2025-03-05T12:56:26.254Z"
   },
   {
    "duration": 292,
    "start_time": "2025-03-05T12:56:27.000Z"
   },
   {
    "duration": 385,
    "start_time": "2025-03-05T12:56:27.293Z"
   },
   {
    "duration": 259,
    "start_time": "2025-03-05T12:56:27.680Z"
   },
   {
    "duration": 375,
    "start_time": "2025-03-05T12:56:27.941Z"
   },
   {
    "duration": 185,
    "start_time": "2025-03-05T12:56:28.318Z"
   },
   {
    "duration": 13,
    "start_time": "2025-03-05T12:56:28.504Z"
   },
   {
    "duration": 237,
    "start_time": "2025-03-05T12:56:28.519Z"
   },
   {
    "duration": 4,
    "start_time": "2025-03-05T12:56:28.758Z"
   },
   {
    "duration": 449,
    "start_time": "2025-03-05T12:56:28.764Z"
   },
   {
    "duration": 11,
    "start_time": "2025-03-05T12:56:29.215Z"
   },
   {
    "duration": 20,
    "start_time": "2025-03-05T12:56:29.227Z"
   },
   {
    "duration": 44,
    "start_time": "2025-03-05T12:56:29.249Z"
   },
   {
    "duration": 22,
    "start_time": "2025-03-05T12:56:29.295Z"
   },
   {
    "duration": 4,
    "start_time": "2025-03-05T13:10:57.575Z"
   },
   {
    "duration": 81,
    "start_time": "2025-03-05T13:10:57.581Z"
   },
   {
    "duration": 29,
    "start_time": "2025-03-05T13:10:57.664Z"
   },
   {
    "duration": 17,
    "start_time": "2025-03-05T13:10:57.695Z"
   },
   {
    "duration": 3,
    "start_time": "2025-03-05T13:10:57.715Z"
   },
   {
    "duration": 14,
    "start_time": "2025-03-05T13:10:57.719Z"
   },
   {
    "duration": 12,
    "start_time": "2025-03-05T13:10:57.735Z"
   },
   {
    "duration": 16,
    "start_time": "2025-03-05T13:10:57.749Z"
   },
   {
    "duration": 11,
    "start_time": "2025-03-05T13:10:57.767Z"
   },
   {
    "duration": 52,
    "start_time": "2025-03-05T13:10:57.779Z"
   },
   {
    "duration": 534,
    "start_time": "2025-03-05T13:10:57.834Z"
   },
   {
    "duration": 269,
    "start_time": "2025-03-05T13:10:58.370Z"
   },
   {
    "duration": 332,
    "start_time": "2025-03-05T13:10:58.641Z"
   },
   {
    "duration": 338,
    "start_time": "2025-03-05T13:10:58.975Z"
   },
   {
    "duration": 384,
    "start_time": "2025-03-05T13:10:59.315Z"
   },
   {
    "duration": 173,
    "start_time": "2025-03-05T13:10:59.701Z"
   },
   {
    "duration": 6,
    "start_time": "2025-03-05T13:10:59.875Z"
   },
   {
    "duration": 188,
    "start_time": "2025-03-05T13:10:59.882Z"
   },
   {
    "duration": 6,
    "start_time": "2025-03-05T13:11:00.071Z"
   },
   {
    "duration": 372,
    "start_time": "2025-03-05T13:11:00.079Z"
   },
   {
    "duration": 11,
    "start_time": "2025-03-05T13:11:00.453Z"
   },
   {
    "duration": 10,
    "start_time": "2025-03-05T13:11:00.466Z"
   },
   {
    "duration": 72,
    "start_time": "2025-03-05T13:11:00.477Z"
   },
   {
    "duration": 14,
    "start_time": "2025-03-05T13:11:00.550Z"
   },
   {
    "duration": 5,
    "start_time": "2025-03-05T13:11:10.717Z"
   },
   {
    "duration": 5,
    "start_time": "2025-03-05T13:13:03.415Z"
   },
   {
    "duration": 3,
    "start_time": "2025-03-05T13:14:08.295Z"
   },
   {
    "duration": 90,
    "start_time": "2025-03-05T13:14:08.300Z"
   },
   {
    "duration": 27,
    "start_time": "2025-03-05T13:14:08.392Z"
   },
   {
    "duration": 15,
    "start_time": "2025-03-05T13:14:08.421Z"
   },
   {
    "duration": 3,
    "start_time": "2025-03-05T13:14:08.438Z"
   },
   {
    "duration": 15,
    "start_time": "2025-03-05T13:14:08.442Z"
   },
   {
    "duration": 11,
    "start_time": "2025-03-05T13:14:08.459Z"
   },
   {
    "duration": 18,
    "start_time": "2025-03-05T13:14:08.471Z"
   },
   {
    "duration": 12,
    "start_time": "2025-03-05T13:14:08.514Z"
   },
   {
    "duration": 22,
    "start_time": "2025-03-05T13:14:08.528Z"
   },
   {
    "duration": 531,
    "start_time": "2025-03-05T13:14:08.552Z"
   },
   {
    "duration": 262,
    "start_time": "2025-03-05T13:14:09.085Z"
   },
   {
    "duration": 323,
    "start_time": "2025-03-05T13:14:09.349Z"
   },
   {
    "duration": 240,
    "start_time": "2025-03-05T13:14:09.676Z"
   },
   {
    "duration": 373,
    "start_time": "2025-03-05T13:14:09.918Z"
   },
   {
    "duration": 188,
    "start_time": "2025-03-05T13:14:10.293Z"
   },
   {
    "duration": 6,
    "start_time": "2025-03-05T13:14:10.483Z"
   },
   {
    "duration": 268,
    "start_time": "2025-03-05T13:14:10.491Z"
   },
   {
    "duration": 6,
    "start_time": "2025-03-05T13:14:10.761Z"
   },
   {
    "duration": 371,
    "start_time": "2025-03-05T13:14:10.769Z"
   },
   {
    "duration": 12,
    "start_time": "2025-03-05T13:14:11.142Z"
   },
   {
    "duration": 12,
    "start_time": "2025-03-05T13:14:11.157Z"
   },
   {
    "duration": 60,
    "start_time": "2025-03-05T13:14:11.171Z"
   },
   {
    "duration": 28,
    "start_time": "2025-03-05T13:14:11.233Z"
   },
   {
    "duration": 3,
    "start_time": "2025-03-05T13:27:32.655Z"
   },
   {
    "duration": 91,
    "start_time": "2025-03-05T13:27:32.660Z"
   },
   {
    "duration": 28,
    "start_time": "2025-03-05T13:27:32.752Z"
   },
   {
    "duration": 34,
    "start_time": "2025-03-05T13:27:32.782Z"
   },
   {
    "duration": 33,
    "start_time": "2025-03-05T13:27:32.819Z"
   },
   {
    "duration": 61,
    "start_time": "2025-03-05T13:27:32.854Z"
   },
   {
    "duration": 26,
    "start_time": "2025-03-05T13:27:32.917Z"
   },
   {
    "duration": 23,
    "start_time": "2025-03-05T13:27:32.944Z"
   },
   {
    "duration": 42,
    "start_time": "2025-03-05T13:27:32.969Z"
   },
   {
    "duration": 26,
    "start_time": "2025-03-05T13:27:33.013Z"
   },
   {
    "duration": 541,
    "start_time": "2025-03-05T13:27:33.041Z"
   },
   {
    "duration": 264,
    "start_time": "2025-03-05T13:27:33.583Z"
   },
   {
    "duration": 322,
    "start_time": "2025-03-05T13:27:33.849Z"
   },
   {
    "duration": 240,
    "start_time": "2025-03-05T13:27:34.173Z"
   },
   {
    "duration": 379,
    "start_time": "2025-03-05T13:27:34.415Z"
   },
   {
    "duration": 182,
    "start_time": "2025-03-05T13:27:34.796Z"
   },
   {
    "duration": 5,
    "start_time": "2025-03-05T13:27:34.979Z"
   },
   {
    "duration": 177,
    "start_time": "2025-03-05T13:27:34.985Z"
   },
   {
    "duration": 5,
    "start_time": "2025-03-05T13:27:35.164Z"
   },
   {
    "duration": 385,
    "start_time": "2025-03-05T13:27:35.171Z"
   },
   {
    "duration": 11,
    "start_time": "2025-03-05T13:27:35.557Z"
   },
   {
    "duration": 101,
    "start_time": "2025-03-05T13:27:35.569Z"
   },
   {
    "duration": 63,
    "start_time": "2025-03-05T13:27:35.672Z"
   },
   {
    "duration": 14,
    "start_time": "2025-03-05T13:27:35.736Z"
   },
   {
    "duration": 1109,
    "start_time": "2025-03-06T02:57:18.390Z"
   },
   {
    "duration": 61,
    "start_time": "2025-03-06T02:57:19.501Z"
   },
   {
    "duration": 28,
    "start_time": "2025-03-06T02:57:19.564Z"
   },
   {
    "duration": 17,
    "start_time": "2025-03-06T02:57:19.594Z"
   },
   {
    "duration": 9,
    "start_time": "2025-03-06T02:57:19.613Z"
   },
   {
    "duration": 26,
    "start_time": "2025-03-06T02:57:19.624Z"
   },
   {
    "duration": 8,
    "start_time": "2025-03-06T02:57:19.652Z"
   },
   {
    "duration": 16,
    "start_time": "2025-03-06T02:57:19.662Z"
   },
   {
    "duration": 9,
    "start_time": "2025-03-06T02:57:19.680Z"
   },
   {
    "duration": 20,
    "start_time": "2025-03-06T02:57:19.691Z"
   },
   {
    "duration": 602,
    "start_time": "2025-03-06T02:57:19.713Z"
   },
   {
    "duration": 240,
    "start_time": "2025-03-06T02:57:20.316Z"
   },
   {
    "duration": 333,
    "start_time": "2025-03-06T02:57:20.557Z"
   },
   {
    "duration": 211,
    "start_time": "2025-03-06T02:57:20.891Z"
   },
   {
    "duration": 355,
    "start_time": "2025-03-06T02:57:21.103Z"
   },
   {
    "duration": 158,
    "start_time": "2025-03-06T02:57:21.459Z"
   },
   {
    "duration": 5,
    "start_time": "2025-03-06T02:57:21.619Z"
   },
   {
    "duration": 170,
    "start_time": "2025-03-06T02:57:21.625Z"
   },
   {
    "duration": 4,
    "start_time": "2025-03-06T02:57:21.797Z"
   },
   {
    "duration": 346,
    "start_time": "2025-03-06T02:57:21.803Z"
   },
   {
    "duration": 11,
    "start_time": "2025-03-06T02:57:22.150Z"
   },
   {
    "duration": 129,
    "start_time": "2025-03-06T02:57:22.162Z"
   },
   {
    "duration": 33,
    "start_time": "2025-03-06T02:57:22.293Z"
   },
   {
    "duration": 12,
    "start_time": "2025-03-06T02:57:22.328Z"
   },
   {
    "duration": 1167,
    "start_time": "2025-03-06T03:08:14.327Z"
   },
   {
    "duration": 69,
    "start_time": "2025-03-06T03:08:15.496Z"
   },
   {
    "duration": 27,
    "start_time": "2025-03-06T03:08:15.567Z"
   },
   {
    "duration": 16,
    "start_time": "2025-03-06T03:08:15.596Z"
   },
   {
    "duration": 3,
    "start_time": "2025-03-06T03:08:15.613Z"
   },
   {
    "duration": 17,
    "start_time": "2025-03-06T03:08:15.617Z"
   },
   {
    "duration": 14,
    "start_time": "2025-03-06T03:08:15.647Z"
   },
   {
    "duration": 28,
    "start_time": "2025-03-06T03:08:15.662Z"
   },
   {
    "duration": 26,
    "start_time": "2025-03-06T03:08:15.692Z"
   },
   {
    "duration": 36,
    "start_time": "2025-03-06T03:08:15.720Z"
   },
   {
    "duration": 585,
    "start_time": "2025-03-06T03:08:15.758Z"
   },
   {
    "duration": 250,
    "start_time": "2025-03-06T03:08:16.344Z"
   },
   {
    "duration": 306,
    "start_time": "2025-03-06T03:08:16.596Z"
   },
   {
    "duration": 221,
    "start_time": "2025-03-06T03:08:16.904Z"
   },
   {
    "duration": 378,
    "start_time": "2025-03-06T03:08:17.127Z"
   },
   {
    "duration": 168,
    "start_time": "2025-03-06T03:08:17.507Z"
   },
   {
    "duration": 5,
    "start_time": "2025-03-06T03:08:17.677Z"
   },
   {
    "duration": 171,
    "start_time": "2025-03-06T03:08:17.684Z"
   },
   {
    "duration": 6,
    "start_time": "2025-03-06T03:08:17.857Z"
   },
   {
    "duration": 370,
    "start_time": "2025-03-06T03:08:17.864Z"
   },
   {
    "duration": 21,
    "start_time": "2025-03-06T03:08:18.236Z"
   },
   {
    "duration": 65,
    "start_time": "2025-03-06T03:08:18.259Z"
   },
   {
    "duration": 29,
    "start_time": "2025-03-06T03:08:18.326Z"
   },
   {
    "duration": 13,
    "start_time": "2025-03-06T03:08:18.357Z"
   },
   {
    "duration": 74,
    "start_time": "2025-03-06T12:36:36.832Z"
   },
   {
    "duration": 1631,
    "start_time": "2025-03-06T12:36:44.714Z"
   },
   {
    "duration": 77,
    "start_time": "2025-03-06T12:36:46.348Z"
   },
   {
    "duration": 37,
    "start_time": "2025-03-06T12:36:46.427Z"
   },
   {
    "duration": 23,
    "start_time": "2025-03-06T12:36:46.466Z"
   },
   {
    "duration": 3,
    "start_time": "2025-03-06T12:36:46.492Z"
   },
   {
    "duration": 38,
    "start_time": "2025-03-06T12:36:46.501Z"
   },
   {
    "duration": 21,
    "start_time": "2025-03-06T12:36:46.541Z"
   },
   {
    "duration": 20,
    "start_time": "2025-03-06T12:36:46.564Z"
   },
   {
    "duration": 15,
    "start_time": "2025-03-06T12:36:46.586Z"
   },
   {
    "duration": 66,
    "start_time": "2025-03-06T12:36:46.604Z"
   },
   {
    "duration": 773,
    "start_time": "2025-03-06T12:36:46.672Z"
   },
   {
    "duration": 341,
    "start_time": "2025-03-06T12:36:47.448Z"
   },
   {
    "duration": 473,
    "start_time": "2025-03-06T12:36:47.792Z"
   },
   {
    "duration": 285,
    "start_time": "2025-03-06T12:36:48.268Z"
   },
   {
    "duration": 464,
    "start_time": "2025-03-06T12:36:48.562Z"
   },
   {
    "duration": 204,
    "start_time": "2025-03-06T12:36:49.028Z"
   },
   {
    "duration": 8,
    "start_time": "2025-03-06T12:36:49.235Z"
   },
   {
    "duration": 317,
    "start_time": "2025-03-06T12:36:49.245Z"
   },
   {
    "duration": 6,
    "start_time": "2025-03-06T12:36:49.565Z"
   },
   {
    "duration": 448,
    "start_time": "2025-03-06T12:36:49.573Z"
   },
   {
    "duration": 15,
    "start_time": "2025-03-06T12:36:50.023Z"
   },
   {
    "duration": 91,
    "start_time": "2025-03-06T12:36:50.040Z"
   },
   {
    "duration": 83,
    "start_time": "2025-03-06T12:36:50.134Z"
   },
   {
    "duration": 23,
    "start_time": "2025-03-06T12:36:50.220Z"
   },
   {
    "duration": 373,
    "start_time": "2025-03-06T12:37:37.569Z"
   },
   {
    "duration": 265,
    "start_time": "2025-03-06T12:37:51.022Z"
   },
   {
    "duration": 304,
    "start_time": "2025-03-06T12:37:58.240Z"
   },
   {
    "duration": 4,
    "start_time": "2025-03-06T12:45:57.080Z"
   },
   {
    "duration": 78,
    "start_time": "2025-03-06T12:45:57.087Z"
   },
   {
    "duration": 31,
    "start_time": "2025-03-06T12:45:57.167Z"
   },
   {
    "duration": 19,
    "start_time": "2025-03-06T12:45:57.200Z"
   },
   {
    "duration": 3,
    "start_time": "2025-03-06T12:45:57.221Z"
   },
   {
    "duration": 58,
    "start_time": "2025-03-06T12:45:57.260Z"
   },
   {
    "duration": 90,
    "start_time": "2025-03-06T12:45:57.321Z"
   },
   {
    "duration": 18,
    "start_time": "2025-03-06T12:45:57.413Z"
   },
   {
    "duration": 16,
    "start_time": "2025-03-06T12:45:57.435Z"
   },
   {
    "duration": 39,
    "start_time": "2025-03-06T12:45:57.454Z"
   },
   {
    "duration": 616,
    "start_time": "2025-03-06T12:45:57.495Z"
   },
   {
    "duration": 262,
    "start_time": "2025-03-06T12:45:58.113Z"
   },
   {
    "duration": 331,
    "start_time": "2025-03-06T12:45:58.377Z"
   },
   {
    "duration": 246,
    "start_time": "2025-03-06T12:45:58.710Z"
   },
   {
    "duration": 365,
    "start_time": "2025-03-06T12:45:58.958Z"
   },
   {
    "duration": 183,
    "start_time": "2025-03-06T12:45:59.325Z"
   },
   {
    "duration": 5,
    "start_time": "2025-03-06T12:45:59.510Z"
   },
   {
    "duration": 226,
    "start_time": "2025-03-06T12:45:59.517Z"
   },
   {
    "duration": 5,
    "start_time": "2025-03-06T12:45:59.746Z"
   },
   {
    "duration": 365,
    "start_time": "2025-03-06T12:45:59.753Z"
   },
   {
    "duration": 11,
    "start_time": "2025-03-06T12:46:00.120Z"
   },
   {
    "duration": 63,
    "start_time": "2025-03-06T12:46:00.133Z"
   },
   {
    "duration": 116,
    "start_time": "2025-03-06T12:46:00.198Z"
   },
   {
    "duration": 41,
    "start_time": "2025-03-06T12:46:00.317Z"
   },
   {
    "duration": 1120,
    "start_time": "2025-03-06T15:44:55.746Z"
   },
   {
    "duration": 69,
    "start_time": "2025-03-06T15:44:56.867Z"
   },
   {
    "duration": 30,
    "start_time": "2025-03-06T15:44:56.938Z"
   },
   {
    "duration": 20,
    "start_time": "2025-03-06T15:44:56.969Z"
   },
   {
    "duration": 4,
    "start_time": "2025-03-06T15:44:56.991Z"
   },
   {
    "duration": 38,
    "start_time": "2025-03-06T15:44:56.996Z"
   },
   {
    "duration": 31,
    "start_time": "2025-03-06T15:44:57.036Z"
   },
   {
    "duration": 25,
    "start_time": "2025-03-06T15:44:57.069Z"
   },
   {
    "duration": 38,
    "start_time": "2025-03-06T15:44:57.095Z"
   },
   {
    "duration": 38,
    "start_time": "2025-03-06T15:44:57.135Z"
   },
   {
    "duration": 650,
    "start_time": "2025-03-06T15:44:57.175Z"
   },
   {
    "duration": 279,
    "start_time": "2025-03-06T15:44:57.827Z"
   },
   {
    "duration": 359,
    "start_time": "2025-03-06T15:44:58.113Z"
   },
   {
    "duration": 283,
    "start_time": "2025-03-06T15:44:58.474Z"
   },
   {
    "duration": 385,
    "start_time": "2025-03-06T15:44:58.759Z"
   },
   {
    "duration": 191,
    "start_time": "2025-03-06T15:44:59.146Z"
   },
   {
    "duration": 5,
    "start_time": "2025-03-06T15:44:59.338Z"
   },
   {
    "duration": 190,
    "start_time": "2025-03-06T15:44:59.345Z"
   },
   {
    "duration": 5,
    "start_time": "2025-03-06T15:44:59.537Z"
   },
   {
    "duration": 490,
    "start_time": "2025-03-06T15:44:59.543Z"
   },
   {
    "duration": 10,
    "start_time": "2025-03-06T15:45:00.035Z"
   },
   {
    "duration": 56,
    "start_time": "2025-03-06T15:45:00.047Z"
   },
   {
    "duration": 65,
    "start_time": "2025-03-06T15:45:00.108Z"
   },
   {
    "duration": 17,
    "start_time": "2025-03-06T15:45:00.174Z"
   },
   {
    "duration": 1192,
    "start_time": "2025-03-06T15:47:14.026Z"
   },
   {
    "duration": 80,
    "start_time": "2025-03-06T15:47:15.220Z"
   },
   {
    "duration": 35,
    "start_time": "2025-03-06T15:47:15.301Z"
   },
   {
    "duration": 19,
    "start_time": "2025-03-06T15:47:15.338Z"
   },
   {
    "duration": 31,
    "start_time": "2025-03-06T15:47:15.358Z"
   },
   {
    "duration": 67,
    "start_time": "2025-03-06T15:47:15.391Z"
   },
   {
    "duration": 36,
    "start_time": "2025-03-06T15:47:15.460Z"
   },
   {
    "duration": 38,
    "start_time": "2025-03-06T15:47:15.497Z"
   },
   {
    "duration": 30,
    "start_time": "2025-03-06T15:47:15.537Z"
   },
   {
    "duration": 50,
    "start_time": "2025-03-06T15:47:15.570Z"
   },
   {
    "duration": 641,
    "start_time": "2025-03-06T15:47:15.622Z"
   },
   {
    "duration": 272,
    "start_time": "2025-03-06T15:47:16.264Z"
   },
   {
    "duration": 332,
    "start_time": "2025-03-06T15:47:16.538Z"
   },
   {
    "duration": 268,
    "start_time": "2025-03-06T15:47:16.871Z"
   },
   {
    "duration": 383,
    "start_time": "2025-03-06T15:47:17.141Z"
   },
   {
    "duration": 180,
    "start_time": "2025-03-06T15:47:17.526Z"
   },
   {
    "duration": 14,
    "start_time": "2025-03-06T15:47:17.707Z"
   },
   {
    "duration": 224,
    "start_time": "2025-03-06T15:47:17.722Z"
   },
   {
    "duration": 5,
    "start_time": "2025-03-06T15:47:17.947Z"
   },
   {
    "duration": 400,
    "start_time": "2025-03-06T15:47:17.954Z"
   },
   {
    "duration": 10,
    "start_time": "2025-03-06T15:47:18.356Z"
   },
   {
    "duration": 105,
    "start_time": "2025-03-06T15:47:18.368Z"
   },
   {
    "duration": 88,
    "start_time": "2025-03-06T15:47:18.475Z"
   },
   {
    "duration": 15,
    "start_time": "2025-03-06T15:47:18.565Z"
   }
  ],
  "kernelspec": {
   "display_name": "Python 3 (ipykernel)",
   "language": "python",
   "name": "python3"
  },
  "language_info": {
   "codemirror_mode": {
    "name": "ipython",
    "version": 3
   },
   "file_extension": ".py",
   "mimetype": "text/x-python",
   "name": "python",
   "nbconvert_exporter": "python",
   "pygments_lexer": "ipython3",
   "version": "3.11.7"
  },
  "toc": {
   "base_numbering": 1,
   "nav_menu": {},
   "number_sections": true,
   "sideBar": true,
   "skip_h1_title": true,
   "title_cell": "Table of Contents",
   "title_sidebar": "Contents",
   "toc_cell": false,
   "toc_position": {
    "height": "calc(100% - 180px)",
    "left": "10px",
    "top": "150px",
    "width": "381.125px"
   },
   "toc_section_display": true,
   "toc_window_display": true
  }
 },
 "nbformat": 4,
 "nbformat_minor": 4
}
