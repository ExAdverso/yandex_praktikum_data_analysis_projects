{
 "cells": [
  {
   "cell_type": "markdown",
   "metadata": {},
   "source": [
    "# Описание проекта\n",
    "\n",
    "Сеть фитнес-центров «Культурист-датасаентист» разрабатывает стратегию взаимодействия с клиентами на основе аналитических данных. \n",
    "Распространённая проблема фитнес-клубов и других сервисов — отток клиентов. \n",
    "\n",
    "Необходимо понимание процессов оттока клиентов. Можно записать в отток тех, кто попросил закрыть договор или удалил аккаунт. Однако клиенты не всегда уходят демонстративно: чаще перестают пользоваться сервисом тихо. \n",
    "\n",
    "Для фитнес-центра можно считать, что клиент попал в отток, если за последний месяц ни разу не посетил спортзал. \n",
    "\n",
    "Чтобы бороться с оттоком, отдел по работе с клиентами «Культуриста-датасаентиста» перевёл в электронный вид множество клиентских анкет. Задача — провести анализ и подготовить план действий по удержанию клиентов.  \n",
    "\n",
    "А именно: \n",
    "\n",
    "научиться прогнозировать вероятность оттока (на уровне следующего месяца) для каждого клиента;\n",
    "\n",
    "сформировать типичные портреты клиентов: выделить несколько наиболее ярких групп и охарактеризовать их основные свойства;\n",
    "\n",
    "проанализировать основные признаки, наиболее сильно влияющие на отток;\n",
    "\n",
    "сформулировать основные выводы и разработать рекомендации по повышению качества работы с клиентами:\n",
    "\n",
    "    1) выделить целевые группы клиентов;\n",
    "    2) предложить меры по снижению оттока;\n",
    "    3) определить другие особенности взаимодействия с клиентами."
   ]
  },
  {
   "cell_type": "markdown",
   "metadata": {},
   "source": [
    "#### Шаг 1. Загрузка данных. "
   ]
  },
  {
   "cell_type": "code",
   "execution_count": 1,
   "metadata": {},
   "outputs": [],
   "source": [
    "import pandas as pd\n",
    "import numpy as np\n",
    "import seaborn as sns\n",
    "sns.set_theme(style=\"white\")\n",
    "from matplotlib import pyplot as plt\n",
    "from plotly import graph_objects as go\n",
    "import plotly.express as px\n",
    "\n",
    "from sklearn.preprocessing import StandardScaler\n",
    "from sklearn.model_selection import train_test_split\n",
    "from sklearn.linear_model import LogisticRegression\n",
    "from sklearn.metrics import confusion_matrix, accuracy_score, precision_score, recall_score, silhouette_score\n",
    "from sklearn.ensemble import RandomForestClassifier\n",
    "from scipy.cluster.hierarchy import dendrogram, linkage\n",
    "from sklearn.cluster import KMeans\n",
    "\n",
    "import warnings\n",
    "warnings.filterwarnings('ignore')"
   ]
  },
  {
   "cell_type": "code",
   "execution_count": 2,
   "metadata": {},
   "outputs": [],
   "source": [
    "data = pd.read_csv('...') # загрузил данные"
   ]
  },
  {
   "cell_type": "markdown",
   "metadata": {},
   "source": [
    "#### Шаг 2. Исследовательский анализ данных (EDA)."
   ]
  },
  {
   "cell_type": "code",
   "execution_count": 3,
   "metadata": {},
   "outputs": [
    {
     "name": "stdout",
     "output_type": "stream",
     "text": [
      "<class 'pandas.core.frame.DataFrame'>\n",
      "RangeIndex: 4000 entries, 0 to 3999\n",
      "Data columns (total 14 columns):\n",
      " #   Column                             Non-Null Count  Dtype  \n",
      "---  ------                             --------------  -----  \n",
      " 0   gender                             4000 non-null   int64  \n",
      " 1   Near_Location                      4000 non-null   int64  \n",
      " 2   Partner                            4000 non-null   int64  \n",
      " 3   Promo_friends                      4000 non-null   int64  \n",
      " 4   Phone                              4000 non-null   int64  \n",
      " 5   Contract_period                    4000 non-null   int64  \n",
      " 6   Group_visits                       4000 non-null   int64  \n",
      " 7   Age                                4000 non-null   int64  \n",
      " 8   Avg_additional_charges_total       4000 non-null   float64\n",
      " 9   Month_to_end_contract              4000 non-null   float64\n",
      " 10  Lifetime                           4000 non-null   int64  \n",
      " 11  Avg_class_frequency_total          4000 non-null   float64\n",
      " 12  Avg_class_frequency_current_month  4000 non-null   float64\n",
      " 13  Churn                              4000 non-null   int64  \n",
      "dtypes: float64(4), int64(10)\n",
      "memory usage: 437.6 KB\n"
     ]
    },
    {
     "data": {
      "text/html": [
       "<div>\n",
       "<style scoped>\n",
       "    .dataframe tbody tr th:only-of-type {\n",
       "        vertical-align: middle;\n",
       "    }\n",
       "\n",
       "    .dataframe tbody tr th {\n",
       "        vertical-align: top;\n",
       "    }\n",
       "\n",
       "    .dataframe thead th {\n",
       "        text-align: right;\n",
       "    }\n",
       "</style>\n",
       "<table border=\"1\" class=\"dataframe\">\n",
       "  <thead>\n",
       "    <tr style=\"text-align: right;\">\n",
       "      <th></th>\n",
       "      <th>0</th>\n",
       "      <th>1</th>\n",
       "      <th>2</th>\n",
       "      <th>3</th>\n",
       "      <th>4</th>\n",
       "    </tr>\n",
       "  </thead>\n",
       "  <tbody>\n",
       "    <tr>\n",
       "      <th>gender</th>\n",
       "      <td>1.000000</td>\n",
       "      <td>0.000000</td>\n",
       "      <td>0.000000</td>\n",
       "      <td>0.000000</td>\n",
       "      <td>1.000000</td>\n",
       "    </tr>\n",
       "    <tr>\n",
       "      <th>Near_Location</th>\n",
       "      <td>1.000000</td>\n",
       "      <td>1.000000</td>\n",
       "      <td>1.000000</td>\n",
       "      <td>1.000000</td>\n",
       "      <td>1.000000</td>\n",
       "    </tr>\n",
       "    <tr>\n",
       "      <th>Partner</th>\n",
       "      <td>1.000000</td>\n",
       "      <td>0.000000</td>\n",
       "      <td>1.000000</td>\n",
       "      <td>1.000000</td>\n",
       "      <td>1.000000</td>\n",
       "    </tr>\n",
       "    <tr>\n",
       "      <th>Promo_friends</th>\n",
       "      <td>1.000000</td>\n",
       "      <td>0.000000</td>\n",
       "      <td>0.000000</td>\n",
       "      <td>1.000000</td>\n",
       "      <td>1.000000</td>\n",
       "    </tr>\n",
       "    <tr>\n",
       "      <th>Phone</th>\n",
       "      <td>0.000000</td>\n",
       "      <td>1.000000</td>\n",
       "      <td>1.000000</td>\n",
       "      <td>1.000000</td>\n",
       "      <td>1.000000</td>\n",
       "    </tr>\n",
       "    <tr>\n",
       "      <th>Contract_period</th>\n",
       "      <td>6.000000</td>\n",
       "      <td>12.000000</td>\n",
       "      <td>1.000000</td>\n",
       "      <td>12.000000</td>\n",
       "      <td>1.000000</td>\n",
       "    </tr>\n",
       "    <tr>\n",
       "      <th>Group_visits</th>\n",
       "      <td>1.000000</td>\n",
       "      <td>1.000000</td>\n",
       "      <td>0.000000</td>\n",
       "      <td>1.000000</td>\n",
       "      <td>0.000000</td>\n",
       "    </tr>\n",
       "    <tr>\n",
       "      <th>Age</th>\n",
       "      <td>29.000000</td>\n",
       "      <td>31.000000</td>\n",
       "      <td>28.000000</td>\n",
       "      <td>33.000000</td>\n",
       "      <td>26.000000</td>\n",
       "    </tr>\n",
       "    <tr>\n",
       "      <th>Avg_additional_charges_total</th>\n",
       "      <td>14.227470</td>\n",
       "      <td>113.202938</td>\n",
       "      <td>129.448479</td>\n",
       "      <td>62.669863</td>\n",
       "      <td>198.362265</td>\n",
       "    </tr>\n",
       "    <tr>\n",
       "      <th>Month_to_end_contract</th>\n",
       "      <td>5.000000</td>\n",
       "      <td>12.000000</td>\n",
       "      <td>1.000000</td>\n",
       "      <td>12.000000</td>\n",
       "      <td>1.000000</td>\n",
       "    </tr>\n",
       "    <tr>\n",
       "      <th>Lifetime</th>\n",
       "      <td>3.000000</td>\n",
       "      <td>7.000000</td>\n",
       "      <td>2.000000</td>\n",
       "      <td>2.000000</td>\n",
       "      <td>3.000000</td>\n",
       "    </tr>\n",
       "    <tr>\n",
       "      <th>Avg_class_frequency_total</th>\n",
       "      <td>0.020398</td>\n",
       "      <td>1.922936</td>\n",
       "      <td>1.859098</td>\n",
       "      <td>3.205633</td>\n",
       "      <td>1.113884</td>\n",
       "    </tr>\n",
       "    <tr>\n",
       "      <th>Avg_class_frequency_current_month</th>\n",
       "      <td>0.000000</td>\n",
       "      <td>1.910244</td>\n",
       "      <td>1.736502</td>\n",
       "      <td>3.357215</td>\n",
       "      <td>1.120078</td>\n",
       "    </tr>\n",
       "    <tr>\n",
       "      <th>Churn</th>\n",
       "      <td>0.000000</td>\n",
       "      <td>0.000000</td>\n",
       "      <td>0.000000</td>\n",
       "      <td>0.000000</td>\n",
       "      <td>0.000000</td>\n",
       "    </tr>\n",
       "  </tbody>\n",
       "</table>\n",
       "</div>"
      ],
      "text/plain": [
       "                                           0           1           2  \\\n",
       "gender                              1.000000    0.000000    0.000000   \n",
       "Near_Location                       1.000000    1.000000    1.000000   \n",
       "Partner                             1.000000    0.000000    1.000000   \n",
       "Promo_friends                       1.000000    0.000000    0.000000   \n",
       "Phone                               0.000000    1.000000    1.000000   \n",
       "Contract_period                     6.000000   12.000000    1.000000   \n",
       "Group_visits                        1.000000    1.000000    0.000000   \n",
       "Age                                29.000000   31.000000   28.000000   \n",
       "Avg_additional_charges_total       14.227470  113.202938  129.448479   \n",
       "Month_to_end_contract               5.000000   12.000000    1.000000   \n",
       "Lifetime                            3.000000    7.000000    2.000000   \n",
       "Avg_class_frequency_total           0.020398    1.922936    1.859098   \n",
       "Avg_class_frequency_current_month   0.000000    1.910244    1.736502   \n",
       "Churn                               0.000000    0.000000    0.000000   \n",
       "\n",
       "                                           3           4  \n",
       "gender                              0.000000    1.000000  \n",
       "Near_Location                       1.000000    1.000000  \n",
       "Partner                             1.000000    1.000000  \n",
       "Promo_friends                       1.000000    1.000000  \n",
       "Phone                               1.000000    1.000000  \n",
       "Contract_period                    12.000000    1.000000  \n",
       "Group_visits                        1.000000    0.000000  \n",
       "Age                                33.000000   26.000000  \n",
       "Avg_additional_charges_total       62.669863  198.362265  \n",
       "Month_to_end_contract              12.000000    1.000000  \n",
       "Lifetime                            2.000000    3.000000  \n",
       "Avg_class_frequency_total           3.205633    1.113884  \n",
       "Avg_class_frequency_current_month   3.357215    1.120078  \n",
       "Churn                               0.000000    0.000000  "
      ]
     },
     "execution_count": 3,
     "metadata": {},
     "output_type": "execute_result"
    }
   ],
   "source": [
    "data.info()\n",
    "data.head().T"
   ]
  },
  {
   "cell_type": "code",
   "execution_count": 4,
   "metadata": {},
   "outputs": [
    {
     "name": "stdout",
     "output_type": "stream",
     "text": [
      "Количество дубликатов: 0 \n",
      "\n",
      "<class 'pandas.core.frame.DataFrame'>\n",
      "RangeIndex: 4000 entries, 0 to 3999\n",
      "Data columns (total 14 columns):\n",
      " #   Column                             Non-Null Count  Dtype  \n",
      "---  ------                             --------------  -----  \n",
      " 0   gender                             4000 non-null   int64  \n",
      " 1   near_location                      4000 non-null   bool   \n",
      " 2   partner                            4000 non-null   bool   \n",
      " 3   promo_friends                      4000 non-null   bool   \n",
      " 4   phone                              4000 non-null   bool   \n",
      " 5   contract_period                    4000 non-null   int64  \n",
      " 6   group_visits                       4000 non-null   bool   \n",
      " 7   age                                4000 non-null   int64  \n",
      " 8   avg_additional_charges_total       4000 non-null   float64\n",
      " 9   month_to_end_contract              4000 non-null   int64  \n",
      " 10  lifetime                           4000 non-null   int64  \n",
      " 11  avg_class_frequency_total          4000 non-null   float64\n",
      " 12  avg_class_frequency_current_month  4000 non-null   float64\n",
      " 13  churn                              4000 non-null   bool   \n",
      "dtypes: bool(6), float64(3), int64(5)\n",
      "memory usage: 273.6 KB\n"
     ]
    }
   ],
   "source": [
    "data.columns = data.columns.str.lower() # привел наименования столбцов к нижнему регистру\n",
    "\n",
    "data['month_to_end_contract'] = data['month_to_end_contract'].astype(int) # изменил типы данных на корректные\n",
    "data[['near_location', 'partner', 'promo_friends', 'phone', 'group_visits', 'churn']] = \\\n",
    "data[['near_location', 'partner', 'promo_friends', 'phone', 'group_visits', 'churn']].astype(bool)\n",
    "\n",
    "print('Количество дубликатов:', data.duplicated().sum(), '\\n') # проверил наличие дубликатов\n",
    "data.info()"
   ]
  },
  {
   "cell_type": "markdown",
   "metadata": {},
   "source": [
    "Данные содержат 4000 записей о клиентах фитнес-центра. Пропусков, явных дубликатов не имеется. Изменены типы данных в month_to_end_contract на int; в near_location, partner, promo_friends, phone, group_visits, churn на bool; наименования столбцов - на корректные."
   ]
  },
  {
   "cell_type": "code",
   "execution_count": 5,
   "metadata": {
    "scrolled": true
   },
   "outputs": [
    {
     "data": {
      "text/html": [
       "<div>\n",
       "<style scoped>\n",
       "    .dataframe tbody tr th:only-of-type {\n",
       "        vertical-align: middle;\n",
       "    }\n",
       "\n",
       "    .dataframe tbody tr th {\n",
       "        vertical-align: top;\n",
       "    }\n",
       "\n",
       "    .dataframe thead th {\n",
       "        text-align: right;\n",
       "    }\n",
       "</style>\n",
       "<table border=\"1\" class=\"dataframe\">\n",
       "  <thead>\n",
       "    <tr style=\"text-align: right;\">\n",
       "      <th></th>\n",
       "      <th>count</th>\n",
       "      <th>mean</th>\n",
       "      <th>std</th>\n",
       "      <th>min</th>\n",
       "      <th>25%</th>\n",
       "      <th>50%</th>\n",
       "      <th>75%</th>\n",
       "      <th>max</th>\n",
       "    </tr>\n",
       "  </thead>\n",
       "  <tbody>\n",
       "    <tr>\n",
       "      <th>gender</th>\n",
       "      <td>4000.0</td>\n",
       "      <td>0.510250</td>\n",
       "      <td>0.499957</td>\n",
       "      <td>0.000000</td>\n",
       "      <td>0.000000</td>\n",
       "      <td>1.000000</td>\n",
       "      <td>1.000000</td>\n",
       "      <td>1.000000</td>\n",
       "    </tr>\n",
       "    <tr>\n",
       "      <th>contract_period</th>\n",
       "      <td>4000.0</td>\n",
       "      <td>4.681250</td>\n",
       "      <td>4.549706</td>\n",
       "      <td>1.000000</td>\n",
       "      <td>1.000000</td>\n",
       "      <td>1.000000</td>\n",
       "      <td>6.000000</td>\n",
       "      <td>12.000000</td>\n",
       "    </tr>\n",
       "    <tr>\n",
       "      <th>age</th>\n",
       "      <td>4000.0</td>\n",
       "      <td>29.184250</td>\n",
       "      <td>3.258367</td>\n",
       "      <td>18.000000</td>\n",
       "      <td>27.000000</td>\n",
       "      <td>29.000000</td>\n",
       "      <td>31.000000</td>\n",
       "      <td>41.000000</td>\n",
       "    </tr>\n",
       "    <tr>\n",
       "      <th>avg_additional_charges_total</th>\n",
       "      <td>4000.0</td>\n",
       "      <td>146.943728</td>\n",
       "      <td>96.355602</td>\n",
       "      <td>0.148205</td>\n",
       "      <td>68.868830</td>\n",
       "      <td>136.220159</td>\n",
       "      <td>210.949625</td>\n",
       "      <td>552.590740</td>\n",
       "    </tr>\n",
       "    <tr>\n",
       "      <th>month_to_end_contract</th>\n",
       "      <td>4000.0</td>\n",
       "      <td>4.322750</td>\n",
       "      <td>4.191297</td>\n",
       "      <td>1.000000</td>\n",
       "      <td>1.000000</td>\n",
       "      <td>1.000000</td>\n",
       "      <td>6.000000</td>\n",
       "      <td>12.000000</td>\n",
       "    </tr>\n",
       "    <tr>\n",
       "      <th>lifetime</th>\n",
       "      <td>4000.0</td>\n",
       "      <td>3.724750</td>\n",
       "      <td>3.749267</td>\n",
       "      <td>0.000000</td>\n",
       "      <td>1.000000</td>\n",
       "      <td>3.000000</td>\n",
       "      <td>5.000000</td>\n",
       "      <td>31.000000</td>\n",
       "    </tr>\n",
       "    <tr>\n",
       "      <th>avg_class_frequency_total</th>\n",
       "      <td>4000.0</td>\n",
       "      <td>1.879020</td>\n",
       "      <td>0.972245</td>\n",
       "      <td>0.000000</td>\n",
       "      <td>1.180875</td>\n",
       "      <td>1.832768</td>\n",
       "      <td>2.536078</td>\n",
       "      <td>6.023668</td>\n",
       "    </tr>\n",
       "    <tr>\n",
       "      <th>avg_class_frequency_current_month</th>\n",
       "      <td>4000.0</td>\n",
       "      <td>1.767052</td>\n",
       "      <td>1.052906</td>\n",
       "      <td>0.000000</td>\n",
       "      <td>0.963003</td>\n",
       "      <td>1.719574</td>\n",
       "      <td>2.510336</td>\n",
       "      <td>6.146783</td>\n",
       "    </tr>\n",
       "  </tbody>\n",
       "</table>\n",
       "</div>"
      ],
      "text/plain": [
       "                                    count        mean        std        min  \\\n",
       "gender                             4000.0    0.510250   0.499957   0.000000   \n",
       "contract_period                    4000.0    4.681250   4.549706   1.000000   \n",
       "age                                4000.0   29.184250   3.258367  18.000000   \n",
       "avg_additional_charges_total       4000.0  146.943728  96.355602   0.148205   \n",
       "month_to_end_contract              4000.0    4.322750   4.191297   1.000000   \n",
       "lifetime                           4000.0    3.724750   3.749267   0.000000   \n",
       "avg_class_frequency_total          4000.0    1.879020   0.972245   0.000000   \n",
       "avg_class_frequency_current_month  4000.0    1.767052   1.052906   0.000000   \n",
       "\n",
       "                                         25%         50%         75%  \\\n",
       "gender                              0.000000    1.000000    1.000000   \n",
       "contract_period                     1.000000    1.000000    6.000000   \n",
       "age                                27.000000   29.000000   31.000000   \n",
       "avg_additional_charges_total       68.868830  136.220159  210.949625   \n",
       "month_to_end_contract               1.000000    1.000000    6.000000   \n",
       "lifetime                            1.000000    3.000000    5.000000   \n",
       "avg_class_frequency_total           1.180875    1.832768    2.536078   \n",
       "avg_class_frequency_current_month   0.963003    1.719574    2.510336   \n",
       "\n",
       "                                          max  \n",
       "gender                               1.000000  \n",
       "contract_period                     12.000000  \n",
       "age                                 41.000000  \n",
       "avg_additional_charges_total       552.590740  \n",
       "month_to_end_contract               12.000000  \n",
       "lifetime                            31.000000  \n",
       "avg_class_frequency_total            6.023668  \n",
       "avg_class_frequency_current_month    6.146783  "
      ]
     },
     "execution_count": 5,
     "metadata": {},
     "output_type": "execute_result"
    }
   ],
   "source": [
    "data.describe().T # описание данных"
   ]
  },
  {
   "cell_type": "code",
   "execution_count": 6,
   "metadata": {},
   "outputs": [
    {
     "data": {
      "text/html": [
       "<div>\n",
       "<style scoped>\n",
       "    .dataframe tbody tr th:only-of-type {\n",
       "        vertical-align: middle;\n",
       "    }\n",
       "\n",
       "    .dataframe tbody tr th {\n",
       "        vertical-align: top;\n",
       "    }\n",
       "\n",
       "    .dataframe thead th {\n",
       "        text-align: right;\n",
       "    }\n",
       "</style>\n",
       "<table border=\"1\" class=\"dataframe\">\n",
       "  <thead>\n",
       "    <tr style=\"text-align: right;\">\n",
       "      <th>churn</th>\n",
       "      <th>False</th>\n",
       "      <th>True</th>\n",
       "    </tr>\n",
       "  </thead>\n",
       "  <tbody>\n",
       "    <tr>\n",
       "      <th>gender</th>\n",
       "      <td>0.510037</td>\n",
       "      <td>0.510839</td>\n",
       "    </tr>\n",
       "    <tr>\n",
       "      <th>near_location</th>\n",
       "      <td>0.873086</td>\n",
       "      <td>0.768143</td>\n",
       "    </tr>\n",
       "    <tr>\n",
       "      <th>partner</th>\n",
       "      <td>0.534195</td>\n",
       "      <td>0.355325</td>\n",
       "    </tr>\n",
       "    <tr>\n",
       "      <th>promo_friends</th>\n",
       "      <td>0.353522</td>\n",
       "      <td>0.183789</td>\n",
       "    </tr>\n",
       "    <tr>\n",
       "      <th>phone</th>\n",
       "      <td>0.903709</td>\n",
       "      <td>0.902922</td>\n",
       "    </tr>\n",
       "    <tr>\n",
       "      <th>contract_period</th>\n",
       "      <td>5.747193</td>\n",
       "      <td>1.728558</td>\n",
       "    </tr>\n",
       "    <tr>\n",
       "      <th>group_visits</th>\n",
       "      <td>0.464103</td>\n",
       "      <td>0.268615</td>\n",
       "    </tr>\n",
       "    <tr>\n",
       "      <th>age</th>\n",
       "      <td>29.976523</td>\n",
       "      <td>26.989632</td>\n",
       "    </tr>\n",
       "    <tr>\n",
       "      <th>avg_additional_charges_total</th>\n",
       "      <td>158.445715</td>\n",
       "      <td>115.082899</td>\n",
       "    </tr>\n",
       "    <tr>\n",
       "      <th>month_to_end_contract</th>\n",
       "      <td>5.283089</td>\n",
       "      <td>1.662582</td>\n",
       "    </tr>\n",
       "    <tr>\n",
       "      <th>lifetime</th>\n",
       "      <td>4.711807</td>\n",
       "      <td>0.990575</td>\n",
       "    </tr>\n",
       "    <tr>\n",
       "      <th>avg_class_frequency_total</th>\n",
       "      <td>2.024876</td>\n",
       "      <td>1.474995</td>\n",
       "    </tr>\n",
       "    <tr>\n",
       "      <th>avg_class_frequency_current_month</th>\n",
       "      <td>2.027882</td>\n",
       "      <td>1.044546</td>\n",
       "    </tr>\n",
       "  </tbody>\n",
       "</table>\n",
       "</div>"
      ],
      "text/plain": [
       "churn                                   False       True \n",
       "gender                               0.510037    0.510839\n",
       "near_location                        0.873086    0.768143\n",
       "partner                              0.534195    0.355325\n",
       "promo_friends                        0.353522    0.183789\n",
       "phone                                0.903709    0.902922\n",
       "contract_period                      5.747193    1.728558\n",
       "group_visits                         0.464103    0.268615\n",
       "age                                 29.976523   26.989632\n",
       "avg_additional_charges_total       158.445715  115.082899\n",
       "month_to_end_contract                5.283089    1.662582\n",
       "lifetime                             4.711807    0.990575\n",
       "avg_class_frequency_total            2.024876    1.474995\n",
       "avg_class_frequency_current_month    2.027882    1.044546"
      ]
     },
     "execution_count": 6,
     "metadata": {},
     "output_type": "execute_result"
    }
   ],
   "source": [
    "churn_grouped = data.groupby('churn').mean() # вывел средние значения тех кто ушел/остался\n",
    "churn_grouped.T"
   ]
  },
  {
   "cell_type": "code",
   "execution_count": 7,
   "metadata": {},
   "outputs": [
    {
     "data": {
      "image/png": "[encoded data removed]",
      "text/plain": [
       "<Figure size 1080x720 with 6 Axes>"
      ]
     },
     "metadata": {},
     "output_type": "display_data"
    }
   ],
   "source": [
    "fig, axes = plt.subplots(2, 3, figsize=(15, 10)) # столбчатые диаграммы по данным оттока\n",
    "sns.despine(left=True)\n",
    "\n",
    "sns.countplot(data = data, x = 'gender', hue='churn', ax=axes[0, 0])\n",
    "sns.countplot(data = data, x = 'near_location', hue='churn', ax=axes[0, 1])\n",
    "sns.countplot(data = data, x = 'partner', hue='churn', ax=axes[0, 2])\n",
    "sns.countplot(data = data, x = 'promo_friends', hue='churn', ax=axes[1, 0])\n",
    "sns.countplot(data = data, x = 'phone', hue='churn', ax=axes[1, 1])\n",
    "sns.countplot(data = data, x = 'group_visits', hue='churn', ax=axes[1, 2])\n",
    "\n",
    "fig.show()"
   ]
  },
  {
   "cell_type": "code",
   "execution_count": 8,
   "metadata": {},
   "outputs": [
    {
     "data": {
      "image/png": "[encoded data removed]",
      "text/plain": [
       "<Figure size 1080x720 with 8 Axes>"
      ]
     },
     "metadata": {},
     "output_type": "display_data"
    }
   ],
   "source": [
    "fig, axes = plt.subplots(2, 4, figsize=(15, 10)) # распределения признаков по данным оттока\n",
    "sns.despine(left=True)\n",
    "\n",
    "\n",
    "sns.histplot(data = data, x = 'age', kde=True, hue='churn', ax=axes[0, 1])\n",
    "sns.histplot(data = data, x = 'avg_additional_charges_total', kde=True, hue='churn', ax=axes[0, 2])\n",
    "sns.histplot(data = data, x = 'month_to_end_contract', kde=True, hue='churn', ax=axes[0, 3])\n",
    "sns.histplot(data = data, x = 'lifetime', kde=True, hue='churn', ax=axes[1, 0])\n",
    "sns.histplot(data = data, x = 'avg_class_frequency_total', kde=True, hue='churn', ax=axes[1, 1])\n",
    "sns.histplot(data = data, x = 'avg_class_frequency_current_month', kde=True, hue='churn', ax=axes[1, 2])\n",
    "sns.histplot(data = data, x = 'gender', kde=True, hue='churn', ax=axes[1, 3]) # построил график для gender еще раз, чтобы не было пустого графика\n",
    "\n",
    "fig.show()"
   ]
  },
  {
   "cell_type": "markdown",
   "metadata": {},
   "source": [
    "Можно сделать вывод, что большую лояльность проявляют: те, кто живут поблизости, сотрудники компаний-партнеров, имеет длительный срок абонемента, старше 28 лет, воспользовался акцией \"приведи друга\", посещает групповые занятия.\n",
    "\n",
    "Разницы в оттоке между мужчинами и женщинами нет\n",
    "\n",
    "Большая доля попадает в отток: те, кто имеют краткосрочный абонемент, младше 28 лет, меньше тратит на дополнительные услуги, посещает центр реже двух раз в неделю. "
   ]
  },
  {
   "cell_type": "code",
   "execution_count": 9,
   "metadata": {},
   "outputs": [
    {
     "data": {
      "text/html": [
       "<div>\n",
       "<style scoped>\n",
       "    .dataframe tbody tr th:only-of-type {\n",
       "        vertical-align: middle;\n",
       "    }\n",
       "\n",
       "    .dataframe tbody tr th {\n",
       "        vertical-align: top;\n",
       "    }\n",
       "\n",
       "    .dataframe thead th {\n",
       "        text-align: right;\n",
       "    }\n",
       "</style>\n",
       "<table border=\"1\" class=\"dataframe\">\n",
       "  <thead>\n",
       "    <tr style=\"text-align: right;\">\n",
       "      <th></th>\n",
       "      <th>gender</th>\n",
       "      <th>near_location</th>\n",
       "      <th>partner</th>\n",
       "      <th>promo_friends</th>\n",
       "      <th>phone</th>\n",
       "      <th>contract_period</th>\n",
       "      <th>group_visits</th>\n",
       "      <th>age</th>\n",
       "      <th>avg_additional_charges_total</th>\n",
       "      <th>month_to_end_contract</th>\n",
       "      <th>lifetime</th>\n",
       "      <th>avg_class_frequency_total</th>\n",
       "      <th>avg_class_frequency_current_month</th>\n",
       "      <th>churn</th>\n",
       "    </tr>\n",
       "  </thead>\n",
       "  <tbody>\n",
       "    <tr>\n",
       "      <th>gender</th>\n",
       "      <td>1.000000</td>\n",
       "      <td>0.006699</td>\n",
       "      <td>-0.010463</td>\n",
       "      <td>-0.005033</td>\n",
       "      <td>-0.008542</td>\n",
       "      <td>0.000502</td>\n",
       "      <td>0.017879</td>\n",
       "      <td>0.013807</td>\n",
       "      <td>-0.009334</td>\n",
       "      <td>-0.001281</td>\n",
       "      <td>0.013579</td>\n",
       "      <td>0.014620</td>\n",
       "      <td>0.009156</td>\n",
       "      <td>0.000708</td>\n",
       "    </tr>\n",
       "    <tr>\n",
       "      <th>near_location</th>\n",
       "      <td>0.006699</td>\n",
       "      <td>1.000000</td>\n",
       "      <td>-0.005119</td>\n",
       "      <td>0.210964</td>\n",
       "      <td>-0.015763</td>\n",
       "      <td>0.150233</td>\n",
       "      <td>0.154728</td>\n",
       "      <td>0.058358</td>\n",
       "      <td>0.040761</td>\n",
       "      <td>0.143961</td>\n",
       "      <td>0.070921</td>\n",
       "      <td>0.043127</td>\n",
       "      <td>0.062664</td>\n",
       "      <td>-0.128098</td>\n",
       "    </tr>\n",
       "    <tr>\n",
       "      <th>partner</th>\n",
       "      <td>-0.010463</td>\n",
       "      <td>-0.005119</td>\n",
       "      <td>1.000000</td>\n",
       "      <td>0.451960</td>\n",
       "      <td>0.009970</td>\n",
       "      <td>0.306166</td>\n",
       "      <td>0.022710</td>\n",
       "      <td>0.047480</td>\n",
       "      <td>0.022941</td>\n",
       "      <td>0.294632</td>\n",
       "      <td>0.061229</td>\n",
       "      <td>0.024938</td>\n",
       "      <td>0.045561</td>\n",
       "      <td>-0.157986</td>\n",
       "    </tr>\n",
       "    <tr>\n",
       "      <th>promo_friends</th>\n",
       "      <td>-0.005033</td>\n",
       "      <td>0.210964</td>\n",
       "      <td>0.451960</td>\n",
       "      <td>1.000000</td>\n",
       "      <td>0.001982</td>\n",
       "      <td>0.244552</td>\n",
       "      <td>0.120170</td>\n",
       "      <td>0.050113</td>\n",
       "      <td>0.036898</td>\n",
       "      <td>0.239553</td>\n",
       "      <td>0.072721</td>\n",
       "      <td>0.028063</td>\n",
       "      <td>0.053768</td>\n",
       "      <td>-0.162233</td>\n",
       "    </tr>\n",
       "    <tr>\n",
       "      <th>phone</th>\n",
       "      <td>-0.008542</td>\n",
       "      <td>-0.015763</td>\n",
       "      <td>0.009970</td>\n",
       "      <td>0.001982</td>\n",
       "      <td>1.000000</td>\n",
       "      <td>-0.006893</td>\n",
       "      <td>-0.010099</td>\n",
       "      <td>-0.011403</td>\n",
       "      <td>0.009279</td>\n",
       "      <td>-0.011196</td>\n",
       "      <td>-0.018801</td>\n",
       "      <td>0.008340</td>\n",
       "      <td>0.013375</td>\n",
       "      <td>-0.001177</td>\n",
       "    </tr>\n",
       "    <tr>\n",
       "      <th>contract_period</th>\n",
       "      <td>0.000502</td>\n",
       "      <td>0.150233</td>\n",
       "      <td>0.306166</td>\n",
       "      <td>0.244552</td>\n",
       "      <td>-0.006893</td>\n",
       "      <td>1.000000</td>\n",
       "      <td>0.169991</td>\n",
       "      <td>0.138249</td>\n",
       "      <td>0.111445</td>\n",
       "      <td>0.973064</td>\n",
       "      <td>0.170725</td>\n",
       "      <td>0.096211</td>\n",
       "      <td>0.159407</td>\n",
       "      <td>-0.389984</td>\n",
       "    </tr>\n",
       "    <tr>\n",
       "      <th>group_visits</th>\n",
       "      <td>0.017879</td>\n",
       "      <td>0.154728</td>\n",
       "      <td>0.022710</td>\n",
       "      <td>0.120170</td>\n",
       "      <td>-0.010099</td>\n",
       "      <td>0.169991</td>\n",
       "      <td>1.000000</td>\n",
       "      <td>0.080934</td>\n",
       "      <td>0.032079</td>\n",
       "      <td>0.163703</td>\n",
       "      <td>0.075853</td>\n",
       "      <td>0.056695</td>\n",
       "      <td>0.075923</td>\n",
       "      <td>-0.175325</td>\n",
       "    </tr>\n",
       "    <tr>\n",
       "      <th>age</th>\n",
       "      <td>0.013807</td>\n",
       "      <td>0.058358</td>\n",
       "      <td>0.047480</td>\n",
       "      <td>0.050113</td>\n",
       "      <td>-0.011403</td>\n",
       "      <td>0.138249</td>\n",
       "      <td>0.080934</td>\n",
       "      <td>1.000000</td>\n",
       "      <td>0.080240</td>\n",
       "      <td>0.134511</td>\n",
       "      <td>0.164693</td>\n",
       "      <td>0.119953</td>\n",
       "      <td>0.183095</td>\n",
       "      <td>-0.404735</td>\n",
       "    </tr>\n",
       "    <tr>\n",
       "      <th>avg_additional_charges_total</th>\n",
       "      <td>-0.009334</td>\n",
       "      <td>0.040761</td>\n",
       "      <td>0.022941</td>\n",
       "      <td>0.036898</td>\n",
       "      <td>0.009279</td>\n",
       "      <td>0.111445</td>\n",
       "      <td>0.032079</td>\n",
       "      <td>0.080240</td>\n",
       "      <td>1.000000</td>\n",
       "      <td>0.113958</td>\n",
       "      <td>0.079028</td>\n",
       "      <td>0.044426</td>\n",
       "      <td>0.079570</td>\n",
       "      <td>-0.198697</td>\n",
       "    </tr>\n",
       "    <tr>\n",
       "      <th>month_to_end_contract</th>\n",
       "      <td>-0.001281</td>\n",
       "      <td>0.143961</td>\n",
       "      <td>0.294632</td>\n",
       "      <td>0.239553</td>\n",
       "      <td>-0.011196</td>\n",
       "      <td>0.973064</td>\n",
       "      <td>0.163703</td>\n",
       "      <td>0.134511</td>\n",
       "      <td>0.113958</td>\n",
       "      <td>1.000000</td>\n",
       "      <td>0.161078</td>\n",
       "      <td>0.085387</td>\n",
       "      <td>0.147605</td>\n",
       "      <td>-0.381393</td>\n",
       "    </tr>\n",
       "    <tr>\n",
       "      <th>lifetime</th>\n",
       "      <td>0.013579</td>\n",
       "      <td>0.070921</td>\n",
       "      <td>0.061229</td>\n",
       "      <td>0.072721</td>\n",
       "      <td>-0.018801</td>\n",
       "      <td>0.170725</td>\n",
       "      <td>0.075853</td>\n",
       "      <td>0.164693</td>\n",
       "      <td>0.079028</td>\n",
       "      <td>0.161078</td>\n",
       "      <td>1.000000</td>\n",
       "      <td>0.112338</td>\n",
       "      <td>0.181975</td>\n",
       "      <td>-0.438220</td>\n",
       "    </tr>\n",
       "    <tr>\n",
       "      <th>avg_class_frequency_total</th>\n",
       "      <td>0.014620</td>\n",
       "      <td>0.043127</td>\n",
       "      <td>0.024938</td>\n",
       "      <td>0.028063</td>\n",
       "      <td>0.008340</td>\n",
       "      <td>0.096211</td>\n",
       "      <td>0.056695</td>\n",
       "      <td>0.119953</td>\n",
       "      <td>0.044426</td>\n",
       "      <td>0.085387</td>\n",
       "      <td>0.112338</td>\n",
       "      <td>1.000000</td>\n",
       "      <td>0.952739</td>\n",
       "      <td>-0.249715</td>\n",
       "    </tr>\n",
       "    <tr>\n",
       "      <th>avg_class_frequency_current_month</th>\n",
       "      <td>0.009156</td>\n",
       "      <td>0.062664</td>\n",
       "      <td>0.045561</td>\n",
       "      <td>0.053768</td>\n",
       "      <td>0.013375</td>\n",
       "      <td>0.159407</td>\n",
       "      <td>0.075923</td>\n",
       "      <td>0.183095</td>\n",
       "      <td>0.079570</td>\n",
       "      <td>0.147605</td>\n",
       "      <td>0.181975</td>\n",
       "      <td>0.952739</td>\n",
       "      <td>1.000000</td>\n",
       "      <td>-0.412348</td>\n",
       "    </tr>\n",
       "    <tr>\n",
       "      <th>churn</th>\n",
       "      <td>0.000708</td>\n",
       "      <td>-0.128098</td>\n",
       "      <td>-0.157986</td>\n",
       "      <td>-0.162233</td>\n",
       "      <td>-0.001177</td>\n",
       "      <td>-0.389984</td>\n",
       "      <td>-0.175325</td>\n",
       "      <td>-0.404735</td>\n",
       "      <td>-0.198697</td>\n",
       "      <td>-0.381393</td>\n",
       "      <td>-0.438220</td>\n",
       "      <td>-0.249715</td>\n",
       "      <td>-0.412348</td>\n",
       "      <td>1.000000</td>\n",
       "    </tr>\n",
       "  </tbody>\n",
       "</table>\n",
       "</div>"
      ],
      "text/plain": [
       "                                     gender  near_location   partner  \\\n",
       "gender                             1.000000       0.006699 -0.010463   \n",
       "near_location                      0.006699       1.000000 -0.005119   \n",
       "partner                           -0.010463      -0.005119  1.000000   \n",
       "promo_friends                     -0.005033       0.210964  0.451960   \n",
       "phone                             -0.008542      -0.015763  0.009970   \n",
       "contract_period                    0.000502       0.150233  0.306166   \n",
       "group_visits                       0.017879       0.154728  0.022710   \n",
       "age                                0.013807       0.058358  0.047480   \n",
       "avg_additional_charges_total      -0.009334       0.040761  0.022941   \n",
       "month_to_end_contract             -0.001281       0.143961  0.294632   \n",
       "lifetime                           0.013579       0.070921  0.061229   \n",
       "avg_class_frequency_total          0.014620       0.043127  0.024938   \n",
       "avg_class_frequency_current_month  0.009156       0.062664  0.045561   \n",
       "churn                              0.000708      -0.128098 -0.157986   \n",
       "\n",
       "                                   promo_friends     phone  contract_period  \\\n",
       "gender                                 -0.005033 -0.008542         0.000502   \n",
       "near_location                           0.210964 -0.015763         0.150233   \n",
       "partner                                 0.451960  0.009970         0.306166   \n",
       "promo_friends                           1.000000  0.001982         0.244552   \n",
       "phone                                   0.001982  1.000000        -0.006893   \n",
       "contract_period                         0.244552 -0.006893         1.000000   \n",
       "group_visits                            0.120170 -0.010099         0.169991   \n",
       "age                                     0.050113 -0.011403         0.138249   \n",
       "avg_additional_charges_total            0.036898  0.009279         0.111445   \n",
       "month_to_end_contract                   0.239553 -0.011196         0.973064   \n",
       "lifetime                                0.072721 -0.018801         0.170725   \n",
       "avg_class_frequency_total               0.028063  0.008340         0.096211   \n",
       "avg_class_frequency_current_month       0.053768  0.013375         0.159407   \n",
       "churn                                  -0.162233 -0.001177        -0.389984   \n",
       "\n",
       "                                   group_visits       age  \\\n",
       "gender                                 0.017879  0.013807   \n",
       "near_location                          0.154728  0.058358   \n",
       "partner                                0.022710  0.047480   \n",
       "promo_friends                          0.120170  0.050113   \n",
       "phone                                 -0.010099 -0.011403   \n",
       "contract_period                        0.169991  0.138249   \n",
       "group_visits                           1.000000  0.080934   \n",
       "age                                    0.080934  1.000000   \n",
       "avg_additional_charges_total           0.032079  0.080240   \n",
       "month_to_end_contract                  0.163703  0.134511   \n",
       "lifetime                               0.075853  0.164693   \n",
       "avg_class_frequency_total              0.056695  0.119953   \n",
       "avg_class_frequency_current_month      0.075923  0.183095   \n",
       "churn                                 -0.175325 -0.404735   \n",
       "\n",
       "                                   avg_additional_charges_total  \\\n",
       "gender                                                -0.009334   \n",
       "near_location                                          0.040761   \n",
       "partner                                                0.022941   \n",
       "promo_friends                                          0.036898   \n",
       "phone                                                  0.009279   \n",
       "contract_period                                        0.111445   \n",
       "group_visits                                           0.032079   \n",
       "age                                                    0.080240   \n",
       "avg_additional_charges_total                           1.000000   \n",
       "month_to_end_contract                                  0.113958   \n",
       "lifetime                                               0.079028   \n",
       "avg_class_frequency_total                              0.044426   \n",
       "avg_class_frequency_current_month                      0.079570   \n",
       "churn                                                 -0.198697   \n",
       "\n",
       "                                   month_to_end_contract  lifetime  \\\n",
       "gender                                         -0.001281  0.013579   \n",
       "near_location                                   0.143961  0.070921   \n",
       "partner                                         0.294632  0.061229   \n",
       "promo_friends                                   0.239553  0.072721   \n",
       "phone                                          -0.011196 -0.018801   \n",
       "contract_period                                 0.973064  0.170725   \n",
       "group_visits                                    0.163703  0.075853   \n",
       "age                                             0.134511  0.164693   \n",
       "avg_additional_charges_total                    0.113958  0.079028   \n",
       "month_to_end_contract                           1.000000  0.161078   \n",
       "lifetime                                        0.161078  1.000000   \n",
       "avg_class_frequency_total                       0.085387  0.112338   \n",
       "avg_class_frequency_current_month               0.147605  0.181975   \n",
       "churn                                          -0.381393 -0.438220   \n",
       "\n",
       "                                   avg_class_frequency_total  \\\n",
       "gender                                              0.014620   \n",
       "near_location                                       0.043127   \n",
       "partner                                             0.024938   \n",
       "promo_friends                                       0.028063   \n",
       "phone                                               0.008340   \n",
       "contract_period                                     0.096211   \n",
       "group_visits                                        0.056695   \n",
       "age                                                 0.119953   \n",
       "avg_additional_charges_total                        0.044426   \n",
       "month_to_end_contract                               0.085387   \n",
       "lifetime                                            0.112338   \n",
       "avg_class_frequency_total                           1.000000   \n",
       "avg_class_frequency_current_month                   0.952739   \n",
       "churn                                              -0.249715   \n",
       "\n",
       "                                   avg_class_frequency_current_month     churn  \n",
       "gender                                                      0.009156  0.000708  \n",
       "near_location                                               0.062664 -0.128098  \n",
       "partner                                                     0.045561 -0.157986  \n",
       "promo_friends                                               0.053768 -0.162233  \n",
       "phone                                                       0.013375 -0.001177  \n",
       "contract_period                                             0.159407 -0.389984  \n",
       "group_visits                                                0.075923 -0.175325  \n",
       "age                                                         0.183095 -0.404735  \n",
       "avg_additional_charges_total                                0.079570 -0.198697  \n",
       "month_to_end_contract                                       0.147605 -0.381393  \n",
       "lifetime                                                    0.181975 -0.438220  \n",
       "avg_class_frequency_total                                   0.952739 -0.249715  \n",
       "avg_class_frequency_current_month                           1.000000 -0.412348  \n",
       "churn                                                      -0.412348  1.000000  "
      ]
     },
     "execution_count": 9,
     "metadata": {},
     "output_type": "execute_result"
    }
   ],
   "source": [
    "data.corr() # вывел матрицу корреляций"
   ]
  },
  {
   "cell_type": "code",
   "execution_count": 10,
   "metadata": {},
   "outputs": [
    {
     "data": {
      "image/png": "[encoded data removed]",
      "text/plain": [
       "<Figure size 936x1080 with 2 Axes>"
      ]
     },
     "metadata": {},
     "output_type": "display_data"
    }
   ],
   "source": [
    "mask = np.triu(np.ones_like(data.corr(), dtype=bool)) # построил тепловую карту для отображения матрицы корреляций\n",
    "\n",
    "f, ax = plt.subplots(figsize=(13, 15))\n",
    "cmap = sns.diverging_palette(230, 20, as_cmap=True)\n",
    "\n",
    "sns.heatmap(data.corr(), mask=mask, cmap=cmap, vmax=.3, center=0,\n",
    "            square=True, annot = True, linewidths=.5, cbar_kws={\"shrink\": .5})\n",
    "plt.show()"
   ]
  },
  {
   "cell_type": "markdown",
   "metadata": {},
   "source": [
    "Наблюдается сильная зависимость между признаками - contract_period и month_to_end_contract, avg_class_frequency_current_month и avg_class_frequency_total."
   ]
  },
  {
   "cell_type": "code",
   "execution_count": 11,
   "metadata": {},
   "outputs": [],
   "source": [
    "model_data = data.drop('avg_class_frequency_total', axis=1) # убрал признаки, которые сильно коррелируют, чтобы избежать мультиколлинеарности\n",
    "model_data = data.drop('month_to_end_contract', axis=1)"
   ]
  },
  {
   "cell_type": "markdown",
   "metadata": {},
   "source": [
    "#### Шаг 3. Строим модель прогнозирования оттока клиентов."
   ]
  },
  {
   "cell_type": "code",
   "execution_count": 12,
   "metadata": {},
   "outputs": [],
   "source": [
    "X = model_data.drop('churn', axis=1) # разделил данные на матрицу признаков и целевые переменные\n",
    "y = model_data['churn'] \n",
    "\n",
    "X_train, X_test, y_train, y_test = train_test_split(X, y, test_size=0.2, random_state=0) # выделил обучающую и валидационные выборки"
   ]
  },
  {
   "cell_type": "code",
   "execution_count": 13,
   "metadata": {},
   "outputs": [],
   "source": [
    "scaler = StandardScaler() # создал объект класса StandardScaler\n",
    "X_train_st = scaler.fit_transform(X_train) # обучил scaler, трансформировал матрицу обучающей выборки\n",
    "X_test_st = scaler.transform(X_test) # стандартизировал матрицу признаков валидационной выборки"
   ]
  },
  {
   "cell_type": "code",
   "execution_count": 14,
   "metadata": {},
   "outputs": [],
   "source": [
    "lr_model = LogisticRegression(solver='liblinear', random_state=0) # создал, обучил, использовал модели для прогнозов\n",
    "lr_model.fit(X_train_st, y_train)\n",
    "lr_prediction =  lr_model.predict(X_test_st)\n",
    "lr_probabilities = lr_model.predict_proba(X_test_st)[:,1]\n",
    "\n",
    "rf_model = RandomForestClassifier(random_state=0)\n",
    "rf_model.fit(X_train_st, y_train)\n",
    "rf_prediction = rf_model.predict(X_test_st)\n",
    "rf_probabilities = rf_model.predict_proba(X_test_st)[:,1]"
   ]
  },
  {
   "cell_type": "code",
   "execution_count": 15,
   "metadata": {},
   "outputs": [],
   "source": [
    "def print_metrics(model): # объявил функцию для вывода значений метрик\n",
    "    model.fit(X_train_st, y_train)\n",
    "    y_pred = model.predict(X_test_st)\n",
    "    print('Доля правильных ответов:', round(accuracy_score(y_test, y_pred), 2))\n",
    "    print('Точность:', round(precision_score(y_test, y_pred), 2))\n",
    "    print('Полнота:', round(recall_score(y_test, y_pred), 2), '\\n')"
   ]
  },
  {
   "cell_type": "code",
   "execution_count": 16,
   "metadata": {},
   "outputs": [
    {
     "name": "stdout",
     "output_type": "stream",
     "text": [
      "Метрики логистической регрессии: \n",
      "\n",
      "Доля правильных ответов: 0.92\n",
      "Точность: 0.85\n",
      "Полнота: 0.83 \n",
      "\n",
      "Метрики случайного леса: \n",
      "\n",
      "Доля правильных ответов: 0.91\n",
      "Точность: 0.83\n",
      "Полнота: 0.81 \n",
      "\n"
     ]
    }
   ],
   "source": [
    "print('Метрики логистической регрессии:', '\\n')\n",
    "print_metrics(lr_model)\n",
    "\n",
    "print('Метрики случайного леса:', '\\n')\n",
    "print_metrics(rf_model)"
   ]
  },
  {
   "cell_type": "markdown",
   "metadata": {},
   "source": [
    "Метрики имеют хорошие значения. Немного лучше показатели у логистической регрессии."
   ]
  },
  {
   "cell_type": "markdown",
   "metadata": {},
   "source": [
    "#### Шаг 4. Кластеризация клиентов."
   ]
  },
  {
   "cell_type": "code",
   "execution_count": 17,
   "metadata": {},
   "outputs": [
    {
     "data": {
      "image/png": "[encoded data removed]",
      "text/plain": [
       "<Figure size 1080x720 with 1 Axes>"
      ]
     },
     "metadata": {},
     "output_type": "display_data"
    }
   ],
   "source": [
    "sc = StandardScaler() # создал объект класса scaler для стандартизации\n",
    "X_sc = sc.fit_transform(data.drop('churn', axis=1)) # обучил объект класса scaler, преобразовал данные\n",
    "\n",
    "linked = linkage(X_sc, method = 'ward') # сохранил таблицу связок между объектами, которую можно визуализировать как дендрограмму\n",
    "\n",
    "plt.figure(figsize=(15, 10)) # построил дендрограмму\n",
    "dendrogram(linked, orientation='top')\n",
    "plt.title('Hierarchial clustering')\n",
    "plt.show()"
   ]
  },
  {
   "cell_type": "markdown",
   "metadata": {},
   "source": [
    "По количеству цветов на графике можно выделить 4 кластера. Определим число кластеров - 5 (по условию)."
   ]
  },
  {
   "cell_type": "code",
   "execution_count": 18,
   "metadata": {},
   "outputs": [
    {
     "data": {
      "text/html": [
       "<div>\n",
       "<style scoped>\n",
       "    .dataframe tbody tr th:only-of-type {\n",
       "        vertical-align: middle;\n",
       "    }\n",
       "\n",
       "    .dataframe tbody tr th {\n",
       "        vertical-align: top;\n",
       "    }\n",
       "\n",
       "    .dataframe thead th {\n",
       "        text-align: right;\n",
       "    }\n",
       "</style>\n",
       "<table border=\"1\" class=\"dataframe\">\n",
       "  <thead>\n",
       "    <tr style=\"text-align: right;\">\n",
       "      <th></th>\n",
       "      <th>0</th>\n",
       "      <th>1</th>\n",
       "      <th>2</th>\n",
       "      <th>3</th>\n",
       "      <th>4</th>\n",
       "    </tr>\n",
       "  </thead>\n",
       "  <tbody>\n",
       "    <tr>\n",
       "      <th>gender</th>\n",
       "      <td>1</td>\n",
       "      <td>0</td>\n",
       "      <td>0</td>\n",
       "      <td>0</td>\n",
       "      <td>1</td>\n",
       "    </tr>\n",
       "    <tr>\n",
       "      <th>near_location</th>\n",
       "      <td>True</td>\n",
       "      <td>True</td>\n",
       "      <td>True</td>\n",
       "      <td>True</td>\n",
       "      <td>True</td>\n",
       "    </tr>\n",
       "    <tr>\n",
       "      <th>partner</th>\n",
       "      <td>True</td>\n",
       "      <td>False</td>\n",
       "      <td>True</td>\n",
       "      <td>True</td>\n",
       "      <td>True</td>\n",
       "    </tr>\n",
       "    <tr>\n",
       "      <th>promo_friends</th>\n",
       "      <td>True</td>\n",
       "      <td>False</td>\n",
       "      <td>False</td>\n",
       "      <td>True</td>\n",
       "      <td>True</td>\n",
       "    </tr>\n",
       "    <tr>\n",
       "      <th>phone</th>\n",
       "      <td>False</td>\n",
       "      <td>True</td>\n",
       "      <td>True</td>\n",
       "      <td>True</td>\n",
       "      <td>True</td>\n",
       "    </tr>\n",
       "    <tr>\n",
       "      <th>contract_period</th>\n",
       "      <td>6</td>\n",
       "      <td>12</td>\n",
       "      <td>1</td>\n",
       "      <td>12</td>\n",
       "      <td>1</td>\n",
       "    </tr>\n",
       "    <tr>\n",
       "      <th>group_visits</th>\n",
       "      <td>True</td>\n",
       "      <td>True</td>\n",
       "      <td>False</td>\n",
       "      <td>True</td>\n",
       "      <td>False</td>\n",
       "    </tr>\n",
       "    <tr>\n",
       "      <th>age</th>\n",
       "      <td>29</td>\n",
       "      <td>31</td>\n",
       "      <td>28</td>\n",
       "      <td>33</td>\n",
       "      <td>26</td>\n",
       "    </tr>\n",
       "    <tr>\n",
       "      <th>avg_additional_charges_total</th>\n",
       "      <td>14.22747</td>\n",
       "      <td>113.202938</td>\n",
       "      <td>129.448479</td>\n",
       "      <td>62.669863</td>\n",
       "      <td>198.362265</td>\n",
       "    </tr>\n",
       "    <tr>\n",
       "      <th>month_to_end_contract</th>\n",
       "      <td>5</td>\n",
       "      <td>12</td>\n",
       "      <td>1</td>\n",
       "      <td>12</td>\n",
       "      <td>1</td>\n",
       "    </tr>\n",
       "    <tr>\n",
       "      <th>lifetime</th>\n",
       "      <td>3</td>\n",
       "      <td>7</td>\n",
       "      <td>2</td>\n",
       "      <td>2</td>\n",
       "      <td>3</td>\n",
       "    </tr>\n",
       "    <tr>\n",
       "      <th>avg_class_frequency_total</th>\n",
       "      <td>0.020398</td>\n",
       "      <td>1.922936</td>\n",
       "      <td>1.859098</td>\n",
       "      <td>3.205633</td>\n",
       "      <td>1.113884</td>\n",
       "    </tr>\n",
       "    <tr>\n",
       "      <th>avg_class_frequency_current_month</th>\n",
       "      <td>0.0</td>\n",
       "      <td>1.910244</td>\n",
       "      <td>1.736502</td>\n",
       "      <td>3.357215</td>\n",
       "      <td>1.120078</td>\n",
       "    </tr>\n",
       "    <tr>\n",
       "      <th>churn</th>\n",
       "      <td>False</td>\n",
       "      <td>False</td>\n",
       "      <td>False</td>\n",
       "      <td>False</td>\n",
       "      <td>False</td>\n",
       "    </tr>\n",
       "    <tr>\n",
       "      <th>cluster</th>\n",
       "      <td>1</td>\n",
       "      <td>0</td>\n",
       "      <td>3</td>\n",
       "      <td>0</td>\n",
       "      <td>3</td>\n",
       "    </tr>\n",
       "  </tbody>\n",
       "</table>\n",
       "</div>"
      ],
      "text/plain": [
       "                                          0           1           2  \\\n",
       "gender                                    1           0           0   \n",
       "near_location                          True        True        True   \n",
       "partner                                True       False        True   \n",
       "promo_friends                          True       False       False   \n",
       "phone                                 False        True        True   \n",
       "contract_period                           6          12           1   \n",
       "group_visits                           True        True       False   \n",
       "age                                      29          31          28   \n",
       "avg_additional_charges_total       14.22747  113.202938  129.448479   \n",
       "month_to_end_contract                     5          12           1   \n",
       "lifetime                                  3           7           2   \n",
       "avg_class_frequency_total          0.020398    1.922936    1.859098   \n",
       "avg_class_frequency_current_month       0.0    1.910244    1.736502   \n",
       "churn                                 False       False       False   \n",
       "cluster                                   1           0           3   \n",
       "\n",
       "                                           3           4  \n",
       "gender                                     0           1  \n",
       "near_location                           True        True  \n",
       "partner                                 True        True  \n",
       "promo_friends                           True        True  \n",
       "phone                                   True        True  \n",
       "contract_period                           12           1  \n",
       "group_visits                            True       False  \n",
       "age                                       33          26  \n",
       "avg_additional_charges_total       62.669863  198.362265  \n",
       "month_to_end_contract                     12           1  \n",
       "lifetime                                   2           3  \n",
       "avg_class_frequency_total           3.205633    1.113884  \n",
       "avg_class_frequency_current_month   3.357215    1.120078  \n",
       "churn                                  False       False  \n",
       "cluster                                    0           3  "
      ]
     },
     "execution_count": 18,
     "metadata": {},
     "output_type": "execute_result"
    }
   ],
   "source": [
    "km = KMeans(n_clusters=5, random_state=0) # задал число кластеров, равное 5, зафиксировал значение random_state для воспроизводимости результата\n",
    "labels = km.fit_predict(X_sc) # применил алгоритм к данным, сформировал вектор кластеров\n",
    "data['cluster'] = labels # добавил столбец с индексами кластеров\n",
    "data.head().T"
   ]
  },
  {
   "cell_type": "code",
   "execution_count": 19,
   "metadata": {},
   "outputs": [
    {
     "data": {
      "text/html": [
       "<div>\n",
       "<style scoped>\n",
       "    .dataframe tbody tr th:only-of-type {\n",
       "        vertical-align: middle;\n",
       "    }\n",
       "\n",
       "    .dataframe tbody tr th {\n",
       "        vertical-align: top;\n",
       "    }\n",
       "\n",
       "    .dataframe thead th {\n",
       "        text-align: right;\n",
       "    }\n",
       "</style>\n",
       "<table border=\"1\" class=\"dataframe\">\n",
       "  <thead>\n",
       "    <tr style=\"text-align: right;\">\n",
       "      <th>cluster</th>\n",
       "      <th>0</th>\n",
       "      <th>1</th>\n",
       "      <th>2</th>\n",
       "      <th>3</th>\n",
       "      <th>4</th>\n",
       "    </tr>\n",
       "  </thead>\n",
       "  <tbody>\n",
       "    <tr>\n",
       "      <th>gender</th>\n",
       "      <td>0.50</td>\n",
       "      <td>0.52</td>\n",
       "      <td>0.50</td>\n",
       "      <td>0.49</td>\n",
       "      <td>0.56</td>\n",
       "    </tr>\n",
       "    <tr>\n",
       "      <th>near_location</th>\n",
       "      <td>0.96</td>\n",
       "      <td>0.86</td>\n",
       "      <td>0.00</td>\n",
       "      <td>1.00</td>\n",
       "      <td>0.98</td>\n",
       "    </tr>\n",
       "    <tr>\n",
       "      <th>partner</th>\n",
       "      <td>0.78</td>\n",
       "      <td>0.47</td>\n",
       "      <td>0.46</td>\n",
       "      <td>0.35</td>\n",
       "      <td>0.36</td>\n",
       "    </tr>\n",
       "    <tr>\n",
       "      <th>promo_friends</th>\n",
       "      <td>0.57</td>\n",
       "      <td>0.31</td>\n",
       "      <td>0.08</td>\n",
       "      <td>0.24</td>\n",
       "      <td>0.23</td>\n",
       "    </tr>\n",
       "    <tr>\n",
       "      <th>phone</th>\n",
       "      <td>1.00</td>\n",
       "      <td>0.00</td>\n",
       "      <td>1.00</td>\n",
       "      <td>1.00</td>\n",
       "      <td>1.00</td>\n",
       "    </tr>\n",
       "    <tr>\n",
       "      <th>contract_period</th>\n",
       "      <td>10.89</td>\n",
       "      <td>4.79</td>\n",
       "      <td>2.35</td>\n",
       "      <td>1.95</td>\n",
       "      <td>2.67</td>\n",
       "    </tr>\n",
       "    <tr>\n",
       "      <th>group_visits</th>\n",
       "      <td>0.54</td>\n",
       "      <td>0.43</td>\n",
       "      <td>0.22</td>\n",
       "      <td>0.34</td>\n",
       "      <td>0.47</td>\n",
       "    </tr>\n",
       "    <tr>\n",
       "      <th>age</th>\n",
       "      <td>29.98</td>\n",
       "      <td>29.30</td>\n",
       "      <td>28.48</td>\n",
       "      <td>28.17</td>\n",
       "      <td>30.13</td>\n",
       "    </tr>\n",
       "    <tr>\n",
       "      <th>avg_additional_charges_total</th>\n",
       "      <td>160.76</td>\n",
       "      <td>143.96</td>\n",
       "      <td>135.46</td>\n",
       "      <td>131.62</td>\n",
       "      <td>161.66</td>\n",
       "    </tr>\n",
       "    <tr>\n",
       "      <th>month_to_end_contract</th>\n",
       "      <td>9.95</td>\n",
       "      <td>4.48</td>\n",
       "      <td>2.20</td>\n",
       "      <td>1.86</td>\n",
       "      <td>2.46</td>\n",
       "    </tr>\n",
       "    <tr>\n",
       "      <th>lifetime</th>\n",
       "      <td>4.74</td>\n",
       "      <td>3.92</td>\n",
       "      <td>2.81</td>\n",
       "      <td>2.44</td>\n",
       "      <td>4.90</td>\n",
       "    </tr>\n",
       "    <tr>\n",
       "      <th>avg_class_frequency_total</th>\n",
       "      <td>1.98</td>\n",
       "      <td>1.85</td>\n",
       "      <td>1.66</td>\n",
       "      <td>1.25</td>\n",
       "      <td>2.85</td>\n",
       "    </tr>\n",
       "    <tr>\n",
       "      <th>avg_class_frequency_current_month</th>\n",
       "      <td>1.97</td>\n",
       "      <td>1.72</td>\n",
       "      <td>1.48</td>\n",
       "      <td>1.01</td>\n",
       "      <td>2.85</td>\n",
       "    </tr>\n",
       "    <tr>\n",
       "      <th>churn</th>\n",
       "      <td>0.03</td>\n",
       "      <td>0.27</td>\n",
       "      <td>0.44</td>\n",
       "      <td>0.51</td>\n",
       "      <td>0.07</td>\n",
       "    </tr>\n",
       "  </tbody>\n",
       "</table>\n",
       "</div>"
      ],
      "text/plain": [
       "cluster                                 0       1       2       3       4\n",
       "gender                               0.50    0.52    0.50    0.49    0.56\n",
       "near_location                        0.96    0.86    0.00    1.00    0.98\n",
       "partner                              0.78    0.47    0.46    0.35    0.36\n",
       "promo_friends                        0.57    0.31    0.08    0.24    0.23\n",
       "phone                                1.00    0.00    1.00    1.00    1.00\n",
       "contract_period                     10.89    4.79    2.35    1.95    2.67\n",
       "group_visits                         0.54    0.43    0.22    0.34    0.47\n",
       "age                                 29.98   29.30   28.48   28.17   30.13\n",
       "avg_additional_charges_total       160.76  143.96  135.46  131.62  161.66\n",
       "month_to_end_contract                9.95    4.48    2.20    1.86    2.46\n",
       "lifetime                             4.74    3.92    2.81    2.44    4.90\n",
       "avg_class_frequency_total            1.98    1.85    1.66    1.25    2.85\n",
       "avg_class_frequency_current_month    1.97    1.72    1.48    1.01    2.85\n",
       "churn                                0.03    0.27    0.44    0.51    0.07"
      ]
     },
     "execution_count": 19,
     "metadata": {},
     "output_type": "execute_result"
    }
   ],
   "source": [
    "round(data.groupby('cluster').mean(), 2).T # вывел средние значения признаков для кластеров"
   ]
  },
  {
   "cell_type": "markdown",
   "metadata": {},
   "source": [
    "Наиболее лояльные клиенты попали в кластеры 0 и 4. Средние значения признаков для кластеров подтверждают наблюдения, полученные на шаге 2."
   ]
  },
  {
   "cell_type": "code",
   "execution_count": 20,
   "metadata": {},
   "outputs": [
    {
     "data": {
      "image/png": "[encoded data removed]",
      "text/plain": [
       "<Figure size 1080x720 with 6 Axes>"
      ]
     },
     "metadata": {},
     "output_type": "display_data"
    }
   ],
   "source": [
    "fig, axes = plt.subplots(2, 3, figsize=(15, 10)) # столбчатые диаграммы для кластеров\n",
    "sns.despine(left=True)\n",
    "\n",
    "sns.countplot(data = data, x = 'gender', hue='cluster', ax=axes[0, 0])\n",
    "sns.countplot(data = data, x = 'near_location', hue='cluster', ax=axes[0, 1])\n",
    "sns.countplot(data = data, x = 'partner', hue='cluster', ax=axes[0, 2])\n",
    "sns.countplot(data = data, x = 'promo_friends', hue='cluster', ax=axes[1, 0])\n",
    "sns.countplot(data = data, x = 'phone', hue='cluster', ax=axes[1, 1])\n",
    "sns.countplot(data = data, x = 'group_visits', hue='cluster', ax=axes[1, 2])\n",
    "\n",
    "fig.show()"
   ]
  },
  {
   "cell_type": "code",
   "execution_count": 21,
   "metadata": {},
   "outputs": [
    {
     "data": {
      "image/png": "[encoded data removed]",
      "text/plain": [
       "<Figure size 1440x1080 with 8 Axes>"
      ]
     },
     "metadata": {},
     "output_type": "display_data"
    }
   ],
   "source": [
    "fig, axes = plt.subplots(2, 4, figsize=(20, 15)) # распределения признаков по кластерам\n",
    "sns.despine(left=True)\n",
    "\n",
    "sns.histplot(data = data, x = 'contract_period', kde=True, hue='cluster', ax=axes[0, 0])\n",
    "sns.histplot(data = data, x = 'age', kde=True, hue='cluster', ax=axes[0, 1])\n",
    "sns.histplot(data = data, x = 'avg_additional_charges_total', kde=True, hue='cluster', ax=axes[0, 2])\n",
    "sns.histplot(data = data, x = 'month_to_end_contract', kde=True, hue='cluster', ax=axes[0, 3])\n",
    "sns.histplot(data = data, x = 'lifetime', kde=True, hue='cluster', ax=axes[1, 0])\n",
    "sns.histplot(data = data, x = 'avg_class_frequency_total', kde=True, hue='cluster', ax=axes[1, 1])\n",
    "sns.histplot(data = data, x = 'avg_class_frequency_current_month', kde=True, hue='cluster', ax=axes[1, 2])\n",
    "sns.histplot(data = data, x = 'gender', kde=True, hue='cluster', ax=axes[1, 3])\n",
    "\n",
    "fig.show()"
   ]
  },
  {
   "cell_type": "code",
   "execution_count": 22,
   "metadata": {},
   "outputs": [
    {
     "data": {
      "image/png": "[encoded data removed]",
      "text/plain": [
       "<Figure size 576x576 with 1 Axes>"
      ]
     },
     "metadata": {},
     "output_type": "display_data"
    }
   ],
   "source": [
    "churn_share = data.query('churn==1').groupby('cluster')['churn'].count() / data.query('churn==1')['churn'].count()\n",
    "\n",
    "plt.figure(figsize=(8, 8))\n",
    "plt.pie(churn_share.values, labels=churn_share.index, autopct='%.0f%%')\n",
    "plt.show() "
   ]
  },
  {
   "cell_type": "code",
   "execution_count": 23,
   "metadata": {},
   "outputs": [
    {
     "data": {
      "text/html": [
       "<div>\n",
       "<style scoped>\n",
       "    .dataframe tbody tr th:only-of-type {\n",
       "        vertical-align: middle;\n",
       "    }\n",
       "\n",
       "    .dataframe tbody tr th {\n",
       "        vertical-align: top;\n",
       "    }\n",
       "\n",
       "    .dataframe thead th {\n",
       "        text-align: right;\n",
       "    }\n",
       "</style>\n",
       "<table border=\"1\" class=\"dataframe\">\n",
       "  <thead>\n",
       "    <tr style=\"text-align: right;\">\n",
       "      <th>cluster</th>\n",
       "      <th>0</th>\n",
       "      <th>1</th>\n",
       "      <th>2</th>\n",
       "      <th>3</th>\n",
       "      <th>4</th>\n",
       "    </tr>\n",
       "  </thead>\n",
       "  <tbody>\n",
       "    <tr>\n",
       "      <th>gender</th>\n",
       "      <td>0.50</td>\n",
       "      <td>0.52</td>\n",
       "      <td>0.50</td>\n",
       "      <td>0.49</td>\n",
       "      <td>0.56</td>\n",
       "    </tr>\n",
       "    <tr>\n",
       "      <th>near_location</th>\n",
       "      <td>0.96</td>\n",
       "      <td>0.86</td>\n",
       "      <td>0.00</td>\n",
       "      <td>1.00</td>\n",
       "      <td>0.98</td>\n",
       "    </tr>\n",
       "    <tr>\n",
       "      <th>partner</th>\n",
       "      <td>0.78</td>\n",
       "      <td>0.47</td>\n",
       "      <td>0.46</td>\n",
       "      <td>0.35</td>\n",
       "      <td>0.36</td>\n",
       "    </tr>\n",
       "    <tr>\n",
       "      <th>promo_friends</th>\n",
       "      <td>0.57</td>\n",
       "      <td>0.31</td>\n",
       "      <td>0.08</td>\n",
       "      <td>0.24</td>\n",
       "      <td>0.23</td>\n",
       "    </tr>\n",
       "    <tr>\n",
       "      <th>phone</th>\n",
       "      <td>1.00</td>\n",
       "      <td>0.00</td>\n",
       "      <td>1.00</td>\n",
       "      <td>1.00</td>\n",
       "      <td>1.00</td>\n",
       "    </tr>\n",
       "    <tr>\n",
       "      <th>contract_period</th>\n",
       "      <td>10.89</td>\n",
       "      <td>4.79</td>\n",
       "      <td>2.35</td>\n",
       "      <td>1.95</td>\n",
       "      <td>2.67</td>\n",
       "    </tr>\n",
       "    <tr>\n",
       "      <th>group_visits</th>\n",
       "      <td>0.54</td>\n",
       "      <td>0.43</td>\n",
       "      <td>0.22</td>\n",
       "      <td>0.34</td>\n",
       "      <td>0.47</td>\n",
       "    </tr>\n",
       "    <tr>\n",
       "      <th>age</th>\n",
       "      <td>29.98</td>\n",
       "      <td>29.30</td>\n",
       "      <td>28.48</td>\n",
       "      <td>28.17</td>\n",
       "      <td>30.13</td>\n",
       "    </tr>\n",
       "    <tr>\n",
       "      <th>avg_additional_charges_total</th>\n",
       "      <td>160.76</td>\n",
       "      <td>143.96</td>\n",
       "      <td>135.46</td>\n",
       "      <td>131.62</td>\n",
       "      <td>161.66</td>\n",
       "    </tr>\n",
       "    <tr>\n",
       "      <th>month_to_end_contract</th>\n",
       "      <td>9.95</td>\n",
       "      <td>4.48</td>\n",
       "      <td>2.20</td>\n",
       "      <td>1.86</td>\n",
       "      <td>2.46</td>\n",
       "    </tr>\n",
       "    <tr>\n",
       "      <th>lifetime</th>\n",
       "      <td>4.74</td>\n",
       "      <td>3.92</td>\n",
       "      <td>2.81</td>\n",
       "      <td>2.44</td>\n",
       "      <td>4.90</td>\n",
       "    </tr>\n",
       "    <tr>\n",
       "      <th>avg_class_frequency_total</th>\n",
       "      <td>1.98</td>\n",
       "      <td>1.85</td>\n",
       "      <td>1.66</td>\n",
       "      <td>1.25</td>\n",
       "      <td>2.85</td>\n",
       "    </tr>\n",
       "    <tr>\n",
       "      <th>avg_class_frequency_current_month</th>\n",
       "      <td>1.97</td>\n",
       "      <td>1.72</td>\n",
       "      <td>1.48</td>\n",
       "      <td>1.01</td>\n",
       "      <td>2.85</td>\n",
       "    </tr>\n",
       "    <tr>\n",
       "      <th>churn</th>\n",
       "      <td>0.03</td>\n",
       "      <td>0.27</td>\n",
       "      <td>0.44</td>\n",
       "      <td>0.51</td>\n",
       "      <td>0.07</td>\n",
       "    </tr>\n",
       "  </tbody>\n",
       "</table>\n",
       "</div>"
      ],
      "text/plain": [
       "cluster                                 0       1       2       3       4\n",
       "gender                               0.50    0.52    0.50    0.49    0.56\n",
       "near_location                        0.96    0.86    0.00    1.00    0.98\n",
       "partner                              0.78    0.47    0.46    0.35    0.36\n",
       "promo_friends                        0.57    0.31    0.08    0.24    0.23\n",
       "phone                                1.00    0.00    1.00    1.00    1.00\n",
       "contract_period                     10.89    4.79    2.35    1.95    2.67\n",
       "group_visits                         0.54    0.43    0.22    0.34    0.47\n",
       "age                                 29.98   29.30   28.48   28.17   30.13\n",
       "avg_additional_charges_total       160.76  143.96  135.46  131.62  161.66\n",
       "month_to_end_contract                9.95    4.48    2.20    1.86    2.46\n",
       "lifetime                             4.74    3.92    2.81    2.44    4.90\n",
       "avg_class_frequency_total            1.98    1.85    1.66    1.25    2.85\n",
       "avg_class_frequency_current_month    1.97    1.72    1.48    1.01    2.85\n",
       "churn                                0.03    0.27    0.44    0.51    0.07"
      ]
     },
     "execution_count": 23,
     "metadata": {},
     "output_type": "execute_result"
    }
   ],
   "source": [
    "round(data.groupby('cluster').mean(), 2).T"
   ]
  },
  {
   "cell_type": "markdown",
   "metadata": {},
   "source": [
    "Во всех кластерах практически одинаковое количество мужчин и женщин, возраст примерно одинаковый.\n",
    "\n",
    "Наименьший отток в кластерах 0 и 4.\n",
    "\n",
    "Никто из кластера 2 не проживает рядом с фитнес-центром.\n",
    "\n",
    "В кластер 0 попали следующие клиенты:\n",
    "\n",
    "    живут рядом с фитнес - центром;\n",
    "    сотрудники компаний-партнеров;\n",
    "    имеют годовые абонементы;\n",
    "    много тратят на дополнительные услуги\n",
    "    посещают занятия в среднем дважды в неделю;\n",
    "    чаще посещающие групповые занятия.\n",
    "\n",
    "В кластер 0 попали те, кто наиболее заинтересован в систематических тренировках, целенаправленно посещает фитнес-центр.\n",
    "\n",
    "Кластер 1:\n",
    "\n",
    "    живут рядом с фитнес - центром;\n",
    "    срок абонемента в среднем примерно 5 месяцев;\n",
    "    меньше сотрудников компаний-партнеров, участников акции \"приведи друга\";\n",
    "    реже посещающие групповые занятия;\n",
    "    меньше показатель посещаемости (в том числе групповых занятий);\n",
    "    достаточно высокая доля оттока.\n",
    "\n",
    "В целом кластер 1 схож по характеристикам с кластером 0, но можно отметить меньшую заинтересованность в услугах центра\n",
    "либо желание сэкономить (абонемент на меньший период, меньше затраты на дополнительные услуги, большой, но не самый высокий отток).\n",
    "\n",
    "Кластер 2:\n",
    "\n",
    "    живут далеко;\n",
    "    значительная доля сотрудников компаний-партнеров;\n",
    "    почти нет участников акции \"приведи друга\";\n",
    "    короткие абонементы;\n",
    "    наименьший показатель по групповым занятиям;\n",
    "    реже 2 раз в неделю посещают занятия;\n",
    "    высокая доля оттока.\n",
    "\n",
    "Можно предположить, что в кластер 2 попали те, кто решил попровать пользоваться услугами фитнес-центра по партнерской программе,\n",
    "чтобы сэкономить, но намерений систематически тренироваться не имеет (в том числе по причине удаленности центра).\n",
    "\n",
    "Кластер 3:\n",
    "\n",
    "    живут рядом;\n",
    "    краткосрочные абонементы;\n",
    "    низкая посещаемость;\n",
    "    самая высокая доля оттока.\n",
    "    \n",
    "Характеристики кластера 3 схожи с кластером 2, разница - близость проживания. Можно предположить, что это те, кто решил\n",
    "воспользоваться фитнес-центром поблизости, чтобы попробовать тренировки или без намерений систематического посещения.\n",
    "    \n",
    "Кластер 4:\n",
    "\n",
    "Имеет незначительный отток. Схож с кластером 0, разница - меньшая доля сотрудников компаний-партнеров, участников \"приведи друга\", небольшой срок абонемента. При этом попавшие в кластер чаще посещают центр."
   ]
  },
  {
   "cell_type": "markdown",
   "metadata": {},
   "source": [
    "#### Шаг 5. Выводы и базовые рекомендации по работе с клиентами."
   ]
  },
  {
   "cell_type": "markdown",
   "metadata": {},
   "source": [
    "В ходе исследования проведен анализ данных посетителей фитнес-центра. При этом построены модели прогнозирования оттока клиентов при помощи моделей логичестическая регрессия и случайный лес. По показателям метрик accurancy, precision и recall можно сказать, что обе модели хорошо показывают себя в прогнозировании оттока. При этом лучше метрики показывает логистическая регрессия.\n",
    "\n",
    "Проведена кластеризация посетителей, которые разделены на 5 кластеров, что позволило разделить клиентов по лояльности. Сформированы типичные портреты посетителей, выделены наиболее яркие группы и их характеристики. Выделены признаки, влияющие на отток.\n",
    "\n",
    "Рекомендации:\n",
    "\n",
    "В любом случае целевая аудитория фитнес-центра - те, кто живет рядом. На них следует сосредоточить усилия.\n",
    "\n",
    "Наименьший отток - у пользователей годовых абонементов. Таким образом, следует создать заинтересованность (цена, дополнительные опции) в приобретении годовых контрактов.\n",
    "\n",
    "В кластере 0 наименьший отток и самая высокий показатель пользователей партнерских программ и акции \"приведи друга\". Можно также  рекомендовать расширить сеть партнеров, найти дополнительные каналы распространения информации среди работников имеющихся партнеров. С учетом коэффициента корреляции (0,45) между partner и promo_friends и средних значений признаков для кластеров, можно предположить, что акция имеет неплохое распространение внутри компаний-партнеров."
   ]
  },
  {
   "cell_type": "markdown",
   "metadata": {},
   "source": [
    "<div style=\"border:solid Chocolate 2px; padding: 40px\">\n",
    "\n",
    "**Общий вывод по проверке**\n",
    "\n",
    "Спасибо за отличную работу. Критичных комментариев нет. Думаю, такой проект можно смело принимать с первого раза.\n",
    "    \n",
    "Если что-то пропустил или остались вопросы, оставляю для обратной связи телеграм @kriill\n",
    "\n",
    "Желаю удачи в дальнейшей учебе!\n",
    "\n",
    "</div>"
   ]
  },
  {
   "cell_type": "code",
   "execution_count": null,
   "metadata": {},
   "outputs": [],
   "source": []
  }
 ],
 "metadata": {
  "ExecuteTimeLog": [
   {
    "duration": 1571,
    "start_time": "2025-04-06T06:38:58.511Z"
   },
   {
    "duration": 92,
    "start_time": "2025-04-06T06:44:15.692Z"
   },
   {
    "duration": 4,
    "start_time": "2025-04-06T06:44:27.512Z"
   },
   {
    "duration": 72,
    "start_time": "2025-04-06T06:44:27.517Z"
   },
   {
    "duration": 5,
    "start_time": "2025-04-06T06:47:17.027Z"
   },
   {
    "duration": 80,
    "start_time": "2025-04-06T06:47:17.033Z"
   },
   {
    "duration": 4,
    "start_time": "2025-04-06T06:47:32.162Z"
   },
   {
    "duration": 86,
    "start_time": "2025-04-06T06:47:32.168Z"
   },
   {
    "duration": 117,
    "start_time": "2025-04-06T06:47:42.570Z"
   },
   {
    "duration": 0,
    "start_time": "2025-04-06T06:47:42.689Z"
   },
   {
    "duration": 4,
    "start_time": "2025-04-06T06:47:53.648Z"
   },
   {
    "duration": 167,
    "start_time": "2025-04-06T06:47:53.654Z"
   },
   {
    "duration": 4,
    "start_time": "2025-04-06T06:48:12.415Z"
   },
   {
    "duration": 77,
    "start_time": "2025-04-06T06:48:12.421Z"
   },
   {
    "duration": 10,
    "start_time": "2025-04-06T06:53:13.153Z"
   },
   {
    "duration": 10,
    "start_time": "2025-04-06T06:53:32.356Z"
   },
   {
    "duration": 12,
    "start_time": "2025-04-06T06:53:42.223Z"
   },
   {
    "duration": 11,
    "start_time": "2025-04-06T06:53:57.353Z"
   },
   {
    "duration": 12,
    "start_time": "2025-04-06T06:54:13.657Z"
   },
   {
    "duration": 5,
    "start_time": "2025-04-06T06:55:23.003Z"
   },
   {
    "duration": 98,
    "start_time": "2025-04-06T06:55:23.010Z"
   },
   {
    "duration": 12,
    "start_time": "2025-04-06T06:55:23.110Z"
   },
   {
    "duration": 10,
    "start_time": "2025-04-06T06:55:45.613Z"
   },
   {
    "duration": 10,
    "start_time": "2025-04-06T06:55:56.451Z"
   },
   {
    "duration": 11,
    "start_time": "2025-04-06T06:57:44.975Z"
   },
   {
    "duration": 12,
    "start_time": "2025-04-06T06:57:59.718Z"
   },
   {
    "duration": 10,
    "start_time": "2025-04-06T06:58:18.337Z"
   },
   {
    "duration": 4,
    "start_time": "2025-04-06T06:58:40.369Z"
   },
   {
    "duration": 97,
    "start_time": "2025-04-06T06:58:40.375Z"
   },
   {
    "duration": 13,
    "start_time": "2025-04-06T06:58:40.474Z"
   },
   {
    "duration": 4,
    "start_time": "2025-04-06T07:00:47.181Z"
   },
   {
    "duration": 84,
    "start_time": "2025-04-06T07:00:47.187Z"
   },
   {
    "duration": 11,
    "start_time": "2025-04-06T07:00:47.273Z"
   },
   {
    "duration": 11,
    "start_time": "2025-04-06T07:01:50.621Z"
   },
   {
    "duration": 12,
    "start_time": "2025-04-06T07:01:50.758Z"
   },
   {
    "duration": 4,
    "start_time": "2025-04-06T07:01:53.087Z"
   },
   {
    "duration": 71,
    "start_time": "2025-04-06T07:01:53.092Z"
   },
   {
    "duration": 11,
    "start_time": "2025-04-06T07:01:53.165Z"
   },
   {
    "duration": 13,
    "start_time": "2025-04-06T07:02:03.078Z"
   },
   {
    "duration": 4,
    "start_time": "2025-04-06T07:03:49.874Z"
   },
   {
    "duration": 71,
    "start_time": "2025-04-06T07:03:49.879Z"
   },
   {
    "duration": 12,
    "start_time": "2025-04-06T07:03:49.952Z"
   },
   {
    "duration": 12,
    "start_time": "2025-04-06T07:04:09.052Z"
   },
   {
    "duration": 3,
    "start_time": "2025-04-06T07:04:46.168Z"
   },
   {
    "duration": 77,
    "start_time": "2025-04-06T07:04:46.173Z"
   },
   {
    "duration": 12,
    "start_time": "2025-04-06T07:04:46.252Z"
   },
   {
    "duration": 4,
    "start_time": "2025-04-06T07:05:31.075Z"
   },
   {
    "duration": 74,
    "start_time": "2025-04-06T07:05:31.081Z"
   },
   {
    "duration": 12,
    "start_time": "2025-04-06T07:05:31.157Z"
   },
   {
    "duration": 17,
    "start_time": "2025-04-06T07:07:46.567Z"
   },
   {
    "duration": 16,
    "start_time": "2025-04-06T07:08:07.058Z"
   },
   {
    "duration": 15,
    "start_time": "2025-04-06T07:08:18.616Z"
   },
   {
    "duration": 2,
    "start_time": "2025-04-06T07:13:39.217Z"
   },
   {
    "duration": 4,
    "start_time": "2025-04-06T07:14:02.860Z"
   },
   {
    "duration": 107,
    "start_time": "2025-04-06T07:14:02.867Z"
   },
   {
    "duration": 71,
    "start_time": "2025-04-06T07:14:02.975Z"
   },
   {
    "duration": 16,
    "start_time": "2025-04-06T07:14:03.048Z"
   },
   {
    "duration": 20,
    "start_time": "2025-04-06T07:14:33.377Z"
   },
   {
    "duration": 42,
    "start_time": "2025-04-06T07:14:45.300Z"
   },
   {
    "duration": 4,
    "start_time": "2025-04-06T07:15:08.567Z"
   },
   {
    "duration": 43,
    "start_time": "2025-04-06T07:15:08.573Z"
   },
   {
    "duration": 19,
    "start_time": "2025-04-06T07:15:08.618Z"
   },
   {
    "duration": 14,
    "start_time": "2025-04-06T07:15:08.639Z"
   },
   {
    "duration": 42,
    "start_time": "2025-04-06T07:15:08.654Z"
   },
   {
    "duration": 4,
    "start_time": "2025-04-06T08:08:12.873Z"
   },
   {
    "duration": 21,
    "start_time": "2025-04-06T08:08:13.243Z"
   },
   {
    "duration": 20,
    "start_time": "2025-04-06T08:08:43.737Z"
   },
   {
    "duration": 559,
    "start_time": "2025-04-06T08:10:02.238Z"
   },
   {
    "duration": 6,
    "start_time": "2025-04-06T08:10:16.730Z"
   },
   {
    "duration": 24,
    "start_time": "2025-04-06T08:10:16.739Z"
   },
   {
    "duration": 22,
    "start_time": "2025-04-06T08:10:16.764Z"
   },
   {
    "duration": 29,
    "start_time": "2025-04-06T08:10:16.787Z"
   },
   {
    "duration": 44,
    "start_time": "2025-04-06T08:10:16.819Z"
   },
   {
    "duration": 498,
    "start_time": "2025-04-06T08:10:16.865Z"
   },
   {
    "duration": 2251,
    "start_time": "2025-04-06T08:11:52.498Z"
   },
   {
    "duration": 19,
    "start_time": "2025-04-06T08:12:47.656Z"
   },
   {
    "duration": 44,
    "start_time": "2025-04-06T08:13:03.818Z"
   },
   {
    "duration": 2126,
    "start_time": "2025-04-06T08:13:12.398Z"
   },
   {
    "duration": 2574,
    "start_time": "2025-04-06T08:13:32.458Z"
   },
   {
    "duration": 2231,
    "start_time": "2025-04-06T08:13:52.559Z"
   },
   {
    "duration": 2248,
    "start_time": "2025-04-06T08:15:10.778Z"
   },
   {
    "duration": 15,
    "start_time": "2025-04-06T08:21:20.735Z"
   },
   {
    "duration": 4,
    "start_time": "2025-04-06T08:21:29.099Z"
   },
   {
    "duration": 37,
    "start_time": "2025-04-06T08:21:29.105Z"
   },
   {
    "duration": 20,
    "start_time": "2025-04-06T08:21:29.144Z"
   },
   {
    "duration": 28,
    "start_time": "2025-04-06T08:21:29.166Z"
   },
   {
    "duration": 45,
    "start_time": "2025-04-06T08:21:29.195Z"
   },
   {
    "duration": 2101,
    "start_time": "2025-04-06T08:21:29.241Z"
   },
   {
    "duration": 4,
    "start_time": "2025-04-06T08:24:03.779Z"
   },
   {
    "duration": 196,
    "start_time": "2025-04-06T08:24:03.786Z"
   },
   {
    "duration": 27,
    "start_time": "2025-04-06T08:24:03.984Z"
   },
   {
    "duration": 19,
    "start_time": "2025-04-06T08:24:04.013Z"
   },
   {
    "duration": 191,
    "start_time": "2025-04-06T08:24:04.034Z"
   },
   {
    "duration": 2212,
    "start_time": "2025-04-06T08:24:04.227Z"
   },
   {
    "duration": 4,
    "start_time": "2025-04-06T08:26:34.804Z"
   },
   {
    "duration": 50,
    "start_time": "2025-04-06T08:26:34.810Z"
   },
   {
    "duration": 21,
    "start_time": "2025-04-06T08:26:34.862Z"
   },
   {
    "duration": 21,
    "start_time": "2025-04-06T08:26:34.884Z"
   },
   {
    "duration": 27,
    "start_time": "2025-04-06T08:26:34.907Z"
   },
   {
    "duration": 2274,
    "start_time": "2025-04-06T08:26:34.936Z"
   },
   {
    "duration": 4,
    "start_time": "2025-04-06T08:32:30.239Z"
   },
   {
    "duration": 46,
    "start_time": "2025-04-06T08:32:30.245Z"
   },
   {
    "duration": 90,
    "start_time": "2025-04-06T08:32:30.292Z"
   },
   {
    "duration": 43,
    "start_time": "2025-04-06T08:32:30.383Z"
   },
   {
    "duration": 37,
    "start_time": "2025-04-06T08:32:30.428Z"
   },
   {
    "duration": 35,
    "start_time": "2025-04-06T08:32:30.466Z"
   },
   {
    "duration": 0,
    "start_time": "2025-04-06T08:32:30.503Z"
   },
   {
    "duration": 5,
    "start_time": "2025-04-06T08:33:25.419Z"
   },
   {
    "duration": 3,
    "start_time": "2025-04-06T08:33:57.905Z"
   },
   {
    "duration": 18,
    "start_time": "2025-04-06T08:34:16.064Z"
   },
   {
    "duration": 27,
    "start_time": "2025-04-06T08:41:44.275Z"
   },
   {
    "duration": 13,
    "start_time": "2025-04-06T08:42:08.219Z"
   },
   {
    "duration": 18,
    "start_time": "2025-04-06T08:45:28.496Z"
   },
   {
    "duration": 4,
    "start_time": "2025-04-06T08:45:49.328Z"
   },
   {
    "duration": 25,
    "start_time": "2025-04-06T08:45:49.334Z"
   },
   {
    "duration": 24,
    "start_time": "2025-04-06T08:45:49.362Z"
   },
   {
    "duration": 26,
    "start_time": "2025-04-06T08:45:49.388Z"
   },
   {
    "duration": 37,
    "start_time": "2025-04-06T08:45:49.417Z"
   },
   {
    "duration": 33,
    "start_time": "2025-04-06T08:45:49.456Z"
   },
   {
    "duration": 2073,
    "start_time": "2025-04-06T08:45:49.491Z"
   },
   {
    "duration": 20,
    "start_time": "2025-04-06T08:46:31.075Z"
   },
   {
    "duration": 14,
    "start_time": "2025-04-06T08:50:56.728Z"
   },
   {
    "duration": 1936,
    "start_time": "2025-04-07T16:21:26.795Z"
   },
   {
    "duration": 37,
    "start_time": "2025-04-07T16:21:28.733Z"
   },
   {
    "duration": 27,
    "start_time": "2025-04-07T16:21:28.772Z"
   },
   {
    "duration": 22,
    "start_time": "2025-04-07T16:21:28.801Z"
   },
   {
    "duration": 47,
    "start_time": "2025-04-07T16:21:28.825Z"
   },
   {
    "duration": 14,
    "start_time": "2025-04-07T16:21:28.874Z"
   },
   {
    "duration": 287,
    "start_time": "2025-04-07T16:21:28.889Z"
   },
   {
    "duration": 0,
    "start_time": "2025-04-07T16:21:29.177Z"
   },
   {
    "duration": 1265,
    "start_time": "2025-04-07T16:25:04.364Z"
   },
   {
    "duration": 1700,
    "start_time": "2025-04-07T16:25:47.736Z"
   },
   {
    "duration": 14,
    "start_time": "2025-04-07T16:34:05.051Z"
   },
   {
    "duration": 3628,
    "start_time": "2025-04-07T16:34:12.547Z"
   },
   {
    "duration": 3898,
    "start_time": "2025-04-07T16:34:40.416Z"
   },
   {
    "duration": 139,
    "start_time": "2025-04-07T16:38:06.630Z"
   },
   {
    "duration": 3896,
    "start_time": "2025-04-07T16:38:16.853Z"
   },
   {
    "duration": 3899,
    "start_time": "2025-04-07T16:41:42.784Z"
   },
   {
    "duration": 19,
    "start_time": "2025-04-07T16:41:57.216Z"
   },
   {
    "duration": 4,
    "start_time": "2025-04-07T16:42:01.208Z"
   },
   {
    "duration": 39,
    "start_time": "2025-04-07T16:42:01.214Z"
   },
   {
    "duration": 20,
    "start_time": "2025-04-07T16:42:01.255Z"
   },
   {
    "duration": 20,
    "start_time": "2025-04-07T16:42:01.277Z"
   },
   {
    "duration": 58,
    "start_time": "2025-04-07T16:42:01.299Z"
   },
   {
    "duration": 13,
    "start_time": "2025-04-07T16:42:01.359Z"
   },
   {
    "duration": 3862,
    "start_time": "2025-04-07T16:42:01.373Z"
   },
   {
    "duration": 2314,
    "start_time": "2025-04-07T16:42:05.237Z"
   },
   {
    "duration": 4138,
    "start_time": "2025-04-07T16:43:07.628Z"
   },
   {
    "duration": 289,
    "start_time": "2025-04-07T16:45:25.205Z"
   },
   {
    "duration": 289,
    "start_time": "2025-04-07T16:45:36.288Z"
   },
   {
    "duration": 3901,
    "start_time": "2025-04-07T16:46:35.477Z"
   },
   {
    "duration": 14,
    "start_time": "2025-04-07T16:48:19.309Z"
   },
   {
    "duration": 4088,
    "start_time": "2025-04-07T16:48:42.931Z"
   },
   {
    "duration": 3979,
    "start_time": "2025-04-07T16:49:46.651Z"
   },
   {
    "duration": 4014,
    "start_time": "2025-04-07T16:50:30.253Z"
   },
   {
    "duration": 4050,
    "start_time": "2025-04-07T16:50:53.041Z"
   },
   {
    "duration": 4141,
    "start_time": "2025-04-07T16:51:39.724Z"
   },
   {
    "duration": 5,
    "start_time": "2025-04-07T16:53:18.504Z"
   },
   {
    "duration": 49,
    "start_time": "2025-04-07T16:53:18.512Z"
   },
   {
    "duration": 24,
    "start_time": "2025-04-07T16:53:18.562Z"
   },
   {
    "duration": 22,
    "start_time": "2025-04-07T16:53:18.588Z"
   },
   {
    "duration": 49,
    "start_time": "2025-04-07T16:53:18.612Z"
   },
   {
    "duration": 13,
    "start_time": "2025-04-07T16:53:18.663Z"
   },
   {
    "duration": 4466,
    "start_time": "2025-04-07T16:53:18.677Z"
   },
   {
    "duration": 2381,
    "start_time": "2025-04-07T16:53:23.146Z"
   },
   {
    "duration": 11,
    "start_time": "2025-04-07T16:54:39.073Z"
   },
   {
    "duration": 0,
    "start_time": "2025-04-07T16:54:39.086Z"
   },
   {
    "duration": 0,
    "start_time": "2025-04-07T16:54:39.087Z"
   },
   {
    "duration": 0,
    "start_time": "2025-04-07T16:54:39.089Z"
   },
   {
    "duration": 0,
    "start_time": "2025-04-07T16:54:39.090Z"
   },
   {
    "duration": 0,
    "start_time": "2025-04-07T16:54:39.091Z"
   },
   {
    "duration": 0,
    "start_time": "2025-04-07T16:54:39.092Z"
   },
   {
    "duration": 0,
    "start_time": "2025-04-07T16:54:39.094Z"
   },
   {
    "duration": 4,
    "start_time": "2025-04-07T16:55:50.573Z"
   },
   {
    "duration": 23,
    "start_time": "2025-04-07T16:55:50.580Z"
   },
   {
    "duration": 23,
    "start_time": "2025-04-07T16:55:50.605Z"
   },
   {
    "duration": 35,
    "start_time": "2025-04-07T16:55:50.630Z"
   },
   {
    "duration": 34,
    "start_time": "2025-04-07T16:55:50.667Z"
   },
   {
    "duration": 28,
    "start_time": "2025-04-07T16:55:50.704Z"
   },
   {
    "duration": 4348,
    "start_time": "2025-04-07T16:55:50.734Z"
   },
   {
    "duration": 2392,
    "start_time": "2025-04-07T16:55:55.084Z"
   },
   {
    "duration": 19,
    "start_time": "2025-04-07T17:06:01.696Z"
   },
   {
    "duration": 27,
    "start_time": "2025-04-07T17:07:22.433Z"
   },
   {
    "duration": 23,
    "start_time": "2025-04-07T17:12:00.888Z"
   },
   {
    "duration": 7,
    "start_time": "2025-04-07T17:23:54.725Z"
   },
   {
    "duration": 5,
    "start_time": "2025-04-07T17:24:23.389Z"
   },
   {
    "duration": 26,
    "start_time": "2025-04-07T17:25:12.335Z"
   },
   {
    "duration": 13,
    "start_time": "2025-04-07T17:25:28.014Z"
   },
   {
    "duration": 18,
    "start_time": "2025-04-07T17:26:05.992Z"
   },
   {
    "duration": 9,
    "start_time": "2025-04-07T17:27:31.973Z"
   },
   {
    "duration": 11,
    "start_time": "2025-04-07T17:27:39.153Z"
   },
   {
    "duration": 20,
    "start_time": "2025-04-07T17:28:43.581Z"
   },
   {
    "duration": 78,
    "start_time": "2025-04-07T17:29:41.308Z"
   },
   {
    "duration": 21,
    "start_time": "2025-04-07T17:47:41.283Z"
   },
   {
    "duration": 21,
    "start_time": "2025-04-07T17:47:55.032Z"
   },
   {
    "duration": 14,
    "start_time": "2025-04-07T17:48:34.384Z"
   },
   {
    "duration": 19,
    "start_time": "2025-04-07T17:48:42.071Z"
   },
   {
    "duration": 4,
    "start_time": "2025-04-07T17:49:08.126Z"
   },
   {
    "duration": 5,
    "start_time": "2025-04-07T17:49:31.652Z"
   },
   {
    "duration": 18,
    "start_time": "2025-04-07T17:49:55.303Z"
   },
   {
    "duration": 17,
    "start_time": "2025-04-07T17:53:14.294Z"
   },
   {
    "duration": 8,
    "start_time": "2025-04-07T17:54:36.489Z"
   },
   {
    "duration": 9,
    "start_time": "2025-04-07T17:54:45.377Z"
   },
   {
    "duration": 163,
    "start_time": "2025-04-07T17:55:09.774Z"
   },
   {
    "duration": 5,
    "start_time": "2025-04-07T17:57:08.209Z"
   },
   {
    "duration": 25,
    "start_time": "2025-04-07T17:57:41.575Z"
   },
   {
    "duration": 13,
    "start_time": "2025-04-07T17:59:21.585Z"
   },
   {
    "duration": 18,
    "start_time": "2025-04-07T17:59:29.727Z"
   },
   {
    "duration": 11,
    "start_time": "2025-04-07T18:00:24.472Z"
   },
   {
    "duration": 5,
    "start_time": "2025-04-07T18:00:29.281Z"
   },
   {
    "duration": 13,
    "start_time": "2025-04-07T18:00:49.309Z"
   },
   {
    "duration": 20,
    "start_time": "2025-04-07T18:03:17.584Z"
   },
   {
    "duration": 13,
    "start_time": "2025-04-07T18:03:35.262Z"
   },
   {
    "duration": 19,
    "start_time": "2025-04-07T18:03:46.590Z"
   },
   {
    "duration": 13,
    "start_time": "2025-04-07T18:03:55.300Z"
   },
   {
    "duration": 11,
    "start_time": "2025-04-07T18:04:17.077Z"
   },
   {
    "duration": 5,
    "start_time": "2025-04-07T18:04:45.425Z"
   },
   {
    "duration": 19,
    "start_time": "2025-04-07T18:05:01.309Z"
   },
   {
    "duration": 7,
    "start_time": "2025-04-07T18:05:14.182Z"
   },
   {
    "duration": 37,
    "start_time": "2025-04-07T18:05:14.191Z"
   },
   {
    "duration": 35,
    "start_time": "2025-04-07T18:05:14.231Z"
   },
   {
    "duration": 23,
    "start_time": "2025-04-07T18:05:14.268Z"
   },
   {
    "duration": 33,
    "start_time": "2025-04-07T18:05:14.294Z"
   },
   {
    "duration": 20,
    "start_time": "2025-04-07T18:05:14.340Z"
   },
   {
    "duration": 13,
    "start_time": "2025-04-07T18:05:14.362Z"
   },
   {
    "duration": 4,
    "start_time": "2025-04-07T18:05:14.377Z"
   },
   {
    "duration": 19,
    "start_time": "2025-04-07T18:05:14.383Z"
   },
   {
    "duration": 0,
    "start_time": "2025-04-07T18:05:14.439Z"
   },
   {
    "duration": 0,
    "start_time": "2025-04-07T18:05:14.440Z"
   },
   {
    "duration": 16,
    "start_time": "2025-04-07T18:06:44.703Z"
   },
   {
    "duration": 16,
    "start_time": "2025-04-07T18:07:15.452Z"
   },
   {
    "duration": 18,
    "start_time": "2025-04-07T18:07:32.301Z"
   },
   {
    "duration": 16,
    "start_time": "2025-04-07T18:07:57.247Z"
   },
   {
    "duration": 4183,
    "start_time": "2025-04-07T18:08:15.188Z"
   },
   {
    "duration": 4366,
    "start_time": "2025-04-07T18:11:34.185Z"
   },
   {
    "duration": 4838,
    "start_time": "2025-04-07T18:11:56.806Z"
   },
   {
    "duration": 4651,
    "start_time": "2025-04-07T18:12:03.537Z"
   },
   {
    "duration": 4707,
    "start_time": "2025-04-07T18:14:43.707Z"
   },
   {
    "duration": 54,
    "start_time": "2025-04-08T16:10:40.591Z"
   },
   {
    "duration": 1747,
    "start_time": "2025-04-08T16:10:45.265Z"
   },
   {
    "duration": 28,
    "start_time": "2025-04-08T16:10:47.015Z"
   },
   {
    "duration": 33,
    "start_time": "2025-04-08T16:10:47.045Z"
   },
   {
    "duration": 35,
    "start_time": "2025-04-08T16:10:47.079Z"
   },
   {
    "duration": 41,
    "start_time": "2025-04-08T16:10:47.117Z"
   },
   {
    "duration": 14,
    "start_time": "2025-04-08T16:10:47.159Z"
   },
   {
    "duration": 3565,
    "start_time": "2025-04-08T16:10:47.174Z"
   },
   {
    "duration": 2415,
    "start_time": "2025-04-08T16:10:50.741Z"
   },
   {
    "duration": 3585,
    "start_time": "2025-04-08T16:11:10.396Z"
   },
   {
    "duration": 23,
    "start_time": "2025-04-08T16:14:36.812Z"
   },
   {
    "duration": 532,
    "start_time": "2025-04-08T16:17:22.236Z"
   },
   {
    "duration": 567,
    "start_time": "2025-04-08T16:18:23.038Z"
   },
   {
    "duration": 4164,
    "start_time": "2025-04-08T16:19:17.197Z"
   },
   {
    "duration": 4089,
    "start_time": "2025-04-08T16:19:28.079Z"
   },
   {
    "duration": 4164,
    "start_time": "2025-04-08T16:19:35.657Z"
   },
   {
    "duration": 114,
    "start_time": "2025-04-08T16:20:10.337Z"
   },
   {
    "duration": 0,
    "start_time": "2025-04-08T16:20:10.453Z"
   },
   {
    "duration": 0,
    "start_time": "2025-04-08T16:20:10.454Z"
   },
   {
    "duration": 0,
    "start_time": "2025-04-08T16:20:10.455Z"
   },
   {
    "duration": 0,
    "start_time": "2025-04-08T16:20:10.456Z"
   },
   {
    "duration": 0,
    "start_time": "2025-04-08T16:20:10.457Z"
   },
   {
    "duration": 0,
    "start_time": "2025-04-08T16:20:10.458Z"
   },
   {
    "duration": 0,
    "start_time": "2025-04-08T16:20:10.459Z"
   },
   {
    "duration": 0,
    "start_time": "2025-04-08T16:20:10.460Z"
   },
   {
    "duration": 0,
    "start_time": "2025-04-08T16:20:10.461Z"
   },
   {
    "duration": 89,
    "start_time": "2025-04-08T16:20:35.692Z"
   },
   {
    "duration": 0,
    "start_time": "2025-04-08T16:20:35.783Z"
   },
   {
    "duration": 0,
    "start_time": "2025-04-08T16:20:35.784Z"
   },
   {
    "duration": 0,
    "start_time": "2025-04-08T16:20:35.785Z"
   },
   {
    "duration": 0,
    "start_time": "2025-04-08T16:20:35.786Z"
   },
   {
    "duration": 0,
    "start_time": "2025-04-08T16:20:35.787Z"
   },
   {
    "duration": 0,
    "start_time": "2025-04-08T16:20:35.788Z"
   },
   {
    "duration": 0,
    "start_time": "2025-04-08T16:20:35.790Z"
   },
   {
    "duration": 0,
    "start_time": "2025-04-08T16:20:35.791Z"
   },
   {
    "duration": 0,
    "start_time": "2025-04-08T16:20:35.792Z"
   },
   {
    "duration": 6,
    "start_time": "2025-04-08T16:20:50.905Z"
   },
   {
    "duration": 37,
    "start_time": "2025-04-08T16:20:50.913Z"
   },
   {
    "duration": 29,
    "start_time": "2025-04-08T16:20:50.953Z"
   },
   {
    "duration": 24,
    "start_time": "2025-04-08T16:20:50.984Z"
   },
   {
    "duration": 54,
    "start_time": "2025-04-08T16:20:51.011Z"
   },
   {
    "duration": 13,
    "start_time": "2025-04-08T16:20:51.067Z"
   },
   {
    "duration": 3969,
    "start_time": "2025-04-08T16:20:51.082Z"
   },
   {
    "duration": 23,
    "start_time": "2025-04-08T16:20:55.053Z"
   },
   {
    "duration": 596,
    "start_time": "2025-04-08T16:20:55.078Z"
   },
   {
    "duration": 2271,
    "start_time": "2025-04-08T16:20:55.676Z"
   },
   {
    "duration": 589,
    "start_time": "2025-04-08T16:21:15.327Z"
   },
   {
    "duration": 750,
    "start_time": "2025-04-08T16:21:24.895Z"
   },
   {
    "duration": 615,
    "start_time": "2025-04-08T16:21:38.265Z"
   },
   {
    "duration": 1143,
    "start_time": "2025-04-08T16:24:18.060Z"
   },
   {
    "duration": 3,
    "start_time": "2025-04-08T16:26:17.681Z"
   },
   {
    "duration": 77,
    "start_time": "2025-04-08T16:29:02.171Z"
   },
   {
    "duration": 93,
    "start_time": "2025-04-08T16:33:16.166Z"
   },
   {
    "duration": 5,
    "start_time": "2025-04-08T16:33:29.086Z"
   },
   {
    "duration": 14,
    "start_time": "2025-04-08T16:34:07.528Z"
   },
   {
    "duration": 8,
    "start_time": "2025-04-08T16:34:34.599Z"
   },
   {
    "duration": 16,
    "start_time": "2025-04-08T16:34:48.482Z"
   },
   {
    "duration": 589,
    "start_time": "2025-04-08T16:35:32.941Z"
   },
   {
    "duration": 9,
    "start_time": "2025-04-08T16:35:56.896Z"
   },
   {
    "duration": 10,
    "start_time": "2025-04-08T16:36:48.460Z"
   },
   {
    "duration": 6,
    "start_time": "2025-04-08T16:52:34.723Z"
   },
   {
    "duration": 53,
    "start_time": "2025-04-08T16:52:34.731Z"
   },
   {
    "duration": 20,
    "start_time": "2025-04-08T16:52:34.786Z"
   },
   {
    "duration": 21,
    "start_time": "2025-04-08T16:52:34.807Z"
   },
   {
    "duration": 44,
    "start_time": "2025-04-08T16:52:34.831Z"
   },
   {
    "duration": 13,
    "start_time": "2025-04-08T16:52:34.877Z"
   },
   {
    "duration": 4053,
    "start_time": "2025-04-08T16:52:34.892Z"
   },
   {
    "duration": 24,
    "start_time": "2025-04-08T16:52:38.946Z"
   },
   {
    "duration": 1164,
    "start_time": "2025-04-08T16:52:38.971Z"
   },
   {
    "duration": 5,
    "start_time": "2025-04-08T16:52:40.140Z"
   },
   {
    "duration": 42,
    "start_time": "2025-04-08T16:52:40.147Z"
   },
   {
    "duration": 31,
    "start_time": "2025-04-08T16:52:40.191Z"
   },
   {
    "duration": 620,
    "start_time": "2025-04-08T16:52:40.223Z"
   },
   {
    "duration": 10,
    "start_time": "2025-04-08T16:52:40.846Z"
   },
   {
    "duration": 10,
    "start_time": "2025-04-08T16:52:40.858Z"
   },
   {
    "duration": 1640,
    "start_time": "2025-04-08T16:58:34.943Z"
   },
   {
    "duration": 24,
    "start_time": "2025-04-08T16:58:36.585Z"
   },
   {
    "duration": 37,
    "start_time": "2025-04-08T16:58:36.610Z"
   },
   {
    "duration": 22,
    "start_time": "2025-04-08T16:58:36.648Z"
   },
   {
    "duration": 38,
    "start_time": "2025-04-08T16:58:36.673Z"
   },
   {
    "duration": 34,
    "start_time": "2025-04-08T16:58:36.713Z"
   },
   {
    "duration": 4001,
    "start_time": "2025-04-08T16:58:36.749Z"
   },
   {
    "duration": 22,
    "start_time": "2025-04-08T16:58:40.752Z"
   },
   {
    "duration": 1308,
    "start_time": "2025-04-08T16:58:40.776Z"
   },
   {
    "duration": 5,
    "start_time": "2025-04-08T16:58:42.085Z"
   },
   {
    "duration": 54,
    "start_time": "2025-04-08T16:58:42.092Z"
   },
   {
    "duration": 15,
    "start_time": "2025-04-08T16:58:42.148Z"
   },
   {
    "duration": 575,
    "start_time": "2025-04-08T16:58:42.165Z"
   },
   {
    "duration": 8,
    "start_time": "2025-04-08T16:58:42.743Z"
   },
   {
    "duration": 8,
    "start_time": "2025-04-08T16:58:42.753Z"
   },
   {
    "duration": 121692,
    "start_time": "2025-04-08T16:58:42.763Z"
   },
   {
    "duration": 47,
    "start_time": "2025-04-09T15:52:50.209Z"
   },
   {
    "duration": 1591,
    "start_time": "2025-04-09T15:53:02.945Z"
   },
   {
    "duration": 24,
    "start_time": "2025-04-09T15:53:04.538Z"
   },
   {
    "duration": 33,
    "start_time": "2025-04-09T15:53:04.564Z"
   },
   {
    "duration": 21,
    "start_time": "2025-04-09T15:53:04.599Z"
   },
   {
    "duration": 33,
    "start_time": "2025-04-09T15:53:04.622Z"
   },
   {
    "duration": 12,
    "start_time": "2025-04-09T15:53:04.657Z"
   },
   {
    "duration": 3729,
    "start_time": "2025-04-09T15:53:04.671Z"
   },
   {
    "duration": 23,
    "start_time": "2025-04-09T15:53:08.404Z"
   },
   {
    "duration": 1253,
    "start_time": "2025-04-09T15:53:08.428Z"
   },
   {
    "duration": 4,
    "start_time": "2025-04-09T15:53:09.683Z"
   },
   {
    "duration": 17,
    "start_time": "2025-04-09T15:53:09.689Z"
   },
   {
    "duration": 16,
    "start_time": "2025-04-09T15:53:09.708Z"
   },
   {
    "duration": 551,
    "start_time": "2025-04-09T15:53:09.726Z"
   },
   {
    "duration": 8,
    "start_time": "2025-04-09T15:53:10.280Z"
   },
   {
    "duration": 48,
    "start_time": "2025-04-09T15:53:10.290Z"
   },
   {
    "duration": 112465,
    "start_time": "2025-04-09T15:53:10.340Z"
   },
   {
    "duration": 1397,
    "start_time": "2025-04-09T15:55:02.807Z"
   },
   {
    "duration": 14,
    "start_time": "2025-04-09T15:55:51.050Z"
   },
   {
    "duration": 78,
    "start_time": "2025-04-09T15:56:16.007Z"
   },
   {
    "duration": 18,
    "start_time": "2025-04-09T15:56:21.829Z"
   },
   {
    "duration": 19,
    "start_time": "2025-04-09T15:56:42.549Z"
   },
   {
    "duration": 11,
    "start_time": "2025-04-09T15:57:09.745Z"
   },
   {
    "duration": 7,
    "start_time": "2025-04-09T15:57:50.312Z"
   },
   {
    "duration": 1084,
    "start_time": "2025-04-09T16:50:02.411Z"
   },
   {
    "duration": 5,
    "start_time": "2025-04-09T16:50:34.223Z"
   },
   {
    "duration": 35,
    "start_time": "2025-04-09T16:50:34.230Z"
   },
   {
    "duration": 29,
    "start_time": "2025-04-09T16:50:34.267Z"
   },
   {
    "duration": 20,
    "start_time": "2025-04-09T16:50:34.297Z"
   },
   {
    "duration": 129,
    "start_time": "2025-04-09T16:50:34.319Z"
   },
   {
    "duration": 93,
    "start_time": "2025-04-09T16:50:34.450Z"
   },
   {
    "duration": 3921,
    "start_time": "2025-04-09T16:50:34.544Z"
   },
   {
    "duration": 21,
    "start_time": "2025-04-09T16:50:38.466Z"
   },
   {
    "duration": 1060,
    "start_time": "2025-04-09T16:50:38.488Z"
   },
   {
    "duration": 4,
    "start_time": "2025-04-09T16:50:39.550Z"
   },
   {
    "duration": 26,
    "start_time": "2025-04-09T16:50:39.556Z"
   },
   {
    "duration": 23,
    "start_time": "2025-04-09T16:50:39.584Z"
   },
   {
    "duration": 555,
    "start_time": "2025-04-09T16:50:39.609Z"
   },
   {
    "duration": 8,
    "start_time": "2025-04-09T16:50:40.166Z"
   },
   {
    "duration": 8,
    "start_time": "2025-04-09T16:50:40.176Z"
   },
   {
    "duration": 115341,
    "start_time": "2025-04-09T16:50:40.185Z"
   },
   {
    "duration": 1380,
    "start_time": "2025-04-09T16:52:35.528Z"
   },
   {
    "duration": 102,
    "start_time": "2025-04-09T16:52:36.910Z"
   },
   {
    "duration": 35,
    "start_time": "2025-04-09T16:52:37.013Z"
   },
   {
    "duration": 8,
    "start_time": "2025-04-09T16:52:37.051Z"
   },
   {
    "duration": 1202,
    "start_time": "2025-04-09T16:52:37.062Z"
   },
   {
    "duration": 2527,
    "start_time": "2025-04-12T09:05:18.386Z"
   },
   {
    "duration": 75,
    "start_time": "2025-04-12T09:05:20.916Z"
   },
   {
    "duration": 25,
    "start_time": "2025-04-12T09:05:20.993Z"
   },
   {
    "duration": 24,
    "start_time": "2025-04-12T09:05:21.021Z"
   },
   {
    "duration": 72,
    "start_time": "2025-04-12T09:05:21.047Z"
   },
   {
    "duration": 47,
    "start_time": "2025-04-12T09:05:21.120Z"
   },
   {
    "duration": 3820,
    "start_time": "2025-04-12T09:05:21.168Z"
   },
   {
    "duration": 23,
    "start_time": "2025-04-12T09:05:24.990Z"
   },
   {
    "duration": 1246,
    "start_time": "2025-04-12T09:05:25.015Z"
   },
   {
    "duration": 5,
    "start_time": "2025-04-12T09:05:26.264Z"
   },
   {
    "duration": 8,
    "start_time": "2025-04-12T09:05:26.271Z"
   },
   {
    "duration": 19,
    "start_time": "2025-04-12T09:05:26.280Z"
   },
   {
    "duration": 617,
    "start_time": "2025-04-12T09:05:26.300Z"
   },
   {
    "duration": 18,
    "start_time": "2025-04-12T09:05:26.918Z"
   },
   {
    "duration": 9,
    "start_time": "2025-04-12T09:05:26.939Z"
   },
   {
    "duration": 115327,
    "start_time": "2025-04-12T09:05:26.950Z"
   },
   {
    "duration": 1460,
    "start_time": "2025-04-12T09:07:22.278Z"
   },
   {
    "duration": 13,
    "start_time": "2025-04-12T09:07:23.740Z"
   },
   {
    "duration": 36,
    "start_time": "2025-04-12T09:07:23.755Z"
   },
   {
    "duration": 7,
    "start_time": "2025-04-12T09:07:23.792Z"
   },
   {
    "duration": 6,
    "start_time": "2025-04-12T09:16:20.727Z"
   },
   {
    "duration": 187,
    "start_time": "2025-04-12T09:16:20.735Z"
   },
   {
    "duration": 20,
    "start_time": "2025-04-12T09:16:20.923Z"
   },
   {
    "duration": 19,
    "start_time": "2025-04-12T09:16:20.945Z"
   },
   {
    "duration": 31,
    "start_time": "2025-04-12T09:16:20.966Z"
   },
   {
    "duration": 45,
    "start_time": "2025-04-12T09:16:20.998Z"
   },
   {
    "duration": 3874,
    "start_time": "2025-04-12T09:16:21.045Z"
   },
   {
    "duration": 30,
    "start_time": "2025-04-12T09:16:24.921Z"
   },
   {
    "duration": 1009,
    "start_time": "2025-04-12T09:16:24.955Z"
   },
   {
    "duration": 5,
    "start_time": "2025-04-12T09:16:25.965Z"
   },
   {
    "duration": 129,
    "start_time": "2025-04-12T09:16:25.972Z"
   },
   {
    "duration": 23,
    "start_time": "2025-04-12T09:16:26.103Z"
   },
   {
    "duration": 588,
    "start_time": "2025-04-12T09:16:26.128Z"
   },
   {
    "duration": 9,
    "start_time": "2025-04-12T09:16:26.718Z"
   },
   {
    "duration": 10,
    "start_time": "2025-04-12T09:16:26.736Z"
   },
   {
    "duration": 113330,
    "start_time": "2025-04-12T09:16:26.748Z"
   },
   {
    "duration": 1759,
    "start_time": "2025-04-12T09:18:20.081Z"
   },
   {
    "duration": 106,
    "start_time": "2025-04-12T09:18:21.843Z"
   },
   {
    "duration": 53,
    "start_time": "2025-04-12T09:18:21.951Z"
   },
   {
    "duration": 64,
    "start_time": "2025-04-12T09:18:22.007Z"
   },
   {
    "duration": 6,
    "start_time": "2025-04-12T10:29:23.801Z"
   },
   {
    "duration": 48,
    "start_time": "2025-04-12T10:29:23.809Z"
   },
   {
    "duration": 20,
    "start_time": "2025-04-12T10:29:23.859Z"
   },
   {
    "duration": 27,
    "start_time": "2025-04-12T10:29:23.881Z"
   },
   {
    "duration": 33,
    "start_time": "2025-04-12T10:29:23.910Z"
   },
   {
    "duration": 11,
    "start_time": "2025-04-12T10:29:23.945Z"
   },
   {
    "duration": 3791,
    "start_time": "2025-04-12T10:29:23.957Z"
   },
   {
    "duration": 25,
    "start_time": "2025-04-12T10:29:27.750Z"
   },
   {
    "duration": 1041,
    "start_time": "2025-04-12T10:29:27.777Z"
   },
   {
    "duration": 5,
    "start_time": "2025-04-12T10:29:28.819Z"
   },
   {
    "duration": 16,
    "start_time": "2025-04-12T10:29:28.826Z"
   },
   {
    "duration": 14,
    "start_time": "2025-04-12T10:29:28.843Z"
   },
   {
    "duration": 540,
    "start_time": "2025-04-12T10:29:28.859Z"
   },
   {
    "duration": 9,
    "start_time": "2025-04-12T10:29:29.402Z"
   },
   {
    "duration": 8,
    "start_time": "2025-04-12T10:29:29.413Z"
   },
   {
    "duration": 108810,
    "start_time": "2025-04-12T10:29:29.437Z"
   },
   {
    "duration": 1396,
    "start_time": "2025-04-12T10:31:18.249Z"
   },
   {
    "duration": 14,
    "start_time": "2025-04-12T10:31:19.737Z"
   },
   {
    "duration": 41,
    "start_time": "2025-04-12T10:31:19.753Z"
   },
   {
    "duration": 6,
    "start_time": "2025-04-12T10:31:19.796Z"
   },
   {
    "duration": 14,
    "start_time": "2025-04-12T10:44:29.707Z"
   },
   {
    "duration": 1778,
    "start_time": "2025-04-12T17:54:40.710Z"
   },
   {
    "duration": 62,
    "start_time": "2025-04-12T17:54:42.490Z"
   },
   {
    "duration": 28,
    "start_time": "2025-04-12T17:54:42.554Z"
   },
   {
    "duration": 21,
    "start_time": "2025-04-12T17:54:42.584Z"
   },
   {
    "duration": 43,
    "start_time": "2025-04-12T17:54:42.607Z"
   },
   {
    "duration": 14,
    "start_time": "2025-04-12T17:54:42.651Z"
   },
   {
    "duration": 3988,
    "start_time": "2025-04-12T17:54:42.666Z"
   },
   {
    "duration": 22,
    "start_time": "2025-04-12T17:54:46.656Z"
   },
   {
    "duration": 1282,
    "start_time": "2025-04-12T17:54:46.680Z"
   },
   {
    "duration": 5,
    "start_time": "2025-04-12T17:54:47.964Z"
   },
   {
    "duration": 7,
    "start_time": "2025-04-12T17:54:47.970Z"
   },
   {
    "duration": 15,
    "start_time": "2025-04-12T17:54:47.978Z"
   },
   {
    "duration": 591,
    "start_time": "2025-04-12T17:54:47.995Z"
   },
   {
    "duration": 0,
    "start_time": "2025-04-12T17:54:48.588Z"
   },
   {
    "duration": 0,
    "start_time": "2025-04-12T17:54:48.590Z"
   },
   {
    "duration": 0,
    "start_time": "2025-04-12T17:54:48.591Z"
   },
   {
    "duration": 0,
    "start_time": "2025-04-12T17:54:48.592Z"
   },
   {
    "duration": 0,
    "start_time": "2025-04-12T17:54:48.593Z"
   },
   {
    "duration": 0,
    "start_time": "2025-04-12T17:54:48.595Z"
   },
   {
    "duration": 0,
    "start_time": "2025-04-12T17:54:48.595Z"
   },
   {
    "duration": 499,
    "start_time": "2025-04-12T17:57:41.281Z"
   },
   {
    "duration": 557,
    "start_time": "2025-04-12T17:58:28.570Z"
   },
   {
    "duration": 8,
    "start_time": "2025-04-12T17:58:34.722Z"
   },
   {
    "duration": 46,
    "start_time": "2025-04-12T17:58:34.733Z"
   },
   {
    "duration": 21,
    "start_time": "2025-04-12T17:58:34.781Z"
   },
   {
    "duration": 21,
    "start_time": "2025-04-12T17:58:34.803Z"
   },
   {
    "duration": 32,
    "start_time": "2025-04-12T17:58:34.827Z"
   },
   {
    "duration": 12,
    "start_time": "2025-04-12T17:58:34.861Z"
   },
   {
    "duration": 3967,
    "start_time": "2025-04-12T17:58:34.875Z"
   },
   {
    "duration": 23,
    "start_time": "2025-04-12T17:58:38.843Z"
   },
   {
    "duration": 1108,
    "start_time": "2025-04-12T17:58:38.868Z"
   },
   {
    "duration": 5,
    "start_time": "2025-04-12T17:58:39.978Z"
   },
   {
    "duration": 20,
    "start_time": "2025-04-12T17:58:39.985Z"
   },
   {
    "duration": 37,
    "start_time": "2025-04-12T17:58:40.007Z"
   },
   {
    "duration": 565,
    "start_time": "2025-04-12T17:58:40.046Z"
   },
   {
    "duration": 11,
    "start_time": "2025-04-12T17:58:40.614Z"
   },
   {
    "duration": 0,
    "start_time": "2025-04-12T17:58:40.637Z"
   },
   {
    "duration": 0,
    "start_time": "2025-04-12T17:58:40.638Z"
   },
   {
    "duration": 0,
    "start_time": "2025-04-12T17:58:40.639Z"
   },
   {
    "duration": 0,
    "start_time": "2025-04-12T17:58:40.640Z"
   },
   {
    "duration": 0,
    "start_time": "2025-04-12T17:58:40.642Z"
   },
   {
    "duration": 0,
    "start_time": "2025-04-12T17:58:40.643Z"
   },
   {
    "duration": 540,
    "start_time": "2025-04-12T18:11:40.879Z"
   },
   {
    "duration": 129,
    "start_time": "2025-04-12T18:11:41.421Z"
   },
   {
    "duration": 88,
    "start_time": "2025-04-12T18:11:58.379Z"
   },
   {
    "duration": 4,
    "start_time": "2025-04-12T18:12:05.849Z"
   },
   {
    "duration": 15,
    "start_time": "2025-04-12T18:12:09.709Z"
   },
   {
    "duration": 559,
    "start_time": "2025-04-12T18:12:39.655Z"
   },
   {
    "duration": 4,
    "start_time": "2025-04-12T18:12:40.216Z"
   },
   {
    "duration": 16,
    "start_time": "2025-04-12T18:12:41.789Z"
   },
   {
    "duration": 4,
    "start_time": "2025-04-12T18:13:08.649Z"
   },
   {
    "duration": 19,
    "start_time": "2025-04-12T18:13:09.247Z"
   },
   {
    "duration": 17,
    "start_time": "2025-04-12T18:13:37.647Z"
   },
   {
    "duration": 18,
    "start_time": "2025-04-12T18:13:47.015Z"
   },
   {
    "duration": 18,
    "start_time": "2025-04-12T18:15:58.447Z"
   },
   {
    "duration": 19,
    "start_time": "2025-04-12T18:16:19.510Z"
   },
   {
    "duration": 19,
    "start_time": "2025-04-12T18:16:39.814Z"
   },
   {
    "duration": 19,
    "start_time": "2025-04-12T18:17:51.660Z"
   },
   {
    "duration": 18,
    "start_time": "2025-04-12T18:18:08.090Z"
   },
   {
    "duration": 20,
    "start_time": "2025-04-12T18:18:59.518Z"
   },
   {
    "duration": 20,
    "start_time": "2025-04-12T18:19:06.159Z"
   },
   {
    "duration": 20,
    "start_time": "2025-04-12T18:19:37.006Z"
   },
   {
    "duration": 544,
    "start_time": "2025-04-12T18:20:05.200Z"
   },
   {
    "duration": 18,
    "start_time": "2025-04-12T18:20:13.699Z"
   },
   {
    "duration": 4,
    "start_time": "2025-04-12T18:24:42.390Z"
   },
   {
    "duration": 16,
    "start_time": "2025-04-12T18:24:43.030Z"
   },
   {
    "duration": 599,
    "start_time": "2025-04-12T18:25:44.120Z"
   },
   {
    "duration": 548,
    "start_time": "2025-04-12T18:26:02.359Z"
   },
   {
    "duration": 4,
    "start_time": "2025-04-12T18:26:38.041Z"
   },
   {
    "duration": 564,
    "start_time": "2025-04-12T18:26:39.440Z"
   },
   {
    "duration": 4,
    "start_time": "2025-04-12T18:28:30.529Z"
   },
   {
    "duration": 566,
    "start_time": "2025-04-12T18:28:31.058Z"
   },
   {
    "duration": 19,
    "start_time": "2025-04-12T18:32:03.180Z"
   },
   {
    "duration": 117353,
    "start_time": "2025-04-12T18:50:16.736Z"
   },
   {
    "duration": 44027,
    "start_time": "2025-04-12T18:52:35.345Z"
   },
   {
    "duration": 44028,
    "start_time": "2025-04-12T18:53:38.982Z"
   },
   {
    "duration": 118248,
    "start_time": "2025-04-12T18:55:17.957Z"
   },
   {
    "duration": 119705,
    "start_time": "2025-04-12T19:11:28.026Z"
   },
   {
    "duration": 1426,
    "start_time": "2025-04-12T19:27:52.515Z"
   },
   {
    "duration": 1769,
    "start_time": "2025-04-13T13:59:51.153Z"
   },
   {
    "duration": 25,
    "start_time": "2025-04-13T13:59:52.924Z"
   },
   {
    "duration": 32,
    "start_time": "2025-04-13T13:59:52.951Z"
   },
   {
    "duration": 44,
    "start_time": "2025-04-13T13:59:52.985Z"
   },
   {
    "duration": 55,
    "start_time": "2025-04-13T13:59:53.032Z"
   },
   {
    "duration": 21,
    "start_time": "2025-04-13T13:59:53.089Z"
   },
   {
    "duration": 4061,
    "start_time": "2025-04-13T13:59:53.112Z"
   },
   {
    "duration": 25,
    "start_time": "2025-04-13T13:59:57.175Z"
   },
   {
    "duration": 1358,
    "start_time": "2025-04-13T13:59:57.202Z"
   },
   {
    "duration": 6,
    "start_time": "2025-04-13T13:59:58.561Z"
   },
   {
    "duration": 31,
    "start_time": "2025-04-13T13:59:58.569Z"
   },
   {
    "duration": 18,
    "start_time": "2025-04-13T13:59:58.601Z"
   },
   {
    "duration": 620,
    "start_time": "2025-04-13T13:59:58.620Z"
   },
   {
    "duration": 4,
    "start_time": "2025-04-13T13:59:59.243Z"
   },
   {
    "duration": 571,
    "start_time": "2025-04-13T13:59:59.249Z"
   },
   {
    "duration": 123378,
    "start_time": "2025-04-13T13:59:59.822Z"
   },
   {
    "duration": 1547,
    "start_time": "2025-04-13T14:02:03.201Z"
   },
   {
    "duration": 16,
    "start_time": "2025-04-13T14:02:04.749Z"
   },
   {
    "duration": 28,
    "start_time": "2025-04-13T14:02:04.767Z"
   },
   {
    "duration": 7,
    "start_time": "2025-04-13T14:02:04.797Z"
   },
   {
    "duration": 1393,
    "start_time": "2025-04-13T14:02:29.757Z"
   },
   {
    "duration": 1693,
    "start_time": "2025-04-13T14:02:48.055Z"
   },
   {
    "duration": 1648,
    "start_time": "2025-04-13T14:03:08.990Z"
   },
   {
    "duration": 1328,
    "start_time": "2025-04-13T14:03:25.321Z"
   },
   {
    "duration": 7,
    "start_time": "2025-04-13T14:03:41.747Z"
   },
   {
    "duration": 42,
    "start_time": "2025-04-13T14:03:41.756Z"
   },
   {
    "duration": 22,
    "start_time": "2025-04-13T14:03:41.800Z"
   },
   {
    "duration": 80,
    "start_time": "2025-04-13T14:03:41.823Z"
   },
   {
    "duration": 34,
    "start_time": "2025-04-13T14:03:41.906Z"
   },
   {
    "duration": 24,
    "start_time": "2025-04-13T14:03:41.941Z"
   },
   {
    "duration": 4652,
    "start_time": "2025-04-13T14:03:41.967Z"
   },
   {
    "duration": 35,
    "start_time": "2025-04-13T14:03:46.621Z"
   },
   {
    "duration": 1184,
    "start_time": "2025-04-13T14:03:46.658Z"
   },
   {
    "duration": 7,
    "start_time": "2025-04-13T14:03:47.844Z"
   },
   {
    "duration": 31,
    "start_time": "2025-04-13T14:03:47.854Z"
   },
   {
    "duration": 22,
    "start_time": "2025-04-13T14:03:47.887Z"
   },
   {
    "duration": 592,
    "start_time": "2025-04-13T14:03:47.911Z"
   },
   {
    "duration": 4,
    "start_time": "2025-04-13T14:03:48.505Z"
   },
   {
    "duration": 573,
    "start_time": "2025-04-13T14:03:48.511Z"
   },
   {
    "duration": 130509,
    "start_time": "2025-04-13T14:03:49.086Z"
   },
   {
    "duration": 1063,
    "start_time": "2025-04-13T14:05:59.597Z"
   },
   {
    "duration": 148,
    "start_time": "2025-04-13T14:06:00.663Z"
   },
   {
    "duration": 0,
    "start_time": "2025-04-13T14:06:00.813Z"
   },
   {
    "duration": 20,
    "start_time": "2025-04-13T14:10:01.178Z"
   },
   {
    "duration": 20,
    "start_time": "2025-04-13T14:10:11.236Z"
   },
   {
    "duration": 20,
    "start_time": "2025-04-13T14:10:38.843Z"
   },
   {
    "duration": 2938,
    "start_time": "2025-04-13T14:39:02.495Z"
   },
   {
    "duration": 2677,
    "start_time": "2025-04-13T14:40:29.801Z"
   },
   {
    "duration": 1829,
    "start_time": "2025-04-13T14:41:02.960Z"
   },
   {
    "duration": 1823,
    "start_time": "2025-04-13T14:41:56.322Z"
   },
   {
    "duration": 2797,
    "start_time": "2025-04-13T14:42:29.704Z"
   },
   {
    "duration": 1672,
    "start_time": "2025-04-13T14:43:24.654Z"
   },
   {
    "duration": 1613,
    "start_time": "2025-04-13T14:44:20.787Z"
   },
   {
    "duration": 1661,
    "start_time": "2025-04-13T14:44:42.893Z"
   },
   {
    "duration": 12,
    "start_time": "2025-04-13T14:52:36.003Z"
   },
   {
    "duration": 96,
    "start_time": "2025-04-13T14:53:16.195Z"
   },
   {
    "duration": 15,
    "start_time": "2025-04-13T14:53:25.135Z"
   },
   {
    "duration": 1187,
    "start_time": "2025-04-13T14:53:35.079Z"
   },
   {
    "duration": 625,
    "start_time": "2025-04-13T14:54:38.816Z"
   },
   {
    "duration": 647,
    "start_time": "2025-04-13T14:55:56.215Z"
   },
   {
    "duration": 77,
    "start_time": "2025-04-13T14:56:24.469Z"
   },
   {
    "duration": 80,
    "start_time": "2025-04-13T14:56:47.751Z"
   },
   {
    "duration": 75,
    "start_time": "2025-04-13T15:03:30.524Z"
   },
   {
    "duration": 26,
    "start_time": "2025-04-13T15:03:45.791Z"
   },
   {
    "duration": 32,
    "start_time": "2025-04-13T15:04:03.329Z"
   },
   {
    "duration": 31,
    "start_time": "2025-04-13T15:04:38.211Z"
   },
   {
    "duration": 27,
    "start_time": "2025-04-13T15:05:44.736Z"
   },
   {
    "duration": 1829,
    "start_time": "2025-04-13T15:10:26.351Z"
   },
   {
    "duration": 1816,
    "start_time": "2025-04-13T15:11:05.493Z"
   },
   {
    "duration": 2726,
    "start_time": "2025-04-13T15:11:56.149Z"
   },
   {
    "duration": 2827,
    "start_time": "2025-04-13T15:12:34.412Z"
   },
   {
    "duration": 1419,
    "start_time": "2025-04-13T15:13:09.220Z"
   },
   {
    "duration": 4,
    "start_time": "2025-04-13T15:14:55.553Z"
   },
   {
    "duration": 1454,
    "start_time": "2025-04-13T16:09:45.819Z"
   },
   {
    "duration": 1441,
    "start_time": "2025-04-13T16:14:43.085Z"
   },
   {
    "duration": 161,
    "start_time": "2025-04-13T16:16:09.221Z"
   },
   {
    "duration": 1497,
    "start_time": "2025-04-13T16:17:02.599Z"
   },
   {
    "duration": 1323,
    "start_time": "2025-04-13T16:17:57.419Z"
   },
   {
    "duration": 4,
    "start_time": "2025-04-13T16:20:19.466Z"
   },
   {
    "duration": 15,
    "start_time": "2025-04-13T16:21:05.799Z"
   },
   {
    "duration": 7992,
    "start_time": "2025-04-13T16:22:57.663Z"
   },
   {
    "duration": 1820,
    "start_time": "2025-04-14T15:30:34.885Z"
   },
   {
    "duration": 35,
    "start_time": "2025-04-14T15:30:36.707Z"
   },
   {
    "duration": 26,
    "start_time": "2025-04-14T15:30:36.744Z"
   },
   {
    "duration": 21,
    "start_time": "2025-04-14T15:30:36.772Z"
   },
   {
    "duration": 58,
    "start_time": "2025-04-14T15:30:36.795Z"
   },
   {
    "duration": 14,
    "start_time": "2025-04-14T15:30:36.855Z"
   },
   {
    "duration": 4154,
    "start_time": "2025-04-14T15:30:36.870Z"
   },
   {
    "duration": 31,
    "start_time": "2025-04-14T15:30:41.026Z"
   },
   {
    "duration": 1214,
    "start_time": "2025-04-14T15:30:41.058Z"
   },
   {
    "duration": 6,
    "start_time": "2025-04-14T15:30:42.273Z"
   },
   {
    "duration": 96,
    "start_time": "2025-04-14T15:30:42.281Z"
   },
   {
    "duration": 29,
    "start_time": "2025-04-14T15:30:42.379Z"
   },
   {
    "duration": 613,
    "start_time": "2025-04-14T15:30:42.409Z"
   },
   {
    "duration": 4,
    "start_time": "2025-04-14T15:30:43.025Z"
   },
   {
    "duration": 599,
    "start_time": "2025-04-14T15:30:43.030Z"
   },
   {
    "duration": 120302,
    "start_time": "2025-04-14T15:30:43.631Z"
   },
   {
    "duration": 1610,
    "start_time": "2025-04-14T15:32:43.935Z"
   },
   {
    "duration": 19,
    "start_time": "2025-04-14T15:32:45.547Z"
   },
   {
    "duration": 1336,
    "start_time": "2025-04-14T15:32:45.568Z"
   },
   {
    "duration": 5,
    "start_time": "2025-04-14T15:32:46.905Z"
   },
   {
    "duration": 20,
    "start_time": "2025-04-14T15:32:46.911Z"
   },
   {
    "duration": 8344,
    "start_time": "2025-04-14T15:32:46.939Z"
   },
   {
    "duration": 8363,
    "start_time": "2025-04-14T15:42:20.578Z"
   },
   {
    "duration": 19,
    "start_time": "2025-04-14T15:45:17.015Z"
   },
   {
    "duration": 25,
    "start_time": "2025-04-14T15:45:49.595Z"
   },
   {
    "duration": 1599,
    "start_time": "2025-04-14T15:57:23.267Z"
   },
   {
    "duration": 1147,
    "start_time": "2025-04-14T15:58:21.401Z"
   },
   {
    "duration": 1587,
    "start_time": "2025-04-14T15:58:39.157Z"
   },
   {
    "duration": 14,
    "start_time": "2025-04-14T16:00:53.618Z"
   },
   {
    "duration": 17,
    "start_time": "2025-04-14T16:01:02.040Z"
   },
   {
    "duration": 16,
    "start_time": "2025-04-14T16:01:56.100Z"
   },
   {
    "duration": 2098,
    "start_time": "2025-04-14T16:06:11.620Z"
   },
   {
    "duration": 21,
    "start_time": "2025-04-14T16:12:08.928Z"
   },
   {
    "duration": 33,
    "start_time": "2025-04-14T16:18:47.497Z"
   },
   {
    "duration": 8164,
    "start_time": "2025-04-14T16:19:18.275Z"
   },
   {
    "duration": 15,
    "start_time": "2025-04-14T16:29:14.265Z"
   },
   {
    "duration": 38124,
    "start_time": "2025-04-14T16:29:58.647Z"
   },
   {
    "duration": 139051,
    "start_time": "2025-04-14T16:33:32.709Z"
   },
   {
    "duration": 4359,
    "start_time": "2025-04-14T16:35:51.762Z"
   },
   {
    "duration": 5733,
    "start_time": "2025-04-14T16:36:23.961Z"
   },
   {
    "duration": 26,
    "start_time": "2025-04-14T16:37:43.400Z"
   },
   {
    "duration": 1375,
    "start_time": "2025-04-14T16:38:20.698Z"
   },
   {
    "duration": 1320,
    "start_time": "2025-04-14T16:39:46.378Z"
   },
   {
    "duration": 1306,
    "start_time": "2025-04-14T16:39:56.497Z"
   },
   {
    "duration": 1293,
    "start_time": "2025-04-14T16:40:23.026Z"
   },
   {
    "duration": 144239,
    "start_time": "2025-04-14T16:43:41.409Z"
   },
   {
    "duration": 145324,
    "start_time": "2025-04-14T16:49:00.193Z"
   },
   {
    "duration": 1852,
    "start_time": "2025-04-14T16:55:42.441Z"
   },
   {
    "duration": 77,
    "start_time": "2025-04-14T16:56:03.606Z"
   },
   {
    "duration": 5313,
    "start_time": "2025-04-14T16:56:09.793Z"
   },
   {
    "duration": 1287,
    "start_time": "2025-04-14T16:56:28.849Z"
   },
   {
    "duration": 11878,
    "start_time": "2025-04-14T16:56:44.647Z"
   },
   {
    "duration": 1875,
    "start_time": "2025-04-14T16:57:15.710Z"
   },
   {
    "duration": 1846,
    "start_time": "2025-04-14T16:57:35.206Z"
   },
   {
    "duration": 1149,
    "start_time": "2025-04-14T16:58:48.725Z"
   },
   {
    "duration": 1750,
    "start_time": "2025-04-14T16:59:06.864Z"
   },
   {
    "duration": 1868,
    "start_time": "2025-04-14T16:59:20.829Z"
   },
   {
    "duration": 1119,
    "start_time": "2025-04-14T17:00:51.620Z"
   },
   {
    "duration": 1182,
    "start_time": "2025-04-14T17:01:16.606Z"
   },
   {
    "duration": 674,
    "start_time": "2025-04-14T17:03:23.328Z"
   },
   {
    "duration": 1862,
    "start_time": "2025-04-14T17:03:50.022Z"
   },
   {
    "duration": 1667,
    "start_time": "2025-04-15T16:48:25.508Z"
   },
   {
    "duration": 34,
    "start_time": "2025-04-15T16:48:27.178Z"
   },
   {
    "duration": 25,
    "start_time": "2025-04-15T16:48:27.214Z"
   },
   {
    "duration": 27,
    "start_time": "2025-04-15T16:48:27.241Z"
   },
   {
    "duration": 48,
    "start_time": "2025-04-15T16:48:27.271Z"
   },
   {
    "duration": 16,
    "start_time": "2025-04-15T16:48:27.321Z"
   },
   {
    "duration": 3616,
    "start_time": "2025-04-15T16:48:27.362Z"
   },
   {
    "duration": 20,
    "start_time": "2025-04-15T16:48:30.979Z"
   },
   {
    "duration": 1203,
    "start_time": "2025-04-15T16:48:31.000Z"
   },
   {
    "duration": 4,
    "start_time": "2025-04-15T16:48:32.206Z"
   },
   {
    "duration": 17,
    "start_time": "2025-04-15T16:48:32.212Z"
   },
   {
    "duration": 15,
    "start_time": "2025-04-15T16:48:32.231Z"
   },
   {
    "duration": 580,
    "start_time": "2025-04-15T16:48:32.247Z"
   },
   {
    "duration": 4,
    "start_time": "2025-04-15T16:48:32.829Z"
   },
   {
    "duration": 572,
    "start_time": "2025-04-15T16:48:32.834Z"
   },
   {
    "duration": 113785,
    "start_time": "2025-04-15T16:48:33.407Z"
   },
   {
    "duration": 1477,
    "start_time": "2025-04-15T16:50:27.194Z"
   },
   {
    "duration": 24,
    "start_time": "2025-04-15T16:50:28.672Z"
   },
   {
    "duration": 918,
    "start_time": "2025-04-15T16:50:28.698Z"
   },
   {
    "duration": 7905,
    "start_time": "2025-04-15T16:50:29.618Z"
   },
   {
    "duration": 906,
    "start_time": "2025-04-15T16:51:48.647Z"
   },
   {
    "duration": 1029,
    "start_time": "2025-04-15T16:52:36.497Z"
   },
   {
    "duration": 1411,
    "start_time": "2025-04-15T16:52:55.962Z"
   },
   {
    "duration": 866,
    "start_time": "2025-04-15T16:53:17.938Z"
   },
   {
    "duration": 1489,
    "start_time": "2025-04-15T17:00:05.384Z"
   },
   {
    "duration": 2043,
    "start_time": "2025-04-15T17:00:11.381Z"
   },
   {
    "duration": 1673,
    "start_time": "2025-04-15T17:00:24.591Z"
   },
   {
    "duration": 2441,
    "start_time": "2025-04-15T17:00:29.978Z"
   },
   {
    "duration": 2782,
    "start_time": "2025-04-15T17:01:07.699Z"
   },
   {
    "duration": 2161,
    "start_time": "2025-04-15T17:01:17.545Z"
   },
   {
    "duration": 3473,
    "start_time": "2025-04-15T17:01:23.427Z"
   },
   {
    "duration": 3666,
    "start_time": "2025-04-15T17:02:31.282Z"
   },
   {
    "duration": 2769,
    "start_time": "2025-04-15T17:04:45.775Z"
   },
   {
    "duration": 430,
    "start_time": "2025-04-15T17:05:16.544Z"
   },
   {
    "duration": 408,
    "start_time": "2025-04-15T17:05:29.391Z"
   },
   {
    "duration": 421,
    "start_time": "2025-04-15T17:05:53.867Z"
   },
   {
    "duration": 416,
    "start_time": "2025-04-15T17:06:07.704Z"
   },
   {
    "duration": 2375,
    "start_time": "2025-04-15T17:06:24.554Z"
   },
   {
    "duration": 421,
    "start_time": "2025-04-15T17:06:36.431Z"
   },
   {
    "duration": 2483,
    "start_time": "2025-04-15T17:07:14.931Z"
   },
   {
    "duration": 423,
    "start_time": "2025-04-15T17:07:22.996Z"
   },
   {
    "duration": 20,
    "start_time": "2025-04-15T17:08:04.793Z"
   },
   {
    "duration": 2421,
    "start_time": "2025-04-15T17:08:13.759Z"
   },
   {
    "duration": 19,
    "start_time": "2025-04-15T17:08:45.630Z"
   },
   {
    "duration": 434,
    "start_time": "2025-04-15T17:09:01.840Z"
   },
   {
    "duration": 2389,
    "start_time": "2025-04-15T17:09:33.961Z"
   },
   {
    "duration": 469,
    "start_time": "2025-04-15T17:09:54.596Z"
   },
   {
    "duration": 2347,
    "start_time": "2025-04-15T17:09:59.576Z"
   },
   {
    "duration": 443,
    "start_time": "2025-04-15T17:10:35.194Z"
   },
   {
    "duration": 2384,
    "start_time": "2025-04-15T17:10:45.055Z"
   },
   {
    "duration": 342,
    "start_time": "2025-04-15T17:11:05.020Z"
   },
   {
    "duration": 20,
    "start_time": "2025-04-15T17:11:15.728Z"
   },
   {
    "duration": 332,
    "start_time": "2025-04-15T17:11:31.210Z"
   },
   {
    "duration": 1478,
    "start_time": "2025-04-15T17:11:49.951Z"
   },
   {
    "duration": 1368,
    "start_time": "2025-04-15T17:12:04.933Z"
   },
   {
    "duration": 3314,
    "start_time": "2025-04-15T17:12:40.142Z"
   },
   {
    "duration": 3541,
    "start_time": "2025-04-15T17:13:13.107Z"
   },
   {
    "duration": 3760,
    "start_time": "2025-04-15T17:13:34.302Z"
   },
   {
    "duration": 3413,
    "start_time": "2025-04-15T17:14:09.958Z"
   },
   {
    "duration": 3330,
    "start_time": "2025-04-15T17:14:31.752Z"
   },
   {
    "duration": 4113,
    "start_time": "2025-04-15T17:15:56.609Z"
   },
   {
    "duration": 3940,
    "start_time": "2025-04-15T17:16:21.127Z"
   },
   {
    "duration": 926,
    "start_time": "2025-04-15T17:18:16.719Z"
   },
   {
    "duration": 4114,
    "start_time": "2025-04-15T17:18:49.087Z"
   },
   {
    "duration": 3963,
    "start_time": "2025-04-15T17:19:11.217Z"
   },
   {
    "duration": 3902,
    "start_time": "2025-04-15T17:19:36.203Z"
   },
   {
    "duration": 983,
    "start_time": "2025-04-15T17:19:50.679Z"
   },
   {
    "duration": 969,
    "start_time": "2025-04-15T17:21:52.486Z"
   },
   {
    "duration": 1186,
    "start_time": "2025-04-15T17:24:49.324Z"
   },
   {
    "duration": 956,
    "start_time": "2025-04-15T17:25:08.796Z"
   },
   {
    "duration": 922,
    "start_time": "2025-04-15T17:25:33.253Z"
   },
   {
    "duration": 3691,
    "start_time": "2025-04-15T17:25:48.476Z"
   },
   {
    "duration": 1177,
    "start_time": "2025-04-15T17:28:23.840Z"
   },
   {
    "duration": 6,
    "start_time": "2025-04-15T17:29:43.115Z"
   },
   {
    "duration": 40,
    "start_time": "2025-04-15T17:29:43.123Z"
   },
   {
    "duration": 22,
    "start_time": "2025-04-15T17:29:43.165Z"
   },
   {
    "duration": 21,
    "start_time": "2025-04-15T17:29:43.189Z"
   },
   {
    "duration": 56,
    "start_time": "2025-04-15T17:29:43.213Z"
   },
   {
    "duration": 13,
    "start_time": "2025-04-15T17:29:43.271Z"
   },
   {
    "duration": 3893,
    "start_time": "2025-04-15T17:29:43.286Z"
   },
   {
    "duration": 24,
    "start_time": "2025-04-15T17:29:47.182Z"
   },
   {
    "duration": 1133,
    "start_time": "2025-04-15T17:29:47.208Z"
   },
   {
    "duration": 5,
    "start_time": "2025-04-15T17:29:48.342Z"
   },
   {
    "duration": 21,
    "start_time": "2025-04-15T17:29:48.348Z"
   },
   {
    "duration": 25,
    "start_time": "2025-04-15T17:29:48.370Z"
   },
   {
    "duration": 557,
    "start_time": "2025-04-15T17:29:48.396Z"
   },
   {
    "duration": 6,
    "start_time": "2025-04-15T17:29:48.957Z"
   },
   {
    "duration": 571,
    "start_time": "2025-04-15T17:29:48.964Z"
   },
   {
    "duration": 120033,
    "start_time": "2025-04-15T17:29:49.536Z"
   },
   {
    "duration": 1596,
    "start_time": "2025-04-15T17:31:49.570Z"
   },
   {
    "duration": 26,
    "start_time": "2025-04-15T17:31:51.168Z"
   },
   {
    "duration": 904,
    "start_time": "2025-04-15T17:31:51.196Z"
   },
   {
    "duration": 4088,
    "start_time": "2025-04-15T17:31:52.102Z"
   },
   {
    "duration": 1951,
    "start_time": "2025-04-16T15:48:48.082Z"
   },
   {
    "duration": 25,
    "start_time": "2025-04-16T15:48:50.036Z"
   },
   {
    "duration": 71,
    "start_time": "2025-04-16T15:48:50.063Z"
   },
   {
    "duration": 20,
    "start_time": "2025-04-16T15:48:50.136Z"
   },
   {
    "duration": 46,
    "start_time": "2025-04-16T15:48:50.159Z"
   },
   {
    "duration": 57,
    "start_time": "2025-04-16T15:48:50.207Z"
   },
   {
    "duration": 776,
    "start_time": "2025-04-16T15:48:50.266Z"
   },
   {
    "duration": 0,
    "start_time": "2025-04-16T15:48:51.045Z"
   },
   {
    "duration": 0,
    "start_time": "2025-04-16T15:48:51.046Z"
   },
   {
    "duration": 0,
    "start_time": "2025-04-16T15:48:51.047Z"
   },
   {
    "duration": 0,
    "start_time": "2025-04-16T15:48:51.048Z"
   },
   {
    "duration": 0,
    "start_time": "2025-04-16T15:48:51.049Z"
   },
   {
    "duration": 0,
    "start_time": "2025-04-16T15:48:51.050Z"
   },
   {
    "duration": 0,
    "start_time": "2025-04-16T15:48:51.052Z"
   },
   {
    "duration": 0,
    "start_time": "2025-04-16T15:48:51.053Z"
   },
   {
    "duration": 0,
    "start_time": "2025-04-16T15:48:51.054Z"
   },
   {
    "duration": 0,
    "start_time": "2025-04-16T15:48:51.055Z"
   },
   {
    "duration": 0,
    "start_time": "2025-04-16T15:48:51.056Z"
   },
   {
    "duration": 0,
    "start_time": "2025-04-16T15:48:51.057Z"
   },
   {
    "duration": 0,
    "start_time": "2025-04-16T15:48:51.058Z"
   },
   {
    "duration": 752,
    "start_time": "2025-04-16T15:49:40.784Z"
   },
   {
    "duration": 701,
    "start_time": "2025-04-16T15:49:58.394Z"
   },
   {
    "duration": 731,
    "start_time": "2025-04-16T15:52:58.689Z"
   },
   {
    "duration": 730,
    "start_time": "2025-04-16T15:53:13.250Z"
   },
   {
    "duration": 854,
    "start_time": "2025-04-16T15:54:37.635Z"
   },
   {
    "duration": 721,
    "start_time": "2025-04-16T15:55:16.610Z"
   },
   {
    "duration": 738,
    "start_time": "2025-04-16T15:55:26.027Z"
   },
   {
    "duration": 734,
    "start_time": "2025-04-16T15:56:32.389Z"
   },
   {
    "duration": 828,
    "start_time": "2025-04-16T15:57:20.581Z"
   },
   {
    "duration": 3382,
    "start_time": "2025-04-16T16:02:13.591Z"
   },
   {
    "duration": 3639,
    "start_time": "2025-04-16T16:03:03.536Z"
   },
   {
    "duration": 2830,
    "start_time": "2025-04-16T16:03:29.189Z"
   },
   {
    "duration": 2409,
    "start_time": "2025-04-16T16:04:10.272Z"
   },
   {
    "duration": 2676,
    "start_time": "2025-04-16T16:05:03.693Z"
   },
   {
    "duration": 2692,
    "start_time": "2025-04-16T16:05:14.575Z"
   },
   {
    "duration": 20,
    "start_time": "2025-04-16T16:06:40.729Z"
   },
   {
    "duration": 5,
    "start_time": "2025-04-16T16:11:58.182Z"
   },
   {
    "duration": 43,
    "start_time": "2025-04-16T16:11:58.189Z"
   },
   {
    "duration": 28,
    "start_time": "2025-04-16T16:11:58.318Z"
   },
   {
    "duration": 70,
    "start_time": "2025-04-16T16:11:58.349Z"
   },
   {
    "duration": 34,
    "start_time": "2025-04-16T16:11:58.421Z"
   },
   {
    "duration": 14,
    "start_time": "2025-04-16T16:11:58.457Z"
   },
   {
    "duration": 754,
    "start_time": "2025-04-16T16:11:58.474Z"
   },
   {
    "duration": 2693,
    "start_time": "2025-04-16T16:11:59.230Z"
   },
   {
    "duration": 25,
    "start_time": "2025-04-16T16:12:01.925Z"
   },
   {
    "duration": 1211,
    "start_time": "2025-04-16T16:12:01.951Z"
   },
   {
    "duration": 5,
    "start_time": "2025-04-16T16:12:03.164Z"
   },
   {
    "duration": 89,
    "start_time": "2025-04-16T16:12:03.171Z"
   },
   {
    "duration": 33,
    "start_time": "2025-04-16T16:12:03.261Z"
   },
   {
    "duration": 608,
    "start_time": "2025-04-16T16:12:03.296Z"
   },
   {
    "duration": 4,
    "start_time": "2025-04-16T16:12:03.906Z"
   },
   {
    "duration": 581,
    "start_time": "2025-04-16T16:12:03.912Z"
   },
   {
    "duration": 121019,
    "start_time": "2025-04-16T16:12:04.495Z"
   },
   {
    "duration": 1593,
    "start_time": "2025-04-16T16:14:05.516Z"
   },
   {
    "duration": 24,
    "start_time": "2025-04-16T16:14:07.111Z"
   },
   {
    "duration": 1046,
    "start_time": "2025-04-16T16:14:07.137Z"
   },
   {
    "duration": 4119,
    "start_time": "2025-04-16T16:14:08.185Z"
   },
   {
    "duration": 1520,
    "start_time": "2025-04-16T16:15:52.189Z"
   },
   {
    "duration": 20,
    "start_time": "2025-04-16T16:16:10.813Z"
   },
   {
    "duration": 107,
    "start_time": "2025-04-16T16:32:42.224Z"
   },
   {
    "duration": 993,
    "start_time": "2025-04-16T16:33:01.025Z"
   },
   {
    "duration": 6,
    "start_time": "2025-04-16T16:35:00.542Z"
   },
   {
    "duration": 84,
    "start_time": "2025-04-16T16:35:00.550Z"
   },
   {
    "duration": 21,
    "start_time": "2025-04-16T16:35:00.636Z"
   },
   {
    "duration": 44,
    "start_time": "2025-04-16T16:35:00.659Z"
   },
   {
    "duration": 35,
    "start_time": "2025-04-16T16:35:00.705Z"
   },
   {
    "duration": 100,
    "start_time": "2025-04-16T16:35:00.741Z"
   },
   {
    "duration": 962,
    "start_time": "2025-04-16T16:35:00.842Z"
   },
   {
    "duration": 2760,
    "start_time": "2025-04-16T16:35:01.806Z"
   },
   {
    "duration": 35,
    "start_time": "2025-04-16T16:35:04.568Z"
   },
   {
    "duration": 1151,
    "start_time": "2025-04-16T16:35:04.605Z"
   },
   {
    "duration": 5,
    "start_time": "2025-04-16T16:35:05.758Z"
   },
   {
    "duration": 40,
    "start_time": "2025-04-16T16:35:05.765Z"
   },
   {
    "duration": 31,
    "start_time": "2025-04-16T16:35:05.808Z"
   },
   {
    "duration": 557,
    "start_time": "2025-04-16T16:35:05.842Z"
   },
   {
    "duration": 6,
    "start_time": "2025-04-16T16:35:06.404Z"
   },
   {
    "duration": 666,
    "start_time": "2025-04-16T16:35:06.411Z"
   },
   {
    "duration": 15,
    "start_time": "2025-04-16T16:43:00.300Z"
   },
   {
    "duration": 42,
    "start_time": "2025-04-16T16:43:00.321Z"
   },
   {
    "duration": 43,
    "start_time": "2025-04-16T16:43:00.365Z"
   },
   {
    "duration": 114,
    "start_time": "2025-04-16T16:43:00.410Z"
   },
   {
    "duration": 118,
    "start_time": "2025-04-16T16:43:00.526Z"
   },
   {
    "duration": 14,
    "start_time": "2025-04-16T16:43:00.646Z"
   },
   {
    "duration": 964,
    "start_time": "2025-04-16T16:43:00.662Z"
   },
   {
    "duration": 3051,
    "start_time": "2025-04-16T16:43:01.628Z"
   },
   {
    "duration": 40,
    "start_time": "2025-04-16T16:43:04.681Z"
   },
   {
    "duration": 1209,
    "start_time": "2025-04-16T16:43:04.724Z"
   },
   {
    "duration": 8,
    "start_time": "2025-04-16T16:43:05.935Z"
   },
   {
    "duration": 40,
    "start_time": "2025-04-16T16:43:05.945Z"
   },
   {
    "duration": 42,
    "start_time": "2025-04-16T16:43:05.987Z"
   },
   {
    "duration": 603,
    "start_time": "2025-04-16T16:43:06.032Z"
   },
   {
    "duration": 5,
    "start_time": "2025-04-16T16:43:06.637Z"
   },
   {
    "duration": 584,
    "start_time": "2025-04-16T16:43:06.644Z"
   },
   {
    "duration": 132443,
    "start_time": "2025-04-16T16:43:07.230Z"
   },
   {
    "duration": 1149,
    "start_time": "2025-04-16T16:45:19.675Z"
   },
   {
    "duration": 25,
    "start_time": "2025-04-16T16:45:20.907Z"
   },
   {
    "duration": 971,
    "start_time": "2025-04-16T16:45:20.933Z"
   },
   {
    "duration": 4265,
    "start_time": "2025-04-16T16:45:21.907Z"
   },
   {
    "duration": 5080,
    "start_time": "2025-04-16T16:51:37.927Z"
   },
   {
    "duration": 5073,
    "start_time": "2025-04-16T16:52:01.534Z"
   },
   {
    "duration": 5323,
    "start_time": "2025-04-16T16:52:17.984Z"
   },
   {
    "duration": 5183,
    "start_time": "2025-04-16T16:53:16.288Z"
   },
   {
    "duration": 5259,
    "start_time": "2025-04-16T16:53:33.705Z"
   },
   {
    "duration": 5004,
    "start_time": "2025-04-16T16:54:05.337Z"
   },
   {
    "duration": 5314,
    "start_time": "2025-04-16T16:54:20.911Z"
   },
   {
    "duration": 157,
    "start_time": "2025-04-16T17:31:36.543Z"
   },
   {
    "duration": 161,
    "start_time": "2025-04-16T17:32:22.223Z"
   },
   {
    "duration": 331,
    "start_time": "2025-04-16T17:32:59.595Z"
   },
   {
    "duration": 12,
    "start_time": "2025-04-16T17:33:22.740Z"
   },
   {
    "duration": 21,
    "start_time": "2025-04-16T17:33:34.986Z"
   },
   {
    "duration": 14,
    "start_time": "2025-04-16T17:33:44.897Z"
   },
   {
    "duration": 20,
    "start_time": "2025-04-16T17:33:53.383Z"
   },
   {
    "duration": 13,
    "start_time": "2025-04-16T17:33:57.946Z"
   },
   {
    "duration": 166,
    "start_time": "2025-04-16T17:34:17.738Z"
   },
   {
    "duration": 152,
    "start_time": "2025-04-16T17:35:01.090Z"
   },
   {
    "duration": 177,
    "start_time": "2025-04-16T17:35:18.080Z"
   },
   {
    "duration": 157,
    "start_time": "2025-04-16T17:36:00.970Z"
   },
   {
    "duration": 16,
    "start_time": "2025-04-16T17:41:15.751Z"
   },
   {
    "duration": 140,
    "start_time": "2025-04-16T17:41:28.479Z"
   },
   {
    "duration": 9,
    "start_time": "2025-04-16T17:45:06.426Z"
   },
   {
    "duration": 19,
    "start_time": "2025-04-16T17:45:53.607Z"
   },
   {
    "duration": 180,
    "start_time": "2025-04-16T17:48:09.713Z"
   },
   {
    "duration": 188,
    "start_time": "2025-04-16T17:48:27.170Z"
   },
   {
    "duration": 230,
    "start_time": "2025-04-16T17:50:13.900Z"
   },
   {
    "duration": 207,
    "start_time": "2025-04-16T17:50:55.490Z"
   },
   {
    "duration": 196,
    "start_time": "2025-04-16T17:51:23.074Z"
   },
   {
    "duration": 14,
    "start_time": "2025-04-16T17:51:56.704Z"
   },
   {
    "duration": 200,
    "start_time": "2025-04-16T17:52:29.825Z"
   },
   {
    "duration": 199,
    "start_time": "2025-04-16T17:52:45.221Z"
   },
   {
    "duration": 311,
    "start_time": "2025-04-16T17:55:15.912Z"
   },
   {
    "duration": 201,
    "start_time": "2025-04-16T17:57:09.306Z"
   },
   {
    "duration": 172,
    "start_time": "2025-04-16T17:57:24.546Z"
   },
   {
    "duration": 1945,
    "start_time": "2025-04-17T15:22:16.212Z"
   },
   {
    "duration": 35,
    "start_time": "2025-04-17T15:22:18.159Z"
   },
   {
    "duration": 35,
    "start_time": "2025-04-17T15:22:18.196Z"
   },
   {
    "duration": 33,
    "start_time": "2025-04-17T15:22:18.233Z"
   },
   {
    "duration": 59,
    "start_time": "2025-04-17T15:22:18.269Z"
   },
   {
    "duration": 13,
    "start_time": "2025-04-17T15:22:18.330Z"
   },
   {
    "duration": 748,
    "start_time": "2025-04-17T15:22:18.345Z"
   },
   {
    "duration": 2590,
    "start_time": "2025-04-17T15:22:19.094Z"
   },
   {
    "duration": 23,
    "start_time": "2025-04-17T15:22:21.686Z"
   },
   {
    "duration": 1333,
    "start_time": "2025-04-17T15:22:21.710Z"
   },
   {
    "duration": 5,
    "start_time": "2025-04-17T15:22:23.045Z"
   },
   {
    "duration": 31,
    "start_time": "2025-04-17T15:22:23.052Z"
   },
   {
    "duration": 41,
    "start_time": "2025-04-17T15:22:23.085Z"
   },
   {
    "duration": 571,
    "start_time": "2025-04-17T15:22:23.129Z"
   },
   {
    "duration": 3,
    "start_time": "2025-04-17T15:22:23.704Z"
   },
   {
    "duration": 662,
    "start_time": "2025-04-17T15:22:23.709Z"
   },
   {
    "duration": 120645,
    "start_time": "2025-04-17T15:22:24.373Z"
   },
   {
    "duration": 12,
    "start_time": "2025-04-17T15:24:33.292Z"
   },
   {
    "duration": 58,
    "start_time": "2025-04-17T15:24:33.306Z"
   },
   {
    "duration": 22,
    "start_time": "2025-04-17T15:24:33.366Z"
   },
   {
    "duration": 34,
    "start_time": "2025-04-17T15:24:33.389Z"
   },
   {
    "duration": 33,
    "start_time": "2025-04-17T15:24:33.425Z"
   },
   {
    "duration": 15,
    "start_time": "2025-04-17T15:24:33.460Z"
   },
   {
    "duration": 761,
    "start_time": "2025-04-17T15:24:33.477Z"
   },
   {
    "duration": 2829,
    "start_time": "2025-04-17T15:24:34.240Z"
   },
   {
    "duration": 36,
    "start_time": "2025-04-17T15:24:37.071Z"
   },
   {
    "duration": 1136,
    "start_time": "2025-04-17T15:24:37.109Z"
   },
   {
    "duration": 5,
    "start_time": "2025-04-17T15:24:38.247Z"
   },
   {
    "duration": 19,
    "start_time": "2025-04-17T15:24:38.253Z"
   },
   {
    "duration": 37,
    "start_time": "2025-04-17T15:24:38.273Z"
   },
   {
    "duration": 588,
    "start_time": "2025-04-17T15:24:38.313Z"
   },
   {
    "duration": 5,
    "start_time": "2025-04-17T15:24:38.902Z"
   },
   {
    "duration": 661,
    "start_time": "2025-04-17T15:24:38.908Z"
   },
   {
    "duration": 122196,
    "start_time": "2025-04-17T15:24:39.570Z"
   },
   {
    "duration": 1541,
    "start_time": "2025-04-17T15:26:41.768Z"
   },
   {
    "duration": 20,
    "start_time": "2025-04-17T15:26:43.311Z"
   },
   {
    "duration": 1239,
    "start_time": "2025-04-17T15:26:43.332Z"
   },
   {
    "duration": 4621,
    "start_time": "2025-04-17T15:26:44.573Z"
   },
   {
    "duration": 18,
    "start_time": "2025-04-17T15:26:49.205Z"
   },
   {
    "duration": 193,
    "start_time": "2025-04-17T15:26:49.225Z"
   },
   {
    "duration": 333,
    "start_time": "2025-04-17T15:26:49.420Z"
   },
   {
    "duration": 15,
    "start_time": "2025-04-17T15:33:08.429Z"
   },
   {
    "duration": 138,
    "start_time": "2025-04-17T15:34:28.309Z"
   },
   {
    "duration": 129,
    "start_time": "2025-04-17T15:34:53.447Z"
   },
   {
    "duration": 136,
    "start_time": "2025-04-17T15:36:53.546Z"
   },
   {
    "duration": 186,
    "start_time": "2025-04-17T15:37:45.182Z"
   },
   {
    "duration": 173,
    "start_time": "2025-04-17T15:38:20.137Z"
   },
   {
    "duration": 172,
    "start_time": "2025-04-17T15:38:37.323Z"
   },
   {
    "duration": 174,
    "start_time": "2025-04-17T15:39:12.874Z"
   },
   {
    "duration": 191,
    "start_time": "2025-04-17T15:40:01.468Z"
   },
   {
    "duration": 195,
    "start_time": "2025-04-17T15:44:00.485Z"
   },
   {
    "duration": 191,
    "start_time": "2025-04-17T15:44:53.106Z"
   },
   {
    "duration": 141,
    "start_time": "2025-04-17T15:45:35.864Z"
   },
   {
    "duration": 150,
    "start_time": "2025-04-17T15:47:21.602Z"
   },
   {
    "duration": 184,
    "start_time": "2025-04-17T15:48:44.445Z"
   },
   {
    "duration": 172,
    "start_time": "2025-04-17T15:48:47.962Z"
   },
   {
    "duration": 170,
    "start_time": "2025-04-17T15:50:02.201Z"
   },
   {
    "duration": 11,
    "start_time": "2025-04-17T15:53:38.354Z"
   },
   {
    "duration": 11,
    "start_time": "2025-04-17T15:53:47.948Z"
   },
   {
    "duration": 175,
    "start_time": "2025-04-17T15:53:58.330Z"
   },
   {
    "duration": 95,
    "start_time": "2025-04-17T15:56:25.070Z"
   },
   {
    "duration": 21,
    "start_time": "2025-04-17T15:57:52.423Z"
   },
   {
    "duration": 94,
    "start_time": "2025-04-17T15:58:10.928Z"
   },
   {
    "duration": 99,
    "start_time": "2025-04-17T15:58:50.840Z"
   },
   {
    "duration": 105,
    "start_time": "2025-04-17T15:58:57.281Z"
   },
   {
    "duration": 111,
    "start_time": "2025-04-17T15:59:15.908Z"
   },
   {
    "duration": 108,
    "start_time": "2025-04-17T15:59:45.703Z"
   },
   {
    "duration": 122,
    "start_time": "2025-04-17T15:59:57.438Z"
   },
   {
    "duration": 104,
    "start_time": "2025-04-17T16:00:52.465Z"
   },
   {
    "duration": 114,
    "start_time": "2025-04-17T16:02:23.035Z"
   },
   {
    "duration": 110,
    "start_time": "2025-04-17T16:02:36.807Z"
   },
   {
    "duration": 21,
    "start_time": "2025-04-17T16:40:18.840Z"
   },
   {
    "duration": 323,
    "start_time": "2025-04-17T16:50:20.571Z"
   },
   {
    "duration": 726,
    "start_time": "2025-04-17T18:07:14.626Z"
   },
   {
    "duration": 683,
    "start_time": "2025-04-17T18:07:39.639Z"
   },
   {
    "duration": 80,
    "start_time": "2025-04-17T18:08:20.374Z"
   },
   {
    "duration": 6,
    "start_time": "2025-04-17T18:14:37.584Z"
   },
   {
    "duration": 47,
    "start_time": "2025-04-17T18:14:37.593Z"
   },
   {
    "duration": 23,
    "start_time": "2025-04-17T18:14:37.642Z"
   },
   {
    "duration": 24,
    "start_time": "2025-04-17T18:14:37.668Z"
   },
   {
    "duration": 40,
    "start_time": "2025-04-17T18:14:37.694Z"
   },
   {
    "duration": 62,
    "start_time": "2025-04-17T18:14:37.736Z"
   },
   {
    "duration": 764,
    "start_time": "2025-04-17T18:14:37.799Z"
   },
   {
    "duration": 2592,
    "start_time": "2025-04-17T18:14:38.565Z"
   },
   {
    "duration": 25,
    "start_time": "2025-04-17T18:14:41.160Z"
   },
   {
    "duration": 1467,
    "start_time": "2025-04-17T18:14:41.204Z"
   },
   {
    "duration": 6,
    "start_time": "2025-04-17T18:14:42.672Z"
   },
   {
    "duration": 36,
    "start_time": "2025-04-17T18:14:42.679Z"
   },
   {
    "duration": 20,
    "start_time": "2025-04-17T18:14:42.717Z"
   },
   {
    "duration": 567,
    "start_time": "2025-04-17T18:14:42.739Z"
   },
   {
    "duration": 4,
    "start_time": "2025-04-17T18:14:43.308Z"
   },
   {
    "duration": 597,
    "start_time": "2025-04-17T18:14:43.313Z"
   },
   {
    "duration": 122696,
    "start_time": "2025-04-17T18:14:43.912Z"
   },
   {
    "duration": 1599,
    "start_time": "2025-04-17T18:16:46.610Z"
   },
   {
    "duration": 20,
    "start_time": "2025-04-17T18:16:48.211Z"
   },
   {
    "duration": 934,
    "start_time": "2025-04-17T18:16:48.232Z"
   },
   {
    "duration": 4985,
    "start_time": "2025-04-17T18:16:49.168Z"
   },
   {
    "duration": 126,
    "start_time": "2025-04-17T18:16:54.155Z"
   },
   {
    "duration": 29,
    "start_time": "2025-04-17T18:16:54.283Z"
   },
   {
    "duration": 3008,
    "start_time": "2025-04-17T18:22:12.288Z"
   },
   {
    "duration": 35,
    "start_time": "2025-04-17T18:22:15.298Z"
   },
   {
    "duration": 24,
    "start_time": "2025-04-17T18:22:15.335Z"
   },
   {
    "duration": 28,
    "start_time": "2025-04-17T18:22:15.361Z"
   },
   {
    "duration": 30,
    "start_time": "2025-04-17T18:22:15.391Z"
   },
   {
    "duration": 22,
    "start_time": "2025-04-17T18:22:15.422Z"
   },
   {
    "duration": 677,
    "start_time": "2025-04-17T18:22:15.446Z"
   },
   {
    "duration": 2287,
    "start_time": "2025-04-17T18:22:16.125Z"
   },
   {
    "duration": 20,
    "start_time": "2025-04-17T18:22:18.413Z"
   },
   {
    "duration": 1226,
    "start_time": "2025-04-17T18:22:18.434Z"
   },
   {
    "duration": 4,
    "start_time": "2025-04-17T18:22:19.662Z"
   },
   {
    "duration": 8,
    "start_time": "2025-04-17T18:22:19.668Z"
   },
   {
    "duration": 16,
    "start_time": "2025-04-17T18:22:19.678Z"
   },
   {
    "duration": 565,
    "start_time": "2025-04-17T18:22:19.697Z"
   },
   {
    "duration": 4,
    "start_time": "2025-04-17T18:22:20.264Z"
   },
   {
    "duration": 603,
    "start_time": "2025-04-17T18:22:20.270Z"
   },
   {
    "duration": 107778,
    "start_time": "2025-04-17T18:22:20.875Z"
   },
   {
    "duration": 1486,
    "start_time": "2025-04-17T18:24:08.655Z"
   },
   {
    "duration": 19,
    "start_time": "2025-04-17T18:24:10.143Z"
   },
   {
    "duration": 875,
    "start_time": "2025-04-17T18:24:10.163Z"
   },
   {
    "duration": 4356,
    "start_time": "2025-04-17T18:24:11.040Z"
   },
   {
    "duration": 119,
    "start_time": "2025-04-17T18:24:15.398Z"
   },
   {
    "duration": 27,
    "start_time": "2025-04-17T18:24:15.519Z"
   }
  ],
  "kernelspec": {
   "display_name": "Python 3 (ipykernel)",
   "language": "python",
   "name": "python3"
  },
  "language_info": {
   "codemirror_mode": {
    "name": "ipython",
    "version": 3
   },
   "file_extension": ".py",
   "mimetype": "text/x-python",
   "name": "python",
   "nbconvert_exporter": "python",
   "pygments_lexer": "ipython3",
   "version": "3.11.7"
  },
  "toc": {
   "base_numbering": 1,
   "nav_menu": {},
   "number_sections": true,
   "sideBar": true,
   "skip_h1_title": true,
   "title_cell": "Table of Contents",
   "title_sidebar": "Contents",
   "toc_cell": false,
   "toc_position": {
    "height": "calc(100% - 180px)",
    "left": "10px",
    "top": "150px",
    "width": "283.675px"
   },
   "toc_section_display": true,
   "toc_window_display": false
  }
 },
 "nbformat": 4,
 "nbformat_minor": 4
}
