{
 "cells": [
  {
   "cell_type": "markdown",
   "metadata": {},
   "source": [
    "# Анализ оттока клиентов для Метанпромбанк"
   ]
  },
  {
   "cell_type": "markdown",
   "metadata": {},
   "source": [
    "**Задача:**\n",
    "Проанализировать клиентов регионального банка и выделить сегменты, которые склонны уходить из банка. Сформировать рекомендации для снижения оттока."
   ]
  },
  {
   "cell_type": "markdown",
   "metadata": {},
   "source": [
    "## Декомпозиция "
   ]
  },
  {
   "cell_type": "markdown",
   "metadata": {},
   "source": [
    "**1. Загрузка, ознакомление с данными.**\n",
    "\n",
    "    загрузка\n",
    "    вывод информации о датафрейме\n",
    "    вывод по шагу 1"
   ]
  },
  {
   "cell_type": "markdown",
   "metadata": {},
   "source": [
    "**2. Предварительная обработка.**\n",
    "    \n",
    "    корректировка наименования столбцов\n",
    "    проверка и обработка явных, неявных дубликатов\n",
    "    классификация, выяснение причин пропусков, их заполнение/удаление (при возможности и необходимости)\n",
    "    кодирование категориальных данных\n",
    "    вывод по шагу 2"
   ]
  },
  {
   "cell_type": "markdown",
   "metadata": {},
   "source": [
    "**3. Исследовательский анализ данных (EDA).**\n",
    "\n",
    "    разделение параметров на непрерывные и категориальные/дискретные\n",
    "    анализ распределения признаков в разрезе оттока (построим визуализации)\n",
    "    определим портрет клиентов в разрезе оттока\n",
    "    корреляционный анализ признака churn\n",
    "    вывод по шагу  3"
   ]
  },
  {
   "cell_type": "markdown",
   "metadata": {},
   "source": [
    "**4. Проверка статистических гипотез.**\n",
    "\n",
    "    проверим гипотезу равенства доходов клиентов, которые ушли, и тех, что остались\n",
    "    другие гипотезы буду сформулированы в ходе работы над проектом\n",
    "    вывод по шагу 4"
   ]
  },
  {
   "cell_type": "markdown",
   "metadata": {},
   "source": [
    "**5. Подведение промежуточных итогов.**\n",
    "\n",
    "    резюме по результатам EDA, корреляционного анализа, проверки гипотез\n",
    "    выделение признаков, влияющих на отток"
   ]
  },
  {
   "cell_type": "markdown",
   "metadata": {},
   "source": [
    "**6. Сегментация.**\n",
    "\n",
    "    выделим не менее 3 сегментов, от 500 клиентов на каждый, отток в сегменте выше среднего по банку"
   ]
  },
  {
   "cell_type": "markdown",
   "metadata": {},
   "source": [
    "**7. Приоритизация сегментов.**"
   ]
  },
  {
   "cell_type": "markdown",
   "metadata": {},
   "source": [
    "**8. Формирование таргетированных рекомендаций.**"
   ]
  },
  {
   "cell_type": "markdown",
   "metadata": {},
   "source": [
    "**Описание данных.**\n",
    "\n",
    "Датасет содержит данные о клиентах Метанпромбанка. Банк располагается в Ярославле и областных городах: Ростов Великий и Рыбинск:\n",
    "\n",
    "    USERID — идентификатор пользователя,\n",
    "    score — баллы кредитного скоринга,\n",
    "    city — город,\n",
    "    gender — пол,\n",
    "    age — возраст,\n",
    "    equity — количество баллов собственности\n",
    "    balance — баланс на счёте,\n",
    "    products — количество продуктов, которыми пользуется клиент,\n",
    "    credit_card — есть ли кредитная карта,\n",
    "    last_activity — активный клиент,\n",
    "    EST_SALARY — оценочный доход клиента,\n",
    "    сhurn — признак оттока."
   ]
  },
  {
   "cell_type": "code",
   "execution_count": 1,
   "metadata": {},
   "outputs": [
    {
     "name": "stdout",
     "output_type": "stream",
     "text": [
      "Collecting missingno\n",
      "  Downloading missingno-0.5.2-py3-none-any.whl (8.7 kB)\n",
      "Requirement already satisfied: numpy in /opt/conda/lib/python3.9/site-packages (from missingno) (1.21.1)\n",
      "Requirement already satisfied: scipy in /opt/conda/lib/python3.9/site-packages (from missingno) (1.9.1)\n",
      "Requirement already satisfied: matplotlib in /opt/conda/lib/python3.9/site-packages (from missingno) (3.3.4)\n",
      "Requirement already satisfied: seaborn in /opt/conda/lib/python3.9/site-packages (from missingno) (0.11.1)\n",
      "Requirement already satisfied: pyparsing!=2.0.4,!=2.1.2,!=2.1.6,>=2.0.3 in /opt/conda/lib/python3.9/site-packages (from matplotlib->missingno) (2.4.7)\n",
      "Requirement already satisfied: python-dateutil>=2.1 in /opt/conda/lib/python3.9/site-packages (from matplotlib->missingno) (2.8.1)\n",
      "Requirement already satisfied: kiwisolver>=1.0.1 in /opt/conda/lib/python3.9/site-packages (from matplotlib->missingno) (1.4.4)\n",
      "Requirement already satisfied: cycler>=0.10 in /opt/conda/lib/python3.9/site-packages (from matplotlib->missingno) (0.11.0)\n",
      "Requirement already satisfied: pillow>=6.2.0 in /opt/conda/lib/python3.9/site-packages (from matplotlib->missingno) (8.4.0)\n",
      "Requirement already satisfied: six>=1.5 in /opt/conda/lib/python3.9/site-packages (from python-dateutil>=2.1->matplotlib->missingno) (1.16.0)\n",
      "Requirement already satisfied: pandas>=0.23 in /opt/conda/lib/python3.9/site-packages (from seaborn->missingno) (1.2.4)\n",
      "Requirement already satisfied: pytz>=2017.3 in /opt/conda/lib/python3.9/site-packages (from pandas>=0.23->seaborn->missingno) (2021.1)\n",
      "Installing collected packages: missingno\n",
      "Successfully installed missingno-0.5.2\n"
     ]
    }
   ],
   "source": [
    "!pip install missingno"
   ]
  },
  {
   "cell_type": "code",
   "execution_count": 2,
   "metadata": {},
   "outputs": [],
   "source": [
    "import pandas as pd\n",
    "import matplotlib.pyplot as plt\n",
    "import seaborn as sns\n",
    "sns.set(context='notebook', style='darkgrid', font='sans-serif', font_scale=1, color_codes=False, rc=None)\n",
    "import numpy as np\n",
    "from scipy import stats as st\n",
    "import math as mth\n",
    "import missingno as msno\n",
    "import warnings\n",
    "warnings.filterwarnings('ignore')"
   ]
  },
  {
   "cell_type": "markdown",
   "metadata": {},
   "source": [
    "## Загрузка, ознакомление с данными"
   ]
  },
  {
   "cell_type": "code",
   "execution_count": 3,
   "metadata": {},
   "outputs": [],
   "source": [
    "data = pd.read_csv('...') "
   ]
  },
  {
   "cell_type": "code",
   "execution_count": 4,
   "metadata": {},
   "outputs": [
    {
     "name": "stdout",
     "output_type": "stream",
     "text": [
      "<class 'pandas.core.frame.DataFrame'>\n",
      "RangeIndex: 10000 entries, 0 to 9999\n",
      "Data columns (total 12 columns):\n",
      " #   Column         Non-Null Count  Dtype  \n",
      "---  ------         --------------  -----  \n",
      " 0   USERID         10000 non-null  int64  \n",
      " 1   score          10000 non-null  float64\n",
      " 2   city           10000 non-null  object \n",
      " 3   gender         10000 non-null  object \n",
      " 4   age            9974 non-null   float64\n",
      " 5   equity         10000 non-null  int64  \n",
      " 6   balance        7705 non-null   float64\n",
      " 7   products       10000 non-null  int64  \n",
      " 8   credit_card    10000 non-null  int64  \n",
      " 9   last_activity  10000 non-null  int64  \n",
      " 10  EST_SALARY     10000 non-null  float64\n",
      " 11  churn          10000 non-null  int64  \n",
      "dtypes: float64(4), int64(6), object(2)\n",
      "memory usage: 937.6+ KB\n"
     ]
    },
    {
     "data": {
      "text/html": [
       "<div>\n",
       "<style scoped>\n",
       "    .dataframe tbody tr th:only-of-type {\n",
       "        vertical-align: middle;\n",
       "    }\n",
       "\n",
       "    .dataframe tbody tr th {\n",
       "        vertical-align: top;\n",
       "    }\n",
       "\n",
       "    .dataframe thead th {\n",
       "        text-align: right;\n",
       "    }\n",
       "</style>\n",
       "<table border=\"1\" class=\"dataframe\">\n",
       "  <thead>\n",
       "    <tr style=\"text-align: right;\">\n",
       "      <th></th>\n",
       "      <th>USERID</th>\n",
       "      <th>score</th>\n",
       "      <th>city</th>\n",
       "      <th>gender</th>\n",
       "      <th>age</th>\n",
       "      <th>equity</th>\n",
       "      <th>balance</th>\n",
       "      <th>products</th>\n",
       "      <th>credit_card</th>\n",
       "      <th>last_activity</th>\n",
       "      <th>EST_SALARY</th>\n",
       "      <th>churn</th>\n",
       "    </tr>\n",
       "  </thead>\n",
       "  <tbody>\n",
       "    <tr>\n",
       "      <th>0</th>\n",
       "      <td>183012</td>\n",
       "      <td>850.0</td>\n",
       "      <td>Рыбинск</td>\n",
       "      <td>Ж</td>\n",
       "      <td>25.0</td>\n",
       "      <td>1</td>\n",
       "      <td>59214.82</td>\n",
       "      <td>2</td>\n",
       "      <td>0</td>\n",
       "      <td>1</td>\n",
       "      <td>75719.14</td>\n",
       "      <td>1</td>\n",
       "    </tr>\n",
       "    <tr>\n",
       "      <th>1</th>\n",
       "      <td>146556</td>\n",
       "      <td>861.0</td>\n",
       "      <td>Рыбинск</td>\n",
       "      <td>Ж</td>\n",
       "      <td>37.0</td>\n",
       "      <td>5</td>\n",
       "      <td>850594.33</td>\n",
       "      <td>3</td>\n",
       "      <td>1</td>\n",
       "      <td>0</td>\n",
       "      <td>86621.77</td>\n",
       "      <td>0</td>\n",
       "    </tr>\n",
       "    <tr>\n",
       "      <th>2</th>\n",
       "      <td>120722</td>\n",
       "      <td>892.0</td>\n",
       "      <td>Рыбинск</td>\n",
       "      <td>Ж</td>\n",
       "      <td>30.0</td>\n",
       "      <td>0</td>\n",
       "      <td>NaN</td>\n",
       "      <td>1</td>\n",
       "      <td>1</td>\n",
       "      <td>1</td>\n",
       "      <td>107683.34</td>\n",
       "      <td>0</td>\n",
       "    </tr>\n",
       "    <tr>\n",
       "      <th>3</th>\n",
       "      <td>225363</td>\n",
       "      <td>866.0</td>\n",
       "      <td>Ярославль</td>\n",
       "      <td>Ж</td>\n",
       "      <td>51.0</td>\n",
       "      <td>5</td>\n",
       "      <td>1524746.26</td>\n",
       "      <td>2</td>\n",
       "      <td>0</td>\n",
       "      <td>1</td>\n",
       "      <td>174423.53</td>\n",
       "      <td>1</td>\n",
       "    </tr>\n",
       "    <tr>\n",
       "      <th>4</th>\n",
       "      <td>157978</td>\n",
       "      <td>730.0</td>\n",
       "      <td>Ярославль</td>\n",
       "      <td>М</td>\n",
       "      <td>34.0</td>\n",
       "      <td>5</td>\n",
       "      <td>174.00</td>\n",
       "      <td>1</td>\n",
       "      <td>1</td>\n",
       "      <td>0</td>\n",
       "      <td>67353.16</td>\n",
       "      <td>1</td>\n",
       "    </tr>\n",
       "  </tbody>\n",
       "</table>\n",
       "</div>"
      ],
      "text/plain": [
       "   USERID  score       city gender   age  equity     balance  products  \\\n",
       "0  183012  850.0    Рыбинск      Ж  25.0       1    59214.82         2   \n",
       "1  146556  861.0    Рыбинск      Ж  37.0       5   850594.33         3   \n",
       "2  120722  892.0    Рыбинск      Ж  30.0       0         NaN         1   \n",
       "3  225363  866.0  Ярославль      Ж  51.0       5  1524746.26         2   \n",
       "4  157978  730.0  Ярославль      М  34.0       5      174.00         1   \n",
       "\n",
       "   credit_card  last_activity  EST_SALARY  churn  \n",
       "0            0              1    75719.14      1  \n",
       "1            1              0    86621.77      0  \n",
       "2            1              1   107683.34      0  \n",
       "3            0              1   174423.53      1  \n",
       "4            1              0    67353.16      1  "
      ]
     },
     "execution_count": 4,
     "metadata": {},
     "output_type": "execute_result"
    }
   ],
   "source": [
    "data.info()\n",
    "data.head()"
   ]
  },
  {
   "cell_type": "markdown",
   "metadata": {},
   "source": [
    "Данные содержат 10 000 записей о клиентах банка. \n",
    "\n",
    "При этом имеются пропуски в age, balance. \n",
    "\n",
    "На стадии предварительной обработки необходимо привести наименование столбцов к нижнему регистру, проверить и обработать дубликаты, классифицировать, выяснить причины и провести обработку пропусков."
   ]
  },
  {
   "cell_type": "markdown",
   "metadata": {},
   "source": [
    "## Предварительная обработка данных"
   ]
  },
  {
   "cell_type": "markdown",
   "metadata": {},
   "source": [
    "**Скорректировал наименование столбцов.**"
   ]
  },
  {
   "cell_type": "code",
   "execution_count": 5,
   "metadata": {},
   "outputs": [],
   "source": [
    "data.columns = data.columns.str.lower()\n",
    "data.rename(columns={'userid': 'user_id'}, inplace=True)"
   ]
  },
  {
   "cell_type": "markdown",
   "metadata": {},
   "source": [
    "**Проверил наличие дубликатов.**"
   ]
  },
  {
   "cell_type": "code",
   "execution_count": 6,
   "metadata": {
    "scrolled": true
   },
   "outputs": [
    {
     "name": "stdout",
     "output_type": "stream",
     "text": [
      "Количество явных дубликатов: 0 \n",
      "Количество дубликатов по user_id: 73\n"
     ]
    }
   ],
   "source": [
    "print('Количество явных дубликатов:', data.duplicated().sum(), '\\n'\n",
    "      'Количество дубликатов по user_id:', data['user_id'].duplicated().sum())"
   ]
  },
  {
   "cell_type": "code",
   "execution_count": 7,
   "metadata": {},
   "outputs": [
    {
     "data": {
      "text/html": [
       "<div>\n",
       "<style scoped>\n",
       "    .dataframe tbody tr th:only-of-type {\n",
       "        vertical-align: middle;\n",
       "    }\n",
       "\n",
       "    .dataframe tbody tr th {\n",
       "        vertical-align: top;\n",
       "    }\n",
       "\n",
       "    .dataframe thead th {\n",
       "        text-align: right;\n",
       "    }\n",
       "</style>\n",
       "<table border=\"1\" class=\"dataframe\">\n",
       "  <thead>\n",
       "    <tr style=\"text-align: right;\">\n",
       "      <th></th>\n",
       "      <th>user_id</th>\n",
       "      <th>score</th>\n",
       "      <th>city</th>\n",
       "      <th>gender</th>\n",
       "      <th>age</th>\n",
       "      <th>equity</th>\n",
       "      <th>balance</th>\n",
       "      <th>products</th>\n",
       "      <th>credit_card</th>\n",
       "      <th>last_activity</th>\n",
       "      <th>est_salary</th>\n",
       "      <th>churn</th>\n",
       "    </tr>\n",
       "  </thead>\n",
       "  <tbody>\n",
       "    <tr>\n",
       "      <th>1893</th>\n",
       "      <td>116540</td>\n",
       "      <td>883.0</td>\n",
       "      <td>Рыбинск</td>\n",
       "      <td>Ж</td>\n",
       "      <td>55.0</td>\n",
       "      <td>1</td>\n",
       "      <td>362756.49</td>\n",
       "      <td>3</td>\n",
       "      <td>0</td>\n",
       "      <td>1</td>\n",
       "      <td>175920.48</td>\n",
       "      <td>1</td>\n",
       "    </tr>\n",
       "    <tr>\n",
       "      <th>7694</th>\n",
       "      <td>116540</td>\n",
       "      <td>887.0</td>\n",
       "      <td>Ярославль</td>\n",
       "      <td>Ж</td>\n",
       "      <td>38.0</td>\n",
       "      <td>0</td>\n",
       "      <td>NaN</td>\n",
       "      <td>1</td>\n",
       "      <td>0</td>\n",
       "      <td>1</td>\n",
       "      <td>119247.61</td>\n",
       "      <td>0</td>\n",
       "    </tr>\n",
       "    <tr>\n",
       "      <th>7542</th>\n",
       "      <td>117943</td>\n",
       "      <td>880.0</td>\n",
       "      <td>Ярославль</td>\n",
       "      <td>Ж</td>\n",
       "      <td>40.0</td>\n",
       "      <td>0</td>\n",
       "      <td>NaN</td>\n",
       "      <td>1</td>\n",
       "      <td>1</td>\n",
       "      <td>0</td>\n",
       "      <td>137718.93</td>\n",
       "      <td>0</td>\n",
       "    </tr>\n",
       "    <tr>\n",
       "      <th>4866</th>\n",
       "      <td>117943</td>\n",
       "      <td>855.0</td>\n",
       "      <td>Рыбинск</td>\n",
       "      <td>Ж</td>\n",
       "      <td>32.0</td>\n",
       "      <td>6</td>\n",
       "      <td>1036832.93</td>\n",
       "      <td>4</td>\n",
       "      <td>1</td>\n",
       "      <td>1</td>\n",
       "      <td>107792.71</td>\n",
       "      <td>1</td>\n",
       "    </tr>\n",
       "    <tr>\n",
       "      <th>5896</th>\n",
       "      <td>120258</td>\n",
       "      <td>905.0</td>\n",
       "      <td>Ярославль</td>\n",
       "      <td>М</td>\n",
       "      <td>30.0</td>\n",
       "      <td>0</td>\n",
       "      <td>NaN</td>\n",
       "      <td>1</td>\n",
       "      <td>1</td>\n",
       "      <td>1</td>\n",
       "      <td>146427.96</td>\n",
       "      <td>0</td>\n",
       "    </tr>\n",
       "    <tr>\n",
       "      <th>...</th>\n",
       "      <td>...</td>\n",
       "      <td>...</td>\n",
       "      <td>...</td>\n",
       "      <td>...</td>\n",
       "      <td>...</td>\n",
       "      <td>...</td>\n",
       "      <td>...</td>\n",
       "      <td>...</td>\n",
       "      <td>...</td>\n",
       "      <td>...</td>\n",
       "      <td>...</td>\n",
       "      <td>...</td>\n",
       "    </tr>\n",
       "    <tr>\n",
       "      <th>2597</th>\n",
       "      <td>226719</td>\n",
       "      <td>990.0</td>\n",
       "      <td>Ярославль</td>\n",
       "      <td>М</td>\n",
       "      <td>37.0</td>\n",
       "      <td>4</td>\n",
       "      <td>14648692.14</td>\n",
       "      <td>2</td>\n",
       "      <td>0</td>\n",
       "      <td>0</td>\n",
       "      <td>934412.61</td>\n",
       "      <td>1</td>\n",
       "    </tr>\n",
       "    <tr>\n",
       "      <th>8205</th>\n",
       "      <td>227795</td>\n",
       "      <td>840.0</td>\n",
       "      <td>Рыбинск</td>\n",
       "      <td>М</td>\n",
       "      <td>34.0</td>\n",
       "      <td>2</td>\n",
       "      <td>350768.03</td>\n",
       "      <td>1</td>\n",
       "      <td>1</td>\n",
       "      <td>0</td>\n",
       "      <td>102036.14</td>\n",
       "      <td>1</td>\n",
       "    </tr>\n",
       "    <tr>\n",
       "      <th>8497</th>\n",
       "      <td>227795</td>\n",
       "      <td>839.0</td>\n",
       "      <td>Ярославль</td>\n",
       "      <td>М</td>\n",
       "      <td>34.0</td>\n",
       "      <td>2</td>\n",
       "      <td>326593.14</td>\n",
       "      <td>2</td>\n",
       "      <td>1</td>\n",
       "      <td>0</td>\n",
       "      <td>103314.92</td>\n",
       "      <td>0</td>\n",
       "    </tr>\n",
       "    <tr>\n",
       "      <th>6457</th>\n",
       "      <td>228075</td>\n",
       "      <td>839.0</td>\n",
       "      <td>Рыбинск</td>\n",
       "      <td>М</td>\n",
       "      <td>39.0</td>\n",
       "      <td>5</td>\n",
       "      <td>507199.85</td>\n",
       "      <td>3</td>\n",
       "      <td>0</td>\n",
       "      <td>1</td>\n",
       "      <td>85195.80</td>\n",
       "      <td>0</td>\n",
       "    </tr>\n",
       "    <tr>\n",
       "      <th>1247</th>\n",
       "      <td>228075</td>\n",
       "      <td>932.0</td>\n",
       "      <td>Ярославль</td>\n",
       "      <td>М</td>\n",
       "      <td>NaN</td>\n",
       "      <td>5</td>\n",
       "      <td>7601719.20</td>\n",
       "      <td>2</td>\n",
       "      <td>1</td>\n",
       "      <td>1</td>\n",
       "      <td>408121.16</td>\n",
       "      <td>0</td>\n",
       "    </tr>\n",
       "  </tbody>\n",
       "</table>\n",
       "<p>146 rows × 12 columns</p>\n",
       "</div>"
      ],
      "text/plain": [
       "      user_id  score       city gender   age  equity      balance  products  \\\n",
       "1893   116540  883.0    Рыбинск      Ж  55.0       1    362756.49         3   \n",
       "7694   116540  887.0  Ярославль      Ж  38.0       0          NaN         1   \n",
       "7542   117943  880.0  Ярославль      Ж  40.0       0          NaN         1   \n",
       "4866   117943  855.0    Рыбинск      Ж  32.0       6   1036832.93         4   \n",
       "5896   120258  905.0  Ярославль      М  30.0       0          NaN         1   \n",
       "...       ...    ...        ...    ...   ...     ...          ...       ...   \n",
       "2597   226719  990.0  Ярославль      М  37.0       4  14648692.14         2   \n",
       "8205   227795  840.0    Рыбинск      М  34.0       2    350768.03         1   \n",
       "8497   227795  839.0  Ярославль      М  34.0       2    326593.14         2   \n",
       "6457   228075  839.0    Рыбинск      М  39.0       5    507199.85         3   \n",
       "1247   228075  932.0  Ярославль      М   NaN       5   7601719.20         2   \n",
       "\n",
       "      credit_card  last_activity  est_salary  churn  \n",
       "1893            0              1   175920.48      1  \n",
       "7694            0              1   119247.61      0  \n",
       "7542            1              0   137718.93      0  \n",
       "4866            1              1   107792.71      1  \n",
       "5896            1              1   146427.96      0  \n",
       "...           ...            ...         ...    ...  \n",
       "2597            0              0   934412.61      1  \n",
       "8205            1              0   102036.14      1  \n",
       "8497            1              0   103314.92      0  \n",
       "6457            0              1    85195.80      0  \n",
       "1247            1              1   408121.16      0  \n",
       "\n",
       "[146 rows x 12 columns]"
      ]
     },
     "execution_count": 7,
     "metadata": {},
     "output_type": "execute_result"
    }
   ],
   "source": [
    "data[data['user_id'].duplicated(keep=False)].sort_values('user_id') "
   ]
  },
  {
   "cell_type": "markdown",
   "metadata": {},
   "source": [
    "В строках с аналогичным user_id клиенты с разными параметрами (то есть это разные клиенты), при этом, если обратить внимание на churn, можно сделать вывод, что новым клиентам присваивается user_id ушедших. С учетом этого оснований для удаления строк с одинаковым user_id нет."
   ]
  },
  {
   "cell_type": "markdown",
   "metadata": {},
   "source": [
    "Удалим признак user_id."
   ]
  },
  {
   "cell_type": "code",
   "execution_count": 8,
   "metadata": {
    "scrolled": true
   },
   "outputs": [],
   "source": [
    "data.drop(columns='user_id', inplace=True)"
   ]
  },
  {
   "cell_type": "markdown",
   "metadata": {},
   "source": [
    "**Классификация, выяснение причин и обработка пропусков (age, balance).**"
   ]
  },
  {
   "cell_type": "code",
   "execution_count": 9,
   "metadata": {},
   "outputs": [
    {
     "name": "stdout",
     "output_type": "stream",
     "text": [
      "Пропусков в age: 0.26 % \n",
      "Пропусков в balance: 22.95 %\n"
     ]
    }
   ],
   "source": [
    "print('Пропусков в age:', (data.age.isna().sum() / len(data)).round(4) * 100, '%', '\\n'\n",
    "      'Пропусков в balance:', (data.balance.isna().sum() / len(data)).round(4) * 100, '%')"
   ]
  },
  {
   "cell_type": "markdown",
   "metadata": {},
   "source": [
    "Построим матрицу пропущенных значений."
   ]
  },
  {
   "cell_type": "code",
   "execution_count": 10,
   "metadata": {},
   "outputs": [
    {
     "data": {
      "image/png": "[encoded data removed]",
      "text/plain": [
       "<Figure size 1800x720 with 2 Axes>"
      ]
     },
     "metadata": {},
     "output_type": "display_data"
    }
   ],
   "source": [
    "msno.matrix(data);"
   ]
  },
  {
   "cell_type": "code",
   "execution_count": 11,
   "metadata": {},
   "outputs": [
    {
     "name": "stdout",
     "output_type": "stream",
     "text": [
      "Количество клиентов с пропуском в age: 26 \n",
      "Количество отточных клиентов с пропуском в age: 1\n"
     ]
    }
   ],
   "source": [
    "print('Количество клиентов с пропуском в age:', len(data[data['age'].isna()]), '\\n'\n",
    "      'Количество отточных клиентов с пропуском в age:', len(data[data['age'].isna()].query('churn == 1')))"
   ]
  },
  {
   "cell_type": "markdown",
   "metadata": {},
   "source": [
    "Имеется незначительное количество строк с пропуском в age, из них всего 1 отточный клиент."
   ]
  },
  {
   "cell_type": "code",
   "execution_count": 12,
   "metadata": {},
   "outputs": [
    {
     "data": {
      "text/html": [
       "<div>\n",
       "<style scoped>\n",
       "    .dataframe tbody tr th:only-of-type {\n",
       "        vertical-align: middle;\n",
       "    }\n",
       "\n",
       "    .dataframe tbody tr th {\n",
       "        vertical-align: top;\n",
       "    }\n",
       "\n",
       "    .dataframe thead th {\n",
       "        text-align: right;\n",
       "    }\n",
       "</style>\n",
       "<table border=\"1\" class=\"dataframe\">\n",
       "  <thead>\n",
       "    <tr style=\"text-align: right;\">\n",
       "      <th></th>\n",
       "      <th>score</th>\n",
       "      <th>city</th>\n",
       "      <th>gender</th>\n",
       "      <th>age</th>\n",
       "      <th>equity</th>\n",
       "      <th>balance</th>\n",
       "      <th>products</th>\n",
       "      <th>credit_card</th>\n",
       "      <th>last_activity</th>\n",
       "      <th>est_salary</th>\n",
       "      <th>churn</th>\n",
       "    </tr>\n",
       "  </thead>\n",
       "  <tbody>\n",
       "    <tr>\n",
       "      <th>1247</th>\n",
       "      <td>932.0</td>\n",
       "      <td>Ярославль</td>\n",
       "      <td>М</td>\n",
       "      <td>NaN</td>\n",
       "      <td>5</td>\n",
       "      <td>7601719.20</td>\n",
       "      <td>2</td>\n",
       "      <td>1</td>\n",
       "      <td>1</td>\n",
       "      <td>408121.16</td>\n",
       "      <td>0</td>\n",
       "    </tr>\n",
       "    <tr>\n",
       "      <th>2165</th>\n",
       "      <td>692.0</td>\n",
       "      <td>Рыбинск</td>\n",
       "      <td>Ж</td>\n",
       "      <td>NaN</td>\n",
       "      <td>0</td>\n",
       "      <td>NaN</td>\n",
       "      <td>1</td>\n",
       "      <td>1</td>\n",
       "      <td>1</td>\n",
       "      <td>160368.82</td>\n",
       "      <td>0</td>\n",
       "    </tr>\n",
       "    <tr>\n",
       "      <th>2444</th>\n",
       "      <td>913.0</td>\n",
       "      <td>Ярославль</td>\n",
       "      <td>М</td>\n",
       "      <td>NaN</td>\n",
       "      <td>0</td>\n",
       "      <td>NaN</td>\n",
       "      <td>1</td>\n",
       "      <td>1</td>\n",
       "      <td>1</td>\n",
       "      <td>135693.24</td>\n",
       "      <td>0</td>\n",
       "    </tr>\n",
       "    <tr>\n",
       "      <th>3091</th>\n",
       "      <td>836.0</td>\n",
       "      <td>Ростов</td>\n",
       "      <td>Ж</td>\n",
       "      <td>NaN</td>\n",
       "      <td>5</td>\n",
       "      <td>294315.53</td>\n",
       "      <td>2</td>\n",
       "      <td>0</td>\n",
       "      <td>1</td>\n",
       "      <td>63310.22</td>\n",
       "      <td>1</td>\n",
       "    </tr>\n",
       "    <tr>\n",
       "      <th>4912</th>\n",
       "      <td>834.0</td>\n",
       "      <td>Рыбинск</td>\n",
       "      <td>М</td>\n",
       "      <td>NaN</td>\n",
       "      <td>1</td>\n",
       "      <td>238330.52</td>\n",
       "      <td>2</td>\n",
       "      <td>0</td>\n",
       "      <td>1</td>\n",
       "      <td>93775.06</td>\n",
       "      <td>0</td>\n",
       "    </tr>\n",
       "    <tr>\n",
       "      <th>5470</th>\n",
       "      <td>827.0</td>\n",
       "      <td>Рыбинск</td>\n",
       "      <td>Ж</td>\n",
       "      <td>NaN</td>\n",
       "      <td>4</td>\n",
       "      <td>448959.07</td>\n",
       "      <td>2</td>\n",
       "      <td>1</td>\n",
       "      <td>1</td>\n",
       "      <td>67835.95</td>\n",
       "      <td>0</td>\n",
       "    </tr>\n",
       "    <tr>\n",
       "      <th>5495</th>\n",
       "      <td>884.0</td>\n",
       "      <td>Рыбинск</td>\n",
       "      <td>Ж</td>\n",
       "      <td>NaN</td>\n",
       "      <td>0</td>\n",
       "      <td>NaN</td>\n",
       "      <td>1</td>\n",
       "      <td>1</td>\n",
       "      <td>1</td>\n",
       "      <td>137500.77</td>\n",
       "      <td>0</td>\n",
       "    </tr>\n",
       "    <tr>\n",
       "      <th>7236</th>\n",
       "      <td>908.0</td>\n",
       "      <td>Рыбинск</td>\n",
       "      <td>Ж</td>\n",
       "      <td>NaN</td>\n",
       "      <td>4</td>\n",
       "      <td>1120340.31</td>\n",
       "      <td>3</td>\n",
       "      <td>1</td>\n",
       "      <td>1</td>\n",
       "      <td>85002.15</td>\n",
       "      <td>0</td>\n",
       "    </tr>\n",
       "    <tr>\n",
       "      <th>7248</th>\n",
       "      <td>920.0</td>\n",
       "      <td>Рыбинск</td>\n",
       "      <td>Ж</td>\n",
       "      <td>NaN</td>\n",
       "      <td>0</td>\n",
       "      <td>NaN</td>\n",
       "      <td>1</td>\n",
       "      <td>1</td>\n",
       "      <td>0</td>\n",
       "      <td>159248.67</td>\n",
       "      <td>0</td>\n",
       "    </tr>\n",
       "    <tr>\n",
       "      <th>7345</th>\n",
       "      <td>829.0</td>\n",
       "      <td>Ярославль</td>\n",
       "      <td>Ж</td>\n",
       "      <td>NaN</td>\n",
       "      <td>3</td>\n",
       "      <td>188648.77</td>\n",
       "      <td>2</td>\n",
       "      <td>0</td>\n",
       "      <td>1</td>\n",
       "      <td>75206.90</td>\n",
       "      <td>0</td>\n",
       "    </tr>\n",
       "    <tr>\n",
       "      <th>7409</th>\n",
       "      <td>777.0</td>\n",
       "      <td>Ярославль</td>\n",
       "      <td>М</td>\n",
       "      <td>NaN</td>\n",
       "      <td>2</td>\n",
       "      <td>171510.23</td>\n",
       "      <td>1</td>\n",
       "      <td>1</td>\n",
       "      <td>1</td>\n",
       "      <td>75409.63</td>\n",
       "      <td>0</td>\n",
       "    </tr>\n",
       "    <tr>\n",
       "      <th>8015</th>\n",
       "      <td>670.0</td>\n",
       "      <td>Ярославль</td>\n",
       "      <td>Ж</td>\n",
       "      <td>NaN</td>\n",
       "      <td>0</td>\n",
       "      <td>NaN</td>\n",
       "      <td>1</td>\n",
       "      <td>1</td>\n",
       "      <td>1</td>\n",
       "      <td>168699.33</td>\n",
       "      <td>0</td>\n",
       "    </tr>\n",
       "    <tr>\n",
       "      <th>8070</th>\n",
       "      <td>940.0</td>\n",
       "      <td>Рыбинск</td>\n",
       "      <td>М</td>\n",
       "      <td>NaN</td>\n",
       "      <td>0</td>\n",
       "      <td>NaN</td>\n",
       "      <td>1</td>\n",
       "      <td>0</td>\n",
       "      <td>1</td>\n",
       "      <td>147696.95</td>\n",
       "      <td>0</td>\n",
       "    </tr>\n",
       "    <tr>\n",
       "      <th>8293</th>\n",
       "      <td>930.0</td>\n",
       "      <td>Ярославль</td>\n",
       "      <td>М</td>\n",
       "      <td>NaN</td>\n",
       "      <td>0</td>\n",
       "      <td>NaN</td>\n",
       "      <td>1</td>\n",
       "      <td>1</td>\n",
       "      <td>1</td>\n",
       "      <td>199542.51</td>\n",
       "      <td>0</td>\n",
       "    </tr>\n",
       "    <tr>\n",
       "      <th>8385</th>\n",
       "      <td>915.0</td>\n",
       "      <td>Рыбинск</td>\n",
       "      <td>М</td>\n",
       "      <td>NaN</td>\n",
       "      <td>0</td>\n",
       "      <td>NaN</td>\n",
       "      <td>1</td>\n",
       "      <td>1</td>\n",
       "      <td>0</td>\n",
       "      <td>71179.53</td>\n",
       "      <td>0</td>\n",
       "    </tr>\n",
       "    <tr>\n",
       "      <th>8449</th>\n",
       "      <td>805.0</td>\n",
       "      <td>Ярославль</td>\n",
       "      <td>Ж</td>\n",
       "      <td>NaN</td>\n",
       "      <td>0</td>\n",
       "      <td>NaN</td>\n",
       "      <td>1</td>\n",
       "      <td>0</td>\n",
       "      <td>1</td>\n",
       "      <td>922080.25</td>\n",
       "      <td>0</td>\n",
       "    </tr>\n",
       "    <tr>\n",
       "      <th>8632</th>\n",
       "      <td>893.0</td>\n",
       "      <td>Ярославль</td>\n",
       "      <td>М</td>\n",
       "      <td>NaN</td>\n",
       "      <td>0</td>\n",
       "      <td>NaN</td>\n",
       "      <td>1</td>\n",
       "      <td>1</td>\n",
       "      <td>0</td>\n",
       "      <td>173929.92</td>\n",
       "      <td>0</td>\n",
       "    </tr>\n",
       "    <tr>\n",
       "      <th>8785</th>\n",
       "      <td>663.0</td>\n",
       "      <td>Ярославль</td>\n",
       "      <td>М</td>\n",
       "      <td>NaN</td>\n",
       "      <td>0</td>\n",
       "      <td>NaN</td>\n",
       "      <td>1</td>\n",
       "      <td>1</td>\n",
       "      <td>1</td>\n",
       "      <td>117197.56</td>\n",
       "      <td>0</td>\n",
       "    </tr>\n",
       "    <tr>\n",
       "      <th>9104</th>\n",
       "      <td>776.0</td>\n",
       "      <td>Рыбинск</td>\n",
       "      <td>Ж</td>\n",
       "      <td>NaN</td>\n",
       "      <td>5</td>\n",
       "      <td>796735.09</td>\n",
       "      <td>1</td>\n",
       "      <td>1</td>\n",
       "      <td>1</td>\n",
       "      <td>55073.63</td>\n",
       "      <td>0</td>\n",
       "    </tr>\n",
       "    <tr>\n",
       "      <th>9301</th>\n",
       "      <td>942.0</td>\n",
       "      <td>Рыбинск</td>\n",
       "      <td>Ж</td>\n",
       "      <td>NaN</td>\n",
       "      <td>0</td>\n",
       "      <td>NaN</td>\n",
       "      <td>1</td>\n",
       "      <td>1</td>\n",
       "      <td>1</td>\n",
       "      <td>163804.73</td>\n",
       "      <td>0</td>\n",
       "    </tr>\n",
       "    <tr>\n",
       "      <th>9380</th>\n",
       "      <td>894.0</td>\n",
       "      <td>Рыбинск</td>\n",
       "      <td>М</td>\n",
       "      <td>NaN</td>\n",
       "      <td>0</td>\n",
       "      <td>NaN</td>\n",
       "      <td>1</td>\n",
       "      <td>1</td>\n",
       "      <td>0</td>\n",
       "      <td>178012.28</td>\n",
       "      <td>0</td>\n",
       "    </tr>\n",
       "    <tr>\n",
       "      <th>9457</th>\n",
       "      <td>929.0</td>\n",
       "      <td>Ярославль</td>\n",
       "      <td>М</td>\n",
       "      <td>NaN</td>\n",
       "      <td>0</td>\n",
       "      <td>NaN</td>\n",
       "      <td>1</td>\n",
       "      <td>1</td>\n",
       "      <td>0</td>\n",
       "      <td>381868.89</td>\n",
       "      <td>0</td>\n",
       "    </tr>\n",
       "    <tr>\n",
       "      <th>9632</th>\n",
       "      <td>927.0</td>\n",
       "      <td>Ярославль</td>\n",
       "      <td>М</td>\n",
       "      <td>NaN</td>\n",
       "      <td>0</td>\n",
       "      <td>NaN</td>\n",
       "      <td>1</td>\n",
       "      <td>1</td>\n",
       "      <td>0</td>\n",
       "      <td>231254.86</td>\n",
       "      <td>0</td>\n",
       "    </tr>\n",
       "    <tr>\n",
       "      <th>9634</th>\n",
       "      <td>917.0</td>\n",
       "      <td>Ярославль</td>\n",
       "      <td>М</td>\n",
       "      <td>NaN</td>\n",
       "      <td>0</td>\n",
       "      <td>NaN</td>\n",
       "      <td>1</td>\n",
       "      <td>1</td>\n",
       "      <td>1</td>\n",
       "      <td>192644.15</td>\n",
       "      <td>0</td>\n",
       "    </tr>\n",
       "    <tr>\n",
       "      <th>9667</th>\n",
       "      <td>849.0</td>\n",
       "      <td>Ярославль</td>\n",
       "      <td>М</td>\n",
       "      <td>NaN</td>\n",
       "      <td>4</td>\n",
       "      <td>1254013.85</td>\n",
       "      <td>2</td>\n",
       "      <td>1</td>\n",
       "      <td>1</td>\n",
       "      <td>119106.67</td>\n",
       "      <td>0</td>\n",
       "    </tr>\n",
       "    <tr>\n",
       "      <th>9819</th>\n",
       "      <td>832.0</td>\n",
       "      <td>Рыбинск</td>\n",
       "      <td>Ж</td>\n",
       "      <td>NaN</td>\n",
       "      <td>3</td>\n",
       "      <td>385763.16</td>\n",
       "      <td>2</td>\n",
       "      <td>0</td>\n",
       "      <td>1</td>\n",
       "      <td>59651.35</td>\n",
       "      <td>0</td>\n",
       "    </tr>\n",
       "  </tbody>\n",
       "</table>\n",
       "</div>"
      ],
      "text/plain": [
       "      score       city gender  age  equity     balance  products  credit_card  \\\n",
       "1247  932.0  Ярославль      М  NaN       5  7601719.20         2            1   \n",
       "2165  692.0    Рыбинск      Ж  NaN       0         NaN         1            1   \n",
       "2444  913.0  Ярославль      М  NaN       0         NaN         1            1   \n",
       "3091  836.0     Ростов      Ж  NaN       5   294315.53         2            0   \n",
       "4912  834.0    Рыбинск      М  NaN       1   238330.52         2            0   \n",
       "5470  827.0    Рыбинск      Ж  NaN       4   448959.07         2            1   \n",
       "5495  884.0    Рыбинск      Ж  NaN       0         NaN         1            1   \n",
       "7236  908.0    Рыбинск      Ж  NaN       4  1120340.31         3            1   \n",
       "7248  920.0    Рыбинск      Ж  NaN       0         NaN         1            1   \n",
       "7345  829.0  Ярославль      Ж  NaN       3   188648.77         2            0   \n",
       "7409  777.0  Ярославль      М  NaN       2   171510.23         1            1   \n",
       "8015  670.0  Ярославль      Ж  NaN       0         NaN         1            1   \n",
       "8070  940.0    Рыбинск      М  NaN       0         NaN         1            0   \n",
       "8293  930.0  Ярославль      М  NaN       0         NaN         1            1   \n",
       "8385  915.0    Рыбинск      М  NaN       0         NaN         1            1   \n",
       "8449  805.0  Ярославль      Ж  NaN       0         NaN         1            0   \n",
       "8632  893.0  Ярославль      М  NaN       0         NaN         1            1   \n",
       "8785  663.0  Ярославль      М  NaN       0         NaN         1            1   \n",
       "9104  776.0    Рыбинск      Ж  NaN       5   796735.09         1            1   \n",
       "9301  942.0    Рыбинск      Ж  NaN       0         NaN         1            1   \n",
       "9380  894.0    Рыбинск      М  NaN       0         NaN         1            1   \n",
       "9457  929.0  Ярославль      М  NaN       0         NaN         1            1   \n",
       "9632  927.0  Ярославль      М  NaN       0         NaN         1            1   \n",
       "9634  917.0  Ярославль      М  NaN       0         NaN         1            1   \n",
       "9667  849.0  Ярославль      М  NaN       4  1254013.85         2            1   \n",
       "9819  832.0    Рыбинск      Ж  NaN       3   385763.16         2            0   \n",
       "\n",
       "      last_activity  est_salary  churn  \n",
       "1247              1   408121.16      0  \n",
       "2165              1   160368.82      0  \n",
       "2444              1   135693.24      0  \n",
       "3091              1    63310.22      1  \n",
       "4912              1    93775.06      0  \n",
       "5470              1    67835.95      0  \n",
       "5495              1   137500.77      0  \n",
       "7236              1    85002.15      0  \n",
       "7248              0   159248.67      0  \n",
       "7345              1    75206.90      0  \n",
       "7409              1    75409.63      0  \n",
       "8015              1   168699.33      0  \n",
       "8070              1   147696.95      0  \n",
       "8293              1   199542.51      0  \n",
       "8385              0    71179.53      0  \n",
       "8449              1   922080.25      0  \n",
       "8632              0   173929.92      0  \n",
       "8785              1   117197.56      0  \n",
       "9104              1    55073.63      0  \n",
       "9301              1   163804.73      0  \n",
       "9380              0   178012.28      0  \n",
       "9457              0   381868.89      0  \n",
       "9632              0   231254.86      0  \n",
       "9634              1   192644.15      0  \n",
       "9667              1   119106.67      0  \n",
       "9819              1    59651.35      0  "
      ]
     },
     "execution_count": 12,
     "metadata": {},
     "output_type": "execute_result"
    }
   ],
   "source": [
    "data[data.age.isna()]"
   ]
  },
  {
   "cell_type": "code",
   "execution_count": 13,
   "metadata": {},
   "outputs": [],
   "source": [
    "data['missed_age'] = data['age'].isna() * 1"
   ]
  },
  {
   "cell_type": "markdown",
   "metadata": {},
   "source": [
    "Введем столбец с признаком 1 (пропущено)/0 (не пропущено) для пропусков значений в balance."
   ]
  },
  {
   "cell_type": "code",
   "execution_count": 14,
   "metadata": {},
   "outputs": [
    {
     "data": {
      "text/html": [
       "<div>\n",
       "<style scoped>\n",
       "    .dataframe tbody tr th:only-of-type {\n",
       "        vertical-align: middle;\n",
       "    }\n",
       "\n",
       "    .dataframe tbody tr th {\n",
       "        vertical-align: top;\n",
       "    }\n",
       "\n",
       "    .dataframe thead th {\n",
       "        text-align: right;\n",
       "    }\n",
       "</style>\n",
       "<table border=\"1\" class=\"dataframe\">\n",
       "  <thead>\n",
       "    <tr style=\"text-align: right;\">\n",
       "      <th></th>\n",
       "      <th>score</th>\n",
       "      <th>city</th>\n",
       "      <th>gender</th>\n",
       "      <th>age</th>\n",
       "      <th>equity</th>\n",
       "      <th>balance</th>\n",
       "      <th>products</th>\n",
       "      <th>credit_card</th>\n",
       "      <th>last_activity</th>\n",
       "      <th>est_salary</th>\n",
       "      <th>churn</th>\n",
       "      <th>missed_age</th>\n",
       "      <th>missed_balance</th>\n",
       "    </tr>\n",
       "  </thead>\n",
       "  <tbody>\n",
       "    <tr>\n",
       "      <th>2</th>\n",
       "      <td>892.0</td>\n",
       "      <td>Рыбинск</td>\n",
       "      <td>Ж</td>\n",
       "      <td>30.0</td>\n",
       "      <td>0</td>\n",
       "      <td>NaN</td>\n",
       "      <td>1</td>\n",
       "      <td>1</td>\n",
       "      <td>1</td>\n",
       "      <td>107683.34</td>\n",
       "      <td>0</td>\n",
       "      <td>0</td>\n",
       "      <td>1</td>\n",
       "    </tr>\n",
       "    <tr>\n",
       "      <th>9</th>\n",
       "      <td>906.0</td>\n",
       "      <td>Ярославль</td>\n",
       "      <td>Ж</td>\n",
       "      <td>67.0</td>\n",
       "      <td>0</td>\n",
       "      <td>NaN</td>\n",
       "      <td>1</td>\n",
       "      <td>0</td>\n",
       "      <td>1</td>\n",
       "      <td>238055.53</td>\n",
       "      <td>0</td>\n",
       "      <td>0</td>\n",
       "      <td>1</td>\n",
       "    </tr>\n",
       "    <tr>\n",
       "      <th>10</th>\n",
       "      <td>927.0</td>\n",
       "      <td>Ростов</td>\n",
       "      <td>М</td>\n",
       "      <td>52.0</td>\n",
       "      <td>0</td>\n",
       "      <td>NaN</td>\n",
       "      <td>1</td>\n",
       "      <td>1</td>\n",
       "      <td>1</td>\n",
       "      <td>196820.07</td>\n",
       "      <td>0</td>\n",
       "      <td>0</td>\n",
       "      <td>1</td>\n",
       "    </tr>\n",
       "    <tr>\n",
       "      <th>11</th>\n",
       "      <td>921.0</td>\n",
       "      <td>Ростов</td>\n",
       "      <td>М</td>\n",
       "      <td>41.0</td>\n",
       "      <td>0</td>\n",
       "      <td>NaN</td>\n",
       "      <td>1</td>\n",
       "      <td>1</td>\n",
       "      <td>1</td>\n",
       "      <td>217469.48</td>\n",
       "      <td>0</td>\n",
       "      <td>0</td>\n",
       "      <td>1</td>\n",
       "    </tr>\n",
       "    <tr>\n",
       "      <th>19</th>\n",
       "      <td>922.0</td>\n",
       "      <td>Рыбинск</td>\n",
       "      <td>Ж</td>\n",
       "      <td>53.0</td>\n",
       "      <td>0</td>\n",
       "      <td>NaN</td>\n",
       "      <td>1</td>\n",
       "      <td>0</td>\n",
       "      <td>0</td>\n",
       "      <td>147094.82</td>\n",
       "      <td>0</td>\n",
       "      <td>0</td>\n",
       "      <td>1</td>\n",
       "    </tr>\n",
       "  </tbody>\n",
       "</table>\n",
       "</div>"
      ],
      "text/plain": [
       "    score       city gender   age  equity  balance  products  credit_card  \\\n",
       "2   892.0    Рыбинск      Ж  30.0       0      NaN         1            1   \n",
       "9   906.0  Ярославль      Ж  67.0       0      NaN         1            0   \n",
       "10  927.0     Ростов      М  52.0       0      NaN         1            1   \n",
       "11  921.0     Ростов      М  41.0       0      NaN         1            1   \n",
       "19  922.0    Рыбинск      Ж  53.0       0      NaN         1            0   \n",
       "\n",
       "    last_activity  est_salary  churn  missed_age  missed_balance  \n",
       "2               1   107683.34      0           0               1  \n",
       "9               1   238055.53      0           0               1  \n",
       "10              1   196820.07      0           0               1  \n",
       "11              1   217469.48      0           0               1  \n",
       "19              0   147094.82      0           0               1  "
      ]
     },
     "execution_count": 14,
     "metadata": {},
     "output_type": "execute_result"
    }
   ],
   "source": [
    "data['missed_balance'] = data['balance'].isna() * 1\n",
    "data.query('missed_balance == 1').head()"
   ]
  },
  {
   "cell_type": "markdown",
   "metadata": {},
   "source": [
    "**Кодирование категориальных неупорядоченных признаков (city, gender).**"
   ]
  },
  {
   "cell_type": "code",
   "execution_count": 15,
   "metadata": {},
   "outputs": [
    {
     "name": "stdout",
     "output_type": "stream",
     "text": [
      "<class 'pandas.core.frame.DataFrame'>\n",
      "RangeIndex: 10000 entries, 0 to 9999\n",
      "Data columns (total 18 columns):\n",
      " #   Column          Non-Null Count  Dtype  \n",
      "---  ------          --------------  -----  \n",
      " 0   score           10000 non-null  float64\n",
      " 1   age             9974 non-null   float64\n",
      " 2   equity          10000 non-null  int64  \n",
      " 3   balance         7705 non-null   float64\n",
      " 4   products        10000 non-null  int64  \n",
      " 5   credit_card     10000 non-null  int64  \n",
      " 6   last_activity   10000 non-null  int64  \n",
      " 7   est_salary      10000 non-null  float64\n",
      " 8   churn           10000 non-null  int64  \n",
      " 9   missed_age      10000 non-null  int64  \n",
      " 10  missed_balance  10000 non-null  int64  \n",
      " 11  city_name       10000 non-null  object \n",
      " 12  gender_sign     10000 non-null  object \n",
      " 13  city_Ростов     10000 non-null  uint8  \n",
      " 14  city_Рыбинск    10000 non-null  uint8  \n",
      " 15  city_Ярославль  10000 non-null  uint8  \n",
      " 16  gender_Ж        10000 non-null  uint8  \n",
      " 17  gender_М        10000 non-null  uint8  \n",
      "dtypes: float64(4), int64(7), object(2), uint8(5)\n",
      "memory usage: 1.0+ MB\n"
     ]
    }
   ],
   "source": [
    "data_dumm = data.copy()\n",
    "data_dumm['city_name'] = data_dumm['city']\n",
    "data_dumm['gender_sign'] = data_dumm['gender']\n",
    "\n",
    "data_dumm = pd.get_dummies(data_dumm, columns=['city', 'gender'])\n",
    "data_dumm.info()"
   ]
  },
  {
   "cell_type": "markdown",
   "metadata": {},
   "source": [
    "Выведем матрицу корреляции."
   ]
  },
  {
   "cell_type": "code",
   "execution_count": 16,
   "metadata": {},
   "outputs": [
    {
     "data": {
      "image/png": "[encoded data removed]",
      "text/plain": [
       "<Figure size 1080x1224 with 2 Axes>"
      ]
     },
     "metadata": {},
     "output_type": "display_data"
    }
   ],
   "source": [
    "mask = np.triu(np.ones_like(data_dumm.corr(), dtype=bool))\n",
    "\n",
    "f, ax = plt.subplots(figsize=(15, 17))\n",
    "cmap = sns.diverging_palette(230, 20, as_cmap=True)\n",
    "\n",
    "sns.heatmap(data_dumm.corr(), mask=mask, cmap=cmap, vmax=.3, center=0,\n",
    "            square=True, annot = True, linewidths=.5, cbar_kws={\"shrink\": .5})\n",
    "plt.show()"
   ]
  },
  {
   "cell_type": "markdown",
   "metadata": {},
   "source": [
    "Закономерностей в пропусках age не усматривается, можно классифицировать их как MCAR (Missing Completely At Random / Отсутствует совершенно случайно) — пропуски не зависят от переменных и не ведут к систематической ошибке (смещение, bias), но увеличивают случайную ошибку (разброс, variance), можно их отбрасывать или заполнять, т.к. заполнение не повлияет на характер связи между заполняемой переменной и остальными. Удалю пропуски в age.\n",
    "\n",
    "Можно отметить зависимость missed_balance и признаками equity (высокая), products (умеренная), est_salary (умеренная). \n",
    "\n",
    "Таким образом, пропуски в balance классифицируются как MNAR (Missing Not At Random / отсутствует не случайно) — пропуски зависят от данных, без дополнительного обоснования их нельзя отбрасывать или заполнять одним значением, так как это приведёт к заметным искажениям."
   ]
  },
  {
   "cell_type": "code",
   "execution_count": 17,
   "metadata": {},
   "outputs": [],
   "source": [
    "data.dropna(subset=['age'], inplace=True)\n",
    "data_dumm.dropna(subset=['age'], inplace=True)"
   ]
  },
  {
   "cell_type": "markdown",
   "metadata": {},
   "source": [
    "**Кодирование категориальных неупорядоченных признаков (city, gender).**"
   ]
  },
  {
   "cell_type": "markdown",
   "metadata": {},
   "source": [
    "На шаге 3 скорректированы наименования столбцов.\n",
    "\n",
    "Установлено, что явных дубликатов нет. Количество неявных дубликатов по признаку user_id 73. В строках с аналогичным user_id записаны клиенты с разными параметрами (то есть это разные клиенты), при этом, если обратить внимание на churn, можно сделать вывод, что новым клиентам присваивается user_id ушедших. С учетом этого оснований для удаления строк с одинаковым user_id нет. Признак user_id удален, поскольку не нужен для дальнейшей работы.\n",
    "\n",
    "Имеются пропуски в age (0,26% и 26), balance (22,95% и 2295). С учетом незначительного количества пропусков в age - оставил пропуски. Можно отметить зависимость пропущенных значений в balance и признаками equity (сильная), products, est_salary. Таким образом, пропуски в balance классифицируются как MNAR (Missing Not At Random / отсутствует не случайно) — пропуски зависят от данных, без дополнительного обоснования их нельзя отбрасывать или заполнять одним значением, так как это приведёт к заметным искажениям. Оставил пропуски в balance.\n",
    "\n",
    "Кодировал категориальные неупорядоченные признаки (city, gender) при помощи функции pd.get_dummies() для дальнейшей работы с корреляцией."
   ]
  },
  {
   "cell_type": "markdown",
   "metadata": {},
   "source": [
    "P.S. Далее на стадии EDA при построении графиков обнаружился клиент без единого продукта, который попал в отток. Так же отсутствует кредитная карта, нет активности. Можно удалить строку, чтобы исключить влияние на исследование. Мне кажется, что эта запись подвисла в период разрешения юридических вопросов в рамках наследственного дела. Если так, то по понятным причинам ценности для исследования оттока она не имеет. "
   ]
  },
  {
   "cell_type": "code",
   "execution_count": 18,
   "metadata": {},
   "outputs": [
    {
     "data": {
      "text/html": [
       "<div>\n",
       "<style scoped>\n",
       "    .dataframe tbody tr th:only-of-type {\n",
       "        vertical-align: middle;\n",
       "    }\n",
       "\n",
       "    .dataframe tbody tr th {\n",
       "        vertical-align: top;\n",
       "    }\n",
       "\n",
       "    .dataframe thead th {\n",
       "        text-align: right;\n",
       "    }\n",
       "</style>\n",
       "<table border=\"1\" class=\"dataframe\">\n",
       "  <thead>\n",
       "    <tr style=\"text-align: right;\">\n",
       "      <th></th>\n",
       "      <th>score</th>\n",
       "      <th>city</th>\n",
       "      <th>gender</th>\n",
       "      <th>age</th>\n",
       "      <th>equity</th>\n",
       "      <th>balance</th>\n",
       "      <th>products</th>\n",
       "      <th>credit_card</th>\n",
       "      <th>last_activity</th>\n",
       "      <th>est_salary</th>\n",
       "      <th>churn</th>\n",
       "      <th>missed_age</th>\n",
       "      <th>missed_balance</th>\n",
       "    </tr>\n",
       "  </thead>\n",
       "  <tbody>\n",
       "    <tr>\n",
       "      <th>8957</th>\n",
       "      <td>962.0</td>\n",
       "      <td>Рыбинск</td>\n",
       "      <td>Ж</td>\n",
       "      <td>79.0</td>\n",
       "      <td>3</td>\n",
       "      <td>NaN</td>\n",
       "      <td>0</td>\n",
       "      <td>0</td>\n",
       "      <td>0</td>\n",
       "      <td>25063.96</td>\n",
       "      <td>1</td>\n",
       "      <td>0</td>\n",
       "      <td>1</td>\n",
       "    </tr>\n",
       "  </tbody>\n",
       "</table>\n",
       "</div>"
      ],
      "text/plain": [
       "      score     city gender   age  equity  balance  products  credit_card  \\\n",
       "8957  962.0  Рыбинск      Ж  79.0       3      NaN         0            0   \n",
       "\n",
       "      last_activity  est_salary  churn  missed_age  missed_balance  \n",
       "8957              0    25063.96      1           0               1  "
      ]
     },
     "execution_count": 18,
     "metadata": {},
     "output_type": "execute_result"
    }
   ],
   "source": [
    "data.query('products == 0')"
   ]
  },
  {
   "cell_type": "code",
   "execution_count": 19,
   "metadata": {},
   "outputs": [
    {
     "data": {
      "image/png": "[encoded data removed]",
      "text/plain": [
       "<Figure size 432x288 with 1 Axes>"
      ]
     },
     "metadata": {},
     "output_type": "display_data"
    }
   ],
   "source": [
    "sns.barplot(data=data, x='products', y='churn').set(title='Отток в разрезе количества продуктов')\n",
    "plt.axhline(y=data.churn.mean(), color='blue', linestyle='--', label ='Уровень среднего оттока по банку')\n",
    "plt.legend(loc ='upper right')\n",
    "plt.show()"
   ]
  },
  {
   "cell_type": "code",
   "execution_count": 20,
   "metadata": {},
   "outputs": [
    {
     "name": "stdout",
     "output_type": "stream",
     "text": [
      "<class 'pandas.core.frame.DataFrame'>\n",
      "Int64Index: 9973 entries, 0 to 9999\n",
      "Data columns (total 13 columns):\n",
      " #   Column          Non-Null Count  Dtype  \n",
      "---  ------          --------------  -----  \n",
      " 0   score           9973 non-null   float64\n",
      " 1   city            9973 non-null   object \n",
      " 2   gender          9973 non-null   object \n",
      " 3   age             9973 non-null   float64\n",
      " 4   equity          9973 non-null   int64  \n",
      " 5   balance         7695 non-null   float64\n",
      " 6   products        9973 non-null   int64  \n",
      " 7   credit_card     9973 non-null   int64  \n",
      " 8   last_activity   9973 non-null   int64  \n",
      " 9   est_salary      9973 non-null   float64\n",
      " 10  churn           9973 non-null   int64  \n",
      " 11  missed_age      9973 non-null   int64  \n",
      " 12  missed_balance  9973 non-null   int64  \n",
      "dtypes: float64(4), int64(7), object(2)\n",
      "memory usage: 1.1+ MB\n"
     ]
    }
   ],
   "source": [
    "data = data.loc[data['products'] != 0]\n",
    "data.info()"
   ]
  },
  {
   "cell_type": "markdown",
   "metadata": {},
   "source": [
    "## Исследовательский анализ данных (EDA)"
   ]
  },
  {
   "cell_type": "markdown",
   "metadata": {},
   "source": [
    "**Разделение и анализ непрерывных (score, age, balance, est_salary) и дискретных признаков (city, gender, equity, products, credit_card, last_activity).**"
   ]
  },
  {
   "cell_type": "code",
   "execution_count": 21,
   "metadata": {},
   "outputs": [
    {
     "data": {
      "image/png": "[encoded data removed]",
      "text/plain": [
       "<Figure size 1440x1080 with 4 Axes>"
      ]
     },
     "metadata": {},
     "output_type": "display_data"
    }
   ],
   "source": [
    "fig, axes = plt.subplots(2, 2, figsize=(20, 15))\n",
    "sns.despine(left=True)\n",
    "\n",
    "sns.histplot(data=data, hue='churn', x='score', stat='density', common_norm=False, kde=True, ax=axes[0, 0])\n",
    "sns.histplot(data=data, hue='churn', x='age', stat='density', common_norm=False, kde=True, ax=axes[0, 1])\n",
    "sns.histplot(data=data, hue='churn', x='balance', stat='density', common_norm=False, kde=True, ax=axes[1, 0])\n",
    "axes[1, 0].set_xlim(0, 2000000)\n",
    "sns.histplot(data=data, hue='churn', x='est_salary', stat='density', common_norm=False, kde=True, ax=axes[1, 1])\n",
    "axes[1, 1].set_xlim(0, 600000)\n",
    "\n",
    "axes[0, 0].set_title('Баллы кредитного скоринга')\n",
    "axes[0, 1].set_title('Возраст')\n",
    "axes[1, 0].set_title('Баланс на счете')\n",
    "axes[1, 1].set_title('Оценочный доход клиента')\n",
    "\n",
    "fig.suptitle('Отток клиентов в разрезе непрерывных признаков:')\n",
    "fig.show()"
   ]
  },
  {
   "cell_type": "markdown",
   "metadata": {},
   "source": [
    "Отток выше лояльности в интервалах:\n",
    "\n",
    "    баллов скоринга 820-940, \n",
    "    возраста 26-36 и 51-61, \n",
    "    баланса на счет от 1 млн., \n",
    "    уровня доходов 100 - 250 тыс."
   ]
  },
  {
   "cell_type": "code",
   "execution_count": 22,
   "metadata": {},
   "outputs": [
    {
     "name": "stdout",
     "output_type": "stream",
     "text": [
      "Доля оттока по банку: 0.18229218891005716\n"
     ]
    }
   ],
   "source": [
    "print('Доля оттока по банку:', data.churn.mean())"
   ]
  },
  {
   "cell_type": "code",
   "execution_count": 23,
   "metadata": {},
   "outputs": [
    {
     "data": {
      "image/png": "[encoded data removed]",
      "text/plain": [
       "<Figure size 1440x1080 with 6 Axes>"
      ]
     },
     "metadata": {},
     "output_type": "display_data"
    }
   ],
   "source": [
    "fig, axes = plt.subplots(2, 3, figsize=(20, 15))\n",
    "sns.despine(left=True)\n",
    "\n",
    "sns.barplot(data=data, x='city', y='churn', ax=axes[0, 0])\n",
    "axes[0, 0].axhline(y=data.churn.mean(), color='blue', linestyle='--', label ='Средний отток')\n",
    "sns.barplot(data=data, x='gender', y='churn', ax=axes[0, 1])\n",
    "axes[0, 1].axhline(y=data.churn.mean(), color='blue', linestyle='--', label ='Средний отток')\n",
    "sns.barplot(data=data, x='equity', y='churn', ax=axes[0, 2])\n",
    "axes[0, 2].axhline(y=data.churn.mean(), color='blue', linestyle='--', label ='Средний отток')\n",
    "sns.barplot(data=data, x='products', y='churn', ax=axes[1, 0])\n",
    "axes[1, 0].axhline(y=data.churn.mean(), color='blue', linestyle='--', label ='Средний отток')\n",
    "sns.barplot(data=data, x='credit_card', y='churn', ax=axes[1, 1])\n",
    "axes[1, 1].axhline(y=data.churn.mean(), color='blue', linestyle='--', label ='Средний отток')\n",
    "sns.barplot(data=data, x='last_activity', y='churn', ax=axes[1, 2])\n",
    "axes[1, 2].axhline(y=data.churn.mean(), color='blue', linestyle='--', label ='Средний отток')\n",
    "\n",
    "axes[0, 0].set_title('Город')\n",
    "axes[0, 1].set_title('Пол')\n",
    "axes[0, 2].set_title('Баллы собственности')\n",
    "axes[1, 0].set_title('Количество продуктов')\n",
    "axes[1, 1].set_title('Наличие кредитной карты')\n",
    "axes[1, 2].set_title('Активность')\n",
    "\n",
    "axes[0, 0].legend(loc ='upper left')\n",
    "fig.suptitle('Отток клиентов в разрезе дискретных признаков:')\n",
    "\n",
    "fig.show()"
   ]
  },
  {
   "cell_type": "markdown",
   "metadata": {},
   "source": [
    "Уровень оттока выше среднего по банку:\n",
    "\n",
    "    в Ярославле и Рыбинске,\n",
    "    среди мужчин,\n",
    "    от 3 до 9 баллов собственности,\n",
    "    от 3 до 5 продуктов,\n",
    "    не имеющих кредитной карты,\n",
    "    среди активных клиентов"
   ]
  },
  {
   "cell_type": "markdown",
   "metadata": {},
   "source": [
    "**Корреляционный анализ.**"
   ]
  },
  {
   "cell_type": "markdown",
   "metadata": {},
   "source": [
    "Удалил признаки missed_balance, missed_age."
   ]
  },
  {
   "cell_type": "code",
   "execution_count": 24,
   "metadata": {},
   "outputs": [],
   "source": [
    "data.drop(columns='missed_balance', inplace=True)\n",
    "data_dumm.drop(columns='missed_balance', inplace=True)\n",
    "data.drop(columns='missed_age', inplace=True)\n",
    "data_dumm.drop(columns='missed_age', inplace=True)"
   ]
  },
  {
   "cell_type": "markdown",
   "metadata": {},
   "source": [
    "Построим матрицу корреляции churn с признаками."
   ]
  },
  {
   "cell_type": "code",
   "execution_count": 25,
   "metadata": {},
   "outputs": [
    {
     "data": {
      "image/png": "[encoded data removed]",
      "text/plain": [
       "<Figure size 576x720 with 2 Axes>"
      ]
     },
     "metadata": {},
     "output_type": "display_data"
    }
   ],
   "source": [
    "mask = np.triu(np.ones_like(data_dumm.corr().loc[:,['churn']].drop('churn').sort_values('churn'), dtype=bool))\n",
    "\n",
    "f, ax = plt.subplots(figsize=(8, 10))\n",
    "cmap = sns.diverging_palette(230, 20, as_cmap=True)\n",
    "\n",
    "sns.heatmap(\n",
    "            data_dumm.corr().loc[:,['churn']].drop('churn').sort_values('churn'), \n",
    "            mask=mask, cmap=cmap, vmax=.3, center=0, annot = True, fmt='.0%', \n",
    "            linewidths=.5, cbar_kws={\"shrink\": .5}\n",
    "            ).set_title('Корреляция оттока с признаками')\n",
    "plt.show()"
   ]
  },
  {
   "cell_type": "markdown",
   "metadata": {},
   "source": [
    "Корреляционный анализ подтверждает выводы по графикам выше, так имеется слабая положительная связь с products, очень слабая с  equity, last_activity, gender_M."
   ]
  },
  {
   "cell_type": "markdown",
   "metadata": {},
   "source": [
    "**Портрет клиентов в разрезе оттока.**"
   ]
  },
  {
   "cell_type": "code",
   "execution_count": 26,
   "metadata": {
    "scrolled": true
   },
   "outputs": [
    {
     "data": {
      "text/html": [
       "<div>\n",
       "<style scoped>\n",
       "    .dataframe tbody tr th:only-of-type {\n",
       "        vertical-align: middle;\n",
       "    }\n",
       "\n",
       "    .dataframe tbody tr th {\n",
       "        vertical-align: top;\n",
       "    }\n",
       "\n",
       "    .dataframe thead th {\n",
       "        text-align: right;\n",
       "    }\n",
       "</style>\n",
       "<table border=\"1\" class=\"dataframe\">\n",
       "  <thead>\n",
       "    <tr style=\"text-align: right;\">\n",
       "      <th></th>\n",
       "      <th>Не отток</th>\n",
       "      <th>Отток</th>\n",
       "      <th>Относительная разница, %</th>\n",
       "    </tr>\n",
       "  </thead>\n",
       "  <tbody>\n",
       "    <tr>\n",
       "      <th>Средний возраст</th>\n",
       "      <td>43.020846</td>\n",
       "      <td>41.429593</td>\n",
       "      <td>3.840861</td>\n",
       "    </tr>\n",
       "    <tr>\n",
       "      <th>Средний баланс</th>\n",
       "      <td>733031.630149</td>\n",
       "      <td>1134458.209291</td>\n",
       "      <td>54.762518</td>\n",
       "    </tr>\n",
       "    <tr>\n",
       "      <th>Средний доход</th>\n",
       "      <td>147674.637881</td>\n",
       "      <td>148357.483157</td>\n",
       "      <td>0.462398</td>\n",
       "    </tr>\n",
       "    <tr>\n",
       "      <th>Средний скоринг</th>\n",
       "      <td>845.396199</td>\n",
       "      <td>863.361936</td>\n",
       "      <td>2.125126</td>\n",
       "    </tr>\n",
       "    <tr>\n",
       "      <th>Медианная оценка собственности</th>\n",
       "      <td>3</td>\n",
       "      <td>4</td>\n",
       "      <td>-</td>\n",
       "    </tr>\n",
       "    <tr>\n",
       "      <th>Медианное количество продуктов</th>\n",
       "      <td>2</td>\n",
       "      <td>2</td>\n",
       "      <td>-</td>\n",
       "    </tr>\n",
       "    <tr>\n",
       "      <th>Мода по активности</th>\n",
       "      <td>0</td>\n",
       "      <td>1</td>\n",
       "      <td>-</td>\n",
       "    </tr>\n",
       "    <tr>\n",
       "      <th>Мода по количеству кредитных карт</th>\n",
       "      <td>1</td>\n",
       "      <td>1</td>\n",
       "      <td>-</td>\n",
       "    </tr>\n",
       "    <tr>\n",
       "      <th>Мода по городу</th>\n",
       "      <td>Ярославль</td>\n",
       "      <td>Ярославль</td>\n",
       "      <td>-</td>\n",
       "    </tr>\n",
       "    <tr>\n",
       "      <th>Мода по полу</th>\n",
       "      <td>Ж</td>\n",
       "      <td>М</td>\n",
       "      <td>-</td>\n",
       "    </tr>\n",
       "  </tbody>\n",
       "</table>\n",
       "</div>"
      ],
      "text/plain": [
       "                                        Не отток           Отток  \\\n",
       "Средний возраст                        43.020846       41.429593   \n",
       "Средний баланс                     733031.630149  1134458.209291   \n",
       "Средний доход                      147674.637881   148357.483157   \n",
       "Средний скоринг                       845.396199      863.361936   \n",
       "Медианная оценка собственности                 3               4   \n",
       "Медианное количество продуктов                 2               2   \n",
       "Мода по активности                             0               1   \n",
       "Мода по количеству кредитных карт              1               1   \n",
       "Мода по городу                         Ярославль       Ярославль   \n",
       "Мода по полу                                   Ж               М   \n",
       "\n",
       "                                  Относительная разница, %  \n",
       "Средний возраст                                   3.840861  \n",
       "Средний баланс                                   54.762518  \n",
       "Средний доход                                     0.462398  \n",
       "Средний скоринг                                   2.125126  \n",
       "Медианная оценка собственности                           -  \n",
       "Медианное количество продуктов                           -  \n",
       "Мода по активности                                       -  \n",
       "Мода по количеству кредитных карт                        -  \n",
       "Мода по городу                                           -  \n",
       "Мода по полу                                             -  "
      ]
     },
     "execution_count": 26,
     "metadata": {},
     "output_type": "execute_result"
    }
   ],
   "source": [
    "portrait = (\n",
    "    data.pivot_table(index = 'churn', values = ['est_salary', 'age', 'balance', 'score'], aggfunc = 'mean')\n",
    "    .join([data.pivot_table(index = 'churn', values = ['products', 'equity'], aggfunc = 'median'),\n",
    "           data.groupby(['churn']).agg({'last_activity': pd.Series.mode, 'credit_card': pd.Series.mode, 'city': pd.Series.mode, 'gender': pd.Series.mode}),   \n",
    "          ])).T\n",
    "\n",
    "portrait.columns = ['Не отток', 'Отток']\n",
    "portrait.index = ['Средний возраст', 'Средний баланс', 'Средний доход', 'Средний скоринг',\n",
    "                    'Медианная оценка собственности', 'Медианное количество продуктов', 'Мода по активности', \n",
    "                    'Мода по количеству кредитных карт', 'Мода по городу', 'Мода по полу']\n",
    "\n",
    "relative_diff = portrait.iloc[0:4]\n",
    "relative_diff['Относительная разница, %'] = (\n",
    "    abs(relative_diff['Не отток'] - relative_diff['Отток']) * 100 / relative_diff.min(axis=1)\n",
    "    )\n",
    "\n",
    "portrait = pd.concat([portrait, relative_diff['Относительная разница, %']], axis=1)\n",
    "portrait['Относительная разница, %'].fillna('-', inplace=True)\n",
    "portrait"
   ]
  },
  {
   "cell_type": "markdown",
   "metadata": {},
   "source": [
    "Типичный лояльный клиенты: женщина 43 лет из Ярославля, баланс около 733 тыс., доход - 147 тыс., скоринг - 845, оценка собственности - 3, количество используемых продуктов - 2, нет активности, использует 1 кредитную карту.\n",
    "\n",
    "Типичный отточный клиент: мужчина 41 год из Ярославля, баланс около 113 тыс., доход - 148 тыс., скоринг - 863, оценка собственности - 4, количество используемых продуктов - 2, активность, использует 1 кредитную карту."
   ]
  },
  {
   "cell_type": "markdown",
   "metadata": {},
   "source": [
    "На шаге 4 (EDA) разделены и проанализированы непрерывные и дискретные признаки, построены визуализации.\n",
    "\n",
    "Отток составляет 18%.\n",
    "\n",
    "Отток выше лояльности в интервалах:\n",
    "\n",
    "    баллов скоринга 820-940, \n",
    "    возраста 26-36 и 51-61, \n",
    "    баланса на счет от 1 млн., \n",
    "    уровня доходов 100 - 250 тыс.\n",
    "\n",
    "Уровень оттока выше среднего по банку:\n",
    "\n",
    "    в Ярославле и Рыбинске,\n",
    "    среди мужчин,\n",
    "    от 3 до 9 баллов собственности,\n",
    "    от 3 до 5 продуктов,\n",
    "    не имеющих кредитной карты,\n",
    "    среди активных клиентов\n",
    "    \n",
    "Проведен корреляционный анализ, который подтверждает выводы  (по визуализациям). Имеется слабая положительная связь с products, очень слабая с equity, last_activity, gender_M.\n",
    "\n",
    "Сформирован портрет клиентов банка в виде таблицы в разрезе оттока, по признакам рассчитаны меры центральной тенденции, относительная разница между ними."
   ]
  },
  {
   "cell_type": "markdown",
   "metadata": {},
   "source": [
    "## Проверка статистических гипотез"
   ]
  },
  {
   "cell_type": "markdown",
   "metadata": {},
   "source": [
    "**Гипотеза о равенстве среднего дохода ушедших и оставшихся клиентов.**\n",
    "\n",
    "H0: Средний доход ушедших и лояльных клиентов равен.\n",
    "\n",
    "H1: Средний доход ушедших и лояльных клиентов не равен. "
   ]
  },
  {
   "cell_type": "markdown",
   "metadata": {},
   "source": [
    "Воспользоваться t-тестом, чтобы проверить гипотезу, возможно если:\n",
    "\n",
    "    выборки не зависят друг от друга\n",
    "    выборочные средние нормально распределены (с учетом размера выборок и в соответствии с ЦПТ)\n",
    "\n",
    "Выборки не равны (разница более чем на 25%, поскольку отток составляет 18%). Проверим наличие выбросов."
   ]
  },
  {
   "cell_type": "code",
   "execution_count": 27,
   "metadata": {},
   "outputs": [
    {
     "data": {
      "image/png": "[encoded data removed]",
      "text/plain": [
       "<Figure size 720x360 with 1 Axes>"
      ]
     },
     "metadata": {},
     "output_type": "display_data"
    }
   ],
   "source": [
    "plt.figure(figsize=(10, 5))\n",
    "(\n",
    "    sns.boxplot(x='churn', y='est_salary', data=data)\n",
    "    .set(title='Доход в разрезе оттока', xlabel='Отток', ylabel='Оценочный доход', ylim=(0, 2e6))\n",
    ")\n",
    "fig.show()"
   ]
  },
  {
   "cell_type": "markdown",
   "metadata": {},
   "source": [
    "С учетом значительных выбросов (которые влияют на параметрические результаты) проведем тест Манна-Уитни."
   ]
  },
  {
   "cell_type": "code",
   "execution_count": 28,
   "metadata": {},
   "outputs": [
    {
     "name": "stdout",
     "output_type": "stream",
     "text": [
      "p-значение:  0.00016830729188229058\n",
      "Отвергаем нулевую гипотезу\n"
     ]
    }
   ],
   "source": [
    "alpha = 0.05\n",
    "\n",
    "results = st.mannwhitneyu(data.query('churn == 1')['est_salary'], data.query('churn == 0')['est_salary'])\n",
    "\n",
    "print('p-значение: ', results.pvalue)\n",
    "\n",
    "if results.pvalue < alpha:\n",
    "    print('Отвергаем нулевую гипотезу')\n",
    "else:\n",
    "    print('Не получилось отвергнуть нулевую гипотезу') "
   ]
  },
  {
   "cell_type": "markdown",
   "metadata": {},
   "source": [
    "С учетом результата теста Манна-Уитни отвергаем гипотезу о равенстве среднего дохода отточных и лояльных клиентов."
   ]
  },
  {
   "cell_type": "markdown",
   "metadata": {},
   "source": [
    "**Гипотеза о равенстве среднего дохода мужчин и женщин среди отточных клиентов.**\n",
    "\n",
    "H0: Средний доход мужчин и женщин в оттоке равен.\n",
    "\n",
    "H1: Средний доход мужчин и женщин в оттоке не равен. "
   ]
  },
  {
   "cell_type": "code",
   "execution_count": 29,
   "metadata": {},
   "outputs": [
    {
     "name": "stdout",
     "output_type": "stream",
     "text": [
      "Медианный доход мужчин: 153129.64758241756 \n",
      "Медианный доход женщин: 139466.97840944884\n"
     ]
    }
   ],
   "source": [
    "print('Медианный доход мужчин:', data.query('gender == \"М\" & churn == 1').est_salary.mean(), '\\n'\n",
    "      'Медианный доход женщин:', data.query('gender == \"Ж\" & churn == 1').est_salary.mean())"
   ]
  },
  {
   "cell_type": "markdown",
   "metadata": {},
   "source": [
    "С учетом значительных выбросов (которые влияют на параметрические результаты) проведем тест Манна-Уитни."
   ]
  },
  {
   "cell_type": "code",
   "execution_count": 30,
   "metadata": {},
   "outputs": [
    {
     "data": {
      "image/png": "[encoded data removed]",
      "text/plain": [
       "<Figure size 720x360 with 1 Axes>"
      ]
     },
     "metadata": {},
     "output_type": "display_data"
    }
   ],
   "source": [
    "plt.figure(figsize=(10, 5))\n",
    "(\n",
    "    sns.boxplot(x='gender', y='est_salary', data=data.query('churn == 1'))\n",
    "    .set(title='Доходы мужчин и женщин', xlabel='Пол', ylabel='Оценочный доход', ylim=(0, 1.5e6))\n",
    ")\n",
    "fig.show()"
   ]
  },
  {
   "cell_type": "code",
   "execution_count": 31,
   "metadata": {},
   "outputs": [
    {
     "name": "stdout",
     "output_type": "stream",
     "text": [
      "p-значение:  0.0934373520172292\n",
      "Не получилось отвергнуть нулевую гипотезу о равенстве среднего дохода мужчин и женщин в оттоке\n"
     ]
    }
   ],
   "source": [
    "alpha = 0.05\n",
    "\n",
    "results = st.mannwhitneyu(data.query('gender == \"М\" & churn == 1')['est_salary'], \n",
    "                          data.query('gender == \"Ж\" & churn == 1')['est_salary'])\n",
    "\n",
    "print('p-значение: ', results.pvalue)\n",
    "\n",
    "if results.pvalue < alpha:\n",
    "    print('Отвергаем нулевую гипотезу')\n",
    "else:\n",
    "    print('Не получилось отвергнуть нулевую гипотезу о равенстве среднего дохода мужчин и женщин в оттоке') "
   ]
  },
  {
   "cell_type": "markdown",
   "metadata": {},
   "source": [
    "**Гипотеза о равенстве среднего скоринга ушедших и оставшихся клиентов.**\n",
    "\n",
    "H0: Средний скоринг ушедших и лояльных клиентов равен.\n",
    "\n",
    "H1: Средний скоринг ушедших и лояльных клиентов не равен. "
   ]
  },
  {
   "cell_type": "markdown",
   "metadata": {},
   "source": [
    "Явных выбросов по признаку score не имеется. Можно применить t-тест с параметром equal_var=False (поскольку выборки разного размера)."
   ]
  },
  {
   "cell_type": "code",
   "execution_count": 32,
   "metadata": {
    "scrolled": true
   },
   "outputs": [
    {
     "data": {
      "image/png": "[encoded data removed]",
      "text/plain": [
       "<Figure size 720x360 with 1 Axes>"
      ]
     },
     "metadata": {},
     "output_type": "display_data"
    }
   ],
   "source": [
    "plt.figure(figsize=(10, 5))\n",
    "(\n",
    "    sns.boxplot(x='churn', y='score', data=data)\n",
    "    .set(title='Скоринг в разрезе оттока', xlabel='Отток', ylabel='Баллы скоринга', ylim=(600, 1200))\n",
    ")\n",
    "fig.show()"
   ]
  },
  {
   "cell_type": "code",
   "execution_count": 33,
   "metadata": {},
   "outputs": [
    {
     "name": "stdout",
     "output_type": "stream",
     "text": [
      "1.3179430198200596e-37\n",
      "Отвергаем нулевую гипотезу о равенстве среднего скоринга ушедших и оставшихся клиентов\n"
     ]
    }
   ],
   "source": [
    "alpha = 0.05\n",
    "\n",
    "results = st.ttest_ind(data.query('churn == 1')['score'], \n",
    "                       data.query('churn == 0')['score'], equal_var = False)\n",
    "\n",
    "print (results.pvalue) \n",
    "\n",
    "if results.pvalue < alpha:\n",
    "    print ('Отвергаем нулевую гипотезу о равенстве среднего скоринга ушедших и оставшихся клиентов')\n",
    "else:\n",
    "    print ('Не получилось отвергнуть нулевую гипотезу')"
   ]
  },
  {
   "cell_type": "markdown",
   "metadata": {},
   "source": [
    "**Гипотеза о равенстве среднего баланса ушедших и оставшихся клиентов.**"
   ]
  },
  {
   "cell_type": "markdown",
   "metadata": {},
   "source": [
    "H0: Средний баланс ушедших и лояльных клиентов равен.\n",
    "\n",
    "H1: Средний баланс ушедших и лояльных клиентов не равен."
   ]
  },
  {
   "cell_type": "markdown",
   "metadata": {},
   "source": [
    "Имеются выраженные выбросы, поэтому для проверки гипотез используем тест Манна-Уитни."
   ]
  },
  {
   "cell_type": "code",
   "execution_count": 34,
   "metadata": {},
   "outputs": [
    {
     "data": {
      "image/png": "[encoded data removed]",
      "text/plain": [
       "<Figure size 720x360 with 1 Axes>"
      ]
     },
     "metadata": {},
     "output_type": "display_data"
    }
   ],
   "source": [
    "plt.figure(figsize=(10, 5))\n",
    "(\n",
    "    sns.boxplot(x='churn', y='balance', data=data)\n",
    "    .set(title='Баланс в разрезе оттока', xlabel='Отток', ylabel='Баланс')\n",
    ")\n",
    "fig.show()"
   ]
  },
  {
   "cell_type": "code",
   "execution_count": 35,
   "metadata": {
    "scrolled": true
   },
   "outputs": [
    {
     "name": "stdout",
     "output_type": "stream",
     "text": [
      "p-значение:  1.4891162831993242e-70\n",
      "Отвергаем нулевую гипотезу о равенстве среднего баланса ушедших и оставшихся клиентов\n"
     ]
    }
   ],
   "source": [
    "alpha = 0.05\n",
    "\n",
    "results = st.mannwhitneyu(data.query('churn == 1 & ~balance.isna()')['balance'], \n",
    "                          data.query('churn == 0 & ~balance.isna()')['balance'])\n",
    "\n",
    "print('p-значение: ', results.pvalue)\n",
    "\n",
    "if results.pvalue < alpha:\n",
    "    print('Отвергаем нулевую гипотезу о равенстве среднего баланса ушедших и оставшихся клиентов')\n",
    "else:\n",
    "    print('Не получилось отвергнуть нулевую гипотезу') "
   ]
  },
  {
   "cell_type": "markdown",
   "metadata": {},
   "source": [
    "На шаге 5 проверены статистические гипотезы о равенстве средних доходов, баллов скоринга и баланса лояльных и отточных клиентов, о равенстве средних доходов мужчин и женщин (в оттоке).\n",
    "\n",
    "По результатам проверки отвергаем гипотезы о равенстве средних по указанным признакам лояльных и отточных клиентов. Гипотезу о равенстве средних доходов мужчин и женщин (в оттоке) отвергнуть не получилось."
   ]
  },
  {
   "cell_type": "markdown",
   "metadata": {},
   "source": [
    "## Подведение промежуточных итогов"
   ]
  },
  {
   "cell_type": "markdown",
   "metadata": {},
   "source": [
    "Отток составляет 18%.\n",
    "\n",
    "Отток выше лояльности в интервалах:\n",
    "\n",
    "    баллов скоринга 820-940, \n",
    "    возраста 26-36 и 51-61, \n",
    "    баланса на счет от 1 млн., \n",
    "    уровня доходов 100 - 250 тыс.\n",
    "    \n",
    "Уровень оттока выше среднего по банку:\n",
    "\n",
    "    в Ярославле и Рыбинске,\n",
    "    среди мужчин,\n",
    "    от 3 до 9 баллов собственности,\n",
    "    от 3 до 5 продуктов,\n",
    "    не имеющих кредитной карты,\n",
    "    среди активных клиентов\n",
    "\n",
    "Имеется слабая положительная связь оттока с products, очень слабая с equity, last_activity, gender_M.\n",
    "\n",
    "По результатам проверки статистических гипотез отвергаем гипотезы о равенстве средних доходов, баллов скоринга и баланса лояльных и отточных клиентов, а также отвергаем гипотезу о равенстве средних доходов мужчин и женщин."
   ]
  },
  {
   "cell_type": "markdown",
   "metadata": {},
   "source": [
    "Выберем признаки, которые лягут в основу сегментации (по результатам EDA, анализа корреляции и проверки гипотез)."
   ]
  },
  {
   "cell_type": "code",
   "execution_count": 36,
   "metadata": {},
   "outputs": [
    {
     "data": {
      "text/html": [
       "<div>\n",
       "<style scoped>\n",
       "    .dataframe tbody tr th:only-of-type {\n",
       "        vertical-align: middle;\n",
       "    }\n",
       "\n",
       "    .dataframe tbody tr th {\n",
       "        vertical-align: top;\n",
       "    }\n",
       "\n",
       "    .dataframe thead th {\n",
       "        text-align: right;\n",
       "    }\n",
       "</style>\n",
       "<table border=\"1\" class=\"dataframe\">\n",
       "  <thead>\n",
       "    <tr style=\"text-align: right;\">\n",
       "      <th></th>\n",
       "      <th>Ушедших клиентов</th>\n",
       "      <th>Доля от общего оттока, %</th>\n",
       "    </tr>\n",
       "  </thead>\n",
       "  <tbody>\n",
       "    <tr>\n",
       "      <th>Более 2 баллов equity</th>\n",
       "      <td>1469</td>\n",
       "      <td>80.803080</td>\n",
       "    </tr>\n",
       "    <tr>\n",
       "      <th>Cкоринг 820-940</th>\n",
       "      <td>1374</td>\n",
       "      <td>75.577558</td>\n",
       "    </tr>\n",
       "    <tr>\n",
       "      <th>Активные</th>\n",
       "      <td>1277</td>\n",
       "      <td>70.242024</td>\n",
       "    </tr>\n",
       "    <tr>\n",
       "      <th>Мужчины</th>\n",
       "      <td>1183</td>\n",
       "      <td>65.071507</td>\n",
       "    </tr>\n",
       "    <tr>\n",
       "      <th>Ярославль</th>\n",
       "      <td>1117</td>\n",
       "      <td>61.441144</td>\n",
       "    </tr>\n",
       "    <tr>\n",
       "      <th>Доход 100 - 250 тыс.</th>\n",
       "      <td>1033</td>\n",
       "      <td>56.820682</td>\n",
       "    </tr>\n",
       "    <tr>\n",
       "      <th>Нет кредитной карты</th>\n",
       "      <td>815</td>\n",
       "      <td>44.829483</td>\n",
       "    </tr>\n",
       "    <tr>\n",
       "      <th>Баланс от 1 млн.</th>\n",
       "      <td>722</td>\n",
       "      <td>39.713971</td>\n",
       "    </tr>\n",
       "    <tr>\n",
       "      <th>Возраст 26-36</th>\n",
       "      <td>694</td>\n",
       "      <td>38.173817</td>\n",
       "    </tr>\n",
       "    <tr>\n",
       "      <th>Возраст 51-61</th>\n",
       "      <td>450</td>\n",
       "      <td>24.752475</td>\n",
       "    </tr>\n",
       "    <tr>\n",
       "      <th>Рыбинск</th>\n",
       "      <td>436</td>\n",
       "      <td>23.982398</td>\n",
       "    </tr>\n",
       "    <tr>\n",
       "      <th>Более 3 продуктов</th>\n",
       "      <td>308</td>\n",
       "      <td>16.941694</td>\n",
       "    </tr>\n",
       "  </tbody>\n",
       "</table>\n",
       "</div>"
      ],
      "text/plain": [
       "                       Ушедших клиентов  Доля от общего оттока, %\n",
       "Более 2 баллов equity              1469                 80.803080\n",
       "Cкоринг 820-940                    1374                 75.577558\n",
       "Активные                           1277                 70.242024\n",
       "Мужчины                            1183                 65.071507\n",
       "Ярославль                          1117                 61.441144\n",
       "Доход 100 - 250 тыс.               1033                 56.820682\n",
       "Нет кредитной карты                 815                 44.829483\n",
       "Баланс от 1 млн.                    722                 39.713971\n",
       "Возраст 26-36                       694                 38.173817\n",
       "Возраст 51-61                       450                 24.752475\n",
       "Рыбинск                             436                 23.982398\n",
       "Более 3 продуктов                   308                 16.941694"
      ]
     },
     "execution_count": 36,
     "metadata": {},
     "output_type": "execute_result"
    }
   ],
   "source": [
    "churn = data.query('churn == 1')\n",
    "\n",
    "lst = [len(churn.query('score.between(820, 940, inclusive=True)')),\n",
    "       len(churn.query('age.between(26, 36, inclusive=True)')),\n",
    "       len(churn.query('age.between(51, 61, inclusive=True)')),\n",
    "       len(churn.query('balance > 1e6')),\n",
    "       len(churn.query('est_salary.between(1e5, 2.5e5, inclusive=True)')),\n",
    "       len(churn.query('city == \"Ярославль\"')),\n",
    "       len(churn.query('city == \"Рыбинск\"')),\n",
    "       len(churn.query('gender == \"М\"')),\n",
    "       len(churn.query('equity > 2')),\n",
    "       len(churn.query('products > 3')),\n",
    "       len(churn.query('credit_card == 0')),\n",
    "       len(churn.query('last_activity == 1'))]\n",
    "\n",
    "segment = pd.DataFrame(lst)\n",
    "segment.index = ['Cкоринг 820-940', 'Возраст 26-36', 'Возраст 51-61', 'Баланс от 1 млн.', 'Доход 100 - 250 тыс.', \n",
    "                 'Ярославль', 'Рыбинск', 'Мужчины', 'Более 2 баллов equity', 'Более 3 продуктов', \n",
    "                 'Нет кредитной карты', 'Активные']\n",
    "segment.columns = ['Ушедших клиентов']\n",
    "segment['Доля от общего оттока, %'] = segment['Ушедших клиентов'] * 100 / len(churn)\n",
    "segment.sort_values(by='Доля от общего оттока, %', ascending=False, inplace=True)\n",
    "segment"
   ]
  },
  {
   "cell_type": "markdown",
   "metadata": {},
   "source": [
    "## Сегментация"
   ]
  },
  {
   "cell_type": "markdown",
   "metadata": {},
   "source": [
    "Полагаю, что целью является удержание надежных, платежеспособных клиентов, которые могут разместить крупные суммы на счетах, а также обладающих несколькими объектами недвижимости. \n",
    "\n",
    "Сегментируем отточных клиентов на основании следующих признаков:\n",
    "\n",
    "    Более 820 баллов скоринга, баланс больше 1 млн.\n",
    "    Доход более 100 тыс., нет кредитной карты\n",
    "    Более 2 баллов собственности, баланс больше 1 млн.\n",
    "\n",
    "Количество клиентов по сегментам, их доля в общем оттоке приведены в таблице ниже."
   ]
  },
  {
   "cell_type": "code",
   "execution_count": 37,
   "metadata": {
    "scrolled": true
   },
   "outputs": [
    {
     "data": {
      "text/html": [
       "<div>\n",
       "<style scoped>\n",
       "    .dataframe tbody tr th:only-of-type {\n",
       "        vertical-align: middle;\n",
       "    }\n",
       "\n",
       "    .dataframe tbody tr th {\n",
       "        vertical-align: top;\n",
       "    }\n",
       "\n",
       "    .dataframe thead th {\n",
       "        text-align: right;\n",
       "    }\n",
       "</style>\n",
       "<table border=\"1\" class=\"dataframe\">\n",
       "  <thead>\n",
       "    <tr style=\"text-align: right;\">\n",
       "      <th></th>\n",
       "      <th>Общее количество в сегменте</th>\n",
       "      <th>Количество в оттоке</th>\n",
       "      <th>Уровень оттока в сегменте, %</th>\n",
       "    </tr>\n",
       "  </thead>\n",
       "  <tbody>\n",
       "    <tr>\n",
       "      <th>Более 820 баллов скоринга, баланс больше 1 млн.</th>\n",
       "      <td>1513</td>\n",
       "      <td>655</td>\n",
       "      <td>43.291474</td>\n",
       "    </tr>\n",
       "    <tr>\n",
       "      <th>Более 2 баллов собственности, баланс больше 1 млн.</th>\n",
       "      <td>1741</td>\n",
       "      <td>682</td>\n",
       "      <td>39.172889</td>\n",
       "    </tr>\n",
       "    <tr>\n",
       "      <th>Доход более 100 тыс., нет кредитной карты</th>\n",
       "      <td>1893</td>\n",
       "      <td>561</td>\n",
       "      <td>29.635499</td>\n",
       "    </tr>\n",
       "  </tbody>\n",
       "</table>\n",
       "</div>"
      ],
      "text/plain": [
       "                                                    Общее количество в сегменте  \\\n",
       "Более 820 баллов скоринга, баланс больше 1 млн.                            1513   \n",
       "Более 2 баллов собственности, баланс больше 1 млн.                         1741   \n",
       "Доход более 100 тыс., нет кредитной карты                                  1893   \n",
       "\n",
       "                                                    Количество в оттоке  \\\n",
       "Более 820 баллов скоринга, баланс больше 1 млн.                     655   \n",
       "Более 2 баллов собственности, баланс больше 1 млн.                  682   \n",
       "Доход более 100 тыс., нет кредитной карты                           561   \n",
       "\n",
       "                                                    Уровень оттока в сегменте, %  \n",
       "Более 820 баллов скоринга, баланс больше 1 млн.                        43.291474  \n",
       "Более 2 баллов собственности, баланс больше 1 млн.                     39.172889  \n",
       "Доход более 100 тыс., нет кредитной карты                              29.635499  "
      ]
     },
     "execution_count": 37,
     "metadata": {},
     "output_type": "execute_result"
    }
   ],
   "source": [
    "result_lst = {'Общее количество в сегменте': \n",
    "              [len(data.query('score > 820 & balance > 1e6')),\n",
    "              len(data.query('est_salary > 1e5 & credit_card == 0')),\n",
    "              len(data.query('equity > 2 & balance > 1e6'))],\n",
    "              'Количество в оттоке':\n",
    "              [len(churn.query('score > 820 & balance > 1e6')),\n",
    "              len(churn.query('est_salary > 1e5 & credit_card == 0')),\n",
    "              len(churn.query('equity > 2 & balance > 1e6'))]}\n",
    "\n",
    "result = pd.DataFrame(result_lst)\n",
    "result.index = ['Более 820 баллов скоринга, баланс больше 1 млн.',\n",
    "                'Доход более 100 тыс., нет кредитной карты',\n",
    "                'Более 2 баллов собственности, баланс больше 1 млн.']\n",
    "\n",
    "result['Уровень оттока в сегменте, %'] = result['Количество в оттоке'] * 100 / result['Общее количество в сегменте']\n",
    "result.sort_values(by='Уровень оттока в сегменте, %', ascending=False, inplace=True)\n",
    "result"
   ]
  },
  {
   "cell_type": "markdown",
   "metadata": {},
   "source": [
    "## Приоритизация сегментов"
   ]
  },
  {
   "cell_type": "markdown",
   "metadata": {},
   "source": [
    "Предлагаю расставить приоритеты по уровню оттока в сегментах:\n",
    "    \n",
    "    1. Более 820 баллов скоринга, баланс больше 1 млн.\t\n",
    "    2. Более 2 баллов собственности, баланс больше 1 млн.\t\n",
    "    3. Доход более 100 тыс., нет кредитной карты\t\t"
   ]
  },
  {
   "cell_type": "markdown",
   "metadata": {},
   "source": [
    "## Формирование таргетированных рекомендаций"
   ]
  },
  {
   "cell_type": "markdown",
   "metadata": {},
   "source": [
    "С учетом наполнения сегментов, признаков, которые легли в их основу можно рекомендовать (по порядке приоритета сегментов):\n",
    "\n",
    "1. В сегменте 1 (и 2) можно предложить премиальное обслуживание, инвестиционные продукты, дополнительный процент по вкладам для \"новых денег\" или при выполнении условий.\n",
    "\n",
    "2. По сегменту 2 можно предложить страховые программы в отношении недвижимости, дополнительные опции по кредитам под залог недвижимости, автокредитам, повышенный процент по вкладам (при выполнении каких-либо условий).\n",
    "\n",
    "3. Для данной категории клиентов можно предложить дополнительные опции по кредитным картам: повышенные лимит и кэшбэк (при выполнении условий по обороту или остаткам на счетах)."
   ]
  },
  {
   "cell_type": "markdown",
   "metadata": {},
   "source": [
    "**Ссылка на презентацию:** https://disk.yandex.ru/i/8uM4MkurdWMYKg"
   ]
  },
  {
   "cell_type": "markdown",
   "metadata": {},
   "source": [
    "<div style=\"border:solid Chocolate 2px; padding: 40px\">\n",
    "\n",
    "<b> Комментарий ментора: итоговый вывод по проекту </b>\n",
    "\n",
    "Алексей, все замечания учтены - проект принят!\n",
    "    \n",
    "Спасибо за хорошую работу над проектом, жду тебя на следующем этапе:)"
   ]
  }
 ],
 "metadata": {
  "ExecuteTimeLog": [
   {
    "duration": 72,
    "start_time": "2025-05-26T04:19:59.823Z"
   },
   {
    "duration": 5310,
    "start_time": "2025-05-28T17:19:38.315Z"
   },
   {
    "duration": 4,
    "start_time": "2025-05-28T17:19:58.163Z"
   },
   {
    "duration": 171,
    "start_time": "2025-05-28T17:20:31.114Z"
   },
   {
    "duration": 78,
    "start_time": "2025-05-28T17:22:47.183Z"
   },
   {
    "duration": 27,
    "start_time": "2025-05-28T17:24:11.342Z"
   },
   {
    "duration": 32,
    "start_time": "2025-05-28T17:24:18.432Z"
   },
   {
    "duration": 3,
    "start_time": "2025-05-28T17:24:46.862Z"
   },
   {
    "duration": 141,
    "start_time": "2025-05-28T17:24:46.868Z"
   },
   {
    "duration": 32,
    "start_time": "2025-05-28T17:24:47.011Z"
   },
   {
    "duration": 66,
    "start_time": "2025-05-28T17:27:56.904Z"
   },
   {
    "duration": 24,
    "start_time": "2025-05-28T17:27:57.980Z"
   },
   {
    "duration": 17,
    "start_time": "2025-05-28T17:37:29.100Z"
   },
   {
    "duration": 8,
    "start_time": "2025-05-28T17:37:38.017Z"
   },
   {
    "duration": 8,
    "start_time": "2025-05-28T17:38:38.292Z"
   },
   {
    "duration": 4,
    "start_time": "2025-05-28T17:42:40.585Z"
   },
   {
    "duration": 84,
    "start_time": "2025-05-28T17:42:40.591Z"
   },
   {
    "duration": 23,
    "start_time": "2025-05-28T17:42:40.676Z"
   },
   {
    "duration": 4,
    "start_time": "2025-05-28T17:50:30.273Z"
   },
   {
    "duration": 14,
    "start_time": "2025-05-28T17:50:39.834Z"
   },
   {
    "duration": 3,
    "start_time": "2025-05-28T17:51:04.484Z"
   },
   {
    "duration": 93,
    "start_time": "2025-05-28T17:51:42.691Z"
   },
   {
    "duration": 11,
    "start_time": "2025-05-28T17:52:30.664Z"
   },
   {
    "duration": 14,
    "start_time": "2025-05-28T17:52:47.454Z"
   },
   {
    "duration": 940,
    "start_time": "2025-05-28T17:56:23.100Z"
   },
   {
    "duration": 19,
    "start_time": "2025-05-28T17:56:39.517Z"
   },
   {
    "duration": 16,
    "start_time": "2025-05-28T17:56:50.634Z"
   },
   {
    "duration": 15,
    "start_time": "2025-05-28T17:56:56.960Z"
   },
   {
    "duration": 4,
    "start_time": "2025-05-28T17:57:20.554Z"
   },
   {
    "duration": 13,
    "start_time": "2025-05-28T17:57:24.079Z"
   },
   {
    "duration": 13,
    "start_time": "2025-05-28T17:57:31.340Z"
   },
   {
    "duration": 62,
    "start_time": "2025-05-28T17:57:42.474Z"
   },
   {
    "duration": 18,
    "start_time": "2025-05-28T17:57:46.939Z"
   },
   {
    "duration": 13,
    "start_time": "2025-05-28T17:58:03.924Z"
   },
   {
    "duration": 10,
    "start_time": "2025-05-28T17:58:11.924Z"
   },
   {
    "duration": 10,
    "start_time": "2025-05-28T17:58:22.264Z"
   },
   {
    "duration": 4,
    "start_time": "2025-05-28T17:58:41.772Z"
   },
   {
    "duration": 15,
    "start_time": "2025-05-28T17:58:53.421Z"
   },
   {
    "duration": 4,
    "start_time": "2025-05-28T18:01:17.932Z"
   },
   {
    "duration": 926,
    "start_time": "2025-05-28T18:01:24.423Z"
   },
   {
    "duration": 5,
    "start_time": "2025-05-28T18:01:28.771Z"
   },
   {
    "duration": 174,
    "start_time": "2025-05-28T18:01:28.778Z"
   },
   {
    "duration": 25,
    "start_time": "2025-05-28T18:01:28.954Z"
   },
   {
    "duration": 4,
    "start_time": "2025-05-28T18:01:28.981Z"
   },
   {
    "duration": 909,
    "start_time": "2025-05-28T18:01:28.987Z"
   },
   {
    "duration": 4,
    "start_time": "2025-05-28T18:01:54.882Z"
   },
   {
    "duration": 90,
    "start_time": "2025-05-28T18:01:54.889Z"
   },
   {
    "duration": 36,
    "start_time": "2025-05-28T18:01:54.982Z"
   },
   {
    "duration": 9,
    "start_time": "2025-05-28T18:01:55.022Z"
   },
   {
    "duration": 1407,
    "start_time": "2025-05-28T18:01:55.034Z"
   },
   {
    "duration": 5,
    "start_time": "2025-05-28T18:02:26.133Z"
   },
   {
    "duration": 11,
    "start_time": "2025-05-28T18:02:28.631Z"
   },
   {
    "duration": 9,
    "start_time": "2025-05-28T18:03:38.551Z"
   },
   {
    "duration": 41,
    "start_time": "2025-05-28T18:04:03.874Z"
   },
   {
    "duration": 62,
    "start_time": "2025-05-28T18:05:03.618Z"
   },
   {
    "duration": 59,
    "start_time": "2025-05-28T18:05:45.722Z"
   },
   {
    "duration": 23,
    "start_time": "2025-05-28T18:06:09.070Z"
   },
   {
    "duration": 26,
    "start_time": "2025-05-28T18:16:49.523Z"
   },
   {
    "duration": 24,
    "start_time": "2025-05-28T18:17:17.635Z"
   },
   {
    "duration": 41,
    "start_time": "2025-05-28T18:18:11.682Z"
   },
   {
    "duration": 23,
    "start_time": "2025-05-28T18:18:38.948Z"
   },
   {
    "duration": 27,
    "start_time": "2025-05-28T18:18:57.995Z"
   },
   {
    "duration": 5,
    "start_time": "2025-05-28T18:25:45.515Z"
   },
   {
    "duration": 68,
    "start_time": "2025-05-28T18:25:45.522Z"
   },
   {
    "duration": 28,
    "start_time": "2025-05-28T18:25:45.592Z"
   },
   {
    "duration": 6,
    "start_time": "2025-05-28T18:25:45.622Z"
   },
   {
    "duration": 25,
    "start_time": "2025-05-28T18:25:45.630Z"
   },
   {
    "duration": 23,
    "start_time": "2025-05-28T18:25:45.657Z"
   },
   {
    "duration": 9,
    "start_time": "2025-05-28T18:30:50.321Z"
   },
   {
    "duration": 4,
    "start_time": "2025-05-28T18:31:25.082Z"
   },
   {
    "duration": 9,
    "start_time": "2025-05-28T18:31:36.242Z"
   },
   {
    "duration": 67,
    "start_time": "2025-05-28T18:44:36.268Z"
   },
   {
    "duration": 3401,
    "start_time": "2025-05-28T18:45:13.778Z"
   },
   {
    "duration": 7,
    "start_time": "2025-05-28T18:45:36.462Z"
   },
   {
    "duration": 3,
    "start_time": "2025-05-28T18:45:39.268Z"
   },
   {
    "duration": 81,
    "start_time": "2025-05-28T18:45:39.273Z"
   },
   {
    "duration": 25,
    "start_time": "2025-05-28T18:45:39.355Z"
   },
   {
    "duration": 80,
    "start_time": "2025-05-28T18:45:39.382Z"
   },
   {
    "duration": 16,
    "start_time": "2025-05-28T18:45:39.464Z"
   },
   {
    "duration": 43,
    "start_time": "2025-05-28T18:45:39.482Z"
   },
   {
    "duration": 739,
    "start_time": "2025-05-28T18:47:56.948Z"
   },
   {
    "duration": 10,
    "start_time": "2025-05-28T18:51:23.428Z"
   },
   {
    "duration": 865,
    "start_time": "2025-05-28T18:53:23.995Z"
   },
   {
    "duration": 954,
    "start_time": "2025-05-28T18:53:40.375Z"
   },
   {
    "duration": 8,
    "start_time": "2025-05-28T18:53:59.806Z"
   },
   {
    "duration": 11,
    "start_time": "2025-05-28T18:54:34.853Z"
   },
   {
    "duration": 6,
    "start_time": "2025-05-28T18:55:54.694Z"
   },
   {
    "duration": 6,
    "start_time": "2025-05-28T18:56:26.959Z"
   },
   {
    "duration": 64,
    "start_time": "2025-05-28T18:57:21.493Z"
   },
   {
    "duration": 80,
    "start_time": "2025-05-28T18:57:37.378Z"
   },
   {
    "duration": 67,
    "start_time": "2025-05-28T18:57:54.796Z"
   },
   {
    "duration": 6,
    "start_time": "2025-05-28T18:58:41.919Z"
   },
   {
    "duration": 668,
    "start_time": "2025-05-28T19:00:35.709Z"
   },
   {
    "duration": 4,
    "start_time": "2025-05-28T19:01:13.789Z"
   },
   {
    "duration": 78,
    "start_time": "2025-05-28T19:01:13.796Z"
   },
   {
    "duration": 35,
    "start_time": "2025-05-28T19:01:13.877Z"
   },
   {
    "duration": 18,
    "start_time": "2025-05-28T19:01:13.915Z"
   },
   {
    "duration": 12,
    "start_time": "2025-05-28T19:01:13.939Z"
   },
   {
    "duration": 29,
    "start_time": "2025-05-28T19:01:13.954Z"
   },
   {
    "duration": 25,
    "start_time": "2025-05-28T19:01:13.985Z"
   },
   {
    "duration": 647,
    "start_time": "2025-05-28T19:01:14.015Z"
   },
   {
    "duration": 6,
    "start_time": "2025-05-28T19:02:09.188Z"
   },
   {
    "duration": 655,
    "start_time": "2025-05-28T19:02:13.699Z"
   },
   {
    "duration": 4,
    "start_time": "2025-05-28T19:09:45.030Z"
   },
   {
    "duration": 222,
    "start_time": "2025-05-28T19:09:45.036Z"
   },
   {
    "duration": 24,
    "start_time": "2025-05-28T19:09:45.259Z"
   },
   {
    "duration": 35,
    "start_time": "2025-05-28T19:09:45.285Z"
   },
   {
    "duration": 23,
    "start_time": "2025-05-28T19:09:45.322Z"
   },
   {
    "duration": 45,
    "start_time": "2025-05-28T19:09:45.347Z"
   },
   {
    "duration": 24,
    "start_time": "2025-05-28T19:09:45.394Z"
   },
   {
    "duration": 652,
    "start_time": "2025-05-28T19:09:45.420Z"
   },
   {
    "duration": 1397,
    "start_time": "2025-05-29T16:23:13.082Z"
   },
   {
    "duration": 0,
    "start_time": "2025-05-29T16:23:14.480Z"
   },
   {
    "duration": 0,
    "start_time": "2025-05-29T16:23:14.481Z"
   },
   {
    "duration": 0,
    "start_time": "2025-05-29T16:23:14.483Z"
   },
   {
    "duration": 0,
    "start_time": "2025-05-29T16:23:14.484Z"
   },
   {
    "duration": 0,
    "start_time": "2025-05-29T16:23:14.485Z"
   },
   {
    "duration": 0,
    "start_time": "2025-05-29T16:23:14.486Z"
   },
   {
    "duration": 0,
    "start_time": "2025-05-29T16:23:14.487Z"
   },
   {
    "duration": 70,
    "start_time": "2025-05-29T16:24:04.022Z"
   },
   {
    "duration": 3281,
    "start_time": "2025-05-29T16:24:40.312Z"
   },
   {
    "duration": 2319,
    "start_time": "2025-05-29T16:24:49.706Z"
   },
   {
    "duration": 67,
    "start_time": "2025-05-29T16:24:52.028Z"
   },
   {
    "duration": 0,
    "start_time": "2025-05-29T16:24:52.097Z"
   },
   {
    "duration": 0,
    "start_time": "2025-05-29T16:24:52.099Z"
   },
   {
    "duration": 0,
    "start_time": "2025-05-29T16:24:52.100Z"
   },
   {
    "duration": 0,
    "start_time": "2025-05-29T16:24:52.101Z"
   },
   {
    "duration": 0,
    "start_time": "2025-05-29T16:24:52.103Z"
   },
   {
    "duration": 0,
    "start_time": "2025-05-29T16:24:52.104Z"
   },
   {
    "duration": 0,
    "start_time": "2025-05-29T16:24:52.106Z"
   },
   {
    "duration": 101,
    "start_time": "2025-05-29T16:25:06.196Z"
   },
   {
    "duration": 2391,
    "start_time": "2025-05-29T16:25:08.997Z"
   },
   {
    "duration": 17,
    "start_time": "2025-05-29T16:25:11.390Z"
   },
   {
    "duration": 0,
    "start_time": "2025-05-29T16:25:11.408Z"
   },
   {
    "duration": 0,
    "start_time": "2025-05-29T16:25:11.410Z"
   },
   {
    "duration": 0,
    "start_time": "2025-05-29T16:25:11.411Z"
   },
   {
    "duration": 0,
    "start_time": "2025-05-29T16:25:11.412Z"
   },
   {
    "duration": 0,
    "start_time": "2025-05-29T16:25:11.413Z"
   },
   {
    "duration": 0,
    "start_time": "2025-05-29T16:25:11.415Z"
   },
   {
    "duration": 0,
    "start_time": "2025-05-29T16:25:11.416Z"
   },
   {
    "duration": 5273,
    "start_time": "2025-05-29T16:25:41.491Z"
   },
   {
    "duration": 4664,
    "start_time": "2025-05-29T16:25:51.777Z"
   },
   {
    "duration": 13,
    "start_time": "2025-05-29T16:25:56.443Z"
   },
   {
    "duration": 183,
    "start_time": "2025-05-29T16:25:56.458Z"
   },
   {
    "duration": 27,
    "start_time": "2025-05-29T16:25:56.643Z"
   },
   {
    "duration": 4,
    "start_time": "2025-05-29T16:25:56.671Z"
   },
   {
    "duration": 26,
    "start_time": "2025-05-29T16:25:56.676Z"
   },
   {
    "duration": 35,
    "start_time": "2025-05-29T16:25:56.704Z"
   },
   {
    "duration": 5,
    "start_time": "2025-05-29T16:25:56.740Z"
   },
   {
    "duration": 647,
    "start_time": "2025-05-29T16:25:56.747Z"
   },
   {
    "duration": 596,
    "start_time": "2025-05-29T16:27:03.202Z"
   },
   {
    "duration": 584,
    "start_time": "2025-05-29T16:27:10.407Z"
   },
   {
    "duration": 547,
    "start_time": "2025-05-29T16:27:16.001Z"
   },
   {
    "duration": 348,
    "start_time": "2025-05-29T16:27:25.693Z"
   },
   {
    "duration": 9,
    "start_time": "2025-05-29T16:28:20.798Z"
   },
   {
    "duration": 8,
    "start_time": "2025-05-29T16:44:00.618Z"
   },
   {
    "duration": 8,
    "start_time": "2025-05-29T16:45:18.893Z"
   },
   {
    "duration": 16,
    "start_time": "2025-05-29T17:02:41.873Z"
   },
   {
    "duration": 35,
    "start_time": "2025-05-29T17:03:19.328Z"
   },
   {
    "duration": 16,
    "start_time": "2025-05-29T17:03:44.913Z"
   },
   {
    "duration": 4858,
    "start_time": "2025-05-29T17:03:55.996Z"
   },
   {
    "duration": 6,
    "start_time": "2025-05-29T17:04:00.857Z"
   },
   {
    "duration": 180,
    "start_time": "2025-05-29T17:04:00.864Z"
   },
   {
    "duration": 25,
    "start_time": "2025-05-29T17:04:01.046Z"
   },
   {
    "duration": 27,
    "start_time": "2025-05-29T17:04:01.073Z"
   },
   {
    "duration": 78,
    "start_time": "2025-05-29T17:04:01.102Z"
   },
   {
    "duration": 54,
    "start_time": "2025-05-29T17:04:01.182Z"
   },
   {
    "duration": 17,
    "start_time": "2025-05-29T17:04:01.237Z"
   },
   {
    "duration": 788,
    "start_time": "2025-05-29T17:04:01.256Z"
   },
   {
    "duration": 9,
    "start_time": "2025-05-29T17:04:02.046Z"
   },
   {
    "duration": 164,
    "start_time": "2025-05-29T17:04:02.056Z"
   },
   {
    "duration": 196,
    "start_time": "2025-05-29T17:15:16.272Z"
   },
   {
    "duration": 450,
    "start_time": "2025-05-29T17:17:23.750Z"
   },
   {
    "duration": 389,
    "start_time": "2025-05-29T17:17:49.002Z"
   },
   {
    "duration": 399,
    "start_time": "2025-05-29T17:17:55.806Z"
   },
   {
    "duration": 379,
    "start_time": "2025-05-29T17:18:15.406Z"
   },
   {
    "duration": 298,
    "start_time": "2025-05-29T17:18:25.165Z"
   },
   {
    "duration": 329,
    "start_time": "2025-05-29T17:18:40.559Z"
   },
   {
    "duration": 417,
    "start_time": "2025-05-29T17:18:47.580Z"
   },
   {
    "duration": 197,
    "start_time": "2025-05-29T17:20:53.408Z"
   },
   {
    "duration": 339,
    "start_time": "2025-05-29T17:21:22.074Z"
   },
   {
    "duration": 345,
    "start_time": "2025-05-29T17:21:57.630Z"
   },
   {
    "duration": 374,
    "start_time": "2025-05-29T17:22:10.004Z"
   },
   {
    "duration": 442,
    "start_time": "2025-05-29T17:22:17.669Z"
   },
   {
    "duration": 191,
    "start_time": "2025-05-29T17:22:56.405Z"
   },
   {
    "duration": 363,
    "start_time": "2025-05-29T17:23:08.079Z"
   },
   {
    "duration": 352,
    "start_time": "2025-05-29T17:24:44.012Z"
   },
   {
    "duration": 196,
    "start_time": "2025-05-29T17:25:04.973Z"
   },
   {
    "duration": 355,
    "start_time": "2025-05-29T17:25:14.626Z"
   },
   {
    "duration": 390,
    "start_time": "2025-05-29T17:25:41.202Z"
   },
   {
    "duration": 103,
    "start_time": "2025-05-29T17:30:30.327Z"
   },
   {
    "duration": 189,
    "start_time": "2025-05-29T17:30:51.689Z"
   },
   {
    "duration": 360,
    "start_time": "2025-05-29T17:32:18.492Z"
   },
   {
    "duration": 332,
    "start_time": "2025-05-29T17:32:30.556Z"
   },
   {
    "duration": 361,
    "start_time": "2025-05-29T17:32:47.420Z"
   },
   {
    "duration": 370,
    "start_time": "2025-05-29T17:33:21.170Z"
   },
   {
    "duration": 265,
    "start_time": "2025-05-29T17:33:26.640Z"
   },
   {
    "duration": 329,
    "start_time": "2025-05-29T17:35:36.159Z"
   },
   {
    "duration": 371,
    "start_time": "2025-05-29T17:36:12.904Z"
   },
   {
    "duration": 381,
    "start_time": "2025-05-29T17:36:51.994Z"
   },
   {
    "duration": 386,
    "start_time": "2025-05-29T17:37:51.686Z"
   },
   {
    "duration": 347,
    "start_time": "2025-05-29T17:38:24.029Z"
   },
   {
    "duration": 4618,
    "start_time": "2025-05-29T17:38:35.308Z"
   },
   {
    "duration": 5,
    "start_time": "2025-05-29T17:38:39.928Z"
   },
   {
    "duration": 83,
    "start_time": "2025-05-29T17:38:39.935Z"
   },
   {
    "duration": 24,
    "start_time": "2025-05-29T17:38:40.020Z"
   },
   {
    "duration": 4,
    "start_time": "2025-05-29T17:38:40.045Z"
   },
   {
    "duration": 41,
    "start_time": "2025-05-29T17:38:40.051Z"
   },
   {
    "duration": 21,
    "start_time": "2025-05-29T17:38:40.093Z"
   },
   {
    "duration": 5,
    "start_time": "2025-05-29T17:38:40.116Z"
   },
   {
    "duration": 619,
    "start_time": "2025-05-29T17:38:40.122Z"
   },
   {
    "duration": 8,
    "start_time": "2025-05-29T17:38:40.744Z"
   },
   {
    "duration": 17,
    "start_time": "2025-05-29T17:38:40.754Z"
   },
   {
    "duration": 359,
    "start_time": "2025-05-29T17:38:40.772Z"
   },
   {
    "duration": 331,
    "start_time": "2025-05-29T17:43:44.313Z"
   },
   {
    "duration": 844,
    "start_time": "2025-05-29T17:46:27.283Z"
   },
   {
    "duration": 739,
    "start_time": "2025-05-29T17:46:55.812Z"
   },
   {
    "duration": 673,
    "start_time": "2025-05-29T17:47:48.459Z"
   },
   {
    "duration": 4688,
    "start_time": "2025-05-29T18:35:48.007Z"
   },
   {
    "duration": 5,
    "start_time": "2025-05-29T18:35:52.698Z"
   },
   {
    "duration": 71,
    "start_time": "2025-05-29T18:35:52.705Z"
   },
   {
    "duration": 21,
    "start_time": "2025-05-29T18:35:52.778Z"
   },
   {
    "duration": 4,
    "start_time": "2025-05-29T18:35:52.802Z"
   },
   {
    "duration": 11,
    "start_time": "2025-05-29T18:35:52.807Z"
   },
   {
    "duration": 24,
    "start_time": "2025-05-29T18:35:52.819Z"
   },
   {
    "duration": 7,
    "start_time": "2025-05-29T18:35:52.845Z"
   },
   {
    "duration": 630,
    "start_time": "2025-05-29T18:35:52.853Z"
   },
   {
    "duration": 9,
    "start_time": "2025-05-29T18:35:53.484Z"
   },
   {
    "duration": 17,
    "start_time": "2025-05-29T18:35:53.495Z"
   },
   {
    "duration": 727,
    "start_time": "2025-05-29T18:35:53.514Z"
   },
   {
    "duration": 6955,
    "start_time": "2025-06-01T08:07:31.576Z"
   },
   {
    "duration": 1437,
    "start_time": "2025-06-01T08:07:38.534Z"
   },
   {
    "duration": 62,
    "start_time": "2025-06-01T08:07:39.972Z"
   },
   {
    "duration": 27,
    "start_time": "2025-06-01T08:07:40.035Z"
   },
   {
    "duration": 4,
    "start_time": "2025-06-01T08:07:40.064Z"
   },
   {
    "duration": 57,
    "start_time": "2025-06-01T08:07:40.069Z"
   },
   {
    "duration": 44,
    "start_time": "2025-06-01T08:07:40.127Z"
   },
   {
    "duration": 23,
    "start_time": "2025-06-01T08:07:40.173Z"
   },
   {
    "duration": 618,
    "start_time": "2025-06-01T08:07:40.197Z"
   },
   {
    "duration": 10,
    "start_time": "2025-06-01T08:07:40.816Z"
   },
   {
    "duration": 17,
    "start_time": "2025-06-01T08:07:40.827Z"
   },
   {
    "duration": 850,
    "start_time": "2025-06-01T08:07:40.845Z"
   },
   {
    "duration": 20,
    "start_time": "2025-06-01T08:11:41.472Z"
   },
   {
    "duration": 21,
    "start_time": "2025-06-01T08:12:01.590Z"
   },
   {
    "duration": 147,
    "start_time": "2025-06-01T08:12:25.858Z"
   },
   {
    "duration": 14,
    "start_time": "2025-06-01T08:12:31.463Z"
   },
   {
    "duration": 98,
    "start_time": "2025-06-01T08:12:43.197Z"
   },
   {
    "duration": 5174,
    "start_time": "2025-06-01T08:12:49.337Z"
   },
   {
    "duration": 5,
    "start_time": "2025-06-01T08:12:54.513Z"
   },
   {
    "duration": 93,
    "start_time": "2025-06-01T08:12:54.520Z"
   },
   {
    "duration": 23,
    "start_time": "2025-06-01T08:12:54.615Z"
   },
   {
    "duration": 34,
    "start_time": "2025-06-01T08:12:54.640Z"
   },
   {
    "duration": 29,
    "start_time": "2025-06-01T08:12:54.676Z"
   },
   {
    "duration": 24,
    "start_time": "2025-06-01T08:12:54.707Z"
   },
   {
    "duration": 4,
    "start_time": "2025-06-01T08:12:54.732Z"
   },
   {
    "duration": 104,
    "start_time": "2025-06-01T08:12:54.738Z"
   },
   {
    "duration": 57,
    "start_time": "2025-06-01T08:12:54.844Z"
   },
   {
    "duration": 705,
    "start_time": "2025-06-01T08:12:54.903Z"
   },
   {
    "duration": 7,
    "start_time": "2025-06-01T08:12:55.610Z"
   },
   {
    "duration": 24,
    "start_time": "2025-06-01T08:12:55.618Z"
   },
   {
    "duration": 717,
    "start_time": "2025-06-01T08:12:55.643Z"
   },
   {
    "duration": 12,
    "start_time": "2025-06-01T08:28:10.203Z"
   },
   {
    "duration": 16,
    "start_time": "2025-06-01T08:28:53.202Z"
   },
   {
    "duration": 388,
    "start_time": "2025-06-01T08:33:51.327Z"
   },
   {
    "duration": 4,
    "start_time": "2025-06-01T08:34:11.016Z"
   },
   {
    "duration": 67,
    "start_time": "2025-06-01T08:35:56.055Z"
   },
   {
    "duration": 37,
    "start_time": "2025-06-01T08:36:06.175Z"
   },
   {
    "duration": 5254,
    "start_time": "2025-06-01T08:40:18.117Z"
   },
   {
    "duration": 6,
    "start_time": "2025-06-01T08:40:23.373Z"
   },
   {
    "duration": 130,
    "start_time": "2025-06-01T08:40:23.383Z"
   },
   {
    "duration": 22,
    "start_time": "2025-06-01T08:40:23.515Z"
   },
   {
    "duration": 13,
    "start_time": "2025-06-01T08:40:23.538Z"
   },
   {
    "duration": 17,
    "start_time": "2025-06-01T08:40:23.553Z"
   },
   {
    "duration": 28,
    "start_time": "2025-06-01T08:40:23.572Z"
   },
   {
    "duration": 4,
    "start_time": "2025-06-01T08:40:23.602Z"
   },
   {
    "duration": 8,
    "start_time": "2025-06-01T08:40:23.608Z"
   },
   {
    "duration": 685,
    "start_time": "2025-06-01T08:40:23.618Z"
   },
   {
    "duration": 10,
    "start_time": "2025-06-01T08:40:24.305Z"
   },
   {
    "duration": 45,
    "start_time": "2025-06-01T08:40:24.317Z"
   },
   {
    "duration": 703,
    "start_time": "2025-06-01T08:40:24.363Z"
   },
   {
    "duration": 26,
    "start_time": "2025-06-01T08:40:25.068Z"
   },
   {
    "duration": 18,
    "start_time": "2025-06-01T08:40:25.102Z"
   },
   {
    "duration": 18,
    "start_time": "2025-06-01T08:41:41.245Z"
   },
   {
    "duration": 21,
    "start_time": "2025-06-01T08:42:04.131Z"
   },
   {
    "duration": 21,
    "start_time": "2025-06-01T08:42:20.802Z"
   },
   {
    "duration": 914,
    "start_time": "2025-06-01T08:42:40.591Z"
   },
   {
    "duration": 5408,
    "start_time": "2025-06-01T08:42:52.885Z"
   },
   {
    "duration": 8,
    "start_time": "2025-06-01T08:42:58.295Z"
   },
   {
    "duration": 54,
    "start_time": "2025-06-01T08:42:58.305Z"
   },
   {
    "duration": 36,
    "start_time": "2025-06-01T08:42:58.361Z"
   },
   {
    "duration": 12,
    "start_time": "2025-06-01T08:42:58.399Z"
   },
   {
    "duration": 17,
    "start_time": "2025-06-01T08:42:58.413Z"
   },
   {
    "duration": 21,
    "start_time": "2025-06-01T08:42:58.432Z"
   },
   {
    "duration": 4,
    "start_time": "2025-06-01T08:42:58.455Z"
   },
   {
    "duration": 9,
    "start_time": "2025-06-01T08:42:58.461Z"
   },
   {
    "duration": 634,
    "start_time": "2025-06-01T08:42:58.481Z"
   },
   {
    "duration": 10,
    "start_time": "2025-06-01T08:42:59.116Z"
   },
   {
    "duration": 46,
    "start_time": "2025-06-01T08:42:59.127Z"
   },
   {
    "duration": 729,
    "start_time": "2025-06-01T08:42:59.175Z"
   },
   {
    "duration": 12,
    "start_time": "2025-06-01T08:42:59.906Z"
   },
   {
    "duration": 24,
    "start_time": "2025-06-01T08:42:59.920Z"
   },
   {
    "duration": 924,
    "start_time": "2025-06-01T08:43:26.814Z"
   },
   {
    "duration": 865,
    "start_time": "2025-06-01T08:43:33.094Z"
   },
   {
    "duration": 5342,
    "start_time": "2025-06-01T08:43:40.961Z"
   },
   {
    "duration": 5,
    "start_time": "2025-06-01T08:43:46.305Z"
   },
   {
    "duration": 60,
    "start_time": "2025-06-01T08:43:46.312Z"
   },
   {
    "duration": 43,
    "start_time": "2025-06-01T08:43:46.374Z"
   },
   {
    "duration": 4,
    "start_time": "2025-06-01T08:43:46.419Z"
   },
   {
    "duration": 20,
    "start_time": "2025-06-01T08:43:46.425Z"
   },
   {
    "duration": 22,
    "start_time": "2025-06-01T08:43:46.446Z"
   },
   {
    "duration": 25,
    "start_time": "2025-06-01T08:43:46.469Z"
   },
   {
    "duration": 14,
    "start_time": "2025-06-01T08:43:46.496Z"
   },
   {
    "duration": 635,
    "start_time": "2025-06-01T08:43:46.512Z"
   },
   {
    "duration": 8,
    "start_time": "2025-06-01T08:43:47.149Z"
   },
   {
    "duration": 48,
    "start_time": "2025-06-01T08:43:47.158Z"
   },
   {
    "duration": 691,
    "start_time": "2025-06-01T08:43:47.208Z"
   },
   {
    "duration": 13,
    "start_time": "2025-06-01T08:43:47.904Z"
   },
   {
    "duration": 31,
    "start_time": "2025-06-01T08:43:47.919Z"
   },
   {
    "duration": 27,
    "start_time": "2025-06-01T08:52:26.298Z"
   },
   {
    "duration": 5229,
    "start_time": "2025-06-01T08:52:52.104Z"
   },
   {
    "duration": 5,
    "start_time": "2025-06-01T08:52:57.335Z"
   },
   {
    "duration": 108,
    "start_time": "2025-06-01T08:52:57.342Z"
   },
   {
    "duration": 26,
    "start_time": "2025-06-01T08:52:57.452Z"
   },
   {
    "duration": 17,
    "start_time": "2025-06-01T08:52:57.481Z"
   },
   {
    "duration": 11,
    "start_time": "2025-06-01T08:52:57.503Z"
   },
   {
    "duration": 132,
    "start_time": "2025-06-01T08:52:57.516Z"
   },
   {
    "duration": 5,
    "start_time": "2025-06-01T08:52:57.649Z"
   },
   {
    "duration": 10,
    "start_time": "2025-06-01T08:52:57.655Z"
   },
   {
    "duration": 642,
    "start_time": "2025-06-01T08:52:57.666Z"
   },
   {
    "duration": 7,
    "start_time": "2025-06-01T08:52:58.309Z"
   },
   {
    "duration": 19,
    "start_time": "2025-06-01T08:52:58.318Z"
   },
   {
    "duration": 16,
    "start_time": "2025-06-01T08:52:58.338Z"
   },
   {
    "duration": 684,
    "start_time": "2025-06-01T08:52:58.379Z"
   },
   {
    "duration": 30,
    "start_time": "2025-06-01T08:52:59.064Z"
   },
   {
    "duration": 28,
    "start_time": "2025-06-01T08:52:59.099Z"
   },
   {
    "duration": 10,
    "start_time": "2025-06-01T08:56:05.792Z"
   },
   {
    "duration": 16,
    "start_time": "2025-06-01T08:56:20.823Z"
   },
   {
    "duration": 5342,
    "start_time": "2025-06-01T08:57:12.129Z"
   },
   {
    "duration": 9,
    "start_time": "2025-06-01T08:57:17.474Z"
   },
   {
    "duration": 89,
    "start_time": "2025-06-01T08:57:17.485Z"
   },
   {
    "duration": 32,
    "start_time": "2025-06-01T08:57:17.576Z"
   },
   {
    "duration": 4,
    "start_time": "2025-06-01T08:57:17.610Z"
   },
   {
    "duration": 13,
    "start_time": "2025-06-01T08:57:17.616Z"
   },
   {
    "duration": 23,
    "start_time": "2025-06-01T08:57:17.630Z"
   },
   {
    "duration": 38,
    "start_time": "2025-06-01T08:57:17.654Z"
   },
   {
    "duration": 7,
    "start_time": "2025-06-01T08:57:17.695Z"
   },
   {
    "duration": 644,
    "start_time": "2025-06-01T08:57:17.704Z"
   },
   {
    "duration": 9,
    "start_time": "2025-06-01T08:57:18.349Z"
   },
   {
    "duration": 62,
    "start_time": "2025-06-01T08:57:18.360Z"
   },
   {
    "duration": 731,
    "start_time": "2025-06-01T08:57:18.423Z"
   },
   {
    "duration": 36,
    "start_time": "2025-06-01T08:57:19.157Z"
   },
   {
    "duration": 21,
    "start_time": "2025-06-01T08:57:19.202Z"
   },
   {
    "duration": 93,
    "start_time": "2025-06-01T09:02:02.380Z"
   },
   {
    "duration": 6,
    "start_time": "2025-06-01T09:02:18.608Z"
   },
   {
    "duration": 5280,
    "start_time": "2025-06-01T09:02:28.253Z"
   },
   {
    "duration": 6,
    "start_time": "2025-06-01T09:02:33.536Z"
   },
   {
    "duration": 81,
    "start_time": "2025-06-01T09:02:33.544Z"
   },
   {
    "duration": 23,
    "start_time": "2025-06-01T09:02:33.627Z"
   },
   {
    "duration": 4,
    "start_time": "2025-06-01T09:02:33.652Z"
   },
   {
    "duration": 21,
    "start_time": "2025-06-01T09:02:33.658Z"
   },
   {
    "duration": 29,
    "start_time": "2025-06-01T09:02:33.681Z"
   },
   {
    "duration": 4,
    "start_time": "2025-06-01T09:02:33.712Z"
   },
   {
    "duration": 42,
    "start_time": "2025-06-01T09:02:33.718Z"
   },
   {
    "duration": 646,
    "start_time": "2025-06-01T09:02:33.762Z"
   },
   {
    "duration": 10,
    "start_time": "2025-06-01T09:02:34.410Z"
   },
   {
    "duration": 33,
    "start_time": "2025-06-01T09:02:34.421Z"
   },
   {
    "duration": 706,
    "start_time": "2025-06-01T09:02:34.456Z"
   },
   {
    "duration": 26,
    "start_time": "2025-06-01T09:02:35.163Z"
   },
   {
    "duration": 36,
    "start_time": "2025-06-01T09:02:35.196Z"
   },
   {
    "duration": 5480,
    "start_time": "2025-06-01T09:04:43.250Z"
   },
   {
    "duration": 6,
    "start_time": "2025-06-01T09:04:48.733Z"
   },
   {
    "duration": 249,
    "start_time": "2025-06-01T09:04:48.741Z"
   },
   {
    "duration": 27,
    "start_time": "2025-06-01T09:04:48.993Z"
   },
   {
    "duration": 4,
    "start_time": "2025-06-01T09:04:49.022Z"
   },
   {
    "duration": 11,
    "start_time": "2025-06-01T09:04:49.028Z"
   },
   {
    "duration": 21,
    "start_time": "2025-06-01T09:04:49.041Z"
   },
   {
    "duration": 33,
    "start_time": "2025-06-01T09:04:49.063Z"
   },
   {
    "duration": 13,
    "start_time": "2025-06-01T09:04:49.101Z"
   },
   {
    "duration": 707,
    "start_time": "2025-06-01T09:04:49.117Z"
   },
   {
    "duration": 10,
    "start_time": "2025-06-01T09:04:49.826Z"
   },
   {
    "duration": 19,
    "start_time": "2025-06-01T09:04:49.838Z"
   },
   {
    "duration": 728,
    "start_time": "2025-06-01T09:04:49.859Z"
   },
   {
    "duration": 5,
    "start_time": "2025-06-01T09:04:50.594Z"
   },
   {
    "duration": 34,
    "start_time": "2025-06-01T09:04:50.603Z"
   },
   {
    "duration": 621,
    "start_time": "2025-06-01T10:43:37.152Z"
   },
   {
    "duration": 651,
    "start_time": "2025-06-01T10:43:55.658Z"
   },
   {
    "duration": 594,
    "start_time": "2025-06-01T10:44:04.747Z"
   },
   {
    "duration": 554,
    "start_time": "2025-06-01T10:44:19.876Z"
   },
   {
    "duration": 606,
    "start_time": "2025-06-01T10:44:27.799Z"
   },
   {
    "duration": 575,
    "start_time": "2025-06-01T10:44:36.268Z"
   },
   {
    "duration": 593,
    "start_time": "2025-06-01T10:45:29.055Z"
   },
   {
    "duration": 709,
    "start_time": "2025-06-01T10:45:44.909Z"
   },
   {
    "duration": 632,
    "start_time": "2025-06-01T10:46:01.480Z"
   },
   {
    "duration": 613,
    "start_time": "2025-06-01T10:46:14.328Z"
   },
   {
    "duration": 629,
    "start_time": "2025-06-01T10:46:25.806Z"
   },
   {
    "duration": 747,
    "start_time": "2025-06-01T10:46:36.046Z"
   },
   {
    "duration": 633,
    "start_time": "2025-06-01T10:46:41.391Z"
   },
   {
    "duration": 1393,
    "start_time": "2025-06-01T10:48:45.118Z"
   },
   {
    "duration": 584,
    "start_time": "2025-06-01T10:49:21.866Z"
   },
   {
    "duration": 4748,
    "start_time": "2025-06-01T10:49:38.995Z"
   },
   {
    "duration": 5,
    "start_time": "2025-06-01T10:49:43.745Z"
   },
   {
    "duration": 142,
    "start_time": "2025-06-01T10:49:43.752Z"
   },
   {
    "duration": 23,
    "start_time": "2025-06-01T10:49:43.896Z"
   },
   {
    "duration": 4,
    "start_time": "2025-06-01T10:49:43.920Z"
   },
   {
    "duration": 10,
    "start_time": "2025-06-01T10:49:43.926Z"
   },
   {
    "duration": 29,
    "start_time": "2025-06-01T10:49:43.937Z"
   },
   {
    "duration": 4,
    "start_time": "2025-06-01T10:49:43.968Z"
   },
   {
    "duration": 94,
    "start_time": "2025-06-01T10:49:43.973Z"
   },
   {
    "duration": 591,
    "start_time": "2025-06-01T10:49:44.068Z"
   },
   {
    "duration": 10,
    "start_time": "2025-06-01T10:49:44.661Z"
   },
   {
    "duration": 19,
    "start_time": "2025-06-01T10:49:44.672Z"
   },
   {
    "duration": 722,
    "start_time": "2025-06-01T10:49:44.692Z"
   },
   {
    "duration": 4,
    "start_time": "2025-06-01T10:49:45.417Z"
   },
   {
    "duration": 80,
    "start_time": "2025-06-01T10:49:45.423Z"
   },
   {
    "duration": 1436,
    "start_time": "2025-06-01T10:49:45.505Z"
   },
   {
    "duration": 1345,
    "start_time": "2025-06-01T10:50:03.314Z"
   },
   {
    "duration": 1315,
    "start_time": "2025-06-01T10:50:47.248Z"
   },
   {
    "duration": 1670,
    "start_time": "2025-06-01T10:51:29.571Z"
   },
   {
    "duration": 1791,
    "start_time": "2025-06-01T10:52:00.248Z"
   },
   {
    "duration": 1429,
    "start_time": "2025-06-01T10:53:44.937Z"
   },
   {
    "duration": 1497,
    "start_time": "2025-06-01T10:54:12.732Z"
   },
   {
    "duration": 1489,
    "start_time": "2025-06-01T10:54:21.869Z"
   },
   {
    "duration": 1353,
    "start_time": "2025-06-01T10:54:29.978Z"
   },
   {
    "duration": 1467,
    "start_time": "2025-06-01T10:54:44.218Z"
   },
   {
    "duration": 1555,
    "start_time": "2025-06-01T10:55:00.951Z"
   },
   {
    "duration": 1373,
    "start_time": "2025-06-01T10:55:11.423Z"
   },
   {
    "duration": 1481,
    "start_time": "2025-06-01T10:55:18.066Z"
   },
   {
    "duration": 1418,
    "start_time": "2025-06-01T11:01:37.770Z"
   },
   {
    "duration": 1673,
    "start_time": "2025-06-01T11:01:55.365Z"
   },
   {
    "duration": 1550,
    "start_time": "2025-06-01T11:02:25.064Z"
   },
   {
    "duration": 1560,
    "start_time": "2025-06-01T11:02:37.563Z"
   },
   {
    "duration": 1383,
    "start_time": "2025-06-01T11:02:46.489Z"
   },
   {
    "duration": 1559,
    "start_time": "2025-06-01T11:02:54.204Z"
   },
   {
    "duration": 1670,
    "start_time": "2025-06-01T11:03:12.346Z"
   },
   {
    "duration": 7706,
    "start_time": "2025-06-01T11:08:34.887Z"
   },
   {
    "duration": 8773,
    "start_time": "2025-06-01T11:09:21.044Z"
   },
   {
    "duration": 7805,
    "start_time": "2025-06-01T11:09:47.424Z"
   },
   {
    "duration": 8263,
    "start_time": "2025-06-01T11:10:07.229Z"
   },
   {
    "duration": 8212,
    "start_time": "2025-06-01T11:10:30.813Z"
   },
   {
    "duration": 8377,
    "start_time": "2025-06-01T11:11:01.414Z"
   },
   {
    "duration": 118,
    "start_time": "2025-06-01T11:12:34.498Z"
   },
   {
    "duration": 8035,
    "start_time": "2025-06-01T11:14:58.379Z"
   },
   {
    "duration": 7937,
    "start_time": "2025-06-01T11:15:42.671Z"
   },
   {
    "duration": 8330,
    "start_time": "2025-06-01T11:16:10.047Z"
   },
   {
    "duration": 7959,
    "start_time": "2025-06-01T11:16:36.374Z"
   },
   {
    "duration": 8116,
    "start_time": "2025-06-01T11:20:00.326Z"
   },
   {
    "duration": 7882,
    "start_time": "2025-06-01T11:20:23.536Z"
   },
   {
    "duration": 4,
    "start_time": "2025-06-01T11:48:01.436Z"
   },
   {
    "duration": 757,
    "start_time": "2025-06-01T11:54:39.290Z"
   },
   {
    "duration": 1038,
    "start_time": "2025-06-01T11:55:01.553Z"
   },
   {
    "duration": 1212,
    "start_time": "2025-06-01T11:55:41.939Z"
   },
   {
    "duration": 774,
    "start_time": "2025-06-01T11:55:56.782Z"
   },
   {
    "duration": 7394,
    "start_time": "2025-06-01T17:10:40.472Z"
   },
   {
    "duration": 1876,
    "start_time": "2025-06-01T17:10:47.869Z"
   },
   {
    "duration": 251,
    "start_time": "2025-06-01T17:10:49.747Z"
   },
   {
    "duration": 29,
    "start_time": "2025-06-01T17:10:50.000Z"
   },
   {
    "duration": 41,
    "start_time": "2025-06-01T17:10:50.031Z"
   },
   {
    "duration": 12,
    "start_time": "2025-06-01T17:10:50.073Z"
   },
   {
    "duration": 22,
    "start_time": "2025-06-01T17:10:50.086Z"
   },
   {
    "duration": 4,
    "start_time": "2025-06-01T17:10:50.109Z"
   },
   {
    "duration": 7,
    "start_time": "2025-06-01T17:10:50.114Z"
   },
   {
    "duration": 652,
    "start_time": "2025-06-01T17:10:50.122Z"
   },
   {
    "duration": 9,
    "start_time": "2025-06-01T17:10:50.776Z"
   },
   {
    "duration": 17,
    "start_time": "2025-06-01T17:10:50.787Z"
   },
   {
    "duration": 744,
    "start_time": "2025-06-01T17:10:50.806Z"
   },
   {
    "duration": 8,
    "start_time": "2025-06-01T17:10:51.554Z"
   },
   {
    "duration": 32,
    "start_time": "2025-06-01T17:10:51.564Z"
   },
   {
    "duration": 7688,
    "start_time": "2025-06-01T17:10:51.598Z"
   },
   {
    "duration": 4,
    "start_time": "2025-06-01T17:10:59.288Z"
   },
   {
    "duration": 794,
    "start_time": "2025-06-01T17:10:59.294Z"
   },
   {
    "duration": 906,
    "start_time": "2025-06-01T17:12:59.453Z"
   },
   {
    "duration": 958,
    "start_time": "2025-06-01T17:15:31.043Z"
   },
   {
    "duration": 904,
    "start_time": "2025-06-01T17:15:58.611Z"
   },
   {
    "duration": 924,
    "start_time": "2025-06-01T17:16:11.571Z"
   },
   {
    "duration": 827,
    "start_time": "2025-06-01T17:16:25.113Z"
   },
   {
    "duration": 795,
    "start_time": "2025-06-01T17:16:36.689Z"
   },
   {
    "duration": 1298,
    "start_time": "2025-06-01T17:16:48.960Z"
   },
   {
    "duration": 954,
    "start_time": "2025-06-01T17:17:02.152Z"
   },
   {
    "duration": 1032,
    "start_time": "2025-06-01T17:23:14.480Z"
   },
   {
    "duration": 1036,
    "start_time": "2025-06-01T17:23:22.540Z"
   },
   {
    "duration": 974,
    "start_time": "2025-06-01T17:25:02.549Z"
   },
   {
    "duration": 102,
    "start_time": "2025-06-01T17:25:42.431Z"
   },
   {
    "duration": 873,
    "start_time": "2025-06-01T17:25:48.291Z"
   },
   {
    "duration": 1073,
    "start_time": "2025-06-01T17:29:59.020Z"
   },
   {
    "duration": 1056,
    "start_time": "2025-06-01T17:44:14.745Z"
   },
   {
    "duration": 1706,
    "start_time": "2025-06-01T17:44:37.883Z"
   },
   {
    "duration": 1848,
    "start_time": "2025-06-01T17:45:32.162Z"
   },
   {
    "duration": 1877,
    "start_time": "2025-06-01T17:47:04.842Z"
   },
   {
    "duration": 1946,
    "start_time": "2025-06-01T17:47:39.455Z"
   },
   {
    "duration": 2305,
    "start_time": "2025-06-01T17:49:11.561Z"
   },
   {
    "duration": 4859,
    "start_time": "2025-06-01T17:49:36.664Z"
   },
   {
    "duration": 5,
    "start_time": "2025-06-01T17:49:41.526Z"
   },
   {
    "duration": 64,
    "start_time": "2025-06-01T17:49:41.533Z"
   },
   {
    "duration": 33,
    "start_time": "2025-06-01T17:49:41.599Z"
   },
   {
    "duration": 4,
    "start_time": "2025-06-01T17:49:41.634Z"
   },
   {
    "duration": 18,
    "start_time": "2025-06-01T17:49:41.640Z"
   },
   {
    "duration": 23,
    "start_time": "2025-06-01T17:49:41.660Z"
   },
   {
    "duration": 5,
    "start_time": "2025-06-01T17:49:41.684Z"
   },
   {
    "duration": 9,
    "start_time": "2025-06-01T17:49:41.690Z"
   },
   {
    "duration": 664,
    "start_time": "2025-06-01T17:49:41.700Z"
   },
   {
    "duration": 8,
    "start_time": "2025-06-01T17:49:42.366Z"
   },
   {
    "duration": 17,
    "start_time": "2025-06-01T17:49:42.376Z"
   },
   {
    "duration": 685,
    "start_time": "2025-06-01T17:49:42.395Z"
   },
   {
    "duration": 4,
    "start_time": "2025-06-01T17:49:43.083Z"
   },
   {
    "duration": 95,
    "start_time": "2025-06-01T17:49:43.089Z"
   },
   {
    "duration": 7491,
    "start_time": "2025-06-01T17:49:43.186Z"
   },
   {
    "duration": 4,
    "start_time": "2025-06-01T17:49:50.679Z"
   },
   {
    "duration": 2462,
    "start_time": "2025-06-01T17:49:50.684Z"
   },
   {
    "duration": 2298,
    "start_time": "2025-06-01T17:54:12.091Z"
   },
   {
    "duration": 14,
    "start_time": "2025-06-01T17:58:46.141Z"
   },
   {
    "duration": 5,
    "start_time": "2025-06-01T18:01:16.639Z"
   },
   {
    "duration": 4,
    "start_time": "2025-06-01T18:01:24.399Z"
   },
   {
    "duration": 5,
    "start_time": "2025-06-01T18:01:33.351Z"
   },
   {
    "duration": 5,
    "start_time": "2025-06-01T18:01:39.108Z"
   },
   {
    "duration": 5,
    "start_time": "2025-06-01T18:01:47.821Z"
   },
   {
    "duration": 11,
    "start_time": "2025-06-01T18:23:49.513Z"
   },
   {
    "duration": 18,
    "start_time": "2025-06-01T18:24:01.688Z"
   },
   {
    "duration": 4822,
    "start_time": "2025-06-01T18:24:27.151Z"
   },
   {
    "duration": 6,
    "start_time": "2025-06-01T18:24:31.975Z"
   },
   {
    "duration": 114,
    "start_time": "2025-06-01T18:24:31.982Z"
   },
   {
    "duration": 23,
    "start_time": "2025-06-01T18:24:32.099Z"
   },
   {
    "duration": 18,
    "start_time": "2025-06-01T18:24:32.124Z"
   },
   {
    "duration": 11,
    "start_time": "2025-06-01T18:24:32.144Z"
   },
   {
    "duration": 25,
    "start_time": "2025-06-01T18:24:32.157Z"
   },
   {
    "duration": 5,
    "start_time": "2025-06-01T18:24:32.183Z"
   },
   {
    "duration": 13,
    "start_time": "2025-06-01T18:24:32.189Z"
   },
   {
    "duration": 737,
    "start_time": "2025-06-01T18:24:32.205Z"
   },
   {
    "duration": 15,
    "start_time": "2025-06-01T18:24:32.944Z"
   },
   {
    "duration": 31,
    "start_time": "2025-06-01T18:24:32.961Z"
   },
   {
    "duration": 635,
    "start_time": "2025-06-01T18:24:32.994Z"
   },
   {
    "duration": 5,
    "start_time": "2025-06-01T18:24:33.630Z"
   },
   {
    "duration": 35,
    "start_time": "2025-06-01T18:24:33.636Z"
   },
   {
    "duration": 7931,
    "start_time": "2025-06-01T18:24:33.672Z"
   },
   {
    "duration": 4,
    "start_time": "2025-06-01T18:24:41.605Z"
   },
   {
    "duration": 2557,
    "start_time": "2025-06-01T18:24:41.610Z"
   },
   {
    "duration": 16,
    "start_time": "2025-06-01T18:24:44.168Z"
   },
   {
    "duration": 4,
    "start_time": "2025-06-01T18:24:44.186Z"
   },
   {
    "duration": 13,
    "start_time": "2025-06-01T18:26:01.212Z"
   },
   {
    "duration": 14,
    "start_time": "2025-06-01T18:28:07.540Z"
   },
   {
    "duration": 5047,
    "start_time": "2025-06-01T18:28:17.421Z"
   },
   {
    "duration": 5,
    "start_time": "2025-06-01T18:28:22.471Z"
   },
   {
    "duration": 63,
    "start_time": "2025-06-01T18:28:22.477Z"
   },
   {
    "duration": 23,
    "start_time": "2025-06-01T18:28:22.541Z"
   },
   {
    "duration": 31,
    "start_time": "2025-06-01T18:28:22.567Z"
   },
   {
    "duration": 12,
    "start_time": "2025-06-01T18:28:22.599Z"
   },
   {
    "duration": 23,
    "start_time": "2025-06-01T18:28:22.613Z"
   },
   {
    "duration": 5,
    "start_time": "2025-06-01T18:28:22.637Z"
   },
   {
    "duration": 6,
    "start_time": "2025-06-01T18:28:22.643Z"
   },
   {
    "duration": 627,
    "start_time": "2025-06-01T18:28:22.650Z"
   },
   {
    "duration": 9,
    "start_time": "2025-06-01T18:28:23.278Z"
   },
   {
    "duration": 19,
    "start_time": "2025-06-01T18:28:23.288Z"
   },
   {
    "duration": 723,
    "start_time": "2025-06-01T18:28:23.309Z"
   },
   {
    "duration": 4,
    "start_time": "2025-06-01T18:28:24.036Z"
   },
   {
    "duration": 33,
    "start_time": "2025-06-01T18:28:24.042Z"
   },
   {
    "duration": 7731,
    "start_time": "2025-06-01T18:28:24.077Z"
   },
   {
    "duration": 4,
    "start_time": "2025-06-01T18:28:31.810Z"
   },
   {
    "duration": 2546,
    "start_time": "2025-06-01T18:28:31.816Z"
   },
   {
    "duration": 15,
    "start_time": "2025-06-01T18:28:34.364Z"
   },
   {
    "duration": 5,
    "start_time": "2025-06-01T18:28:34.380Z"
   },
   {
    "duration": 14,
    "start_time": "2025-06-01T18:28:59.039Z"
   },
   {
    "duration": 14,
    "start_time": "2025-06-01T18:29:04.811Z"
   },
   {
    "duration": 4971,
    "start_time": "2025-06-01T18:29:08.502Z"
   },
   {
    "duration": 5,
    "start_time": "2025-06-01T18:29:13.476Z"
   },
   {
    "duration": 95,
    "start_time": "2025-06-01T18:29:13.483Z"
   },
   {
    "duration": 22,
    "start_time": "2025-06-01T18:29:13.580Z"
   },
   {
    "duration": 4,
    "start_time": "2025-06-01T18:29:13.604Z"
   },
   {
    "duration": 12,
    "start_time": "2025-06-01T18:29:13.609Z"
   },
   {
    "duration": 42,
    "start_time": "2025-06-01T18:29:13.623Z"
   },
   {
    "duration": 4,
    "start_time": "2025-06-01T18:29:13.667Z"
   },
   {
    "duration": 7,
    "start_time": "2025-06-01T18:29:13.673Z"
   },
   {
    "duration": 693,
    "start_time": "2025-06-01T18:29:13.681Z"
   },
   {
    "duration": 9,
    "start_time": "2025-06-01T18:29:14.376Z"
   },
   {
    "duration": 17,
    "start_time": "2025-06-01T18:29:14.387Z"
   },
   {
    "duration": 687,
    "start_time": "2025-06-01T18:29:14.406Z"
   },
   {
    "duration": 4,
    "start_time": "2025-06-01T18:29:15.096Z"
   },
   {
    "duration": 89,
    "start_time": "2025-06-01T18:29:15.101Z"
   },
   {
    "duration": 7888,
    "start_time": "2025-06-01T18:29:15.192Z"
   },
   {
    "duration": 3,
    "start_time": "2025-06-01T18:29:23.082Z"
   },
   {
    "duration": 2184,
    "start_time": "2025-06-01T18:29:23.087Z"
   },
   {
    "duration": 15,
    "start_time": "2025-06-01T18:29:25.273Z"
   },
   {
    "duration": 13,
    "start_time": "2025-06-01T18:29:25.290Z"
   },
   {
    "duration": 6104,
    "start_time": "2025-06-02T16:07:50.749Z"
   },
   {
    "duration": 1468,
    "start_time": "2025-06-02T16:07:56.855Z"
   },
   {
    "duration": 159,
    "start_time": "2025-06-02T16:07:58.325Z"
   },
   {
    "duration": 22,
    "start_time": "2025-06-02T16:07:58.486Z"
   },
   {
    "duration": 4,
    "start_time": "2025-06-02T16:07:58.509Z"
   },
   {
    "duration": 11,
    "start_time": "2025-06-02T16:07:58.514Z"
   },
   {
    "duration": 18,
    "start_time": "2025-06-02T16:07:58.527Z"
   },
   {
    "duration": 4,
    "start_time": "2025-06-02T16:07:58.546Z"
   },
   {
    "duration": 6,
    "start_time": "2025-06-02T16:07:58.551Z"
   },
   {
    "duration": 581,
    "start_time": "2025-06-02T16:07:58.559Z"
   },
   {
    "duration": 9,
    "start_time": "2025-06-02T16:07:59.142Z"
   },
   {
    "duration": 16,
    "start_time": "2025-06-02T16:07:59.153Z"
   },
   {
    "duration": 665,
    "start_time": "2025-06-02T16:07:59.171Z"
   },
   {
    "duration": 5,
    "start_time": "2025-06-02T16:07:59.837Z"
   },
   {
    "duration": 19,
    "start_time": "2025-06-02T16:07:59.843Z"
   },
   {
    "duration": 7045,
    "start_time": "2025-06-02T16:07:59.864Z"
   },
   {
    "duration": 4,
    "start_time": "2025-06-02T16:08:06.911Z"
   },
   {
    "duration": 2273,
    "start_time": "2025-06-02T16:08:06.917Z"
   },
   {
    "duration": 14,
    "start_time": "2025-06-02T16:08:09.192Z"
   },
   {
    "duration": 29,
    "start_time": "2025-06-02T16:08:09.208Z"
   },
   {
    "duration": 12,
    "start_time": "2025-06-02T16:08:54.355Z"
   },
   {
    "duration": 4488,
    "start_time": "2025-06-02T16:09:17.758Z"
   },
   {
    "duration": 5,
    "start_time": "2025-06-02T16:09:22.249Z"
   },
   {
    "duration": 76,
    "start_time": "2025-06-02T16:09:22.256Z"
   },
   {
    "duration": 21,
    "start_time": "2025-06-02T16:09:22.335Z"
   },
   {
    "duration": 3,
    "start_time": "2025-06-02T16:09:22.358Z"
   },
   {
    "duration": 10,
    "start_time": "2025-06-02T16:09:22.363Z"
   },
   {
    "duration": 19,
    "start_time": "2025-06-02T16:09:22.374Z"
   },
   {
    "duration": 3,
    "start_time": "2025-06-02T16:09:22.395Z"
   },
   {
    "duration": 38,
    "start_time": "2025-06-02T16:09:22.399Z"
   },
   {
    "duration": 589,
    "start_time": "2025-06-02T16:09:22.439Z"
   },
   {
    "duration": 9,
    "start_time": "2025-06-02T16:09:23.034Z"
   },
   {
    "duration": 112,
    "start_time": "2025-06-02T16:09:23.044Z"
   },
   {
    "duration": 591,
    "start_time": "2025-06-02T16:09:23.157Z"
   },
   {
    "duration": 5,
    "start_time": "2025-06-02T16:09:23.749Z"
   },
   {
    "duration": 26,
    "start_time": "2025-06-02T16:09:23.755Z"
   },
   {
    "duration": 7244,
    "start_time": "2025-06-02T16:09:23.782Z"
   },
   {
    "duration": 8,
    "start_time": "2025-06-02T16:09:31.028Z"
   },
   {
    "duration": 2155,
    "start_time": "2025-06-02T16:09:31.038Z"
   },
   {
    "duration": 14,
    "start_time": "2025-06-02T16:09:33.195Z"
   },
   {
    "duration": 33,
    "start_time": "2025-06-02T16:09:33.211Z"
   },
   {
    "duration": 13,
    "start_time": "2025-06-02T16:09:52.549Z"
   },
   {
    "duration": 13,
    "start_time": "2025-06-02T16:11:52.297Z"
   },
   {
    "duration": 105,
    "start_time": "2025-06-02T16:12:14.948Z"
   },
   {
    "duration": 13,
    "start_time": "2025-06-02T16:12:25.657Z"
   },
   {
    "duration": 13,
    "start_time": "2025-06-02T16:12:29.668Z"
   },
   {
    "duration": 4592,
    "start_time": "2025-06-02T16:12:32.781Z"
   },
   {
    "duration": 5,
    "start_time": "2025-06-02T16:12:37.376Z"
   },
   {
    "duration": 372,
    "start_time": "2025-06-02T16:12:37.383Z"
   },
   {
    "duration": 460,
    "start_time": "2025-06-02T16:12:37.757Z"
   },
   {
    "duration": 4,
    "start_time": "2025-06-02T16:12:38.218Z"
   },
   {
    "duration": 20,
    "start_time": "2025-06-02T16:12:38.223Z"
   },
   {
    "duration": 22,
    "start_time": "2025-06-02T16:12:38.244Z"
   },
   {
    "duration": 5,
    "start_time": "2025-06-02T16:12:38.267Z"
   },
   {
    "duration": 6,
    "start_time": "2025-06-02T16:12:38.273Z"
   },
   {
    "duration": 634,
    "start_time": "2025-06-02T16:12:38.282Z"
   },
   {
    "duration": 19,
    "start_time": "2025-06-02T16:12:38.917Z"
   },
   {
    "duration": 46,
    "start_time": "2025-06-02T16:12:38.938Z"
   },
   {
    "duration": 612,
    "start_time": "2025-06-02T16:12:38.986Z"
   },
   {
    "duration": 4,
    "start_time": "2025-06-02T16:12:39.599Z"
   },
   {
    "duration": 31,
    "start_time": "2025-06-02T16:12:39.605Z"
   },
   {
    "duration": 6801,
    "start_time": "2025-06-02T16:12:39.637Z"
   },
   {
    "duration": 4,
    "start_time": "2025-06-02T16:12:46.439Z"
   },
   {
    "duration": 2345,
    "start_time": "2025-06-02T16:12:46.444Z"
   },
   {
    "duration": 14,
    "start_time": "2025-06-02T16:12:48.791Z"
   },
   {
    "duration": 29,
    "start_time": "2025-06-02T16:12:48.807Z"
   },
   {
    "duration": 148,
    "start_time": "2025-06-02T16:22:31.699Z"
   },
   {
    "duration": 271,
    "start_time": "2025-06-02T16:22:49.376Z"
   },
   {
    "duration": 405,
    "start_time": "2025-06-02T16:23:07.166Z"
   },
   {
    "duration": 367,
    "start_time": "2025-06-02T16:23:38.201Z"
   },
   {
    "duration": 354,
    "start_time": "2025-06-02T16:28:45.632Z"
   },
   {
    "duration": 4532,
    "start_time": "2025-06-02T16:28:49.456Z"
   },
   {
    "duration": 5,
    "start_time": "2025-06-02T16:28:53.990Z"
   },
   {
    "duration": 172,
    "start_time": "2025-06-02T16:28:53.996Z"
   },
   {
    "duration": 26,
    "start_time": "2025-06-02T16:28:54.171Z"
   },
   {
    "duration": 4,
    "start_time": "2025-06-02T16:28:54.198Z"
   },
   {
    "duration": 10,
    "start_time": "2025-06-02T16:28:54.204Z"
   },
   {
    "duration": 33,
    "start_time": "2025-06-02T16:28:54.215Z"
   },
   {
    "duration": 4,
    "start_time": "2025-06-02T16:28:54.250Z"
   },
   {
    "duration": 7,
    "start_time": "2025-06-02T16:28:54.255Z"
   },
   {
    "duration": 673,
    "start_time": "2025-06-02T16:28:54.264Z"
   },
   {
    "duration": 8,
    "start_time": "2025-06-02T16:28:54.939Z"
   },
   {
    "duration": 107,
    "start_time": "2025-06-02T16:28:54.948Z"
   },
   {
    "duration": 614,
    "start_time": "2025-06-02T16:28:55.057Z"
   },
   {
    "duration": 4,
    "start_time": "2025-06-02T16:28:55.673Z"
   },
   {
    "duration": 34,
    "start_time": "2025-06-02T16:28:55.678Z"
   },
   {
    "duration": 373,
    "start_time": "2025-06-02T16:28:55.713Z"
   },
   {
    "duration": 8700,
    "start_time": "2025-06-02T16:28:56.087Z"
   },
   {
    "duration": 3,
    "start_time": "2025-06-02T16:29:04.789Z"
   },
   {
    "duration": 2110,
    "start_time": "2025-06-02T16:29:04.794Z"
   },
   {
    "duration": 14,
    "start_time": "2025-06-02T16:29:06.906Z"
   },
   {
    "duration": 24,
    "start_time": "2025-06-02T16:29:06.922Z"
   },
   {
    "duration": 887,
    "start_time": "2025-06-02T16:29:06.948Z"
   },
   {
    "duration": 10,
    "start_time": "2025-06-02T16:29:52.001Z"
   },
   {
    "duration": 5144,
    "start_time": "2025-06-02T16:29:55.327Z"
   },
   {
    "duration": 4,
    "start_time": "2025-06-02T16:30:00.474Z"
   },
   {
    "duration": 219,
    "start_time": "2025-06-02T16:30:00.480Z"
   },
   {
    "duration": 22,
    "start_time": "2025-06-02T16:30:00.701Z"
   },
   {
    "duration": 65,
    "start_time": "2025-06-02T16:30:00.725Z"
   },
   {
    "duration": 13,
    "start_time": "2025-06-02T16:30:00.792Z"
   },
   {
    "duration": 20,
    "start_time": "2025-06-02T16:30:00.807Z"
   },
   {
    "duration": 29,
    "start_time": "2025-06-02T16:30:00.829Z"
   },
   {
    "duration": 14,
    "start_time": "2025-06-02T16:30:00.859Z"
   },
   {
    "duration": 659,
    "start_time": "2025-06-02T16:30:00.876Z"
   },
   {
    "duration": 8,
    "start_time": "2025-06-02T16:30:01.537Z"
   },
   {
    "duration": 49,
    "start_time": "2025-06-02T16:30:01.546Z"
   },
   {
    "duration": 634,
    "start_time": "2025-06-02T16:30:01.597Z"
   },
   {
    "duration": 5,
    "start_time": "2025-06-02T16:30:02.233Z"
   },
   {
    "duration": 55,
    "start_time": "2025-06-02T16:30:02.239Z"
   },
   {
    "duration": 45,
    "start_time": "2025-06-02T16:30:02.296Z"
   },
   {
    "duration": 362,
    "start_time": "2025-06-02T16:30:02.342Z"
   },
   {
    "duration": 7046,
    "start_time": "2025-06-02T16:30:02.706Z"
   },
   {
    "duration": 4,
    "start_time": "2025-06-02T16:30:09.753Z"
   },
   {
    "duration": 2893,
    "start_time": "2025-06-02T16:30:09.758Z"
   },
   {
    "duration": 14,
    "start_time": "2025-06-02T16:30:12.652Z"
   },
   {
    "duration": 12,
    "start_time": "2025-06-02T16:30:12.667Z"
   },
   {
    "duration": 441,
    "start_time": "2025-06-02T16:30:12.736Z"
   },
   {
    "duration": 14,
    "start_time": "2025-06-02T16:30:29.506Z"
   },
   {
    "duration": 4551,
    "start_time": "2025-06-02T16:31:01.376Z"
   },
   {
    "duration": 5,
    "start_time": "2025-06-02T16:31:05.930Z"
   },
   {
    "duration": 109,
    "start_time": "2025-06-02T16:31:05.936Z"
   },
   {
    "duration": 24,
    "start_time": "2025-06-02T16:31:06.047Z"
   },
   {
    "duration": 38,
    "start_time": "2025-06-02T16:31:06.073Z"
   },
   {
    "duration": 19,
    "start_time": "2025-06-02T16:31:06.112Z"
   },
   {
    "duration": 21,
    "start_time": "2025-06-02T16:31:06.132Z"
   },
   {
    "duration": 25,
    "start_time": "2025-06-02T16:31:06.155Z"
   },
   {
    "duration": 19,
    "start_time": "2025-06-02T16:31:06.182Z"
   },
   {
    "duration": 627,
    "start_time": "2025-06-02T16:31:06.203Z"
   },
   {
    "duration": 9,
    "start_time": "2025-06-02T16:31:06.836Z"
   },
   {
    "duration": 23,
    "start_time": "2025-06-02T16:31:06.847Z"
   },
   {
    "duration": 641,
    "start_time": "2025-06-02T16:31:06.872Z"
   },
   {
    "duration": 5,
    "start_time": "2025-06-02T16:31:07.516Z"
   },
   {
    "duration": 38,
    "start_time": "2025-06-02T16:31:07.522Z"
   },
   {
    "duration": 13,
    "start_time": "2025-06-02T16:31:07.562Z"
   },
   {
    "duration": 391,
    "start_time": "2025-06-02T16:31:07.577Z"
   },
   {
    "duration": 12,
    "start_time": "2025-06-02T16:31:07.970Z"
   },
   {
    "duration": 7913,
    "start_time": "2025-06-02T16:31:07.983Z"
   },
   {
    "duration": 4,
    "start_time": "2025-06-02T16:31:15.897Z"
   },
   {
    "duration": 2754,
    "start_time": "2025-06-02T16:31:15.902Z"
   },
   {
    "duration": 336,
    "start_time": "2025-06-02T16:39:56.169Z"
   },
   {
    "duration": 4599,
    "start_time": "2025-06-02T16:40:52.000Z"
   },
   {
    "duration": 5,
    "start_time": "2025-06-02T16:40:56.602Z"
   },
   {
    "duration": 171,
    "start_time": "2025-06-02T16:40:56.608Z"
   },
   {
    "duration": 22,
    "start_time": "2025-06-02T16:40:56.780Z"
   },
   {
    "duration": 27,
    "start_time": "2025-06-02T16:40:56.804Z"
   },
   {
    "duration": 10,
    "start_time": "2025-06-02T16:40:56.833Z"
   },
   {
    "duration": 20,
    "start_time": "2025-06-02T16:40:56.845Z"
   },
   {
    "duration": 4,
    "start_time": "2025-06-02T16:40:56.867Z"
   },
   {
    "duration": 5,
    "start_time": "2025-06-02T16:40:56.872Z"
   },
   {
    "duration": 650,
    "start_time": "2025-06-02T16:40:56.878Z"
   },
   {
    "duration": 12,
    "start_time": "2025-06-02T16:40:57.529Z"
   },
   {
    "duration": 16,
    "start_time": "2025-06-02T16:40:57.543Z"
   },
   {
    "duration": 1089,
    "start_time": "2025-06-02T16:40:57.560Z"
   },
   {
    "duration": 20,
    "start_time": "2025-06-02T16:40:58.651Z"
   },
   {
    "duration": 14,
    "start_time": "2025-06-02T16:40:58.672Z"
   },
   {
    "duration": 385,
    "start_time": "2025-06-02T16:40:58.687Z"
   },
   {
    "duration": 14,
    "start_time": "2025-06-02T16:40:59.074Z"
   },
   {
    "duration": 7165,
    "start_time": "2025-06-02T16:40:59.090Z"
   },
   {
    "duration": 3,
    "start_time": "2025-06-02T16:41:06.257Z"
   },
   {
    "duration": 2449,
    "start_time": "2025-06-02T16:41:06.262Z"
   },
   {
    "duration": 360,
    "start_time": "2025-06-02T16:41:08.713Z"
   },
   {
    "duration": 193,
    "start_time": "2025-06-02T16:42:44.555Z"
   },
   {
    "duration": 195,
    "start_time": "2025-06-02T16:43:29.142Z"
   },
   {
    "duration": 406,
    "start_time": "2025-06-02T16:44:03.082Z"
   },
   {
    "duration": 437,
    "start_time": "2025-06-02T16:44:13.603Z"
   },
   {
    "duration": 426,
    "start_time": "2025-06-02T16:44:42.281Z"
   },
   {
    "duration": 408,
    "start_time": "2025-06-02T16:45:26.769Z"
   },
   {
    "duration": 430,
    "start_time": "2025-06-02T16:45:49.888Z"
   },
   {
    "duration": 217,
    "start_time": "2025-06-02T16:46:53.672Z"
   },
   {
    "duration": 406,
    "start_time": "2025-06-02T16:47:23.504Z"
   },
   {
    "duration": 377,
    "start_time": "2025-06-02T16:47:38.147Z"
   },
   {
    "duration": 389,
    "start_time": "2025-06-02T16:47:45.129Z"
   },
   {
    "duration": 409,
    "start_time": "2025-06-02T16:49:14.188Z"
   },
   {
    "duration": 386,
    "start_time": "2025-06-02T16:49:36.628Z"
   },
   {
    "duration": 7235,
    "start_time": "2025-06-02T17:12:46.920Z"
   },
   {
    "duration": 7476,
    "start_time": "2025-06-02T17:15:26.185Z"
   },
   {
    "duration": 7546,
    "start_time": "2025-06-02T17:15:52.112Z"
   },
   {
    "duration": 7471,
    "start_time": "2025-06-02T17:24:26.109Z"
   },
   {
    "duration": 2373,
    "start_time": "2025-06-02T17:27:39.569Z"
   },
   {
    "duration": 4642,
    "start_time": "2025-06-02T17:28:05.977Z"
   },
   {
    "duration": 5,
    "start_time": "2025-06-02T17:28:10.622Z"
   },
   {
    "duration": 112,
    "start_time": "2025-06-02T17:28:10.629Z"
   },
   {
    "duration": 25,
    "start_time": "2025-06-02T17:28:10.743Z"
   },
   {
    "duration": 4,
    "start_time": "2025-06-02T17:28:10.771Z"
   },
   {
    "duration": 12,
    "start_time": "2025-06-02T17:28:10.777Z"
   },
   {
    "duration": 51,
    "start_time": "2025-06-02T17:28:10.791Z"
   },
   {
    "duration": 5,
    "start_time": "2025-06-02T17:28:10.844Z"
   },
   {
    "duration": 7,
    "start_time": "2025-06-02T17:28:10.850Z"
   },
   {
    "duration": 647,
    "start_time": "2025-06-02T17:28:10.858Z"
   },
   {
    "duration": 10,
    "start_time": "2025-06-02T17:28:11.506Z"
   },
   {
    "duration": 31,
    "start_time": "2025-06-02T17:28:11.518Z"
   },
   {
    "duration": 615,
    "start_time": "2025-06-02T17:28:11.551Z"
   },
   {
    "duration": 21,
    "start_time": "2025-06-02T17:28:12.170Z"
   },
   {
    "duration": 15,
    "start_time": "2025-06-02T17:28:12.193Z"
   },
   {
    "duration": 375,
    "start_time": "2025-06-02T17:28:12.210Z"
   },
   {
    "duration": 14,
    "start_time": "2025-06-02T17:28:12.587Z"
   },
   {
    "duration": 7527,
    "start_time": "2025-06-02T17:28:12.603Z"
   },
   {
    "duration": 4,
    "start_time": "2025-06-02T17:28:20.135Z"
   },
   {
    "duration": 2197,
    "start_time": "2025-06-02T17:28:20.141Z"
   },
   {
    "duration": 373,
    "start_time": "2025-06-02T17:28:22.340Z"
   },
   {
    "duration": 16,
    "start_time": "2025-06-02T18:24:35.316Z"
   },
   {
    "duration": 487,
    "start_time": "2025-06-02T18:24:53.760Z"
   },
   {
    "duration": 33,
    "start_time": "2025-06-02T18:27:49.617Z"
   },
   {
    "duration": 69,
    "start_time": "2025-06-02T18:50:59.442Z"
   },
   {
    "duration": 31,
    "start_time": "2025-06-02T18:51:15.473Z"
   },
   {
    "duration": 32,
    "start_time": "2025-06-02T18:51:29.435Z"
   },
   {
    "duration": 19,
    "start_time": "2025-06-02T19:09:37.476Z"
   },
   {
    "duration": 30,
    "start_time": "2025-06-02T19:09:59.320Z"
   },
   {
    "duration": 26,
    "start_time": "2025-06-02T19:10:08.601Z"
   },
   {
    "duration": 6407,
    "start_time": "2025-06-03T11:12:31.607Z"
   },
   {
    "duration": 1419,
    "start_time": "2025-06-03T11:12:38.016Z"
   },
   {
    "duration": 113,
    "start_time": "2025-06-03T11:12:39.437Z"
   },
   {
    "duration": 46,
    "start_time": "2025-06-03T11:12:39.551Z"
   },
   {
    "duration": 3,
    "start_time": "2025-06-03T11:12:39.600Z"
   },
   {
    "duration": 20,
    "start_time": "2025-06-03T11:12:39.605Z"
   },
   {
    "duration": 22,
    "start_time": "2025-06-03T11:12:39.626Z"
   },
   {
    "duration": 4,
    "start_time": "2025-06-03T11:12:39.649Z"
   },
   {
    "duration": 5,
    "start_time": "2025-06-03T11:12:39.655Z"
   },
   {
    "duration": 628,
    "start_time": "2025-06-03T11:12:39.662Z"
   },
   {
    "duration": 9,
    "start_time": "2025-06-03T11:12:40.292Z"
   },
   {
    "duration": 19,
    "start_time": "2025-06-03T11:12:40.302Z"
   },
   {
    "duration": 717,
    "start_time": "2025-06-03T11:12:40.322Z"
   },
   {
    "duration": 31,
    "start_time": "2025-06-03T11:12:41.042Z"
   },
   {
    "duration": 19,
    "start_time": "2025-06-03T11:12:41.075Z"
   },
   {
    "duration": 412,
    "start_time": "2025-06-03T11:12:41.095Z"
   },
   {
    "duration": 17,
    "start_time": "2025-06-03T11:12:41.508Z"
   },
   {
    "duration": 7873,
    "start_time": "2025-06-03T11:12:41.527Z"
   },
   {
    "duration": 5,
    "start_time": "2025-06-03T11:12:49.401Z"
   },
   {
    "duration": 2579,
    "start_time": "2025-06-03T11:12:49.407Z"
   },
   {
    "duration": 450,
    "start_time": "2025-06-03T11:12:51.988Z"
   },
   {
    "duration": 490,
    "start_time": "2025-06-03T11:12:52.439Z"
   },
   {
    "duration": 121,
    "start_time": "2025-06-03T11:35:09.071Z"
   },
   {
    "duration": 38,
    "start_time": "2025-06-03T11:36:26.701Z"
   },
   {
    "duration": 32,
    "start_time": "2025-06-03T11:36:42.868Z"
   },
   {
    "duration": 42,
    "start_time": "2025-06-03T11:46:35.312Z"
   },
   {
    "duration": 49,
    "start_time": "2025-06-03T11:48:30.957Z"
   },
   {
    "duration": 34,
    "start_time": "2025-06-03T11:48:46.195Z"
   },
   {
    "duration": 1996,
    "start_time": "2025-06-03T11:53:40.294Z"
   },
   {
    "duration": 5025,
    "start_time": "2025-06-03T11:54:16.847Z"
   },
   {
    "duration": 6,
    "start_time": "2025-06-03T11:54:21.874Z"
   },
   {
    "duration": 145,
    "start_time": "2025-06-03T11:54:21.881Z"
   },
   {
    "duration": 24,
    "start_time": "2025-06-03T11:54:22.028Z"
   },
   {
    "duration": 4,
    "start_time": "2025-06-03T11:54:22.055Z"
   },
   {
    "duration": 15,
    "start_time": "2025-06-03T11:54:22.061Z"
   },
   {
    "duration": 23,
    "start_time": "2025-06-03T11:54:22.078Z"
   },
   {
    "duration": 5,
    "start_time": "2025-06-03T11:54:22.102Z"
   },
   {
    "duration": 6,
    "start_time": "2025-06-03T11:54:22.109Z"
   },
   {
    "duration": 649,
    "start_time": "2025-06-03T11:54:22.117Z"
   },
   {
    "duration": 9,
    "start_time": "2025-06-03T11:54:22.768Z"
   },
   {
    "duration": 18,
    "start_time": "2025-06-03T11:54:22.779Z"
   },
   {
    "duration": 695,
    "start_time": "2025-06-03T11:54:22.798Z"
   },
   {
    "duration": 21,
    "start_time": "2025-06-03T11:54:23.496Z"
   },
   {
    "duration": 96,
    "start_time": "2025-06-03T11:54:23.518Z"
   },
   {
    "duration": 453,
    "start_time": "2025-06-03T11:54:23.616Z"
   },
   {
    "duration": 14,
    "start_time": "2025-06-03T11:54:24.070Z"
   },
   {
    "duration": 7981,
    "start_time": "2025-06-03T11:54:24.085Z"
   },
   {
    "duration": 4,
    "start_time": "2025-06-03T11:54:32.068Z"
   },
   {
    "duration": 916,
    "start_time": "2025-06-03T11:54:32.073Z"
   },
   {
    "duration": 0,
    "start_time": "2025-06-03T11:54:32.991Z"
   },
   {
    "duration": 0,
    "start_time": "2025-06-03T11:54:32.992Z"
   },
   {
    "duration": 0,
    "start_time": "2025-06-03T11:54:32.993Z"
   },
   {
    "duration": 0,
    "start_time": "2025-06-03T11:54:32.994Z"
   },
   {
    "duration": 0,
    "start_time": "2025-06-03T11:54:32.995Z"
   },
   {
    "duration": 0,
    "start_time": "2025-06-03T11:54:32.996Z"
   },
   {
    "duration": 2350,
    "start_time": "2025-06-03T11:56:15.980Z"
   },
   {
    "duration": 416,
    "start_time": "2025-06-03T11:56:43.437Z"
   },
   {
    "duration": 4909,
    "start_time": "2025-06-03T11:57:04.810Z"
   },
   {
    "duration": 5,
    "start_time": "2025-06-03T11:57:09.721Z"
   },
   {
    "duration": 98,
    "start_time": "2025-06-03T11:57:09.727Z"
   },
   {
    "duration": 24,
    "start_time": "2025-06-03T11:57:09.826Z"
   },
   {
    "duration": 4,
    "start_time": "2025-06-03T11:57:09.853Z"
   },
   {
    "duration": 12,
    "start_time": "2025-06-03T11:57:09.858Z"
   },
   {
    "duration": 20,
    "start_time": "2025-06-03T11:57:09.872Z"
   },
   {
    "duration": 3,
    "start_time": "2025-06-03T11:57:09.894Z"
   },
   {
    "duration": 6,
    "start_time": "2025-06-03T11:57:09.899Z"
   },
   {
    "duration": 659,
    "start_time": "2025-06-03T11:57:09.907Z"
   },
   {
    "duration": 8,
    "start_time": "2025-06-03T11:57:10.567Z"
   },
   {
    "duration": 20,
    "start_time": "2025-06-03T11:57:10.577Z"
   },
   {
    "duration": 693,
    "start_time": "2025-06-03T11:57:10.598Z"
   },
   {
    "duration": 21,
    "start_time": "2025-06-03T11:57:11.294Z"
   },
   {
    "duration": 14,
    "start_time": "2025-06-03T11:57:11.317Z"
   },
   {
    "duration": 487,
    "start_time": "2025-06-03T11:57:11.333Z"
   },
   {
    "duration": 46,
    "start_time": "2025-06-03T11:57:11.822Z"
   },
   {
    "duration": 8071,
    "start_time": "2025-06-03T11:57:11.870Z"
   },
   {
    "duration": 17,
    "start_time": "2025-06-03T11:57:19.943Z"
   },
   {
    "duration": 2573,
    "start_time": "2025-06-03T11:57:19.962Z"
   },
   {
    "duration": 434,
    "start_time": "2025-06-03T11:57:22.536Z"
   },
   {
    "duration": 36,
    "start_time": "2025-06-03T11:57:22.972Z"
   },
   {
    "duration": 149,
    "start_time": "2025-06-03T11:57:23.010Z"
   },
   {
    "duration": 0,
    "start_time": "2025-06-03T11:57:23.160Z"
   },
   {
    "duration": 0,
    "start_time": "2025-06-03T11:57:23.161Z"
   },
   {
    "duration": 0,
    "start_time": "2025-06-03T11:57:23.163Z"
   },
   {
    "duration": 19,
    "start_time": "2025-06-03T11:57:43.980Z"
   },
   {
    "duration": 36,
    "start_time": "2025-06-03T11:57:50.220Z"
   },
   {
    "duration": 13,
    "start_time": "2025-06-03T11:58:04.367Z"
   },
   {
    "duration": 36,
    "start_time": "2025-06-03T11:58:19.120Z"
   },
   {
    "duration": 45,
    "start_time": "2025-06-03T12:01:41.237Z"
   },
   {
    "duration": 40,
    "start_time": "2025-06-03T12:01:50.494Z"
   },
   {
    "duration": 38,
    "start_time": "2025-06-03T12:02:59.403Z"
   },
   {
    "duration": 37,
    "start_time": "2025-06-03T12:05:55.634Z"
   },
   {
    "duration": 40,
    "start_time": "2025-06-03T12:07:55.414Z"
   },
   {
    "duration": 35,
    "start_time": "2025-06-03T12:08:59.144Z"
   },
   {
    "duration": 149,
    "start_time": "2025-06-03T12:25:24.976Z"
   },
   {
    "duration": 38,
    "start_time": "2025-06-03T12:25:39.841Z"
   },
   {
    "duration": 33,
    "start_time": "2025-06-03T12:26:03.202Z"
   },
   {
    "duration": 35,
    "start_time": "2025-06-03T12:27:43.716Z"
   },
   {
    "duration": 532,
    "start_time": "2025-06-03T12:32:02.500Z"
   },
   {
    "duration": 31,
    "start_time": "2025-06-03T12:33:18.033Z"
   },
   {
    "duration": 32,
    "start_time": "2025-06-03T12:35:00.466Z"
   },
   {
    "duration": 32,
    "start_time": "2025-06-03T12:35:42.102Z"
   },
   {
    "duration": 34,
    "start_time": "2025-06-03T12:36:15.706Z"
   },
   {
    "duration": 6981,
    "start_time": "2025-06-03T16:32:59.726Z"
   },
   {
    "duration": 1494,
    "start_time": "2025-06-03T16:33:06.710Z"
   },
   {
    "duration": 84,
    "start_time": "2025-06-03T16:33:08.206Z"
   },
   {
    "duration": 34,
    "start_time": "2025-06-03T16:33:08.291Z"
   },
   {
    "duration": 61,
    "start_time": "2025-06-03T16:33:08.328Z"
   },
   {
    "duration": 20,
    "start_time": "2025-06-03T16:33:08.391Z"
   },
   {
    "duration": 23,
    "start_time": "2025-06-03T16:33:08.413Z"
   },
   {
    "duration": 4,
    "start_time": "2025-06-03T16:33:08.438Z"
   },
   {
    "duration": 11,
    "start_time": "2025-06-03T16:33:08.444Z"
   },
   {
    "duration": 627,
    "start_time": "2025-06-03T16:33:08.456Z"
   },
   {
    "duration": 10,
    "start_time": "2025-06-03T16:33:09.085Z"
   },
   {
    "duration": 18,
    "start_time": "2025-06-03T16:33:09.096Z"
   },
   {
    "duration": 739,
    "start_time": "2025-06-03T16:33:09.116Z"
   },
   {
    "duration": 23,
    "start_time": "2025-06-03T16:33:09.858Z"
   },
   {
    "duration": 15,
    "start_time": "2025-06-03T16:33:09.883Z"
   },
   {
    "duration": 430,
    "start_time": "2025-06-03T16:33:09.899Z"
   },
   {
    "duration": 14,
    "start_time": "2025-06-03T16:33:10.331Z"
   },
   {
    "duration": 8153,
    "start_time": "2025-06-03T16:33:10.346Z"
   },
   {
    "duration": 4,
    "start_time": "2025-06-03T16:33:18.501Z"
   },
   {
    "duration": 2319,
    "start_time": "2025-06-03T16:33:18.507Z"
   },
   {
    "duration": 426,
    "start_time": "2025-06-03T16:33:20.828Z"
   },
   {
    "duration": 478,
    "start_time": "2025-06-03T16:33:21.255Z"
   },
   {
    "duration": 39,
    "start_time": "2025-06-03T16:33:21.735Z"
   },
   {
    "duration": 191,
    "start_time": "2025-06-03T16:33:21.776Z"
   },
   {
    "duration": 0,
    "start_time": "2025-06-03T16:33:21.969Z"
   },
   {
    "duration": 0,
    "start_time": "2025-06-03T16:33:21.971Z"
   },
   {
    "duration": 0,
    "start_time": "2025-06-03T16:33:21.972Z"
   },
   {
    "duration": 125,
    "start_time": "2025-06-03T16:37:36.674Z"
   },
   {
    "duration": 36,
    "start_time": "2025-06-03T16:38:05.319Z"
   },
   {
    "duration": 37,
    "start_time": "2025-06-03T16:39:08.467Z"
   },
   {
    "duration": 615,
    "start_time": "2025-06-03T16:39:28.039Z"
   },
   {
    "duration": 39,
    "start_time": "2025-06-03T16:40:05.539Z"
   },
   {
    "duration": 32,
    "start_time": "2025-06-03T16:40:23.071Z"
   },
   {
    "duration": 31,
    "start_time": "2025-06-03T16:40:46.870Z"
   },
   {
    "duration": 349,
    "start_time": "2025-06-03T16:41:35.030Z"
   },
   {
    "duration": 36,
    "start_time": "2025-06-03T16:41:42.000Z"
   },
   {
    "duration": 35,
    "start_time": "2025-06-03T16:41:48.865Z"
   },
   {
    "duration": 34,
    "start_time": "2025-06-03T16:42:56.267Z"
   },
   {
    "duration": 33,
    "start_time": "2025-06-03T16:44:04.598Z"
   },
   {
    "duration": 38,
    "start_time": "2025-06-03T17:02:17.087Z"
   },
   {
    "duration": 39,
    "start_time": "2025-06-03T17:02:46.042Z"
   },
   {
    "duration": 36,
    "start_time": "2025-06-03T17:14:02.150Z"
   },
   {
    "duration": 42,
    "start_time": "2025-06-03T17:14:32.095Z"
   },
   {
    "duration": 33,
    "start_time": "2025-06-03T17:16:01.678Z"
   },
   {
    "duration": 4905,
    "start_time": "2025-06-03T17:16:07.711Z"
   },
   {
    "duration": 5,
    "start_time": "2025-06-03T17:16:12.618Z"
   },
   {
    "duration": 190,
    "start_time": "2025-06-03T17:16:12.624Z"
   },
   {
    "duration": 23,
    "start_time": "2025-06-03T17:16:12.817Z"
   },
   {
    "duration": 49,
    "start_time": "2025-06-03T17:16:12.841Z"
   },
   {
    "duration": 19,
    "start_time": "2025-06-03T17:16:12.892Z"
   },
   {
    "duration": 22,
    "start_time": "2025-06-03T17:16:12.913Z"
   },
   {
    "duration": 4,
    "start_time": "2025-06-03T17:16:12.937Z"
   },
   {
    "duration": 5,
    "start_time": "2025-06-03T17:16:12.943Z"
   },
   {
    "duration": 637,
    "start_time": "2025-06-03T17:16:12.951Z"
   },
   {
    "duration": 8,
    "start_time": "2025-06-03T17:16:13.589Z"
   },
   {
    "duration": 28,
    "start_time": "2025-06-03T17:16:13.599Z"
   },
   {
    "duration": 692,
    "start_time": "2025-06-03T17:16:13.629Z"
   },
   {
    "duration": 22,
    "start_time": "2025-06-03T17:16:14.323Z"
   },
   {
    "duration": 25,
    "start_time": "2025-06-03T17:16:14.346Z"
   },
   {
    "duration": 395,
    "start_time": "2025-06-03T17:16:14.373Z"
   },
   {
    "duration": 14,
    "start_time": "2025-06-03T17:16:14.770Z"
   },
   {
    "duration": 7682,
    "start_time": "2025-06-03T17:16:14.786Z"
   },
   {
    "duration": 4,
    "start_time": "2025-06-03T17:16:22.469Z"
   },
   {
    "duration": 2476,
    "start_time": "2025-06-03T17:16:22.475Z"
   },
   {
    "duration": 435,
    "start_time": "2025-06-03T17:16:24.953Z"
   },
   {
    "duration": 37,
    "start_time": "2025-06-03T17:16:25.390Z"
   },
   {
    "duration": 67,
    "start_time": "2025-06-03T17:16:25.429Z"
   },
   {
    "duration": 94,
    "start_time": "2025-06-03T17:16:25.498Z"
   },
   {
    "duration": 0,
    "start_time": "2025-06-03T17:16:25.593Z"
   },
   {
    "duration": 0,
    "start_time": "2025-06-03T17:16:25.594Z"
   },
   {
    "duration": 1,
    "start_time": "2025-06-03T17:16:25.595Z"
   },
   {
    "duration": 35,
    "start_time": "2025-06-03T17:17:06.658Z"
   },
   {
    "duration": 47,
    "start_time": "2025-06-03T17:18:22.149Z"
   },
   {
    "duration": 35,
    "start_time": "2025-06-03T17:18:30.212Z"
   },
   {
    "duration": 38,
    "start_time": "2025-06-03T17:19:42.916Z"
   },
   {
    "duration": 41,
    "start_time": "2025-06-03T17:20:16.030Z"
   },
   {
    "duration": 37,
    "start_time": "2025-06-03T17:22:33.239Z"
   },
   {
    "duration": 38,
    "start_time": "2025-06-03T17:22:50.865Z"
   },
   {
    "duration": 37,
    "start_time": "2025-06-03T17:26:06.804Z"
   },
   {
    "duration": 51,
    "start_time": "2025-06-03T17:27:02.595Z"
   },
   {
    "duration": 38,
    "start_time": "2025-06-03T17:27:58.872Z"
   },
   {
    "duration": 39,
    "start_time": "2025-06-03T17:28:24.188Z"
   },
   {
    "duration": 37,
    "start_time": "2025-06-03T17:28:56.972Z"
   },
   {
    "duration": 37,
    "start_time": "2025-06-03T17:29:45.864Z"
   },
   {
    "duration": 31,
    "start_time": "2025-06-03T17:31:33.291Z"
   },
   {
    "duration": 36,
    "start_time": "2025-06-03T17:31:45.236Z"
   },
   {
    "duration": 106,
    "start_time": "2025-06-03T17:34:46.108Z"
   },
   {
    "duration": 36,
    "start_time": "2025-06-03T17:34:56.565Z"
   },
   {
    "duration": 39,
    "start_time": "2025-06-03T17:35:11.732Z"
   },
   {
    "duration": 32,
    "start_time": "2025-06-03T17:39:02.158Z"
   },
   {
    "duration": 37,
    "start_time": "2025-06-03T17:54:56.598Z"
   },
   {
    "duration": 43,
    "start_time": "2025-06-03T17:59:49.384Z"
   },
   {
    "duration": 31,
    "start_time": "2025-06-03T18:00:52.275Z"
   },
   {
    "duration": 33,
    "start_time": "2025-06-03T18:01:16.386Z"
   },
   {
    "duration": 34,
    "start_time": "2025-06-03T18:05:55.159Z"
   },
   {
    "duration": 35,
    "start_time": "2025-06-03T18:06:13.001Z"
   },
   {
    "duration": 34,
    "start_time": "2025-06-03T18:06:45.967Z"
   },
   {
    "duration": 4842,
    "start_time": "2025-06-03T18:08:23.902Z"
   },
   {
    "duration": 6,
    "start_time": "2025-06-03T18:08:28.746Z"
   },
   {
    "duration": 134,
    "start_time": "2025-06-03T18:08:28.753Z"
   },
   {
    "duration": 22,
    "start_time": "2025-06-03T18:08:28.889Z"
   },
   {
    "duration": 4,
    "start_time": "2025-06-03T18:08:28.913Z"
   },
   {
    "duration": 14,
    "start_time": "2025-06-03T18:08:28.918Z"
   },
   {
    "duration": 34,
    "start_time": "2025-06-03T18:08:28.933Z"
   },
   {
    "duration": 4,
    "start_time": "2025-06-03T18:08:28.968Z"
   },
   {
    "duration": 9,
    "start_time": "2025-06-03T18:08:28.974Z"
   },
   {
    "duration": 677,
    "start_time": "2025-06-03T18:08:28.985Z"
   },
   {
    "duration": 8,
    "start_time": "2025-06-03T18:08:29.664Z"
   },
   {
    "duration": 19,
    "start_time": "2025-06-03T18:08:29.674Z"
   },
   {
    "duration": 698,
    "start_time": "2025-06-03T18:08:29.694Z"
   },
   {
    "duration": 21,
    "start_time": "2025-06-03T18:08:30.394Z"
   },
   {
    "duration": 75,
    "start_time": "2025-06-03T18:08:30.417Z"
   },
   {
    "duration": 408,
    "start_time": "2025-06-03T18:08:30.493Z"
   },
   {
    "duration": 13,
    "start_time": "2025-06-03T18:08:30.903Z"
   },
   {
    "duration": 7834,
    "start_time": "2025-06-03T18:08:30.917Z"
   },
   {
    "duration": 11,
    "start_time": "2025-06-03T18:08:38.753Z"
   },
   {
    "duration": 2256,
    "start_time": "2025-06-03T18:08:38.766Z"
   },
   {
    "duration": 846,
    "start_time": "2025-06-03T18:08:41.023Z"
   },
   {
    "duration": 35,
    "start_time": "2025-06-03T18:08:41.871Z"
   },
   {
    "duration": 34,
    "start_time": "2025-06-03T18:10:01.006Z"
   },
   {
    "duration": 22,
    "start_time": "2025-06-03T18:15:29.882Z"
   },
   {
    "duration": 4830,
    "start_time": "2025-06-03T18:41:56.465Z"
   },
   {
    "duration": 6,
    "start_time": "2025-06-03T18:42:01.297Z"
   },
   {
    "duration": 138,
    "start_time": "2025-06-03T18:42:01.304Z"
   },
   {
    "duration": 23,
    "start_time": "2025-06-03T18:42:01.444Z"
   },
   {
    "duration": 4,
    "start_time": "2025-06-03T18:42:01.469Z"
   },
   {
    "duration": 35,
    "start_time": "2025-06-03T18:42:01.474Z"
   },
   {
    "duration": 23,
    "start_time": "2025-06-03T18:42:01.511Z"
   },
   {
    "duration": 4,
    "start_time": "2025-06-03T18:42:01.536Z"
   },
   {
    "duration": 93,
    "start_time": "2025-06-03T18:42:01.542Z"
   },
   {
    "duration": 637,
    "start_time": "2025-06-03T18:42:01.638Z"
   },
   {
    "duration": 9,
    "start_time": "2025-06-03T18:42:02.277Z"
   },
   {
    "duration": 34,
    "start_time": "2025-06-03T18:42:02.288Z"
   },
   {
    "duration": 671,
    "start_time": "2025-06-03T18:42:02.324Z"
   },
   {
    "duration": 21,
    "start_time": "2025-06-03T18:42:02.997Z"
   },
   {
    "duration": 20,
    "start_time": "2025-06-03T18:42:03.020Z"
   },
   {
    "duration": 372,
    "start_time": "2025-06-03T18:42:03.042Z"
   },
   {
    "duration": 13,
    "start_time": "2025-06-03T18:42:03.415Z"
   },
   {
    "duration": 7579,
    "start_time": "2025-06-03T18:42:03.430Z"
   },
   {
    "duration": 3,
    "start_time": "2025-06-03T18:42:11.011Z"
   },
   {
    "duration": 2217,
    "start_time": "2025-06-03T18:42:11.016Z"
   },
   {
    "duration": 418,
    "start_time": "2025-06-03T18:42:13.235Z"
   },
   {
    "duration": 40,
    "start_time": "2025-06-03T18:42:13.655Z"
   },
   {
    "duration": 4799,
    "start_time": "2025-06-03T18:51:51.764Z"
   },
   {
    "duration": 5,
    "start_time": "2025-06-03T18:51:56.566Z"
   },
   {
    "duration": 80,
    "start_time": "2025-06-03T18:51:56.573Z"
   },
   {
    "duration": 25,
    "start_time": "2025-06-03T18:51:56.655Z"
   },
   {
    "duration": 4,
    "start_time": "2025-06-03T18:51:56.682Z"
   },
   {
    "duration": 56,
    "start_time": "2025-06-03T18:51:56.687Z"
   },
   {
    "duration": 23,
    "start_time": "2025-06-03T18:51:56.745Z"
   },
   {
    "duration": 5,
    "start_time": "2025-06-03T18:51:56.769Z"
   },
   {
    "duration": 8,
    "start_time": "2025-06-03T18:51:56.775Z"
   },
   {
    "duration": 600,
    "start_time": "2025-06-03T18:51:56.785Z"
   },
   {
    "duration": 9,
    "start_time": "2025-06-03T18:51:57.387Z"
   },
   {
    "duration": 17,
    "start_time": "2025-06-03T18:51:57.398Z"
   },
   {
    "duration": 703,
    "start_time": "2025-06-03T18:51:57.416Z"
   },
   {
    "duration": 23,
    "start_time": "2025-06-03T18:51:58.120Z"
   },
   {
    "duration": 27,
    "start_time": "2025-06-03T18:51:58.144Z"
   },
   {
    "duration": 397,
    "start_time": "2025-06-03T18:51:58.172Z"
   },
   {
    "duration": 14,
    "start_time": "2025-06-03T18:51:58.570Z"
   },
   {
    "duration": 7998,
    "start_time": "2025-06-03T18:51:58.586Z"
   },
   {
    "duration": 3,
    "start_time": "2025-06-03T18:52:06.586Z"
   },
   {
    "duration": 3339,
    "start_time": "2025-06-03T18:52:06.591Z"
   },
   {
    "duration": 438,
    "start_time": "2025-06-03T18:52:09.932Z"
   },
   {
    "duration": 33,
    "start_time": "2025-06-03T18:52:10.372Z"
   },
   {
    "duration": 50,
    "start_time": "2025-06-04T04:16:02.171Z"
   },
   {
    "duration": 6138,
    "start_time": "2025-06-04T04:16:06.103Z"
   },
   {
    "duration": 1386,
    "start_time": "2025-06-04T04:16:12.244Z"
   },
   {
    "duration": 125,
    "start_time": "2025-06-04T04:16:13.632Z"
   },
   {
    "duration": 25,
    "start_time": "2025-06-04T04:16:13.759Z"
   },
   {
    "duration": 3,
    "start_time": "2025-06-04T04:16:13.787Z"
   },
   {
    "duration": 10,
    "start_time": "2025-06-04T04:16:13.792Z"
   },
   {
    "duration": 20,
    "start_time": "2025-06-04T04:16:13.804Z"
   },
   {
    "duration": 60,
    "start_time": "2025-06-04T04:16:13.826Z"
   },
   {
    "duration": 35,
    "start_time": "2025-06-04T04:16:13.888Z"
   },
   {
    "duration": 652,
    "start_time": "2025-06-04T04:16:13.925Z"
   },
   {
    "duration": 9,
    "start_time": "2025-06-04T04:16:14.579Z"
   },
   {
    "duration": 120,
    "start_time": "2025-06-04T04:16:14.589Z"
   },
   {
    "duration": 692,
    "start_time": "2025-06-04T04:16:14.710Z"
   },
   {
    "duration": 20,
    "start_time": "2025-06-04T04:16:15.405Z"
   },
   {
    "duration": 175,
    "start_time": "2025-06-04T04:16:15.427Z"
   },
   {
    "duration": 391,
    "start_time": "2025-06-04T04:16:15.603Z"
   },
   {
    "duration": 13,
    "start_time": "2025-06-04T04:16:15.996Z"
   },
   {
    "duration": 7630,
    "start_time": "2025-06-04T04:16:16.010Z"
   },
   {
    "duration": 17,
    "start_time": "2025-06-04T04:16:23.641Z"
   },
   {
    "duration": 2274,
    "start_time": "2025-06-04T04:16:23.660Z"
   },
   {
    "duration": 419,
    "start_time": "2025-06-04T04:16:25.936Z"
   },
   {
    "duration": 90,
    "start_time": "2025-06-04T04:16:26.357Z"
   },
   {
    "duration": 39,
    "start_time": "2025-06-04T04:16:36.562Z"
   },
   {
    "duration": 34,
    "start_time": "2025-06-04T04:17:57.952Z"
   },
   {
    "duration": 32,
    "start_time": "2025-06-04T04:19:43.641Z"
   },
   {
    "duration": 38,
    "start_time": "2025-06-04T04:19:51.738Z"
   },
   {
    "duration": 35,
    "start_time": "2025-06-04T04:19:59.408Z"
   },
   {
    "duration": 36,
    "start_time": "2025-06-04T04:20:28.434Z"
   },
   {
    "duration": 36,
    "start_time": "2025-06-04T04:20:36.128Z"
   },
   {
    "duration": 36,
    "start_time": "2025-06-04T04:21:58.586Z"
   },
   {
    "duration": 38,
    "start_time": "2025-06-04T04:22:33.740Z"
   },
   {
    "duration": 35,
    "start_time": "2025-06-04T04:22:46.497Z"
   },
   {
    "duration": 4727,
    "start_time": "2025-06-04T04:22:55.557Z"
   },
   {
    "duration": 6,
    "start_time": "2025-06-04T04:23:00.286Z"
   },
   {
    "duration": 99,
    "start_time": "2025-06-04T04:23:00.293Z"
   },
   {
    "duration": 22,
    "start_time": "2025-06-04T04:23:00.394Z"
   },
   {
    "duration": 16,
    "start_time": "2025-06-04T04:23:00.418Z"
   },
   {
    "duration": 61,
    "start_time": "2025-06-04T04:23:00.436Z"
   },
   {
    "duration": 41,
    "start_time": "2025-06-04T04:23:00.499Z"
   },
   {
    "duration": 4,
    "start_time": "2025-06-04T04:23:00.542Z"
   },
   {
    "duration": 9,
    "start_time": "2025-06-04T04:23:00.547Z"
   },
   {
    "duration": 634,
    "start_time": "2025-06-04T04:23:00.557Z"
   },
   {
    "duration": 8,
    "start_time": "2025-06-04T04:23:01.193Z"
   },
   {
    "duration": 84,
    "start_time": "2025-06-04T04:23:01.202Z"
   },
   {
    "duration": 1148,
    "start_time": "2025-06-04T04:23:01.287Z"
   },
   {
    "duration": 36,
    "start_time": "2025-06-04T04:23:02.439Z"
   },
   {
    "duration": 18,
    "start_time": "2025-06-04T04:23:02.477Z"
   },
   {
    "duration": 429,
    "start_time": "2025-06-04T04:23:02.497Z"
   },
   {
    "duration": 12,
    "start_time": "2025-06-04T04:23:02.928Z"
   },
   {
    "duration": 7543,
    "start_time": "2025-06-04T04:23:02.941Z"
   },
   {
    "duration": 5,
    "start_time": "2025-06-04T04:23:10.487Z"
   },
   {
    "duration": 3596,
    "start_time": "2025-06-04T04:23:10.494Z"
   },
   {
    "duration": 779,
    "start_time": "2025-06-04T04:23:14.092Z"
   },
   {
    "duration": 91,
    "start_time": "2025-06-04T04:23:14.873Z"
   },
   {
    "duration": 38,
    "start_time": "2025-06-04T04:23:59.777Z"
   },
   {
    "duration": 35,
    "start_time": "2025-06-04T04:24:32.915Z"
   },
   {
    "duration": 34,
    "start_time": "2025-06-04T04:24:51.714Z"
   },
   {
    "duration": 33,
    "start_time": "2025-06-04T04:26:25.807Z"
   },
   {
    "duration": 40,
    "start_time": "2025-06-04T04:26:35.189Z"
   },
   {
    "duration": 35,
    "start_time": "2025-06-04T04:26:56.406Z"
   },
   {
    "duration": 33,
    "start_time": "2025-06-04T04:27:19.722Z"
   },
   {
    "duration": 33,
    "start_time": "2025-06-04T04:28:52.126Z"
   },
   {
    "duration": 31,
    "start_time": "2025-06-04T04:29:14.777Z"
   },
   {
    "duration": 4962,
    "start_time": "2025-06-04T04:43:14.733Z"
   },
   {
    "duration": 5,
    "start_time": "2025-06-04T04:43:19.698Z"
   },
   {
    "duration": 60,
    "start_time": "2025-06-04T04:43:19.704Z"
   },
   {
    "duration": 25,
    "start_time": "2025-06-04T04:43:19.766Z"
   },
   {
    "duration": 4,
    "start_time": "2025-06-04T04:43:19.793Z"
   },
   {
    "duration": 12,
    "start_time": "2025-06-04T04:43:19.798Z"
   },
   {
    "duration": 21,
    "start_time": "2025-06-04T04:43:19.812Z"
   },
   {
    "duration": 25,
    "start_time": "2025-06-04T04:43:19.835Z"
   },
   {
    "duration": 6,
    "start_time": "2025-06-04T04:43:19.861Z"
   },
   {
    "duration": 598,
    "start_time": "2025-06-04T04:43:19.869Z"
   },
   {
    "duration": 8,
    "start_time": "2025-06-04T04:43:20.469Z"
   },
   {
    "duration": 16,
    "start_time": "2025-06-04T04:43:20.478Z"
   },
   {
    "duration": 702,
    "start_time": "2025-06-04T04:43:20.495Z"
   },
   {
    "duration": 22,
    "start_time": "2025-06-04T04:43:21.200Z"
   },
   {
    "duration": 13,
    "start_time": "2025-06-04T04:43:21.224Z"
   },
   {
    "duration": 369,
    "start_time": "2025-06-04T04:43:21.258Z"
   },
   {
    "duration": 30,
    "start_time": "2025-06-04T04:43:21.628Z"
   },
   {
    "duration": 7584,
    "start_time": "2025-06-04T04:43:21.660Z"
   },
   {
    "duration": 15,
    "start_time": "2025-06-04T04:43:29.245Z"
   },
   {
    "duration": 2254,
    "start_time": "2025-06-04T04:43:29.261Z"
   },
   {
    "duration": 870,
    "start_time": "2025-06-04T04:43:31.517Z"
   },
   {
    "duration": 33,
    "start_time": "2025-06-04T04:43:32.389Z"
   },
   {
    "duration": 34,
    "start_time": "2025-06-04T05:19:14.939Z"
   },
   {
    "duration": 4755,
    "start_time": "2025-06-04T05:19:26.295Z"
   },
   {
    "duration": 6,
    "start_time": "2025-06-04T05:19:31.053Z"
   },
   {
    "duration": 141,
    "start_time": "2025-06-04T05:19:31.061Z"
   },
   {
    "duration": 24,
    "start_time": "2025-06-04T05:19:31.204Z"
   },
   {
    "duration": 10,
    "start_time": "2025-06-04T05:19:31.230Z"
   },
   {
    "duration": 11,
    "start_time": "2025-06-04T05:19:31.242Z"
   },
   {
    "duration": 22,
    "start_time": "2025-06-04T05:19:31.255Z"
   },
   {
    "duration": 4,
    "start_time": "2025-06-04T05:19:31.279Z"
   },
   {
    "duration": 5,
    "start_time": "2025-06-04T05:19:31.285Z"
   },
   {
    "duration": 677,
    "start_time": "2025-06-04T05:19:31.292Z"
   },
   {
    "duration": 8,
    "start_time": "2025-06-04T05:19:31.971Z"
   },
   {
    "duration": 34,
    "start_time": "2025-06-04T05:19:31.981Z"
   },
   {
    "duration": 688,
    "start_time": "2025-06-04T05:19:32.016Z"
   },
   {
    "duration": 21,
    "start_time": "2025-06-04T05:19:32.707Z"
   },
   {
    "duration": 93,
    "start_time": "2025-06-04T05:19:32.729Z"
   },
   {
    "duration": 495,
    "start_time": "2025-06-04T05:19:32.824Z"
   },
   {
    "duration": 12,
    "start_time": "2025-06-04T05:19:33.321Z"
   },
   {
    "duration": 7562,
    "start_time": "2025-06-04T05:19:33.334Z"
   },
   {
    "duration": 4,
    "start_time": "2025-06-04T05:19:40.898Z"
   },
   {
    "duration": 2311,
    "start_time": "2025-06-04T05:19:40.905Z"
   },
   {
    "duration": 421,
    "start_time": "2025-06-04T05:19:43.219Z"
   },
   {
    "duration": 40,
    "start_time": "2025-06-04T05:19:43.642Z"
   },
   {
    "duration": 4892,
    "start_time": "2025-06-04T05:20:09.649Z"
   },
   {
    "duration": 6,
    "start_time": "2025-06-04T05:20:14.543Z"
   },
   {
    "duration": 87,
    "start_time": "2025-06-04T05:20:14.552Z"
   },
   {
    "duration": 24,
    "start_time": "2025-06-04T05:20:14.642Z"
   },
   {
    "duration": 4,
    "start_time": "2025-06-04T05:20:14.668Z"
   },
   {
    "duration": 21,
    "start_time": "2025-06-04T05:20:14.674Z"
   },
   {
    "duration": 22,
    "start_time": "2025-06-04T05:20:14.697Z"
   },
   {
    "duration": 4,
    "start_time": "2025-06-04T05:20:14.721Z"
   },
   {
    "duration": 88,
    "start_time": "2025-06-04T05:20:14.727Z"
   },
   {
    "duration": 748,
    "start_time": "2025-06-04T05:20:14.818Z"
   },
   {
    "duration": 8,
    "start_time": "2025-06-04T05:20:15.568Z"
   },
   {
    "duration": 45,
    "start_time": "2025-06-04T05:20:15.578Z"
   },
   {
    "duration": 765,
    "start_time": "2025-06-04T05:20:15.624Z"
   },
   {
    "duration": 21,
    "start_time": "2025-06-04T05:20:16.391Z"
   },
   {
    "duration": 15,
    "start_time": "2025-06-04T05:20:16.414Z"
   },
   {
    "duration": 386,
    "start_time": "2025-06-04T05:20:16.430Z"
   },
   {
    "duration": 12,
    "start_time": "2025-06-04T05:20:16.818Z"
   },
   {
    "duration": 8804,
    "start_time": "2025-06-04T05:20:16.831Z"
   },
   {
    "duration": 4,
    "start_time": "2025-06-04T05:20:25.637Z"
   },
   {
    "duration": 2805,
    "start_time": "2025-06-04T05:20:25.642Z"
   },
   {
    "duration": 404,
    "start_time": "2025-06-04T05:20:28.449Z"
   },
   {
    "duration": 33,
    "start_time": "2025-06-04T05:20:28.859Z"
   },
   {
    "duration": 32,
    "start_time": "2025-06-04T05:21:13.619Z"
   },
   {
    "duration": 34,
    "start_time": "2025-06-04T05:21:30.131Z"
   },
   {
    "duration": 7096,
    "start_time": "2025-06-04T10:05:01.938Z"
   },
   {
    "duration": 2328,
    "start_time": "2025-06-04T10:05:09.037Z"
   },
   {
    "duration": 613,
    "start_time": "2025-06-04T10:05:11.367Z"
   },
   {
    "duration": 84,
    "start_time": "2025-06-04T10:05:11.983Z"
   },
   {
    "duration": 6,
    "start_time": "2025-06-04T10:05:12.070Z"
   },
   {
    "duration": 97,
    "start_time": "2025-06-04T10:05:12.079Z"
   },
   {
    "duration": 88,
    "start_time": "2025-06-04T10:05:12.179Z"
   },
   {
    "duration": 5,
    "start_time": "2025-06-04T10:05:12.268Z"
   },
   {
    "duration": 90,
    "start_time": "2025-06-04T10:05:12.274Z"
   },
   {
    "duration": 1042,
    "start_time": "2025-06-04T10:05:12.365Z"
   },
   {
    "duration": 11,
    "start_time": "2025-06-04T10:05:13.408Z"
   },
   {
    "duration": 37,
    "start_time": "2025-06-04T10:05:13.421Z"
   },
   {
    "duration": 703,
    "start_time": "2025-06-04T10:05:13.460Z"
   },
   {
    "duration": 23,
    "start_time": "2025-06-04T10:05:14.166Z"
   },
   {
    "duration": 25,
    "start_time": "2025-06-04T10:05:14.191Z"
   },
   {
    "duration": 407,
    "start_time": "2025-06-04T10:05:14.218Z"
   },
   {
    "duration": 14,
    "start_time": "2025-06-04T10:05:14.627Z"
   },
   {
    "duration": 8220,
    "start_time": "2025-06-04T10:05:14.642Z"
   },
   {
    "duration": 4,
    "start_time": "2025-06-04T10:05:22.864Z"
   },
   {
    "duration": 2485,
    "start_time": "2025-06-04T10:05:22.870Z"
   },
   {
    "duration": 437,
    "start_time": "2025-06-04T10:05:25.357Z"
   },
   {
    "duration": 507,
    "start_time": "2025-06-04T10:05:25.796Z"
   },
   {
    "duration": 6869,
    "start_time": "2025-06-04T16:53:27.499Z"
   },
   {
    "duration": 1543,
    "start_time": "2025-06-04T16:53:34.371Z"
   },
   {
    "duration": 154,
    "start_time": "2025-06-04T16:53:35.916Z"
   },
   {
    "duration": 42,
    "start_time": "2025-06-04T16:53:36.073Z"
   },
   {
    "duration": 6,
    "start_time": "2025-06-04T16:53:36.118Z"
   },
   {
    "duration": 258,
    "start_time": "2025-06-04T16:53:36.126Z"
   },
   {
    "duration": 51,
    "start_time": "2025-06-04T16:53:36.387Z"
   },
   {
    "duration": 4,
    "start_time": "2025-06-04T16:53:36.440Z"
   },
   {
    "duration": 45,
    "start_time": "2025-06-04T16:53:36.446Z"
   },
   {
    "duration": 657,
    "start_time": "2025-06-04T16:53:36.494Z"
   },
   {
    "duration": 9,
    "start_time": "2025-06-04T16:53:37.152Z"
   },
   {
    "duration": 43,
    "start_time": "2025-06-04T16:53:37.163Z"
   },
   {
    "duration": 715,
    "start_time": "2025-06-04T16:53:37.207Z"
   },
   {
    "duration": 22,
    "start_time": "2025-06-04T16:53:37.924Z"
   },
   {
    "duration": 151,
    "start_time": "2025-06-04T16:53:37.948Z"
   },
   {
    "duration": 418,
    "start_time": "2025-06-04T16:53:38.101Z"
   },
   {
    "duration": 14,
    "start_time": "2025-06-04T16:53:38.520Z"
   },
   {
    "duration": 8376,
    "start_time": "2025-06-04T16:53:38.535Z"
   },
   {
    "duration": 4,
    "start_time": "2025-06-04T16:53:46.913Z"
   },
   {
    "duration": 2556,
    "start_time": "2025-06-04T16:53:46.919Z"
   },
   {
    "duration": 445,
    "start_time": "2025-06-04T16:53:49.477Z"
   },
   {
    "duration": 482,
    "start_time": "2025-06-04T16:53:49.924Z"
   },
   {
    "duration": 6352,
    "start_time": "2025-06-05T15:40:44.883Z"
   },
   {
    "duration": 1373,
    "start_time": "2025-06-05T15:40:51.237Z"
   },
   {
    "duration": 127,
    "start_time": "2025-06-05T15:40:52.612Z"
   },
   {
    "duration": 25,
    "start_time": "2025-06-05T15:40:52.742Z"
   },
   {
    "duration": 7,
    "start_time": "2025-06-05T15:40:52.769Z"
   },
   {
    "duration": 18,
    "start_time": "2025-06-05T15:40:52.778Z"
   },
   {
    "duration": 45,
    "start_time": "2025-06-05T15:40:52.797Z"
   },
   {
    "duration": 4,
    "start_time": "2025-06-05T15:40:52.843Z"
   },
   {
    "duration": 14,
    "start_time": "2025-06-05T15:40:52.849Z"
   },
   {
    "duration": 686,
    "start_time": "2025-06-05T15:40:52.865Z"
   },
   {
    "duration": 9,
    "start_time": "2025-06-05T15:40:53.561Z"
   },
   {
    "duration": 23,
    "start_time": "2025-06-05T15:40:53.572Z"
   },
   {
    "duration": 612,
    "start_time": "2025-06-05T15:40:53.597Z"
   },
   {
    "duration": 20,
    "start_time": "2025-06-05T15:40:54.211Z"
   },
   {
    "duration": 82,
    "start_time": "2025-06-05T15:40:54.233Z"
   },
   {
    "duration": 373,
    "start_time": "2025-06-05T15:40:54.316Z"
   },
   {
    "duration": 12,
    "start_time": "2025-06-05T15:40:54.691Z"
   },
   {
    "duration": 7031,
    "start_time": "2025-06-05T15:40:54.704Z"
   },
   {
    "duration": 4,
    "start_time": "2025-06-05T15:41:01.737Z"
   },
   {
    "duration": 2225,
    "start_time": "2025-06-05T15:41:01.742Z"
   },
   {
    "duration": 375,
    "start_time": "2025-06-05T15:41:03.969Z"
   },
   {
    "duration": 422,
    "start_time": "2025-06-05T15:41:04.346Z"
   },
   {
    "duration": 62,
    "start_time": "2025-06-05T15:46:26.923Z"
   },
   {
    "duration": 12,
    "start_time": "2025-06-05T16:56:59.223Z"
   },
   {
    "duration": 4,
    "start_time": "2025-06-05T16:57:17.583Z"
   },
   {
    "duration": 7,
    "start_time": "2025-06-05T16:57:38.458Z"
   },
   {
    "duration": 6,
    "start_time": "2025-06-05T16:58:18.446Z"
   },
   {
    "duration": 7,
    "start_time": "2025-06-05T16:58:27.943Z"
   },
   {
    "duration": 101,
    "start_time": "2025-06-05T17:32:49.333Z"
   },
   {
    "duration": 10,
    "start_time": "2025-06-05T17:33:15.457Z"
   },
   {
    "duration": 10,
    "start_time": "2025-06-05T17:34:37.898Z"
   },
   {
    "duration": 9,
    "start_time": "2025-06-05T17:36:33.397Z"
   },
   {
    "duration": 10,
    "start_time": "2025-06-05T17:45:43.703Z"
   },
   {
    "duration": 10,
    "start_time": "2025-06-05T17:55:16.382Z"
   },
   {
    "duration": 9,
    "start_time": "2025-06-05T17:55:34.870Z"
   },
   {
    "duration": 10,
    "start_time": "2025-06-05T17:55:51.653Z"
   },
   {
    "duration": 8,
    "start_time": "2025-06-05T17:56:21.424Z"
   },
   {
    "duration": 10,
    "start_time": "2025-06-05T17:56:26.281Z"
   },
   {
    "duration": 16,
    "start_time": "2025-06-05T17:56:54.161Z"
   },
   {
    "duration": 17,
    "start_time": "2025-06-05T17:57:08.390Z"
   },
   {
    "duration": 119,
    "start_time": "2025-06-05T18:05:54.920Z"
   },
   {
    "duration": 145,
    "start_time": "2025-06-05T18:07:30.142Z"
   },
   {
    "duration": 134,
    "start_time": "2025-06-05T18:09:01.479Z"
   },
   {
    "duration": 153,
    "start_time": "2025-06-05T18:14:24.725Z"
   },
   {
    "duration": 134,
    "start_time": "2025-06-05T18:14:41.175Z"
   },
   {
    "duration": 188,
    "start_time": "2025-06-05T18:15:20.348Z"
   },
   {
    "duration": 128,
    "start_time": "2025-06-05T18:15:31.415Z"
   },
   {
    "duration": 127,
    "start_time": "2025-06-05T18:15:42.743Z"
   },
   {
    "duration": 121,
    "start_time": "2025-06-05T18:15:51.190Z"
   },
   {
    "duration": 118,
    "start_time": "2025-06-05T18:15:58.553Z"
   },
   {
    "duration": 123,
    "start_time": "2025-06-05T18:16:06.847Z"
   },
   {
    "duration": 125,
    "start_time": "2025-06-05T18:16:20.703Z"
   },
   {
    "duration": 120,
    "start_time": "2025-06-05T18:16:28.230Z"
   },
   {
    "duration": 217,
    "start_time": "2025-06-05T18:16:34.653Z"
   },
   {
    "duration": 130,
    "start_time": "2025-06-05T18:16:41.634Z"
   },
   {
    "duration": 127,
    "start_time": "2025-06-05T18:16:50.183Z"
   },
   {
    "duration": 128,
    "start_time": "2025-06-05T18:16:57.273Z"
   },
   {
    "duration": 136,
    "start_time": "2025-06-05T18:17:03.753Z"
   },
   {
    "duration": 140,
    "start_time": "2025-06-05T18:17:53.604Z"
   },
   {
    "duration": 16,
    "start_time": "2025-06-05T18:21:44.172Z"
   },
   {
    "duration": 4535,
    "start_time": "2025-06-05T18:21:49.583Z"
   },
   {
    "duration": 5,
    "start_time": "2025-06-05T18:21:54.120Z"
   },
   {
    "duration": 220,
    "start_time": "2025-06-05T18:21:54.126Z"
   },
   {
    "duration": 54,
    "start_time": "2025-06-05T18:21:54.347Z"
   },
   {
    "duration": 162,
    "start_time": "2025-06-05T18:21:54.403Z"
   },
   {
    "duration": 11,
    "start_time": "2025-06-05T18:21:54.567Z"
   },
   {
    "duration": 21,
    "start_time": "2025-06-05T18:21:54.579Z"
   },
   {
    "duration": 4,
    "start_time": "2025-06-05T18:21:54.601Z"
   },
   {
    "duration": 14,
    "start_time": "2025-06-05T18:21:54.606Z"
   },
   {
    "duration": 625,
    "start_time": "2025-06-05T18:21:54.621Z"
   },
   {
    "duration": 18,
    "start_time": "2025-06-05T18:21:55.248Z"
   },
   {
    "duration": 33,
    "start_time": "2025-06-05T18:21:55.268Z"
   },
   {
    "duration": 629,
    "start_time": "2025-06-05T18:21:55.302Z"
   },
   {
    "duration": 34,
    "start_time": "2025-06-05T18:21:55.933Z"
   },
   {
    "duration": 18,
    "start_time": "2025-06-05T18:21:55.968Z"
   },
   {
    "duration": 377,
    "start_time": "2025-06-05T18:21:55.988Z"
   },
   {
    "duration": 12,
    "start_time": "2025-06-05T18:21:56.367Z"
   },
   {
    "duration": 7397,
    "start_time": "2025-06-05T18:21:56.381Z"
   },
   {
    "duration": 4,
    "start_time": "2025-06-05T18:22:03.780Z"
   },
   {
    "duration": 2309,
    "start_time": "2025-06-05T18:22:03.786Z"
   },
   {
    "duration": 424,
    "start_time": "2025-06-05T18:22:06.096Z"
   },
   {
    "duration": 472,
    "start_time": "2025-06-05T18:22:06.522Z"
   },
   {
    "duration": 59,
    "start_time": "2025-06-05T18:22:06.996Z"
   },
   {
    "duration": 150,
    "start_time": "2025-06-05T18:22:07.057Z"
   },
   {
    "duration": 16,
    "start_time": "2025-06-05T18:22:07.208Z"
   },
   {
    "duration": 45,
    "start_time": "2025-06-05T18:22:07.226Z"
   },
   {
    "duration": 21,
    "start_time": "2025-06-05T18:22:07.273Z"
   },
   {
    "duration": 41,
    "start_time": "2025-06-05T18:22:07.296Z"
   },
   {
    "duration": 7,
    "start_time": "2025-06-05T18:28:28.240Z"
   },
   {
    "duration": 143,
    "start_time": "2025-06-05T18:38:40.914Z"
   },
   {
    "duration": 130,
    "start_time": "2025-06-05T18:39:01.117Z"
   },
   {
    "duration": 139,
    "start_time": "2025-06-05T18:39:09.986Z"
   },
   {
    "duration": 132,
    "start_time": "2025-06-05T18:39:28.806Z"
   },
   {
    "duration": 129,
    "start_time": "2025-06-05T18:39:39.883Z"
   },
   {
    "duration": 145,
    "start_time": "2025-06-05T18:39:47.385Z"
   },
   {
    "duration": 132,
    "start_time": "2025-06-05T18:40:24.694Z"
   },
   {
    "duration": 122,
    "start_time": "2025-06-05T18:40:32.046Z"
   },
   {
    "duration": 120,
    "start_time": "2025-06-05T18:41:16.893Z"
   },
   {
    "duration": 119,
    "start_time": "2025-06-05T18:44:52.123Z"
   },
   {
    "duration": 16,
    "start_time": "2025-06-05T18:45:03.153Z"
   },
   {
    "duration": 9,
    "start_time": "2025-06-05T18:45:47.553Z"
   },
   {
    "duration": 4779,
    "start_time": "2025-06-05T18:48:25.186Z"
   },
   {
    "duration": 5,
    "start_time": "2025-06-05T18:48:29.967Z"
   },
   {
    "duration": 92,
    "start_time": "2025-06-05T18:48:29.973Z"
   },
   {
    "duration": 48,
    "start_time": "2025-06-05T18:48:30.067Z"
   },
   {
    "duration": 25,
    "start_time": "2025-06-05T18:48:30.117Z"
   },
   {
    "duration": 59,
    "start_time": "2025-06-05T18:48:30.143Z"
   },
   {
    "duration": 193,
    "start_time": "2025-06-05T18:48:30.203Z"
   },
   {
    "duration": 283,
    "start_time": "2025-06-05T18:48:30.398Z"
   },
   {
    "duration": 49,
    "start_time": "2025-06-05T18:48:30.682Z"
   },
   {
    "duration": 616,
    "start_time": "2025-06-05T18:48:30.732Z"
   },
   {
    "duration": 16,
    "start_time": "2025-06-05T18:48:31.350Z"
   },
   {
    "duration": 19,
    "start_time": "2025-06-05T18:48:31.368Z"
   },
   {
    "duration": 754,
    "start_time": "2025-06-05T18:48:31.388Z"
   },
   {
    "duration": 33,
    "start_time": "2025-06-05T18:48:32.144Z"
   },
   {
    "duration": 13,
    "start_time": "2025-06-05T18:48:32.178Z"
   },
   {
    "duration": 399,
    "start_time": "2025-06-05T18:48:32.192Z"
   },
   {
    "duration": 12,
    "start_time": "2025-06-05T18:48:32.593Z"
   },
   {
    "duration": 7080,
    "start_time": "2025-06-05T18:48:32.607Z"
   },
   {
    "duration": 4,
    "start_time": "2025-06-05T18:48:39.688Z"
   },
   {
    "duration": 2471,
    "start_time": "2025-06-05T18:48:39.693Z"
   },
   {
    "duration": 371,
    "start_time": "2025-06-05T18:48:42.166Z"
   },
   {
    "duration": 37,
    "start_time": "2025-06-05T18:48:42.538Z"
   },
   {
    "duration": 72,
    "start_time": "2025-06-05T18:48:42.577Z"
   },
   {
    "duration": 143,
    "start_time": "2025-06-05T18:48:42.651Z"
   },
   {
    "duration": 16,
    "start_time": "2025-06-05T18:48:42.796Z"
   },
   {
    "duration": 138,
    "start_time": "2025-06-05T18:48:42.814Z"
   },
   {
    "duration": 15,
    "start_time": "2025-06-05T18:48:42.954Z"
   },
   {
    "duration": 11,
    "start_time": "2025-06-05T18:48:42.971Z"
   },
   {
    "duration": 9,
    "start_time": "2025-06-05T19:03:59.360Z"
   },
   {
    "duration": 6246,
    "start_time": "2025-06-06T04:38:57.044Z"
   },
   {
    "duration": 1436,
    "start_time": "2025-06-06T04:39:03.292Z"
   },
   {
    "duration": 140,
    "start_time": "2025-06-06T04:39:04.730Z"
   },
   {
    "duration": 27,
    "start_time": "2025-06-06T04:39:04.872Z"
   },
   {
    "duration": 4,
    "start_time": "2025-06-06T04:39:04.901Z"
   },
   {
    "duration": 34,
    "start_time": "2025-06-06T04:39:04.907Z"
   },
   {
    "duration": 22,
    "start_time": "2025-06-06T04:39:04.943Z"
   },
   {
    "duration": 4,
    "start_time": "2025-06-06T04:39:04.967Z"
   },
   {
    "duration": 19,
    "start_time": "2025-06-06T04:39:04.973Z"
   },
   {
    "duration": 673,
    "start_time": "2025-06-06T04:39:04.994Z"
   },
   {
    "duration": 9,
    "start_time": "2025-06-06T04:39:05.668Z"
   },
   {
    "duration": 17,
    "start_time": "2025-06-06T04:39:05.679Z"
   },
   {
    "duration": 709,
    "start_time": "2025-06-06T04:39:05.697Z"
   },
   {
    "duration": 21,
    "start_time": "2025-06-06T04:39:06.409Z"
   },
   {
    "duration": 37,
    "start_time": "2025-06-06T04:39:06.432Z"
   },
   {
    "duration": 396,
    "start_time": "2025-06-06T04:39:06.471Z"
   },
   {
    "duration": 13,
    "start_time": "2025-06-06T04:39:06.869Z"
   },
   {
    "duration": 7592,
    "start_time": "2025-06-06T04:39:06.883Z"
   },
   {
    "duration": 5,
    "start_time": "2025-06-06T04:39:14.478Z"
   },
   {
    "duration": 2344,
    "start_time": "2025-06-06T04:39:14.485Z"
   },
   {
    "duration": 443,
    "start_time": "2025-06-06T04:39:16.831Z"
   },
   {
    "duration": 33,
    "start_time": "2025-06-06T04:39:17.276Z"
   },
   {
    "duration": 75,
    "start_time": "2025-06-06T04:39:17.311Z"
   },
   {
    "duration": 150,
    "start_time": "2025-06-06T04:39:17.388Z"
   },
   {
    "duration": 23,
    "start_time": "2025-06-06T04:39:17.540Z"
   },
   {
    "duration": 148,
    "start_time": "2025-06-06T04:39:17.565Z"
   },
   {
    "duration": 9,
    "start_time": "2025-06-06T04:39:17.715Z"
   },
   {
    "duration": 11,
    "start_time": "2025-06-06T04:39:17.726Z"
   },
   {
    "duration": 13,
    "start_time": "2025-06-06T04:41:10.684Z"
   },
   {
    "duration": 10,
    "start_time": "2025-06-06T04:41:20.487Z"
   },
   {
    "duration": 6417,
    "start_time": "2025-06-06T17:51:19.552Z"
   },
   {
    "duration": 1437,
    "start_time": "2025-06-06T17:51:25.971Z"
   },
   {
    "duration": 106,
    "start_time": "2025-06-06T17:51:27.410Z"
   },
   {
    "duration": 26,
    "start_time": "2025-06-06T17:51:27.517Z"
   },
   {
    "duration": 4,
    "start_time": "2025-06-06T17:51:27.545Z"
   },
   {
    "duration": 18,
    "start_time": "2025-06-06T17:51:27.550Z"
   },
   {
    "duration": 22,
    "start_time": "2025-06-06T17:51:27.569Z"
   },
   {
    "duration": 4,
    "start_time": "2025-06-06T17:51:27.592Z"
   },
   {
    "duration": 7,
    "start_time": "2025-06-06T17:51:27.597Z"
   },
   {
    "duration": 674,
    "start_time": "2025-06-06T17:51:27.606Z"
   },
   {
    "duration": 9,
    "start_time": "2025-06-06T17:51:28.282Z"
   },
   {
    "duration": 16,
    "start_time": "2025-06-06T17:51:28.292Z"
   },
   {
    "duration": 721,
    "start_time": "2025-06-06T17:51:28.310Z"
   },
   {
    "duration": 21,
    "start_time": "2025-06-06T17:51:29.034Z"
   },
   {
    "duration": 102,
    "start_time": "2025-06-06T17:51:29.057Z"
   },
   {
    "duration": 401,
    "start_time": "2025-06-06T17:51:29.161Z"
   },
   {
    "duration": 13,
    "start_time": "2025-06-06T17:51:29.564Z"
   },
   {
    "duration": 7610,
    "start_time": "2025-06-06T17:51:29.579Z"
   },
   {
    "duration": 3,
    "start_time": "2025-06-06T17:51:37.191Z"
   },
   {
    "duration": 2322,
    "start_time": "2025-06-06T17:51:37.196Z"
   },
   {
    "duration": 442,
    "start_time": "2025-06-06T17:51:39.520Z"
   },
   {
    "duration": 37,
    "start_time": "2025-06-06T17:51:39.963Z"
   },
   {
    "duration": 10,
    "start_time": "2025-06-06T17:51:40.001Z"
   },
   {
    "duration": 183,
    "start_time": "2025-06-06T17:51:40.013Z"
   },
   {
    "duration": 18,
    "start_time": "2025-06-06T17:51:40.198Z"
   },
   {
    "duration": 156,
    "start_time": "2025-06-06T17:51:40.218Z"
   },
   {
    "duration": 10,
    "start_time": "2025-06-06T17:51:40.376Z"
   },
   {
    "duration": 11,
    "start_time": "2025-06-06T17:51:40.388Z"
   },
   {
    "duration": 580,
    "start_time": "2025-06-06T17:54:04.839Z"
   },
   {
    "duration": 152,
    "start_time": "2025-06-06T17:54:14.953Z"
   },
   {
    "duration": 135,
    "start_time": "2025-06-06T17:54:42.279Z"
   },
   {
    "duration": 156,
    "start_time": "2025-06-06T17:55:15.053Z"
   },
   {
    "duration": 137,
    "start_time": "2025-06-06T17:55:21.175Z"
   },
   {
    "duration": 137,
    "start_time": "2025-06-06T17:55:35.784Z"
   },
   {
    "duration": 125,
    "start_time": "2025-06-06T17:56:12.540Z"
   },
   {
    "duration": 136,
    "start_time": "2025-06-06T17:57:20.760Z"
   },
   {
    "duration": 13,
    "start_time": "2025-06-06T17:58:00.229Z"
   },
   {
    "duration": 53,
    "start_time": "2025-06-06T18:00:19.645Z"
   },
   {
    "duration": 133,
    "start_time": "2025-06-06T18:00:38.096Z"
   },
   {
    "duration": 15,
    "start_time": "2025-06-06T18:03:13.867Z"
   },
   {
    "duration": 3,
    "start_time": "2025-06-06T18:39:33.252Z"
   },
   {
    "duration": 8,
    "start_time": "2025-06-06T18:40:17.622Z"
   },
   {
    "duration": 3,
    "start_time": "2025-06-06T18:41:51.006Z"
   },
   {
    "duration": 10,
    "start_time": "2025-06-06T18:42:08.589Z"
   },
   {
    "duration": 9,
    "start_time": "2025-06-06T18:42:14.178Z"
   },
   {
    "duration": 9,
    "start_time": "2025-06-06T18:42:43.264Z"
   },
   {
    "duration": 9,
    "start_time": "2025-06-06T18:47:26.047Z"
   },
   {
    "duration": 12,
    "start_time": "2025-06-06T18:47:55.415Z"
   },
   {
    "duration": 6,
    "start_time": "2025-06-06T18:48:17.003Z"
   },
   {
    "duration": 5,
    "start_time": "2025-06-06T18:48:41.426Z"
   },
   {
    "duration": 5,
    "start_time": "2025-06-06T18:51:07.040Z"
   },
   {
    "duration": 6,
    "start_time": "2025-06-06T18:51:15.785Z"
   },
   {
    "duration": 6,
    "start_time": "2025-06-06T18:51:24.223Z"
   },
   {
    "duration": 5,
    "start_time": "2025-06-06T18:51:44.890Z"
   },
   {
    "duration": 25,
    "start_time": "2025-06-06T18:52:04.190Z"
   },
   {
    "duration": 9,
    "start_time": "2025-06-06T18:52:41.274Z"
   },
   {
    "duration": 7,
    "start_time": "2025-06-06T18:53:20.844Z"
   },
   {
    "duration": 23,
    "start_time": "2025-06-06T18:54:43.692Z"
   },
   {
    "duration": 9,
    "start_time": "2025-06-06T18:54:58.407Z"
   },
   {
    "duration": 136,
    "start_time": "2025-06-06T18:55:14.298Z"
   },
   {
    "duration": 82,
    "start_time": "2025-06-06T18:55:19.909Z"
   },
   {
    "duration": 6,
    "start_time": "2025-06-06T18:55:27.730Z"
   },
   {
    "duration": 10,
    "start_time": "2025-06-06T18:57:36.541Z"
   },
   {
    "duration": 15,
    "start_time": "2025-06-06T19:17:46.187Z"
   },
   {
    "duration": 8,
    "start_time": "2025-06-06T19:25:01.698Z"
   },
   {
    "duration": 15,
    "start_time": "2025-06-06T19:29:54.180Z"
   },
   {
    "duration": 9,
    "start_time": "2025-06-06T19:30:06.498Z"
   },
   {
    "duration": 7,
    "start_time": "2025-06-06T19:30:26.832Z"
   },
   {
    "duration": 13,
    "start_time": "2025-06-06T19:32:15.109Z"
   },
   {
    "duration": 6,
    "start_time": "2025-06-06T19:33:25.249Z"
   },
   {
    "duration": 7,
    "start_time": "2025-06-06T19:35:09.532Z"
   },
   {
    "duration": 10,
    "start_time": "2025-06-06T19:39:23.350Z"
   },
   {
    "duration": 4,
    "start_time": "2025-06-06T19:40:22.088Z"
   },
   {
    "duration": 35,
    "start_time": "2025-06-06T19:44:01.776Z"
   },
   {
    "duration": 43,
    "start_time": "2025-06-06T19:44:34.279Z"
   },
   {
    "duration": 40,
    "start_time": "2025-06-06T19:44:54.950Z"
   },
   {
    "duration": 34,
    "start_time": "2025-06-06T19:45:06.993Z"
   },
   {
    "duration": 57,
    "start_time": "2025-06-06T19:45:33.415Z"
   },
   {
    "duration": 5413,
    "start_time": "2025-06-06T19:45:38.980Z"
   },
   {
    "duration": 7,
    "start_time": "2025-06-06T19:45:44.396Z"
   },
   {
    "duration": 143,
    "start_time": "2025-06-06T19:45:44.405Z"
   },
   {
    "duration": 26,
    "start_time": "2025-06-06T19:45:44.550Z"
   },
   {
    "duration": 7,
    "start_time": "2025-06-06T19:45:44.578Z"
   },
   {
    "duration": 21,
    "start_time": "2025-06-06T19:45:44.590Z"
   },
   {
    "duration": 29,
    "start_time": "2025-06-06T19:45:44.614Z"
   },
   {
    "duration": 30,
    "start_time": "2025-06-06T19:45:44.645Z"
   },
   {
    "duration": 10,
    "start_time": "2025-06-06T19:45:44.679Z"
   },
   {
    "duration": 708,
    "start_time": "2025-06-06T19:45:44.691Z"
   },
   {
    "duration": 8,
    "start_time": "2025-06-06T19:45:45.401Z"
   },
   {
    "duration": 28,
    "start_time": "2025-06-06T19:45:45.411Z"
   },
   {
    "duration": 731,
    "start_time": "2025-06-06T19:45:45.440Z"
   },
   {
    "duration": 23,
    "start_time": "2025-06-06T19:45:46.177Z"
   },
   {
    "duration": 136,
    "start_time": "2025-06-06T19:45:46.202Z"
   },
   {
    "duration": 400,
    "start_time": "2025-06-06T19:45:46.340Z"
   },
   {
    "duration": 35,
    "start_time": "2025-06-06T19:45:46.742Z"
   },
   {
    "duration": 8220,
    "start_time": "2025-06-06T19:45:46.779Z"
   },
   {
    "duration": 4,
    "start_time": "2025-06-06T19:45:55.001Z"
   },
   {
    "duration": 2737,
    "start_time": "2025-06-06T19:45:55.006Z"
   },
   {
    "duration": 459,
    "start_time": "2025-06-06T19:45:57.745Z"
   },
   {
    "duration": 34,
    "start_time": "2025-06-06T19:45:58.206Z"
   },
   {
    "duration": 52,
    "start_time": "2025-06-06T19:45:58.242Z"
   },
   {
    "duration": 151,
    "start_time": "2025-06-06T19:45:58.296Z"
   },
   {
    "duration": 30,
    "start_time": "2025-06-06T19:45:58.449Z"
   },
   {
    "duration": 141,
    "start_time": "2025-06-06T19:45:58.480Z"
   },
   {
    "duration": 10,
    "start_time": "2025-06-06T19:45:58.623Z"
   },
   {
    "duration": 168,
    "start_time": "2025-06-06T19:45:58.635Z"
   },
   {
    "duration": 17,
    "start_time": "2025-06-06T19:45:58.805Z"
   },
   {
    "duration": 13,
    "start_time": "2025-06-06T19:45:58.823Z"
   },
   {
    "duration": 34,
    "start_time": "2025-06-06T19:45:58.838Z"
   },
   {
    "duration": 9,
    "start_time": "2025-06-06T19:45:58.874Z"
   },
   {
    "duration": 17,
    "start_time": "2025-06-06T19:45:58.885Z"
   },
   {
    "duration": 9,
    "start_time": "2025-06-06T19:45:58.904Z"
   },
   {
    "duration": 26,
    "start_time": "2025-06-06T19:45:58.914Z"
   },
   {
    "duration": 18,
    "start_time": "2025-06-06T19:45:58.942Z"
   },
   {
    "duration": 0,
    "start_time": "2025-06-06T19:45:58.961Z"
   },
   {
    "duration": 41,
    "start_time": "2025-06-06T19:48:07.999Z"
   },
   {
    "duration": 39,
    "start_time": "2025-06-06T19:48:23.367Z"
   },
   {
    "duration": 35,
    "start_time": "2025-06-06T19:48:56.426Z"
   },
   {
    "duration": 38,
    "start_time": "2025-06-06T19:50:09.152Z"
   },
   {
    "duration": 36,
    "start_time": "2025-06-06T19:50:16.827Z"
   },
   {
    "duration": 6,
    "start_time": "2025-06-06T19:51:42.448Z"
   },
   {
    "duration": 6,
    "start_time": "2025-06-06T19:51:59.166Z"
   },
   {
    "duration": 12,
    "start_time": "2025-06-06T19:52:23.808Z"
   },
   {
    "duration": 13,
    "start_time": "2025-06-06T19:52:31.423Z"
   },
   {
    "duration": 8,
    "start_time": "2025-06-06T19:53:26.605Z"
   },
   {
    "duration": 8,
    "start_time": "2025-06-06T19:54:00.858Z"
   },
   {
    "duration": 7,
    "start_time": "2025-06-06T19:54:31.632Z"
   },
   {
    "duration": 6,
    "start_time": "2025-06-06T19:54:47.954Z"
   },
   {
    "duration": 8,
    "start_time": "2025-06-06T19:55:32.590Z"
   },
   {
    "duration": 6,
    "start_time": "2025-06-06T19:55:49.048Z"
   },
   {
    "duration": 6,
    "start_time": "2025-06-06T19:57:23.012Z"
   },
   {
    "duration": 7,
    "start_time": "2025-06-06T19:59:37.099Z"
   },
   {
    "duration": 377,
    "start_time": "2025-06-06T20:18:52.288Z"
   },
   {
    "duration": 340,
    "start_time": "2025-06-06T20:19:17.706Z"
   },
   {
    "duration": 372,
    "start_time": "2025-06-06T20:20:38.797Z"
   },
   {
    "duration": 350,
    "start_time": "2025-06-06T20:21:31.606Z"
   },
   {
    "duration": 85,
    "start_time": "2025-06-06T20:21:38.929Z"
   },
   {
    "duration": 50,
    "start_time": "2025-06-06T20:21:47.792Z"
   },
   {
    "duration": 50,
    "start_time": "2025-06-06T20:23:04.941Z"
   },
   {
    "duration": 1362,
    "start_time": "2025-06-06T20:26:22.818Z"
   },
   {
    "duration": 37,
    "start_time": "2025-06-06T20:26:37.106Z"
   },
   {
    "duration": 63,
    "start_time": "2025-06-06T20:33:55.908Z"
   },
   {
    "duration": 42,
    "start_time": "2025-06-06T20:34:27.235Z"
   },
   {
    "duration": 55,
    "start_time": "2025-06-06T20:34:40.659Z"
   },
   {
    "duration": 41,
    "start_time": "2025-06-06T20:37:03.318Z"
   },
   {
    "duration": 5212,
    "start_time": "2025-06-06T20:37:23.295Z"
   },
   {
    "duration": 7,
    "start_time": "2025-06-06T20:37:28.511Z"
   },
   {
    "duration": 73,
    "start_time": "2025-06-06T20:37:28.520Z"
   },
   {
    "duration": 26,
    "start_time": "2025-06-06T20:37:28.595Z"
   },
   {
    "duration": 19,
    "start_time": "2025-06-06T20:37:28.623Z"
   },
   {
    "duration": 13,
    "start_time": "2025-06-06T20:37:28.644Z"
   },
   {
    "duration": 33,
    "start_time": "2025-06-06T20:37:28.660Z"
   },
   {
    "duration": 5,
    "start_time": "2025-06-06T20:37:28.695Z"
   },
   {
    "duration": 10,
    "start_time": "2025-06-06T20:37:28.702Z"
   },
   {
    "duration": 678,
    "start_time": "2025-06-06T20:37:28.715Z"
   },
   {
    "duration": 9,
    "start_time": "2025-06-06T20:37:29.396Z"
   },
   {
    "duration": 24,
    "start_time": "2025-06-06T20:37:29.407Z"
   },
   {
    "duration": 817,
    "start_time": "2025-06-06T20:37:29.433Z"
   },
   {
    "duration": 31,
    "start_time": "2025-06-06T20:37:30.263Z"
   },
   {
    "duration": 19,
    "start_time": "2025-06-06T20:37:30.296Z"
   },
   {
    "duration": 518,
    "start_time": "2025-06-06T20:37:30.317Z"
   },
   {
    "duration": 29,
    "start_time": "2025-06-06T20:37:30.837Z"
   },
   {
    "duration": 8422,
    "start_time": "2025-06-06T20:37:30.868Z"
   },
   {
    "duration": 4,
    "start_time": "2025-06-06T20:37:39.292Z"
   },
   {
    "duration": 2368,
    "start_time": "2025-06-06T20:37:39.298Z"
   },
   {
    "duration": 405,
    "start_time": "2025-06-06T20:37:41.669Z"
   },
   {
    "duration": 470,
    "start_time": "2025-06-06T20:37:42.076Z"
   },
   {
    "duration": 26,
    "start_time": "2025-06-06T20:37:42.548Z"
   },
   {
    "duration": 187,
    "start_time": "2025-06-06T20:37:42.576Z"
   },
   {
    "duration": 20,
    "start_time": "2025-06-06T20:37:42.766Z"
   },
   {
    "duration": 185,
    "start_time": "2025-06-06T20:37:42.788Z"
   },
   {
    "duration": 14,
    "start_time": "2025-06-06T20:37:42.975Z"
   },
   {
    "duration": 186,
    "start_time": "2025-06-06T20:37:42.991Z"
   },
   {
    "duration": 19,
    "start_time": "2025-06-06T20:37:43.179Z"
   },
   {
    "duration": 43,
    "start_time": "2025-06-06T20:37:43.200Z"
   },
   {
    "duration": 58,
    "start_time": "2025-06-06T20:39:19.356Z"
   },
   {
    "duration": 39,
    "start_time": "2025-06-06T20:40:13.362Z"
   },
   {
    "duration": 55,
    "start_time": "2025-06-06T20:40:21.068Z"
   },
   {
    "duration": 984,
    "start_time": "2025-06-06T20:43:21.316Z"
   },
   {
    "duration": 535,
    "start_time": "2025-06-06T20:44:30.846Z"
   },
   {
    "duration": 44,
    "start_time": "2025-06-06T20:45:41.974Z"
   },
   {
    "duration": 59,
    "start_time": "2025-06-06T20:45:57.993Z"
   },
   {
    "duration": 41,
    "start_time": "2025-06-06T20:46:17.297Z"
   },
   {
    "duration": 49,
    "start_time": "2025-06-06T20:46:25.051Z"
   },
   {
    "duration": 5127,
    "start_time": "2025-06-06T20:53:24.770Z"
   },
   {
    "duration": 6,
    "start_time": "2025-06-06T20:53:29.901Z"
   },
   {
    "duration": 123,
    "start_time": "2025-06-06T20:53:29.911Z"
   },
   {
    "duration": 34,
    "start_time": "2025-06-06T20:53:30.036Z"
   },
   {
    "duration": 9,
    "start_time": "2025-06-06T20:53:30.073Z"
   },
   {
    "duration": 45,
    "start_time": "2025-06-06T20:53:30.086Z"
   },
   {
    "duration": 101,
    "start_time": "2025-06-06T20:53:30.132Z"
   },
   {
    "duration": 34,
    "start_time": "2025-06-06T20:53:30.234Z"
   },
   {
    "duration": 50,
    "start_time": "2025-06-06T20:53:30.270Z"
   },
   {
    "duration": 664,
    "start_time": "2025-06-06T20:53:30.322Z"
   },
   {
    "duration": 9,
    "start_time": "2025-06-06T20:53:30.988Z"
   },
   {
    "duration": 18,
    "start_time": "2025-06-06T20:53:30.999Z"
   },
   {
    "duration": 763,
    "start_time": "2025-06-06T20:53:31.019Z"
   },
   {
    "duration": 22,
    "start_time": "2025-06-06T20:53:31.784Z"
   },
   {
    "duration": 45,
    "start_time": "2025-06-06T20:53:31.807Z"
   },
   {
    "duration": 574,
    "start_time": "2025-06-06T20:53:31.854Z"
   },
   {
    "duration": 13,
    "start_time": "2025-06-06T20:53:32.429Z"
   },
   {
    "duration": 7998,
    "start_time": "2025-06-06T20:53:32.444Z"
   },
   {
    "duration": 5,
    "start_time": "2025-06-06T20:53:40.444Z"
   },
   {
    "duration": 2833,
    "start_time": "2025-06-06T20:53:40.465Z"
   },
   {
    "duration": 495,
    "start_time": "2025-06-06T20:53:43.300Z"
   },
   {
    "duration": 38,
    "start_time": "2025-06-06T20:53:43.796Z"
   },
   {
    "duration": 29,
    "start_time": "2025-06-06T20:53:43.836Z"
   },
   {
    "duration": 160,
    "start_time": "2025-06-06T20:53:43.867Z"
   },
   {
    "duration": 20,
    "start_time": "2025-06-06T20:53:44.029Z"
   },
   {
    "duration": 156,
    "start_time": "2025-06-06T20:53:44.068Z"
   },
   {
    "duration": 10,
    "start_time": "2025-06-06T20:53:44.226Z"
   },
   {
    "duration": 188,
    "start_time": "2025-06-06T20:53:44.237Z"
   },
   {
    "duration": 17,
    "start_time": "2025-06-06T20:53:44.427Z"
   },
   {
    "duration": 61,
    "start_time": "2025-06-06T20:53:44.446Z"
   },
   {
    "duration": 5185,
    "start_time": "2025-06-06T20:59:51.686Z"
   },
   {
    "duration": 8,
    "start_time": "2025-06-06T20:59:56.874Z"
   },
   {
    "duration": 106,
    "start_time": "2025-06-06T20:59:56.883Z"
   },
   {
    "duration": 36,
    "start_time": "2025-06-06T20:59:56.992Z"
   },
   {
    "duration": 5,
    "start_time": "2025-06-06T20:59:57.030Z"
   },
   {
    "duration": 33,
    "start_time": "2025-06-06T20:59:57.038Z"
   },
   {
    "duration": 35,
    "start_time": "2025-06-06T20:59:57.073Z"
   },
   {
    "duration": 5,
    "start_time": "2025-06-06T20:59:57.110Z"
   },
   {
    "duration": 8,
    "start_time": "2025-06-06T20:59:57.117Z"
   },
   {
    "duration": 662,
    "start_time": "2025-06-06T20:59:57.128Z"
   },
   {
    "duration": 8,
    "start_time": "2025-06-06T20:59:57.792Z"
   },
   {
    "duration": 34,
    "start_time": "2025-06-06T20:59:57.802Z"
   },
   {
    "duration": 695,
    "start_time": "2025-06-06T20:59:57.838Z"
   },
   {
    "duration": 45,
    "start_time": "2025-06-06T20:59:58.536Z"
   },
   {
    "duration": 29,
    "start_time": "2025-06-06T20:59:58.583Z"
   },
   {
    "duration": 419,
    "start_time": "2025-06-06T20:59:58.614Z"
   },
   {
    "duration": 28,
    "start_time": "2025-06-06T20:59:59.035Z"
   },
   {
    "duration": 8465,
    "start_time": "2025-06-06T20:59:59.065Z"
   },
   {
    "duration": 4,
    "start_time": "2025-06-06T21:00:07.532Z"
   },
   {
    "duration": 2510,
    "start_time": "2025-06-06T21:00:07.538Z"
   },
   {
    "duration": 447,
    "start_time": "2025-06-06T21:00:10.049Z"
   },
   {
    "duration": 506,
    "start_time": "2025-06-06T21:00:10.498Z"
   },
   {
    "duration": 11,
    "start_time": "2025-06-06T21:00:11.006Z"
   },
   {
    "duration": 214,
    "start_time": "2025-06-06T21:00:11.018Z"
   },
   {
    "duration": 32,
    "start_time": "2025-06-06T21:00:11.234Z"
   },
   {
    "duration": 168,
    "start_time": "2025-06-06T21:00:11.271Z"
   },
   {
    "duration": 29,
    "start_time": "2025-06-06T21:00:11.441Z"
   },
   {
    "duration": 160,
    "start_time": "2025-06-06T21:00:11.474Z"
   },
   {
    "duration": 16,
    "start_time": "2025-06-06T21:00:11.636Z"
   },
   {
    "duration": 61,
    "start_time": "2025-06-06T21:00:11.668Z"
   },
   {
    "duration": 6179,
    "start_time": "2025-06-07T04:21:46.446Z"
   },
   {
    "duration": 1495,
    "start_time": "2025-06-07T04:21:52.627Z"
   },
   {
    "duration": 124,
    "start_time": "2025-06-07T04:21:54.124Z"
   },
   {
    "duration": 25,
    "start_time": "2025-06-07T04:21:54.250Z"
   },
   {
    "duration": 70,
    "start_time": "2025-06-07T04:21:54.276Z"
   },
   {
    "duration": 11,
    "start_time": "2025-06-07T04:21:54.347Z"
   },
   {
    "duration": 27,
    "start_time": "2025-06-07T04:21:54.360Z"
   },
   {
    "duration": 4,
    "start_time": "2025-06-07T04:21:54.388Z"
   },
   {
    "duration": 7,
    "start_time": "2025-06-07T04:21:54.394Z"
   },
   {
    "duration": 685,
    "start_time": "2025-06-07T04:21:54.404Z"
   },
   {
    "duration": 9,
    "start_time": "2025-06-07T04:21:55.091Z"
   },
   {
    "duration": 76,
    "start_time": "2025-06-07T04:21:55.101Z"
   },
   {
    "duration": 639,
    "start_time": "2025-06-07T04:21:55.179Z"
   },
   {
    "duration": 21,
    "start_time": "2025-06-07T04:21:55.820Z"
   },
   {
    "duration": 111,
    "start_time": "2025-06-07T04:21:55.843Z"
   },
   {
    "duration": 366,
    "start_time": "2025-06-07T04:21:55.956Z"
   },
   {
    "duration": 13,
    "start_time": "2025-06-07T04:21:56.323Z"
   },
   {
    "duration": 8919,
    "start_time": "2025-06-07T04:21:56.357Z"
   },
   {
    "duration": 4,
    "start_time": "2025-06-07T04:22:05.277Z"
   },
   {
    "duration": 2222,
    "start_time": "2025-06-07T04:22:05.282Z"
   },
   {
    "duration": 430,
    "start_time": "2025-06-07T04:22:07.505Z"
   },
   {
    "duration": 39,
    "start_time": "2025-06-07T04:22:07.936Z"
   },
   {
    "duration": 9,
    "start_time": "2025-06-07T04:22:07.977Z"
   },
   {
    "duration": 157,
    "start_time": "2025-06-07T04:22:07.987Z"
   },
   {
    "duration": 21,
    "start_time": "2025-06-07T04:22:08.145Z"
   },
   {
    "duration": 141,
    "start_time": "2025-06-07T04:22:08.168Z"
   },
   {
    "duration": 9,
    "start_time": "2025-06-07T04:22:08.311Z"
   },
   {
    "duration": 588,
    "start_time": "2025-06-07T04:22:08.323Z"
   },
   {
    "duration": 16,
    "start_time": "2025-06-07T04:22:08.912Z"
   },
   {
    "duration": 141,
    "start_time": "2025-06-07T04:22:08.930Z"
   },
   {
    "duration": 8,
    "start_time": "2025-06-07T04:26:42.418Z"
   },
   {
    "duration": 9,
    "start_time": "2025-06-07T04:32:50.774Z"
   },
   {
    "duration": 9,
    "start_time": "2025-06-07T04:33:08.471Z"
   },
   {
    "duration": 8,
    "start_time": "2025-06-07T04:33:17.347Z"
   },
   {
    "duration": 9,
    "start_time": "2025-06-07T04:33:28.682Z"
   },
   {
    "duration": 9,
    "start_time": "2025-06-07T04:33:35.975Z"
   },
   {
    "duration": 8,
    "start_time": "2025-06-07T04:34:23.906Z"
   },
   {
    "duration": 9,
    "start_time": "2025-06-07T04:34:31.127Z"
   },
   {
    "duration": 8,
    "start_time": "2025-06-07T04:34:42.635Z"
   },
   {
    "duration": 23,
    "start_time": "2025-06-07T04:37:05.034Z"
   },
   {
    "duration": 9,
    "start_time": "2025-06-07T04:37:20.610Z"
   },
   {
    "duration": 568,
    "start_time": "2025-06-07T04:38:23.078Z"
   },
   {
    "duration": 10,
    "start_time": "2025-06-07T04:38:57.752Z"
   },
   {
    "duration": 9,
    "start_time": "2025-06-07T04:41:45.290Z"
   },
   {
    "duration": 7,
    "start_time": "2025-06-07T04:41:57.169Z"
   },
   {
    "duration": 63,
    "start_time": "2025-06-07T04:42:54.856Z"
   },
   {
    "duration": 8,
    "start_time": "2025-06-07T04:43:01.906Z"
   },
   {
    "duration": 6,
    "start_time": "2025-06-07T04:44:30.342Z"
   },
   {
    "duration": 7,
    "start_time": "2025-06-07T04:44:39.987Z"
   },
   {
    "duration": 7,
    "start_time": "2025-06-07T04:49:10.701Z"
   },
   {
    "duration": 72,
    "start_time": "2025-06-07T04:49:33.590Z"
   },
   {
    "duration": 6,
    "start_time": "2025-06-07T04:49:44.015Z"
   },
   {
    "duration": 7,
    "start_time": "2025-06-07T04:50:17.687Z"
   },
   {
    "duration": 7,
    "start_time": "2025-06-07T04:50:33.199Z"
   },
   {
    "duration": 12,
    "start_time": "2025-06-07T04:50:52.696Z"
   },
   {
    "duration": 3,
    "start_time": "2025-06-07T04:51:06.117Z"
   },
   {
    "duration": 3,
    "start_time": "2025-06-07T04:51:16.795Z"
   },
   {
    "duration": 9,
    "start_time": "2025-06-07T04:51:21.582Z"
   },
   {
    "duration": 6,
    "start_time": "2025-06-07T04:51:30.773Z"
   },
   {
    "duration": 7,
    "start_time": "2025-06-07T04:51:38.488Z"
   },
   {
    "duration": 7,
    "start_time": "2025-06-07T04:52:11.773Z"
   },
   {
    "duration": 7,
    "start_time": "2025-06-07T04:52:28.919Z"
   },
   {
    "duration": 38,
    "start_time": "2025-06-07T04:52:50.145Z"
   },
   {
    "duration": 6457,
    "start_time": "2025-06-07T07:20:45.843Z"
   },
   {
    "duration": 1338,
    "start_time": "2025-06-07T07:20:52.302Z"
   },
   {
    "duration": 128,
    "start_time": "2025-06-07T07:20:53.642Z"
   },
   {
    "duration": 26,
    "start_time": "2025-06-07T07:20:53.772Z"
   },
   {
    "duration": 4,
    "start_time": "2025-06-07T07:20:53.799Z"
   },
   {
    "duration": 13,
    "start_time": "2025-06-07T07:20:53.805Z"
   },
   {
    "duration": 50,
    "start_time": "2025-06-07T07:20:53.819Z"
   },
   {
    "duration": 4,
    "start_time": "2025-06-07T07:20:53.870Z"
   },
   {
    "duration": 7,
    "start_time": "2025-06-07T07:20:53.876Z"
   },
   {
    "duration": 622,
    "start_time": "2025-06-07T07:20:53.885Z"
   },
   {
    "duration": 10,
    "start_time": "2025-06-07T07:20:54.508Z"
   },
   {
    "duration": 17,
    "start_time": "2025-06-07T07:20:54.520Z"
   },
   {
    "duration": 664,
    "start_time": "2025-06-07T07:20:54.539Z"
   },
   {
    "duration": 20,
    "start_time": "2025-06-07T07:20:55.205Z"
   },
   {
    "duration": 68,
    "start_time": "2025-06-07T07:20:55.227Z"
   },
   {
    "duration": 401,
    "start_time": "2025-06-07T07:20:55.297Z"
   },
   {
    "duration": 13,
    "start_time": "2025-06-07T07:20:55.699Z"
   },
   {
    "duration": 7444,
    "start_time": "2025-06-07T07:20:55.713Z"
   },
   {
    "duration": 3,
    "start_time": "2025-06-07T07:21:03.162Z"
   },
   {
    "duration": 2240,
    "start_time": "2025-06-07T07:21:03.167Z"
   },
   {
    "duration": 432,
    "start_time": "2025-06-07T07:21:05.409Z"
   },
   {
    "duration": 39,
    "start_time": "2025-06-07T07:21:05.843Z"
   },
   {
    "duration": 34,
    "start_time": "2025-06-07T07:21:05.884Z"
   },
   {
    "duration": 165,
    "start_time": "2025-06-07T07:21:05.920Z"
   },
   {
    "duration": 18,
    "start_time": "2025-06-07T07:21:06.087Z"
   },
   {
    "duration": 252,
    "start_time": "2025-06-07T07:21:06.108Z"
   },
   {
    "duration": 10,
    "start_time": "2025-06-07T07:21:06.362Z"
   },
   {
    "duration": 588,
    "start_time": "2025-06-07T07:21:06.375Z"
   },
   {
    "duration": 16,
    "start_time": "2025-06-07T07:21:06.964Z"
   },
   {
    "duration": 52,
    "start_time": "2025-06-07T07:21:06.982Z"
   },
   {
    "duration": 7,
    "start_time": "2025-06-07T07:21:07.035Z"
   },
   {
    "duration": 21,
    "start_time": "2025-06-07T07:21:07.044Z"
   },
   {
    "duration": 10,
    "start_time": "2025-06-07T07:21:07.066Z"
   },
   {
    "duration": 29,
    "start_time": "2025-06-07T07:21:07.078Z"
   },
   {
    "duration": 90,
    "start_time": "2025-06-07T07:25:08.753Z"
   },
   {
    "duration": 148,
    "start_time": "2025-06-07T07:25:54.699Z"
   },
   {
    "duration": 152,
    "start_time": "2025-06-07T07:26:40.878Z"
   },
   {
    "duration": 11,
    "start_time": "2025-06-07T07:30:05.098Z"
   },
   {
    "duration": 83,
    "start_time": "2025-06-07T07:30:26.406Z"
   },
   {
    "duration": 10,
    "start_time": "2025-06-07T07:30:34.007Z"
   },
   {
    "duration": 92,
    "start_time": "2025-06-07T07:34:30.390Z"
   },
   {
    "duration": 144,
    "start_time": "2025-06-07T07:36:22.481Z"
   },
   {
    "duration": 10,
    "start_time": "2025-06-07T07:36:55.627Z"
   },
   {
    "duration": 154,
    "start_time": "2025-06-07T07:37:10.326Z"
   },
   {
    "duration": 19,
    "start_time": "2025-06-07T07:37:23.765Z"
   },
   {
    "duration": 18,
    "start_time": "2025-06-07T07:37:41.039Z"
   },
   {
    "duration": 39,
    "start_time": "2025-06-07T07:43:16.306Z"
   },
   {
    "duration": 87,
    "start_time": "2025-06-07T07:49:45.934Z"
   },
   {
    "duration": 84,
    "start_time": "2025-06-07T07:49:54.667Z"
   },
   {
    "duration": 82,
    "start_time": "2025-06-07T07:50:01.127Z"
   },
   {
    "duration": 6,
    "start_time": "2025-06-07T07:50:16.638Z"
   },
   {
    "duration": 7,
    "start_time": "2025-06-07T07:51:31.547Z"
   },
   {
    "duration": 8,
    "start_time": "2025-06-07T07:58:02.288Z"
   },
   {
    "duration": 7,
    "start_time": "2025-06-07T07:58:08.325Z"
   },
   {
    "duration": 1388,
    "start_time": "2025-06-07T07:58:52.462Z"
   },
   {
    "duration": 19,
    "start_time": "2025-06-07T07:59:09.778Z"
   },
   {
    "duration": 8,
    "start_time": "2025-06-07T08:01:09.554Z"
   },
   {
    "duration": 6,
    "start_time": "2025-06-07T08:01:18.702Z"
   },
   {
    "duration": 87,
    "start_time": "2025-06-07T08:03:44.734Z"
   },
   {
    "duration": 7,
    "start_time": "2025-06-07T08:03:51.721Z"
   },
   {
    "duration": 19,
    "start_time": "2025-06-07T08:04:25.031Z"
   },
   {
    "duration": 4790,
    "start_time": "2025-06-07T08:06:07.843Z"
   },
   {
    "duration": 6,
    "start_time": "2025-06-07T08:06:12.636Z"
   },
   {
    "duration": 98,
    "start_time": "2025-06-07T08:06:12.644Z"
   },
   {
    "duration": 24,
    "start_time": "2025-06-07T08:06:12.744Z"
   },
   {
    "duration": 4,
    "start_time": "2025-06-07T08:06:12.770Z"
   },
   {
    "duration": 18,
    "start_time": "2025-06-07T08:06:12.775Z"
   },
   {
    "duration": 21,
    "start_time": "2025-06-07T08:06:12.795Z"
   },
   {
    "duration": 5,
    "start_time": "2025-06-07T08:06:12.818Z"
   },
   {
    "duration": 15,
    "start_time": "2025-06-07T08:06:12.824Z"
   },
   {
    "duration": 612,
    "start_time": "2025-06-07T08:06:12.842Z"
   },
   {
    "duration": 8,
    "start_time": "2025-06-07T08:06:13.461Z"
   },
   {
    "duration": 32,
    "start_time": "2025-06-07T08:06:13.471Z"
   },
   {
    "duration": 661,
    "start_time": "2025-06-07T08:06:13.505Z"
   },
   {
    "duration": 21,
    "start_time": "2025-06-07T08:06:14.168Z"
   },
   {
    "duration": 32,
    "start_time": "2025-06-07T08:06:14.191Z"
   },
   {
    "duration": 387,
    "start_time": "2025-06-07T08:06:14.225Z"
   },
   {
    "duration": 13,
    "start_time": "2025-06-07T08:06:14.614Z"
   },
   {
    "duration": 7603,
    "start_time": "2025-06-07T08:06:14.629Z"
   },
   {
    "duration": 3,
    "start_time": "2025-06-07T08:06:22.234Z"
   },
   {
    "duration": 2191,
    "start_time": "2025-06-07T08:06:22.238Z"
   },
   {
    "duration": 418,
    "start_time": "2025-06-07T08:06:24.430Z"
   },
   {
    "duration": 460,
    "start_time": "2025-06-07T08:06:24.850Z"
   },
   {
    "duration": 10,
    "start_time": "2025-06-07T08:06:25.312Z"
   },
   {
    "duration": 165,
    "start_time": "2025-06-07T08:06:25.324Z"
   },
   {
    "duration": 17,
    "start_time": "2025-06-07T08:06:25.491Z"
   },
   {
    "duration": 11,
    "start_time": "2025-06-07T08:06:25.509Z"
   },
   {
    "duration": 170,
    "start_time": "2025-06-07T08:06:25.522Z"
   },
   {
    "duration": 18,
    "start_time": "2025-06-07T08:06:25.695Z"
   },
   {
    "duration": 155,
    "start_time": "2025-06-07T08:06:25.714Z"
   },
   {
    "duration": 12,
    "start_time": "2025-06-07T08:06:25.870Z"
   },
   {
    "duration": 147,
    "start_time": "2025-06-07T08:06:25.883Z"
   },
   {
    "duration": 18,
    "start_time": "2025-06-07T08:06:26.032Z"
   },
   {
    "duration": 37,
    "start_time": "2025-06-07T08:06:26.066Z"
   },
   {
    "duration": 18,
    "start_time": "2025-06-07T08:06:26.104Z"
   },
   {
    "duration": 5782,
    "start_time": "2025-06-07T16:25:43.995Z"
   },
   {
    "duration": 1419,
    "start_time": "2025-06-07T16:25:49.779Z"
   },
   {
    "duration": 191,
    "start_time": "2025-06-07T16:25:51.200Z"
   },
   {
    "duration": 24,
    "start_time": "2025-06-07T16:25:51.393Z"
   },
   {
    "duration": 4,
    "start_time": "2025-06-07T16:25:51.418Z"
   },
   {
    "duration": 32,
    "start_time": "2025-06-07T16:25:51.423Z"
   },
   {
    "duration": 28,
    "start_time": "2025-06-07T16:25:51.457Z"
   },
   {
    "duration": 10,
    "start_time": "2025-06-07T16:25:51.487Z"
   },
   {
    "duration": 142,
    "start_time": "2025-06-07T16:25:51.500Z"
   },
   {
    "duration": 708,
    "start_time": "2025-06-07T16:25:51.645Z"
   },
   {
    "duration": 14,
    "start_time": "2025-06-07T16:25:52.354Z"
   },
   {
    "duration": 72,
    "start_time": "2025-06-07T16:25:52.370Z"
   },
   {
    "duration": 661,
    "start_time": "2025-06-07T16:25:52.444Z"
   },
   {
    "duration": 20,
    "start_time": "2025-06-07T16:25:53.107Z"
   },
   {
    "duration": 29,
    "start_time": "2025-06-07T16:25:53.129Z"
   },
   {
    "duration": 359,
    "start_time": "2025-06-07T16:25:53.159Z"
   },
   {
    "duration": 50,
    "start_time": "2025-06-07T16:25:53.520Z"
   },
   {
    "duration": 7137,
    "start_time": "2025-06-07T16:25:53.571Z"
   },
   {
    "duration": 4,
    "start_time": "2025-06-07T16:26:00.709Z"
   },
   {
    "duration": 2332,
    "start_time": "2025-06-07T16:26:00.714Z"
   },
   {
    "duration": 410,
    "start_time": "2025-06-07T16:26:03.048Z"
   },
   {
    "duration": 34,
    "start_time": "2025-06-07T16:26:03.459Z"
   },
   {
    "duration": 10,
    "start_time": "2025-06-07T16:26:03.494Z"
   },
   {
    "duration": 224,
    "start_time": "2025-06-07T16:26:03.506Z"
   },
   {
    "duration": 15,
    "start_time": "2025-06-07T16:26:03.731Z"
   },
   {
    "duration": 26,
    "start_time": "2025-06-07T16:26:03.748Z"
   },
   {
    "duration": 135,
    "start_time": "2025-06-07T16:26:03.775Z"
   },
   {
    "duration": 17,
    "start_time": "2025-06-07T16:26:03.913Z"
   },
   {
    "duration": 528,
    "start_time": "2025-06-07T16:26:03.932Z"
   },
   {
    "duration": 10,
    "start_time": "2025-06-07T16:26:04.462Z"
   },
   {
    "duration": 141,
    "start_time": "2025-06-07T16:26:04.474Z"
   },
   {
    "duration": 16,
    "start_time": "2025-06-07T16:26:04.617Z"
   },
   {
    "duration": 54,
    "start_time": "2025-06-07T16:26:04.634Z"
   },
   {
    "duration": 17,
    "start_time": "2025-06-07T16:26:04.690Z"
   },
   {
    "duration": 17,
    "start_time": "2025-06-07T16:32:46.581Z"
   },
   {
    "duration": 28,
    "start_time": "2025-06-07T16:35:57.197Z"
   },
   {
    "duration": 26,
    "start_time": "2025-06-07T16:36:40.806Z"
   },
   {
    "duration": 389,
    "start_time": "2025-06-07T16:37:52.011Z"
   },
   {
    "duration": 565,
    "start_time": "2025-06-07T16:41:01.698Z"
   },
   {
    "duration": 27,
    "start_time": "2025-06-07T16:44:04.617Z"
   },
   {
    "duration": 28,
    "start_time": "2025-06-07T16:48:31.944Z"
   },
   {
    "duration": 26,
    "start_time": "2025-06-07T16:48:39.510Z"
   },
   {
    "duration": 26,
    "start_time": "2025-06-07T16:50:06.247Z"
   },
   {
    "duration": 27,
    "start_time": "2025-06-07T16:50:36.019Z"
   },
   {
    "duration": 20,
    "start_time": "2025-06-07T16:54:20.338Z"
   },
   {
    "duration": 4438,
    "start_time": "2025-06-07T16:56:01.481Z"
   },
   {
    "duration": 4,
    "start_time": "2025-06-07T16:56:05.922Z"
   },
   {
    "duration": 84,
    "start_time": "2025-06-07T16:56:05.928Z"
   },
   {
    "duration": 38,
    "start_time": "2025-06-07T16:56:06.014Z"
   },
   {
    "duration": 62,
    "start_time": "2025-06-07T16:56:06.053Z"
   },
   {
    "duration": 31,
    "start_time": "2025-06-07T16:56:06.117Z"
   },
   {
    "duration": 19,
    "start_time": "2025-06-07T16:56:06.150Z"
   },
   {
    "duration": 4,
    "start_time": "2025-06-07T16:56:06.170Z"
   },
   {
    "duration": 15,
    "start_time": "2025-06-07T16:56:06.176Z"
   },
   {
    "duration": 650,
    "start_time": "2025-06-07T16:56:06.195Z"
   },
   {
    "duration": 20,
    "start_time": "2025-06-07T16:56:06.847Z"
   },
   {
    "duration": 20,
    "start_time": "2025-06-07T16:56:06.868Z"
   },
   {
    "duration": 595,
    "start_time": "2025-06-07T16:56:06.890Z"
   },
   {
    "duration": 26,
    "start_time": "2025-06-07T16:56:07.487Z"
   },
   {
    "duration": 16,
    "start_time": "2025-06-07T16:56:07.515Z"
   },
   {
    "duration": 371,
    "start_time": "2025-06-07T16:56:07.532Z"
   },
   {
    "duration": 11,
    "start_time": "2025-06-07T16:56:07.905Z"
   },
   {
    "duration": 7591,
    "start_time": "2025-06-07T16:56:07.918Z"
   },
   {
    "duration": 4,
    "start_time": "2025-06-07T16:56:15.510Z"
   },
   {
    "duration": 2462,
    "start_time": "2025-06-07T16:56:15.515Z"
   },
   {
    "duration": 365,
    "start_time": "2025-06-07T16:56:17.978Z"
   },
   {
    "duration": 39,
    "start_time": "2025-06-07T16:56:18.345Z"
   },
   {
    "duration": 8,
    "start_time": "2025-06-07T16:56:18.386Z"
   },
   {
    "duration": 140,
    "start_time": "2025-06-07T16:56:18.395Z"
   },
   {
    "duration": 25,
    "start_time": "2025-06-07T16:56:18.537Z"
   },
   {
    "duration": 8,
    "start_time": "2025-06-07T16:56:18.564Z"
   },
   {
    "duration": 141,
    "start_time": "2025-06-07T16:56:18.573Z"
   },
   {
    "duration": 17,
    "start_time": "2025-06-07T16:56:18.717Z"
   },
   {
    "duration": 142,
    "start_time": "2025-06-07T16:56:18.735Z"
   },
   {
    "duration": 9,
    "start_time": "2025-06-07T16:56:18.878Z"
   },
   {
    "duration": 137,
    "start_time": "2025-06-07T16:56:18.889Z"
   },
   {
    "duration": 14,
    "start_time": "2025-06-07T16:56:19.027Z"
   },
   {
    "duration": 47,
    "start_time": "2025-06-07T16:56:19.043Z"
   },
   {
    "duration": 21,
    "start_time": "2025-06-07T16:56:19.091Z"
   },
   {
    "duration": 41,
    "start_time": "2025-06-07T16:58:33.228Z"
   },
   {
    "duration": 34,
    "start_time": "2025-06-07T16:58:40.805Z"
   },
   {
    "duration": 23,
    "start_time": "2025-06-07T17:17:35.262Z"
   },
   {
    "duration": 77,
    "start_time": "2025-06-07T17:46:44.300Z"
   },
   {
    "duration": 6,
    "start_time": "2025-06-07T17:46:53.268Z"
   },
   {
    "duration": 7,
    "start_time": "2025-06-07T17:47:41.214Z"
   },
   {
    "duration": 23,
    "start_time": "2025-06-07T17:49:23.090Z"
   },
   {
    "duration": 4,
    "start_time": "2025-06-07T17:51:37.338Z"
   },
   {
    "duration": 158,
    "start_time": "2025-06-07T17:51:37.343Z"
   },
   {
    "duration": 25,
    "start_time": "2025-06-07T17:51:37.503Z"
   },
   {
    "duration": 46,
    "start_time": "2025-06-07T17:51:37.529Z"
   },
   {
    "duration": 17,
    "start_time": "2025-06-07T17:51:37.577Z"
   },
   {
    "duration": 71,
    "start_time": "2025-06-07T17:51:37.596Z"
   },
   {
    "duration": 3,
    "start_time": "2025-06-07T17:51:37.669Z"
   },
   {
    "duration": 17,
    "start_time": "2025-06-07T17:51:37.674Z"
   },
   {
    "duration": 561,
    "start_time": "2025-06-07T17:51:37.692Z"
   },
   {
    "duration": 12,
    "start_time": "2025-06-07T17:51:38.255Z"
   },
   {
    "duration": 124,
    "start_time": "2025-06-07T17:51:38.269Z"
   },
   {
    "duration": 639,
    "start_time": "2025-06-07T17:51:38.395Z"
   },
   {
    "duration": 30,
    "start_time": "2025-06-07T17:51:39.036Z"
   },
   {
    "duration": 12,
    "start_time": "2025-06-07T17:51:39.068Z"
   },
   {
    "duration": 406,
    "start_time": "2025-06-07T17:51:39.082Z"
   },
   {
    "duration": 12,
    "start_time": "2025-06-07T17:51:39.490Z"
   },
   {
    "duration": 7483,
    "start_time": "2025-06-07T17:51:39.503Z"
   },
   {
    "duration": 3,
    "start_time": "2025-06-07T17:51:46.988Z"
   },
   {
    "duration": 2173,
    "start_time": "2025-06-07T17:51:46.992Z"
   },
   {
    "duration": 373,
    "start_time": "2025-06-07T17:51:49.166Z"
   },
   {
    "duration": 40,
    "start_time": "2025-06-07T17:51:49.541Z"
   },
   {
    "duration": 9,
    "start_time": "2025-06-07T17:51:49.582Z"
   },
   {
    "duration": 154,
    "start_time": "2025-06-07T17:51:49.592Z"
   },
   {
    "duration": 19,
    "start_time": "2025-06-07T17:51:49.748Z"
   },
   {
    "duration": 8,
    "start_time": "2025-06-07T17:51:49.768Z"
   },
   {
    "duration": 141,
    "start_time": "2025-06-07T17:51:49.778Z"
   },
   {
    "duration": 16,
    "start_time": "2025-06-07T17:51:49.920Z"
   },
   {
    "duration": 135,
    "start_time": "2025-06-07T17:51:49.938Z"
   },
   {
    "duration": 8,
    "start_time": "2025-06-07T17:51:50.076Z"
   },
   {
    "duration": 137,
    "start_time": "2025-06-07T17:51:50.085Z"
   },
   {
    "duration": 121,
    "start_time": "2025-06-07T17:51:50.224Z"
   },
   {
    "duration": 538,
    "start_time": "2025-06-07T17:51:50.346Z"
   },
   {
    "duration": 42,
    "start_time": "2025-06-07T17:51:50.885Z"
   },
   {
    "duration": 3,
    "start_time": "2025-06-07T17:53:53.868Z"
   },
   {
    "duration": 56,
    "start_time": "2025-06-07T17:53:53.873Z"
   },
   {
    "duration": 22,
    "start_time": "2025-06-07T17:53:53.931Z"
   },
   {
    "duration": 46,
    "start_time": "2025-06-07T17:53:53.954Z"
   },
   {
    "duration": 42,
    "start_time": "2025-06-07T17:53:54.003Z"
   },
   {
    "duration": 19,
    "start_time": "2025-06-07T17:53:54.046Z"
   },
   {
    "duration": 4,
    "start_time": "2025-06-07T17:53:54.067Z"
   },
   {
    "duration": 75,
    "start_time": "2025-06-07T17:53:54.072Z"
   },
   {
    "duration": 723,
    "start_time": "2025-06-07T17:53:54.149Z"
   },
   {
    "duration": 9,
    "start_time": "2025-06-07T17:53:54.874Z"
   },
   {
    "duration": 16,
    "start_time": "2025-06-07T17:53:54.886Z"
   },
   {
    "duration": 637,
    "start_time": "2025-06-07T17:53:54.904Z"
   },
   {
    "duration": 29,
    "start_time": "2025-06-07T17:53:55.543Z"
   },
   {
    "duration": 13,
    "start_time": "2025-06-07T17:53:55.574Z"
   },
   {
    "duration": 393,
    "start_time": "2025-06-07T17:53:55.589Z"
   },
   {
    "duration": 13,
    "start_time": "2025-06-07T17:53:55.984Z"
   },
   {
    "duration": 7043,
    "start_time": "2025-06-07T17:53:55.999Z"
   },
   {
    "duration": 5,
    "start_time": "2025-06-07T17:54:03.043Z"
   },
   {
    "duration": 2404,
    "start_time": "2025-06-07T17:54:03.061Z"
   },
   {
    "duration": 373,
    "start_time": "2025-06-07T17:54:05.466Z"
   },
   {
    "duration": 35,
    "start_time": "2025-06-07T17:54:05.841Z"
   },
   {
    "duration": 70,
    "start_time": "2025-06-07T17:54:05.878Z"
   },
   {
    "duration": 184,
    "start_time": "2025-06-07T17:54:05.950Z"
   },
   {
    "duration": 15,
    "start_time": "2025-06-07T17:54:06.135Z"
   },
   {
    "duration": 85,
    "start_time": "2025-06-07T17:54:06.151Z"
   },
   {
    "duration": 255,
    "start_time": "2025-06-07T17:54:06.238Z"
   },
   {
    "duration": 17,
    "start_time": "2025-06-07T17:54:06.495Z"
   },
   {
    "duration": 156,
    "start_time": "2025-06-07T17:54:06.513Z"
   },
   {
    "duration": 9,
    "start_time": "2025-06-07T17:54:06.672Z"
   },
   {
    "duration": 263,
    "start_time": "2025-06-07T17:54:06.682Z"
   },
   {
    "duration": 75,
    "start_time": "2025-06-07T17:54:06.947Z"
   },
   {
    "duration": 109,
    "start_time": "2025-06-07T17:54:07.024Z"
   },
   {
    "duration": 115,
    "start_time": "2025-06-07T17:54:07.135Z"
   },
   {
    "duration": 1439,
    "start_time": "2025-06-08T17:04:17.104Z"
   },
   {
    "duration": 0,
    "start_time": "2025-06-08T17:04:18.546Z"
   },
   {
    "duration": 0,
    "start_time": "2025-06-08T17:04:18.547Z"
   },
   {
    "duration": 0,
    "start_time": "2025-06-08T17:04:18.548Z"
   },
   {
    "duration": 0,
    "start_time": "2025-06-08T17:04:18.549Z"
   },
   {
    "duration": 0,
    "start_time": "2025-06-08T17:04:18.550Z"
   },
   {
    "duration": 0,
    "start_time": "2025-06-08T17:04:18.551Z"
   },
   {
    "duration": 0,
    "start_time": "2025-06-08T17:04:18.551Z"
   },
   {
    "duration": 0,
    "start_time": "2025-06-08T17:04:18.553Z"
   },
   {
    "duration": 0,
    "start_time": "2025-06-08T17:04:18.553Z"
   },
   {
    "duration": 0,
    "start_time": "2025-06-08T17:04:18.555Z"
   },
   {
    "duration": 0,
    "start_time": "2025-06-08T17:04:18.556Z"
   },
   {
    "duration": 0,
    "start_time": "2025-06-08T17:04:18.556Z"
   },
   {
    "duration": 0,
    "start_time": "2025-06-08T17:04:18.557Z"
   },
   {
    "duration": 0,
    "start_time": "2025-06-08T17:04:18.558Z"
   },
   {
    "duration": 0,
    "start_time": "2025-06-08T17:04:18.559Z"
   },
   {
    "duration": 0,
    "start_time": "2025-06-08T17:04:18.560Z"
   },
   {
    "duration": 0,
    "start_time": "2025-06-08T17:04:18.561Z"
   },
   {
    "duration": 0,
    "start_time": "2025-06-08T17:04:18.562Z"
   },
   {
    "duration": 0,
    "start_time": "2025-06-08T17:04:18.563Z"
   },
   {
    "duration": 0,
    "start_time": "2025-06-08T17:04:18.564Z"
   },
   {
    "duration": 0,
    "start_time": "2025-06-08T17:04:18.565Z"
   },
   {
    "duration": 0,
    "start_time": "2025-06-08T17:04:18.566Z"
   },
   {
    "duration": 0,
    "start_time": "2025-06-08T17:04:18.567Z"
   },
   {
    "duration": 0,
    "start_time": "2025-06-08T17:04:18.568Z"
   },
   {
    "duration": 0,
    "start_time": "2025-06-08T17:04:18.569Z"
   },
   {
    "duration": 0,
    "start_time": "2025-06-08T17:04:18.570Z"
   },
   {
    "duration": 0,
    "start_time": "2025-06-08T17:04:18.571Z"
   },
   {
    "duration": 0,
    "start_time": "2025-06-08T17:04:18.572Z"
   },
   {
    "duration": 0,
    "start_time": "2025-06-08T17:04:18.573Z"
   },
   {
    "duration": 0,
    "start_time": "2025-06-08T17:04:18.574Z"
   },
   {
    "duration": 0,
    "start_time": "2025-06-08T17:04:18.575Z"
   },
   {
    "duration": 0,
    "start_time": "2025-06-08T17:04:18.576Z"
   },
   {
    "duration": 3062,
    "start_time": "2025-06-08T17:04:40.787Z"
   },
   {
    "duration": 1100,
    "start_time": "2025-06-08T17:04:43.851Z"
   },
   {
    "duration": 94,
    "start_time": "2025-06-08T17:04:44.953Z"
   },
   {
    "duration": 24,
    "start_time": "2025-06-08T17:04:45.048Z"
   },
   {
    "duration": 23,
    "start_time": "2025-06-08T17:04:45.075Z"
   },
   {
    "duration": 60,
    "start_time": "2025-06-08T17:04:45.100Z"
   },
   {
    "duration": 24,
    "start_time": "2025-06-08T17:04:45.161Z"
   },
   {
    "duration": 15,
    "start_time": "2025-06-08T17:04:45.187Z"
   },
   {
    "duration": 77,
    "start_time": "2025-06-08T17:04:45.204Z"
   },
   {
    "duration": 580,
    "start_time": "2025-06-08T17:04:45.283Z"
   },
   {
    "duration": 11,
    "start_time": "2025-06-08T17:04:45.865Z"
   },
   {
    "duration": 19,
    "start_time": "2025-06-08T17:04:45.878Z"
   },
   {
    "duration": 657,
    "start_time": "2025-06-08T17:04:45.898Z"
   },
   {
    "duration": 21,
    "start_time": "2025-06-08T17:04:46.559Z"
   },
   {
    "duration": 37,
    "start_time": "2025-06-08T17:04:46.581Z"
   },
   {
    "duration": 447,
    "start_time": "2025-06-08T17:04:46.620Z"
   },
   {
    "duration": 12,
    "start_time": "2025-06-08T17:04:47.069Z"
   },
   {
    "duration": 7440,
    "start_time": "2025-06-08T17:04:47.083Z"
   },
   {
    "duration": 15,
    "start_time": "2025-06-08T17:04:54.524Z"
   },
   {
    "duration": 2247,
    "start_time": "2025-06-08T17:04:54.541Z"
   },
   {
    "duration": 433,
    "start_time": "2025-06-08T17:04:56.790Z"
   },
   {
    "duration": 43,
    "start_time": "2025-06-08T17:04:57.225Z"
   },
   {
    "duration": 55,
    "start_time": "2025-06-08T17:04:57.270Z"
   },
   {
    "duration": 142,
    "start_time": "2025-06-08T17:04:57.327Z"
   },
   {
    "duration": 17,
    "start_time": "2025-06-08T17:04:57.472Z"
   },
   {
    "duration": 21,
    "start_time": "2025-06-08T17:04:57.490Z"
   },
   {
    "duration": 180,
    "start_time": "2025-06-08T17:04:57.512Z"
   },
   {
    "duration": 17,
    "start_time": "2025-06-08T17:04:57.694Z"
   },
   {
    "duration": 177,
    "start_time": "2025-06-08T17:04:57.713Z"
   },
   {
    "duration": 10,
    "start_time": "2025-06-08T17:04:57.892Z"
   },
   {
    "duration": 149,
    "start_time": "2025-06-08T17:04:57.903Z"
   },
   {
    "duration": 15,
    "start_time": "2025-06-08T17:04:58.054Z"
   },
   {
    "duration": 37,
    "start_time": "2025-06-08T17:04:58.071Z"
   },
   {
    "duration": 43,
    "start_time": "2025-06-08T17:04:58.110Z"
   },
   {
    "duration": 50,
    "start_time": "2025-06-09T04:23:21.718Z"
   },
   {
    "duration": 3097,
    "start_time": "2025-06-09T04:23:25.011Z"
   },
   {
    "duration": 1390,
    "start_time": "2025-06-09T04:23:28.111Z"
   },
   {
    "duration": 100,
    "start_time": "2025-06-09T04:23:29.503Z"
   },
   {
    "duration": 28,
    "start_time": "2025-06-09T04:23:29.605Z"
   },
   {
    "duration": 4,
    "start_time": "2025-06-09T04:23:29.634Z"
   },
   {
    "duration": 23,
    "start_time": "2025-06-09T04:23:29.640Z"
   },
   {
    "duration": 32,
    "start_time": "2025-06-09T04:23:29.665Z"
   },
   {
    "duration": 4,
    "start_time": "2025-06-09T04:23:29.699Z"
   },
   {
    "duration": 7,
    "start_time": "2025-06-09T04:23:29.704Z"
   },
   {
    "duration": 688,
    "start_time": "2025-06-09T04:23:29.714Z"
   },
   {
    "duration": 10,
    "start_time": "2025-06-09T04:23:30.404Z"
   },
   {
    "duration": 50,
    "start_time": "2025-06-09T04:23:30.416Z"
   },
   {
    "duration": 22,
    "start_time": "2025-06-09T04:23:30.468Z"
   },
   {
    "duration": 665,
    "start_time": "2025-06-09T04:23:30.492Z"
   },
   {
    "duration": 22,
    "start_time": "2025-06-09T04:23:31.159Z"
   },
   {
    "duration": 13,
    "start_time": "2025-06-09T04:23:31.183Z"
   },
   {
    "duration": 425,
    "start_time": "2025-06-09T04:23:31.198Z"
   },
   {
    "duration": 13,
    "start_time": "2025-06-09T04:23:31.625Z"
   },
   {
    "duration": 7790,
    "start_time": "2025-06-09T04:23:31.639Z"
   },
   {
    "duration": 3,
    "start_time": "2025-06-09T04:23:39.431Z"
   },
   {
    "duration": 2333,
    "start_time": "2025-06-09T04:23:39.436Z"
   },
   {
    "duration": 431,
    "start_time": "2025-06-09T04:23:41.771Z"
   },
   {
    "duration": 35,
    "start_time": "2025-06-09T04:23:42.203Z"
   },
   {
    "duration": 9,
    "start_time": "2025-06-09T04:23:42.240Z"
   },
   {
    "duration": 167,
    "start_time": "2025-06-09T04:23:42.250Z"
   },
   {
    "duration": 17,
    "start_time": "2025-06-09T04:23:42.418Z"
   },
   {
    "duration": 19,
    "start_time": "2025-06-09T04:23:42.436Z"
   },
   {
    "duration": 164,
    "start_time": "2025-06-09T04:23:42.459Z"
   },
   {
    "duration": 18,
    "start_time": "2025-06-09T04:23:42.625Z"
   },
   {
    "duration": 152,
    "start_time": "2025-06-09T04:23:42.645Z"
   },
   {
    "duration": 11,
    "start_time": "2025-06-09T04:23:42.799Z"
   },
   {
    "duration": 160,
    "start_time": "2025-06-09T04:23:42.811Z"
   },
   {
    "duration": 17,
    "start_time": "2025-06-09T04:23:42.976Z"
   },
   {
    "duration": 41,
    "start_time": "2025-06-09T04:23:42.995Z"
   },
   {
    "duration": 55,
    "start_time": "2025-06-09T04:23:43.038Z"
   },
   {
    "duration": 3167,
    "start_time": "2025-06-09T07:39:23.334Z"
   },
   {
    "duration": 1321,
    "start_time": "2025-06-09T07:39:26.504Z"
   },
   {
    "duration": 484,
    "start_time": "2025-06-09T07:39:27.826Z"
   },
   {
    "duration": 27,
    "start_time": "2025-06-09T07:39:28.312Z"
   },
   {
    "duration": 6,
    "start_time": "2025-06-09T07:39:28.341Z"
   },
   {
    "duration": 22,
    "start_time": "2025-06-09T07:39:28.349Z"
   },
   {
    "duration": 22,
    "start_time": "2025-06-09T07:39:28.373Z"
   },
   {
    "duration": 4,
    "start_time": "2025-06-09T07:39:28.397Z"
   },
   {
    "duration": 10,
    "start_time": "2025-06-09T07:39:28.402Z"
   },
   {
    "duration": 675,
    "start_time": "2025-06-09T07:39:28.414Z"
   },
   {
    "duration": 9,
    "start_time": "2025-06-09T07:39:29.091Z"
   },
   {
    "duration": 19,
    "start_time": "2025-06-09T07:39:29.102Z"
   },
   {
    "duration": 17,
    "start_time": "2025-06-09T07:39:29.123Z"
   },
   {
    "duration": 713,
    "start_time": "2025-06-09T07:39:29.143Z"
   },
   {
    "duration": 22,
    "start_time": "2025-06-09T07:39:29.857Z"
   },
   {
    "duration": 13,
    "start_time": "2025-06-09T07:39:29.881Z"
   },
   {
    "duration": 423,
    "start_time": "2025-06-09T07:39:29.895Z"
   },
   {
    "duration": 13,
    "start_time": "2025-06-09T07:39:30.320Z"
   },
   {
    "duration": 8727,
    "start_time": "2025-06-09T07:39:30.335Z"
   },
   {
    "duration": 13,
    "start_time": "2025-06-09T07:39:39.064Z"
   },
   {
    "duration": 2400,
    "start_time": "2025-06-09T07:39:39.079Z"
   },
   {
    "duration": 416,
    "start_time": "2025-06-09T07:39:41.481Z"
   },
   {
    "duration": 36,
    "start_time": "2025-06-09T07:39:41.899Z"
   },
   {
    "duration": 11,
    "start_time": "2025-06-09T07:39:41.937Z"
   },
   {
    "duration": 217,
    "start_time": "2025-06-09T07:39:41.950Z"
   },
   {
    "duration": 17,
    "start_time": "2025-06-09T07:39:42.176Z"
   },
   {
    "duration": 22,
    "start_time": "2025-06-09T07:39:42.195Z"
   },
   {
    "duration": 160,
    "start_time": "2025-06-09T07:39:42.218Z"
   },
   {
    "duration": 18,
    "start_time": "2025-06-09T07:39:42.380Z"
   },
   {
    "duration": 155,
    "start_time": "2025-06-09T07:39:42.400Z"
   },
   {
    "duration": 19,
    "start_time": "2025-06-09T07:39:42.557Z"
   },
   {
    "duration": 181,
    "start_time": "2025-06-09T07:39:42.578Z"
   },
   {
    "duration": 17,
    "start_time": "2025-06-09T07:39:42.761Z"
   },
   {
    "duration": 48,
    "start_time": "2025-06-09T07:39:42.780Z"
   },
   {
    "duration": 24,
    "start_time": "2025-06-09T07:39:42.830Z"
   },
   {
    "duration": 7,
    "start_time": "2025-06-09T07:46:22.187Z"
   },
   {
    "duration": 2696,
    "start_time": "2025-06-09T07:47:21.756Z"
   },
   {
    "duration": 6,
    "start_time": "2025-06-09T07:47:24.455Z"
   },
   {
    "duration": 82,
    "start_time": "2025-06-09T07:47:24.463Z"
   },
   {
    "duration": 26,
    "start_time": "2025-06-09T07:47:24.546Z"
   },
   {
    "duration": 16,
    "start_time": "2025-06-09T07:47:24.575Z"
   },
   {
    "duration": 31,
    "start_time": "2025-06-09T07:47:24.594Z"
   },
   {
    "duration": 21,
    "start_time": "2025-06-09T07:47:24.626Z"
   },
   {
    "duration": 4,
    "start_time": "2025-06-09T07:47:24.649Z"
   },
   {
    "duration": 26,
    "start_time": "2025-06-09T07:47:24.655Z"
   },
   {
    "duration": 601,
    "start_time": "2025-06-09T07:47:24.682Z"
   },
   {
    "duration": 8,
    "start_time": "2025-06-09T07:47:25.285Z"
   },
   {
    "duration": 22,
    "start_time": "2025-06-09T07:47:25.295Z"
   },
   {
    "duration": 8,
    "start_time": "2025-06-09T07:47:25.318Z"
   },
   {
    "duration": 18,
    "start_time": "2025-06-09T07:47:25.329Z"
   },
   {
    "duration": 710,
    "start_time": "2025-06-09T07:47:25.349Z"
   },
   {
    "duration": 31,
    "start_time": "2025-06-09T07:47:26.061Z"
   },
   {
    "duration": 116,
    "start_time": "2025-06-09T07:47:26.094Z"
   },
   {
    "duration": 419,
    "start_time": "2025-06-09T07:47:26.212Z"
   },
   {
    "duration": 15,
    "start_time": "2025-06-09T07:47:26.633Z"
   },
   {
    "duration": 8709,
    "start_time": "2025-06-09T07:47:26.650Z"
   },
   {
    "duration": 4,
    "start_time": "2025-06-09T07:47:35.361Z"
   },
   {
    "duration": 2574,
    "start_time": "2025-06-09T07:47:35.367Z"
   },
   {
    "duration": 424,
    "start_time": "2025-06-09T07:47:37.943Z"
   },
   {
    "duration": 39,
    "start_time": "2025-06-09T07:47:38.369Z"
   },
   {
    "duration": 9,
    "start_time": "2025-06-09T07:47:38.410Z"
   },
   {
    "duration": 169,
    "start_time": "2025-06-09T07:47:38.421Z"
   },
   {
    "duration": 17,
    "start_time": "2025-06-09T07:47:38.591Z"
   },
   {
    "duration": 56,
    "start_time": "2025-06-09T07:47:38.609Z"
   },
   {
    "duration": 166,
    "start_time": "2025-06-09T07:47:38.666Z"
   },
   {
    "duration": 18,
    "start_time": "2025-06-09T07:47:38.833Z"
   },
   {
    "duration": 149,
    "start_time": "2025-06-09T07:47:38.853Z"
   },
   {
    "duration": 10,
    "start_time": "2025-06-09T07:47:39.004Z"
   },
   {
    "duration": 163,
    "start_time": "2025-06-09T07:47:39.015Z"
   },
   {
    "duration": 16,
    "start_time": "2025-06-09T07:47:39.180Z"
   },
   {
    "duration": 38,
    "start_time": "2025-06-09T07:47:39.197Z"
   },
   {
    "duration": 43,
    "start_time": "2025-06-09T07:47:39.237Z"
   },
   {
    "duration": 469,
    "start_time": "2025-06-09T07:50:39.666Z"
   },
   {
    "duration": 410,
    "start_time": "2025-06-09T07:51:07.027Z"
   },
   {
    "duration": 309,
    "start_time": "2025-06-09T07:51:47.835Z"
   },
   {
    "duration": 297,
    "start_time": "2025-06-09T07:52:08.836Z"
   },
   {
    "duration": 284,
    "start_time": "2025-06-09T07:52:20.335Z"
   },
   {
    "duration": 409,
    "start_time": "2025-06-09T07:54:07.386Z"
   },
   {
    "duration": 434,
    "start_time": "2025-06-09T07:54:23.608Z"
   },
   {
    "duration": 4104,
    "start_time": "2025-06-09T09:32:04.973Z"
   },
   {
    "duration": 1538,
    "start_time": "2025-06-09T09:32:09.080Z"
   },
   {
    "duration": 149,
    "start_time": "2025-06-09T09:32:10.620Z"
   },
   {
    "duration": 29,
    "start_time": "2025-06-09T09:32:10.771Z"
   },
   {
    "duration": 4,
    "start_time": "2025-06-09T09:32:10.803Z"
   },
   {
    "duration": 50,
    "start_time": "2025-06-09T09:32:10.809Z"
   },
   {
    "duration": 31,
    "start_time": "2025-06-09T09:32:10.861Z"
   },
   {
    "duration": 5,
    "start_time": "2025-06-09T09:32:10.893Z"
   },
   {
    "duration": 36,
    "start_time": "2025-06-09T09:32:10.900Z"
   },
   {
    "duration": 649,
    "start_time": "2025-06-09T09:32:10.937Z"
   },
   {
    "duration": 9,
    "start_time": "2025-06-09T09:32:11.588Z"
   },
   {
    "duration": 20,
    "start_time": "2025-06-09T09:32:11.599Z"
   },
   {
    "duration": 19,
    "start_time": "2025-06-09T09:32:11.621Z"
   },
   {
    "duration": 36,
    "start_time": "2025-06-09T09:32:11.643Z"
   },
   {
    "duration": 725,
    "start_time": "2025-06-09T09:32:11.681Z"
   },
   {
    "duration": 22,
    "start_time": "2025-06-09T09:32:12.407Z"
   },
   {
    "duration": 55,
    "start_time": "2025-06-09T09:32:12.431Z"
   },
   {
    "duration": 446,
    "start_time": "2025-06-09T09:32:12.488Z"
   },
   {
    "duration": 25,
    "start_time": "2025-06-09T09:32:12.936Z"
   },
   {
    "duration": 8473,
    "start_time": "2025-06-09T09:32:12.963Z"
   },
   {
    "duration": 5,
    "start_time": "2025-06-09T09:32:21.438Z"
   },
   {
    "duration": 2578,
    "start_time": "2025-06-09T09:32:21.445Z"
   },
   {
    "duration": 453,
    "start_time": "2025-06-09T09:32:24.025Z"
   },
   {
    "duration": 38,
    "start_time": "2025-06-09T09:32:24.480Z"
   },
   {
    "duration": 35,
    "start_time": "2025-06-09T09:32:24.520Z"
   },
   {
    "duration": 191,
    "start_time": "2025-06-09T09:32:24.557Z"
   },
   {
    "duration": 32,
    "start_time": "2025-06-09T09:32:24.751Z"
   },
   {
    "duration": 33,
    "start_time": "2025-06-09T09:32:24.786Z"
   },
   {
    "duration": 188,
    "start_time": "2025-06-09T09:32:24.821Z"
   },
   {
    "duration": 27,
    "start_time": "2025-06-09T09:32:25.011Z"
   },
   {
    "duration": 326,
    "start_time": "2025-06-09T09:32:25.041Z"
   },
   {
    "duration": 12,
    "start_time": "2025-06-09T09:32:25.369Z"
   },
   {
    "duration": 210,
    "start_time": "2025-06-09T09:32:25.383Z"
   },
   {
    "duration": 19,
    "start_time": "2025-06-09T09:32:25.595Z"
   },
   {
    "duration": 62,
    "start_time": "2025-06-09T09:32:25.616Z"
   },
   {
    "duration": 27,
    "start_time": "2025-06-09T09:32:25.680Z"
   },
   {
    "duration": 2652,
    "start_time": "2025-06-09T09:35:38.695Z"
   },
   {
    "duration": 6,
    "start_time": "2025-06-09T09:35:41.350Z"
   },
   {
    "duration": 70,
    "start_time": "2025-06-09T09:35:41.357Z"
   },
   {
    "duration": 25,
    "start_time": "2025-06-09T09:35:41.429Z"
   },
   {
    "duration": 5,
    "start_time": "2025-06-09T09:35:41.456Z"
   },
   {
    "duration": 48,
    "start_time": "2025-06-09T09:35:41.463Z"
   },
   {
    "duration": 27,
    "start_time": "2025-06-09T09:35:41.513Z"
   },
   {
    "duration": 5,
    "start_time": "2025-06-09T09:35:41.541Z"
   },
   {
    "duration": 11,
    "start_time": "2025-06-09T09:35:41.547Z"
   },
   {
    "duration": 624,
    "start_time": "2025-06-09T09:35:41.560Z"
   },
   {
    "duration": 11,
    "start_time": "2025-06-09T09:35:42.187Z"
   },
   {
    "duration": 32,
    "start_time": "2025-06-09T09:35:42.200Z"
   },
   {
    "duration": 32,
    "start_time": "2025-06-09T09:35:42.234Z"
   },
   {
    "duration": 24,
    "start_time": "2025-06-09T09:35:42.271Z"
   },
   {
    "duration": 755,
    "start_time": "2025-06-09T09:35:42.297Z"
   },
   {
    "duration": 35,
    "start_time": "2025-06-09T09:35:43.055Z"
   },
   {
    "duration": 18,
    "start_time": "2025-06-09T09:35:43.093Z"
   },
   {
    "duration": 470,
    "start_time": "2025-06-09T09:35:43.114Z"
   },
   {
    "duration": 120,
    "start_time": "2025-06-09T09:35:43.586Z"
   },
   {
    "duration": 0,
    "start_time": "2025-06-09T09:35:43.708Z"
   },
   {
    "duration": 0,
    "start_time": "2025-06-09T09:35:43.709Z"
   },
   {
    "duration": 0,
    "start_time": "2025-06-09T09:35:43.710Z"
   },
   {
    "duration": 0,
    "start_time": "2025-06-09T09:35:43.711Z"
   },
   {
    "duration": 0,
    "start_time": "2025-06-09T09:35:43.713Z"
   },
   {
    "duration": 0,
    "start_time": "2025-06-09T09:35:43.714Z"
   },
   {
    "duration": 0,
    "start_time": "2025-06-09T09:35:43.715Z"
   },
   {
    "duration": 0,
    "start_time": "2025-06-09T09:35:43.716Z"
   },
   {
    "duration": 0,
    "start_time": "2025-06-09T09:35:43.717Z"
   },
   {
    "duration": 0,
    "start_time": "2025-06-09T09:35:43.719Z"
   },
   {
    "duration": 0,
    "start_time": "2025-06-09T09:35:43.720Z"
   },
   {
    "duration": 0,
    "start_time": "2025-06-09T09:35:43.721Z"
   },
   {
    "duration": 0,
    "start_time": "2025-06-09T09:35:43.722Z"
   },
   {
    "duration": 0,
    "start_time": "2025-06-09T09:35:43.723Z"
   },
   {
    "duration": 0,
    "start_time": "2025-06-09T09:35:43.724Z"
   },
   {
    "duration": 0,
    "start_time": "2025-06-09T09:35:43.726Z"
   },
   {
    "duration": 0,
    "start_time": "2025-06-09T09:35:43.761Z"
   },
   {
    "duration": 2673,
    "start_time": "2025-06-09T09:36:12.892Z"
   },
   {
    "duration": 7,
    "start_time": "2025-06-09T09:36:15.569Z"
   },
   {
    "duration": 83,
    "start_time": "2025-06-09T09:36:15.578Z"
   },
   {
    "duration": 28,
    "start_time": "2025-06-09T09:36:15.663Z"
   },
   {
    "duration": 5,
    "start_time": "2025-06-09T09:36:15.693Z"
   },
   {
    "duration": 26,
    "start_time": "2025-06-09T09:36:15.699Z"
   },
   {
    "duration": 38,
    "start_time": "2025-06-09T09:36:15.727Z"
   },
   {
    "duration": 79,
    "start_time": "2025-06-09T09:36:15.767Z"
   },
   {
    "duration": 48,
    "start_time": "2025-06-09T09:36:15.848Z"
   },
   {
    "duration": 682,
    "start_time": "2025-06-09T09:36:15.898Z"
   },
   {
    "duration": 9,
    "start_time": "2025-06-09T09:36:16.582Z"
   },
   {
    "duration": 49,
    "start_time": "2025-06-09T09:36:16.593Z"
   },
   {
    "duration": 30,
    "start_time": "2025-06-09T09:36:16.644Z"
   },
   {
    "duration": 40,
    "start_time": "2025-06-09T09:36:16.678Z"
   },
   {
    "duration": 722,
    "start_time": "2025-06-09T09:36:16.719Z"
   },
   {
    "duration": 48,
    "start_time": "2025-06-09T09:36:17.443Z"
   },
   {
    "duration": 23,
    "start_time": "2025-06-09T09:36:17.494Z"
   },
   {
    "duration": 464,
    "start_time": "2025-06-09T09:36:17.519Z"
   },
   {
    "duration": 13,
    "start_time": "2025-06-09T09:36:17.985Z"
   },
   {
    "duration": 9675,
    "start_time": "2025-06-09T09:36:18.000Z"
   },
   {
    "duration": 5,
    "start_time": "2025-06-09T09:36:27.678Z"
   },
   {
    "duration": 2530,
    "start_time": "2025-06-09T09:36:27.685Z"
   },
   {
    "duration": 486,
    "start_time": "2025-06-09T09:36:30.217Z"
   },
   {
    "duration": 34,
    "start_time": "2025-06-09T09:36:30.706Z"
   },
   {
    "duration": 26,
    "start_time": "2025-06-09T09:36:30.742Z"
   },
   {
    "duration": 211,
    "start_time": "2025-06-09T09:36:30.770Z"
   },
   {
    "duration": 17,
    "start_time": "2025-06-09T09:36:30.983Z"
   },
   {
    "duration": 35,
    "start_time": "2025-06-09T09:36:31.002Z"
   },
   {
    "duration": 168,
    "start_time": "2025-06-09T09:36:31.039Z"
   },
   {
    "duration": 19,
    "start_time": "2025-06-09T09:36:31.209Z"
   },
   {
    "duration": 158,
    "start_time": "2025-06-09T09:36:31.230Z"
   },
   {
    "duration": 11,
    "start_time": "2025-06-09T09:36:31.390Z"
   },
   {
    "duration": 192,
    "start_time": "2025-06-09T09:36:31.403Z"
   },
   {
    "duration": 17,
    "start_time": "2025-06-09T09:36:31.597Z"
   },
   {
    "duration": 61,
    "start_time": "2025-06-09T09:36:31.616Z"
   },
   {
    "duration": 34,
    "start_time": "2025-06-09T09:36:31.678Z"
   },
   {
    "duration": 2304,
    "start_time": "2025-06-09T09:39:52.531Z"
   },
   {
    "duration": 2447,
    "start_time": "2025-06-09T09:40:39.539Z"
   },
   {
    "duration": 2403,
    "start_time": "2025-06-09T09:42:45.598Z"
   },
   {
    "duration": 2777,
    "start_time": "2025-06-09T09:43:03.100Z"
   },
   {
    "duration": 2374,
    "start_time": "2025-06-09T09:43:17.567Z"
   },
   {
    "duration": 2358,
    "start_time": "2025-06-09T09:43:30.431Z"
   },
   {
    "duration": 2409,
    "start_time": "2025-06-09T09:45:35.220Z"
   },
   {
    "duration": 2587,
    "start_time": "2025-06-09T09:45:59.529Z"
   },
   {
    "duration": 2395,
    "start_time": "2025-06-09T09:46:16.520Z"
   },
   {
    "duration": 2328,
    "start_time": "2025-06-09T09:47:26.098Z"
   },
   {
    "duration": 2349,
    "start_time": "2025-06-09T09:47:42.805Z"
   },
   {
    "duration": 2410,
    "start_time": "2025-06-09T09:48:06.473Z"
   },
   {
    "duration": 2321,
    "start_time": "2025-06-09T09:48:16.788Z"
   },
   {
    "duration": 2236,
    "start_time": "2025-06-09T09:48:30.863Z"
   },
   {
    "duration": 33,
    "start_time": "2025-06-09T09:52:19.927Z"
   },
   {
    "duration": 3747,
    "start_time": "2025-06-09T15:08:13.159Z"
   },
   {
    "duration": 1541,
    "start_time": "2025-06-09T15:08:16.908Z"
   },
   {
    "duration": 119,
    "start_time": "2025-06-09T15:08:18.450Z"
   },
   {
    "duration": 32,
    "start_time": "2025-06-09T15:08:18.571Z"
   },
   {
    "duration": 4,
    "start_time": "2025-06-09T15:08:18.604Z"
   },
   {
    "duration": 15,
    "start_time": "2025-06-09T15:08:18.610Z"
   },
   {
    "duration": 59,
    "start_time": "2025-06-09T15:08:18.627Z"
   },
   {
    "duration": 12,
    "start_time": "2025-06-09T15:08:18.688Z"
   },
   {
    "duration": 20,
    "start_time": "2025-06-09T15:08:18.702Z"
   },
   {
    "duration": 686,
    "start_time": "2025-06-09T15:08:18.724Z"
   },
   {
    "duration": 10,
    "start_time": "2025-06-09T15:08:19.413Z"
   },
   {
    "duration": 20,
    "start_time": "2025-06-09T15:08:19.424Z"
   },
   {
    "duration": 9,
    "start_time": "2025-06-09T15:08:19.461Z"
   },
   {
    "duration": 19,
    "start_time": "2025-06-09T15:08:19.475Z"
   },
   {
    "duration": 799,
    "start_time": "2025-06-09T15:08:19.496Z"
   },
   {
    "duration": 23,
    "start_time": "2025-06-09T15:08:20.297Z"
   },
   {
    "duration": 55,
    "start_time": "2025-06-09T15:08:20.323Z"
   },
   {
    "duration": 464,
    "start_time": "2025-06-09T15:08:20.380Z"
   },
   {
    "duration": 28,
    "start_time": "2025-06-09T15:08:20.846Z"
   },
   {
    "duration": 8599,
    "start_time": "2025-06-09T15:08:20.879Z"
   },
   {
    "duration": 5,
    "start_time": "2025-06-09T15:08:29.480Z"
   },
   {
    "duration": 2592,
    "start_time": "2025-06-09T15:08:29.487Z"
   },
   {
    "duration": 517,
    "start_time": "2025-06-09T15:08:32.081Z"
   },
   {
    "duration": 48,
    "start_time": "2025-06-09T15:08:32.600Z"
   },
   {
    "duration": 17,
    "start_time": "2025-06-09T15:08:32.664Z"
   },
   {
    "duration": 204,
    "start_time": "2025-06-09T15:08:32.683Z"
   },
   {
    "duration": 19,
    "start_time": "2025-06-09T15:08:32.888Z"
   },
   {
    "duration": 11,
    "start_time": "2025-06-09T15:08:32.910Z"
   },
   {
    "duration": 644,
    "start_time": "2025-06-09T15:08:32.923Z"
   },
   {
    "duration": 23,
    "start_time": "2025-06-09T15:08:33.568Z"
   },
   {
    "duration": 167,
    "start_time": "2025-06-09T15:08:33.593Z"
   },
   {
    "duration": 17,
    "start_time": "2025-06-09T15:08:33.762Z"
   },
   {
    "duration": 197,
    "start_time": "2025-06-09T15:08:33.781Z"
   },
   {
    "duration": 18,
    "start_time": "2025-06-09T15:08:33.980Z"
   },
   {
    "duration": 39,
    "start_time": "2025-06-09T15:08:34.000Z"
   },
   {
    "duration": 44,
    "start_time": "2025-06-09T15:08:34.041Z"
   },
   {
    "duration": 24,
    "start_time": "2025-06-09T15:13:55.107Z"
   },
   {
    "duration": 1209,
    "start_time": "2025-06-09T15:14:22.117Z"
   },
   {
    "duration": 87,
    "start_time": "2025-06-09T15:16:02.457Z"
   },
   {
    "duration": 27,
    "start_time": "2025-06-09T15:16:25.646Z"
   },
   {
    "duration": 2559,
    "start_time": "2025-06-09T15:18:12.958Z"
   },
   {
    "duration": 6,
    "start_time": "2025-06-09T15:18:15.519Z"
   },
   {
    "duration": 201,
    "start_time": "2025-06-09T15:18:15.526Z"
   },
   {
    "duration": 22,
    "start_time": "2025-06-09T15:18:15.729Z"
   },
   {
    "duration": 21,
    "start_time": "2025-06-09T15:18:15.753Z"
   },
   {
    "duration": 58,
    "start_time": "2025-06-09T15:18:15.776Z"
   },
   {
    "duration": 64,
    "start_time": "2025-06-09T15:18:15.835Z"
   },
   {
    "duration": 23,
    "start_time": "2025-06-09T15:18:15.900Z"
   },
   {
    "duration": 24,
    "start_time": "2025-06-09T15:18:15.925Z"
   },
   {
    "duration": 633,
    "start_time": "2025-06-09T15:18:15.951Z"
   },
   {
    "duration": 9,
    "start_time": "2025-06-09T15:18:16.585Z"
   },
   {
    "duration": 36,
    "start_time": "2025-06-09T15:18:16.595Z"
   },
   {
    "duration": 15,
    "start_time": "2025-06-09T15:18:16.632Z"
   },
   {
    "duration": 37,
    "start_time": "2025-06-09T15:18:16.650Z"
   },
   {
    "duration": 140,
    "start_time": "2025-06-09T15:18:16.688Z"
   },
   {
    "duration": 1110,
    "start_time": "2025-06-09T15:18:16.830Z"
   },
   {
    "duration": 31,
    "start_time": "2025-06-09T15:18:17.942Z"
   },
   {
    "duration": 467,
    "start_time": "2025-06-09T15:18:17.976Z"
   },
   {
    "duration": 30,
    "start_time": "2025-06-09T15:18:18.445Z"
   },
   {
    "duration": 7934,
    "start_time": "2025-06-09T15:18:18.477Z"
   },
   {
    "duration": 3,
    "start_time": "2025-06-09T15:18:26.413Z"
   },
   {
    "duration": 2479,
    "start_time": "2025-06-09T15:18:26.418Z"
   },
   {
    "duration": 462,
    "start_time": "2025-06-09T15:18:28.898Z"
   },
   {
    "duration": 501,
    "start_time": "2025-06-09T15:18:29.368Z"
   },
   {
    "duration": 14,
    "start_time": "2025-06-09T15:18:29.871Z"
   },
   {
    "duration": 193,
    "start_time": "2025-06-09T15:18:29.886Z"
   },
   {
    "duration": 20,
    "start_time": "2025-06-09T15:18:30.082Z"
   },
   {
    "duration": 19,
    "start_time": "2025-06-09T15:18:30.104Z"
   },
   {
    "duration": 176,
    "start_time": "2025-06-09T15:18:30.125Z"
   },
   {
    "duration": 18,
    "start_time": "2025-06-09T15:18:30.303Z"
   },
   {
    "duration": 188,
    "start_time": "2025-06-09T15:18:30.322Z"
   },
   {
    "duration": 11,
    "start_time": "2025-06-09T15:18:30.511Z"
   },
   {
    "duration": 166,
    "start_time": "2025-06-09T15:18:30.524Z"
   },
   {
    "duration": 16,
    "start_time": "2025-06-09T15:18:30.692Z"
   },
   {
    "duration": 130,
    "start_time": "2025-06-09T15:18:30.710Z"
   },
   {
    "duration": 54,
    "start_time": "2025-06-09T15:18:30.842Z"
   },
   {
    "duration": 4,
    "start_time": "2025-06-09T15:27:47.888Z"
   },
   {
    "duration": 106,
    "start_time": "2025-06-09T15:28:00.503Z"
   },
   {
    "duration": 14,
    "start_time": "2025-06-09T15:28:22.409Z"
   },
   {
    "duration": 2936,
    "start_time": "2025-06-09T15:29:05.550Z"
   },
   {
    "duration": 6,
    "start_time": "2025-06-09T15:29:08.489Z"
   },
   {
    "duration": 113,
    "start_time": "2025-06-09T15:29:08.497Z"
   },
   {
    "duration": 26,
    "start_time": "2025-06-09T15:29:08.612Z"
   },
   {
    "duration": 6,
    "start_time": "2025-06-09T15:29:08.640Z"
   },
   {
    "duration": 65,
    "start_time": "2025-06-09T15:29:08.648Z"
   },
   {
    "duration": 151,
    "start_time": "2025-06-09T15:29:08.715Z"
   },
   {
    "duration": 5,
    "start_time": "2025-06-09T15:29:08.867Z"
   },
   {
    "duration": 16,
    "start_time": "2025-06-09T15:29:08.873Z"
   },
   {
    "duration": 679,
    "start_time": "2025-06-09T15:29:08.892Z"
   },
   {
    "duration": 8,
    "start_time": "2025-06-09T15:29:09.573Z"
   },
   {
    "duration": 26,
    "start_time": "2025-06-09T15:29:09.583Z"
   },
   {
    "duration": 25,
    "start_time": "2025-06-09T15:29:09.611Z"
   },
   {
    "duration": 104,
    "start_time": "2025-06-09T15:29:09.638Z"
   },
   {
    "duration": 22,
    "start_time": "2025-06-09T15:29:09.743Z"
   },
   {
    "duration": 1122,
    "start_time": "2025-06-09T15:29:09.767Z"
   },
   {
    "duration": 16,
    "start_time": "2025-06-09T15:29:10.891Z"
   },
   {
    "duration": 422,
    "start_time": "2025-06-09T15:29:10.909Z"
   },
   {
    "duration": 14,
    "start_time": "2025-06-09T15:29:11.333Z"
   },
   {
    "duration": 8929,
    "start_time": "2025-06-09T15:29:11.363Z"
   },
   {
    "duration": 4,
    "start_time": "2025-06-09T15:29:20.293Z"
   },
   {
    "duration": 2419,
    "start_time": "2025-06-09T15:29:20.299Z"
   },
   {
    "duration": 13,
    "start_time": "2025-06-09T15:29:22.719Z"
   },
   {
    "duration": 559,
    "start_time": "2025-06-09T15:29:22.734Z"
   },
   {
    "duration": 512,
    "start_time": "2025-06-09T15:29:23.295Z"
   },
   {
    "duration": 11,
    "start_time": "2025-06-09T15:29:23.808Z"
   },
   {
    "duration": 216,
    "start_time": "2025-06-09T15:29:23.821Z"
   },
   {
    "duration": 41,
    "start_time": "2025-06-09T15:29:24.041Z"
   },
   {
    "duration": 12,
    "start_time": "2025-06-09T15:29:24.084Z"
   },
   {
    "duration": 221,
    "start_time": "2025-06-09T15:29:24.098Z"
   },
   {
    "duration": 20,
    "start_time": "2025-06-09T15:29:24.321Z"
   },
   {
    "duration": 212,
    "start_time": "2025-06-09T15:29:24.343Z"
   },
   {
    "duration": 12,
    "start_time": "2025-06-09T15:29:24.561Z"
   },
   {
    "duration": 167,
    "start_time": "2025-06-09T15:29:24.575Z"
   },
   {
    "duration": 49,
    "start_time": "2025-06-09T15:29:24.744Z"
   },
   {
    "duration": 0,
    "start_time": "2025-06-09T15:29:24.795Z"
   },
   {
    "duration": 0,
    "start_time": "2025-06-09T15:29:24.796Z"
   },
   {
    "duration": 14,
    "start_time": "2025-06-09T15:29:38.356Z"
   },
   {
    "duration": 2652,
    "start_time": "2025-06-09T15:29:48.607Z"
   },
   {
    "duration": 7,
    "start_time": "2025-06-09T15:29:51.262Z"
   },
   {
    "duration": 282,
    "start_time": "2025-06-09T15:29:51.271Z"
   },
   {
    "duration": 26,
    "start_time": "2025-06-09T15:29:51.555Z"
   },
   {
    "duration": 9,
    "start_time": "2025-06-09T15:29:51.585Z"
   },
   {
    "duration": 41,
    "start_time": "2025-06-09T15:29:51.595Z"
   },
   {
    "duration": 26,
    "start_time": "2025-06-09T15:29:51.638Z"
   },
   {
    "duration": 4,
    "start_time": "2025-06-09T15:29:51.666Z"
   },
   {
    "duration": 18,
    "start_time": "2025-06-09T15:29:51.672Z"
   },
   {
    "duration": 689,
    "start_time": "2025-06-09T15:29:51.692Z"
   },
   {
    "duration": 9,
    "start_time": "2025-06-09T15:29:52.383Z"
   },
   {
    "duration": 26,
    "start_time": "2025-06-09T15:29:52.394Z"
   },
   {
    "duration": 99,
    "start_time": "2025-06-09T15:29:52.423Z"
   },
   {
    "duration": 41,
    "start_time": "2025-06-09T15:29:52.526Z"
   },
   {
    "duration": 31,
    "start_time": "2025-06-09T15:29:52.569Z"
   },
   {
    "duration": 1167,
    "start_time": "2025-06-09T15:29:52.602Z"
   },
   {
    "duration": 15,
    "start_time": "2025-06-09T15:29:53.771Z"
   },
   {
    "duration": 450,
    "start_time": "2025-06-09T15:29:53.788Z"
   },
   {
    "duration": 29,
    "start_time": "2025-06-09T15:29:54.240Z"
   },
   {
    "duration": 8686,
    "start_time": "2025-06-09T15:29:54.271Z"
   },
   {
    "duration": 5,
    "start_time": "2025-06-09T15:30:02.963Z"
   },
   {
    "duration": 2395,
    "start_time": "2025-06-09T15:30:02.970Z"
   },
   {
    "duration": 5,
    "start_time": "2025-06-09T15:30:05.368Z"
   },
   {
    "duration": 510,
    "start_time": "2025-06-09T15:30:05.376Z"
   },
   {
    "duration": 499,
    "start_time": "2025-06-09T15:30:05.888Z"
   },
   {
    "duration": 12,
    "start_time": "2025-06-09T15:30:06.389Z"
   },
   {
    "duration": 254,
    "start_time": "2025-06-09T15:30:06.403Z"
   },
   {
    "duration": 18,
    "start_time": "2025-06-09T15:30:06.659Z"
   },
   {
    "duration": 41,
    "start_time": "2025-06-09T15:30:06.679Z"
   },
   {
    "duration": 268,
    "start_time": "2025-06-09T15:30:06.722Z"
   },
   {
    "duration": 18,
    "start_time": "2025-06-09T15:30:06.992Z"
   },
   {
    "duration": 182,
    "start_time": "2025-06-09T15:30:07.012Z"
   },
   {
    "duration": 10,
    "start_time": "2025-06-09T15:30:07.196Z"
   },
   {
    "duration": 160,
    "start_time": "2025-06-09T15:30:07.208Z"
   },
   {
    "duration": 34,
    "start_time": "2025-06-09T15:30:07.370Z"
   },
   {
    "duration": 0,
    "start_time": "2025-06-09T15:30:07.406Z"
   },
   {
    "duration": 0,
    "start_time": "2025-06-09T15:30:07.408Z"
   },
   {
    "duration": 14,
    "start_time": "2025-06-09T15:30:40.740Z"
   },
   {
    "duration": 3041,
    "start_time": "2025-06-09T15:30:54.346Z"
   },
   {
    "duration": 6,
    "start_time": "2025-06-09T15:30:57.390Z"
   },
   {
    "duration": 117,
    "start_time": "2025-06-09T15:30:57.398Z"
   },
   {
    "duration": 63,
    "start_time": "2025-06-09T15:30:57.517Z"
   },
   {
    "duration": 5,
    "start_time": "2025-06-09T15:30:57.582Z"
   },
   {
    "duration": 74,
    "start_time": "2025-06-09T15:30:57.588Z"
   },
   {
    "duration": 23,
    "start_time": "2025-06-09T15:30:57.665Z"
   },
   {
    "duration": 10,
    "start_time": "2025-06-09T15:30:57.690Z"
   },
   {
    "duration": 63,
    "start_time": "2025-06-09T15:30:57.702Z"
   },
   {
    "duration": 730,
    "start_time": "2025-06-09T15:30:57.767Z"
   },
   {
    "duration": 9,
    "start_time": "2025-06-09T15:30:58.499Z"
   },
   {
    "duration": 59,
    "start_time": "2025-06-09T15:30:58.511Z"
   },
   {
    "duration": 42,
    "start_time": "2025-06-09T15:30:58.572Z"
   },
   {
    "duration": 173,
    "start_time": "2025-06-09T15:30:58.618Z"
   },
   {
    "duration": 101,
    "start_time": "2025-06-09T15:30:58.793Z"
   },
   {
    "duration": 1177,
    "start_time": "2025-06-09T15:30:58.896Z"
   },
   {
    "duration": 16,
    "start_time": "2025-06-09T15:31:00.075Z"
   },
   {
    "duration": 448,
    "start_time": "2025-06-09T15:31:00.093Z"
   },
   {
    "duration": 28,
    "start_time": "2025-06-09T15:31:00.543Z"
   },
   {
    "duration": 7907,
    "start_time": "2025-06-09T15:31:00.573Z"
   },
   {
    "duration": 4,
    "start_time": "2025-06-09T15:31:08.482Z"
   },
   {
    "duration": 2516,
    "start_time": "2025-06-09T15:31:08.487Z"
   },
   {
    "duration": 5,
    "start_time": "2025-06-09T15:31:11.005Z"
   },
   {
    "duration": 457,
    "start_time": "2025-06-09T15:31:11.012Z"
   },
   {
    "duration": 591,
    "start_time": "2025-06-09T15:31:11.472Z"
   },
   {
    "duration": 11,
    "start_time": "2025-06-09T15:31:12.065Z"
   },
   {
    "duration": 384,
    "start_time": "2025-06-09T15:31:12.078Z"
   },
   {
    "duration": 20,
    "start_time": "2025-06-09T15:31:12.464Z"
   },
   {
    "duration": 85,
    "start_time": "2025-06-09T15:31:12.486Z"
   },
   {
    "duration": 397,
    "start_time": "2025-06-09T15:31:12.573Z"
   },
   {
    "duration": 20,
    "start_time": "2025-06-09T15:31:12.972Z"
   },
   {
    "duration": 388,
    "start_time": "2025-06-09T15:31:12.995Z"
   },
   {
    "duration": 10,
    "start_time": "2025-06-09T15:31:13.385Z"
   },
   {
    "duration": 234,
    "start_time": "2025-06-09T15:31:13.397Z"
   },
   {
    "duration": 43,
    "start_time": "2025-06-09T15:31:13.633Z"
   },
   {
    "duration": 1,
    "start_time": "2025-06-09T15:31:13.678Z"
   },
   {
    "duration": 0,
    "start_time": "2025-06-09T15:31:13.680Z"
   },
   {
    "duration": 2689,
    "start_time": "2025-06-09T15:31:30.287Z"
   },
   {
    "duration": 7,
    "start_time": "2025-06-09T15:31:32.979Z"
   },
   {
    "duration": 99,
    "start_time": "2025-06-09T15:31:32.988Z"
   },
   {
    "duration": 29,
    "start_time": "2025-06-09T15:31:33.089Z"
   },
   {
    "duration": 5,
    "start_time": "2025-06-09T15:31:33.121Z"
   },
   {
    "duration": 26,
    "start_time": "2025-06-09T15:31:33.128Z"
   },
   {
    "duration": 27,
    "start_time": "2025-06-09T15:31:33.164Z"
   },
   {
    "duration": 15,
    "start_time": "2025-06-09T15:31:33.193Z"
   },
   {
    "duration": 18,
    "start_time": "2025-06-09T15:31:33.210Z"
   },
   {
    "duration": 657,
    "start_time": "2025-06-09T15:31:33.229Z"
   },
   {
    "duration": 10,
    "start_time": "2025-06-09T15:31:33.889Z"
   },
   {
    "duration": 50,
    "start_time": "2025-06-09T15:31:33.901Z"
   },
   {
    "duration": 23,
    "start_time": "2025-06-09T15:31:33.953Z"
   },
   {
    "duration": 46,
    "start_time": "2025-06-09T15:31:33.980Z"
   },
   {
    "duration": 37,
    "start_time": "2025-06-09T15:31:34.028Z"
   },
   {
    "duration": 1241,
    "start_time": "2025-06-09T15:31:34.067Z"
   },
   {
    "duration": 15,
    "start_time": "2025-06-09T15:31:35.310Z"
   },
   {
    "duration": 559,
    "start_time": "2025-06-09T15:31:35.326Z"
   },
   {
    "duration": 14,
    "start_time": "2025-06-09T15:31:35.886Z"
   },
   {
    "duration": 9044,
    "start_time": "2025-06-09T15:31:35.902Z"
   },
   {
    "duration": 17,
    "start_time": "2025-06-09T15:31:44.947Z"
   },
   {
    "duration": 2400,
    "start_time": "2025-06-09T15:31:44.966Z"
   },
   {
    "duration": 5,
    "start_time": "2025-06-09T15:31:47.367Z"
   },
   {
    "duration": 489,
    "start_time": "2025-06-09T15:31:47.373Z"
   },
   {
    "duration": 37,
    "start_time": "2025-06-09T15:31:47.864Z"
   },
   {
    "duration": 10,
    "start_time": "2025-06-09T15:31:47.903Z"
   },
   {
    "duration": 211,
    "start_time": "2025-06-09T15:31:47.915Z"
   },
   {
    "duration": 18,
    "start_time": "2025-06-09T15:31:48.127Z"
   },
   {
    "duration": 19,
    "start_time": "2025-06-09T15:31:48.162Z"
   },
   {
    "duration": 680,
    "start_time": "2025-06-09T15:31:48.183Z"
   },
   {
    "duration": 20,
    "start_time": "2025-06-09T15:31:48.865Z"
   },
   {
    "duration": 173,
    "start_time": "2025-06-09T15:31:48.887Z"
   },
   {
    "duration": 11,
    "start_time": "2025-06-09T15:31:49.062Z"
   },
   {
    "duration": 211,
    "start_time": "2025-06-09T15:31:49.075Z"
   },
   {
    "duration": 34,
    "start_time": "2025-06-09T15:31:49.288Z"
   },
   {
    "duration": 0,
    "start_time": "2025-06-09T15:31:49.324Z"
   },
   {
    "duration": 0,
    "start_time": "2025-06-09T15:31:49.325Z"
   },
   {
    "duration": 15,
    "start_time": "2025-06-09T15:32:32.136Z"
   },
   {
    "duration": 2658,
    "start_time": "2025-06-09T15:33:09.331Z"
   },
   {
    "duration": 7,
    "start_time": "2025-06-09T15:33:11.993Z"
   },
   {
    "duration": 121,
    "start_time": "2025-06-09T15:33:12.003Z"
   },
   {
    "duration": 25,
    "start_time": "2025-06-09T15:33:12.126Z"
   },
   {
    "duration": 4,
    "start_time": "2025-06-09T15:33:12.153Z"
   },
   {
    "duration": 68,
    "start_time": "2025-06-09T15:33:12.159Z"
   },
   {
    "duration": 37,
    "start_time": "2025-06-09T15:33:12.228Z"
   },
   {
    "duration": 5,
    "start_time": "2025-06-09T15:33:12.267Z"
   },
   {
    "duration": 19,
    "start_time": "2025-06-09T15:33:12.273Z"
   },
   {
    "duration": 679,
    "start_time": "2025-06-09T15:33:12.293Z"
   },
   {
    "duration": 8,
    "start_time": "2025-06-09T15:33:12.974Z"
   },
   {
    "duration": 69,
    "start_time": "2025-06-09T15:33:12.984Z"
   },
   {
    "duration": 22,
    "start_time": "2025-06-09T15:33:13.055Z"
   },
   {
    "duration": 55,
    "start_time": "2025-06-09T15:33:13.081Z"
   },
   {
    "duration": 44,
    "start_time": "2025-06-09T15:33:13.138Z"
   },
   {
    "duration": 1189,
    "start_time": "2025-06-09T15:33:13.184Z"
   },
   {
    "duration": 15,
    "start_time": "2025-06-09T15:33:14.375Z"
   },
   {
    "duration": 874,
    "start_time": "2025-06-09T15:33:14.392Z"
   },
   {
    "duration": 14,
    "start_time": "2025-06-09T15:33:15.268Z"
   },
   {
    "duration": 8520,
    "start_time": "2025-06-09T15:33:15.284Z"
   },
   {
    "duration": 4,
    "start_time": "2025-06-09T15:33:23.806Z"
   },
   {
    "duration": 2486,
    "start_time": "2025-06-09T15:33:23.811Z"
   },
   {
    "duration": 5,
    "start_time": "2025-06-09T15:33:26.298Z"
   },
   {
    "duration": 473,
    "start_time": "2025-06-09T15:33:26.305Z"
   },
   {
    "duration": 39,
    "start_time": "2025-06-09T15:33:26.780Z"
   },
   {
    "duration": 52,
    "start_time": "2025-06-09T15:33:26.821Z"
   },
   {
    "duration": 184,
    "start_time": "2025-06-09T15:33:26.874Z"
   },
   {
    "duration": 19,
    "start_time": "2025-06-09T15:33:27.059Z"
   },
   {
    "duration": 64,
    "start_time": "2025-06-09T15:33:27.080Z"
   },
   {
    "duration": 175,
    "start_time": "2025-06-09T15:33:27.146Z"
   },
   {
    "duration": 18,
    "start_time": "2025-06-09T15:33:27.323Z"
   },
   {
    "duration": 743,
    "start_time": "2025-06-09T15:33:27.343Z"
   },
   {
    "duration": 12,
    "start_time": "2025-06-09T15:33:28.088Z"
   },
   {
    "duration": 181,
    "start_time": "2025-06-09T15:33:28.101Z"
   },
   {
    "duration": 34,
    "start_time": "2025-06-09T15:33:28.284Z"
   },
   {
    "duration": 0,
    "start_time": "2025-06-09T15:33:28.320Z"
   },
   {
    "duration": 0,
    "start_time": "2025-06-09T15:33:28.321Z"
   },
   {
    "duration": 12,
    "start_time": "2025-06-09T15:33:55.562Z"
   },
   {
    "duration": 14,
    "start_time": "2025-06-09T15:35:27.287Z"
   },
   {
    "duration": 2516,
    "start_time": "2025-06-09T15:35:35.351Z"
   },
   {
    "duration": 6,
    "start_time": "2025-06-09T15:35:37.870Z"
   },
   {
    "duration": 116,
    "start_time": "2025-06-09T15:35:37.878Z"
   },
   {
    "duration": 39,
    "start_time": "2025-06-09T15:35:37.998Z"
   },
   {
    "duration": 6,
    "start_time": "2025-06-09T15:35:38.039Z"
   },
   {
    "duration": 54,
    "start_time": "2025-06-09T15:35:38.047Z"
   },
   {
    "duration": 29,
    "start_time": "2025-06-09T15:35:38.103Z"
   },
   {
    "duration": 4,
    "start_time": "2025-06-09T15:35:38.134Z"
   },
   {
    "duration": 53,
    "start_time": "2025-06-09T15:35:38.140Z"
   },
   {
    "duration": 665,
    "start_time": "2025-06-09T15:35:38.197Z"
   },
   {
    "duration": 8,
    "start_time": "2025-06-09T15:35:38.864Z"
   },
   {
    "duration": 63,
    "start_time": "2025-06-09T15:35:38.874Z"
   },
   {
    "duration": 15,
    "start_time": "2025-06-09T15:35:38.939Z"
   },
   {
    "duration": 19,
    "start_time": "2025-06-09T15:35:38.955Z"
   },
   {
    "duration": 22,
    "start_time": "2025-06-09T15:35:38.976Z"
   },
   {
    "duration": 1156,
    "start_time": "2025-06-09T15:35:39.000Z"
   },
   {
    "duration": 15,
    "start_time": "2025-06-09T15:35:40.161Z"
   },
   {
    "duration": 452,
    "start_time": "2025-06-09T15:35:40.177Z"
   },
   {
    "duration": 14,
    "start_time": "2025-06-09T15:35:40.631Z"
   },
   {
    "duration": 8383,
    "start_time": "2025-06-09T15:35:40.646Z"
   },
   {
    "duration": 4,
    "start_time": "2025-06-09T15:35:49.031Z"
   },
   {
    "duration": 2314,
    "start_time": "2025-06-09T15:35:49.036Z"
   },
   {
    "duration": 13,
    "start_time": "2025-06-09T15:35:51.352Z"
   },
   {
    "duration": 48,
    "start_time": "2025-06-09T15:35:51.366Z"
   },
   {
    "duration": 426,
    "start_time": "2025-06-09T15:35:51.416Z"
   },
   {
    "duration": 44,
    "start_time": "2025-06-09T15:35:51.844Z"
   },
   {
    "duration": 10,
    "start_time": "2025-06-09T15:35:51.890Z"
   },
   {
    "duration": 213,
    "start_time": "2025-06-09T15:35:51.904Z"
   },
   {
    "duration": 18,
    "start_time": "2025-06-09T15:35:52.119Z"
   },
   {
    "duration": 28,
    "start_time": "2025-06-09T15:35:52.138Z"
   },
   {
    "duration": 283,
    "start_time": "2025-06-09T15:35:52.168Z"
   },
   {
    "duration": 18,
    "start_time": "2025-06-09T15:35:52.453Z"
   },
   {
    "duration": 175,
    "start_time": "2025-06-09T15:35:52.473Z"
   },
   {
    "duration": 17,
    "start_time": "2025-06-09T15:35:52.650Z"
   },
   {
    "duration": 146,
    "start_time": "2025-06-09T15:35:52.670Z"
   },
   {
    "duration": 32,
    "start_time": "2025-06-09T15:35:52.818Z"
   },
   {
    "duration": 0,
    "start_time": "2025-06-09T15:35:52.862Z"
   },
   {
    "duration": 0,
    "start_time": "2025-06-09T15:35:52.863Z"
   },
   {
    "duration": 418,
    "start_time": "2025-06-09T15:40:35.000Z"
   },
   {
    "duration": 487,
    "start_time": "2025-06-09T15:43:34.189Z"
   },
   {
    "duration": 2996,
    "start_time": "2025-06-09T15:44:29.073Z"
   },
   {
    "duration": 6,
    "start_time": "2025-06-09T15:44:32.071Z"
   },
   {
    "duration": 206,
    "start_time": "2025-06-09T15:44:32.079Z"
   },
   {
    "duration": 76,
    "start_time": "2025-06-09T15:44:32.288Z"
   },
   {
    "duration": 173,
    "start_time": "2025-06-09T15:44:32.365Z"
   },
   {
    "duration": 23,
    "start_time": "2025-06-09T15:44:32.539Z"
   },
   {
    "duration": 25,
    "start_time": "2025-06-09T15:44:32.564Z"
   },
   {
    "duration": 19,
    "start_time": "2025-06-09T15:44:32.591Z"
   },
   {
    "duration": 13,
    "start_time": "2025-06-09T15:44:32.612Z"
   },
   {
    "duration": 651,
    "start_time": "2025-06-09T15:44:32.630Z"
   },
   {
    "duration": 12,
    "start_time": "2025-06-09T15:44:33.284Z"
   },
   {
    "duration": 106,
    "start_time": "2025-06-09T15:44:33.298Z"
   },
   {
    "duration": 103,
    "start_time": "2025-06-09T15:44:33.406Z"
   },
   {
    "duration": 64,
    "start_time": "2025-06-09T15:44:33.511Z"
   },
   {
    "duration": 59,
    "start_time": "2025-06-09T15:44:33.577Z"
   },
   {
    "duration": 1178,
    "start_time": "2025-06-09T15:44:33.638Z"
   },
   {
    "duration": 16,
    "start_time": "2025-06-09T15:44:34.818Z"
   },
   {
    "duration": 506,
    "start_time": "2025-06-09T15:44:34.836Z"
   },
   {
    "duration": 26,
    "start_time": "2025-06-09T15:44:35.344Z"
   },
   {
    "duration": 8653,
    "start_time": "2025-06-09T15:44:35.372Z"
   },
   {
    "duration": 3,
    "start_time": "2025-06-09T15:44:44.027Z"
   },
   {
    "duration": 2350,
    "start_time": "2025-06-09T15:44:44.032Z"
   },
   {
    "duration": 10,
    "start_time": "2025-06-09T15:44:46.384Z"
   },
   {
    "duration": 459,
    "start_time": "2025-06-09T15:44:46.395Z"
   },
   {
    "duration": 38,
    "start_time": "2025-06-09T15:44:46.856Z"
   },
   {
    "duration": 22,
    "start_time": "2025-06-09T15:44:46.895Z"
   },
   {
    "duration": 161,
    "start_time": "2025-06-09T15:44:46.919Z"
   },
   {
    "duration": 18,
    "start_time": "2025-06-09T15:44:47.084Z"
   },
   {
    "duration": 128,
    "start_time": "2025-06-09T15:44:47.103Z"
   },
   {
    "duration": 407,
    "start_time": "2025-06-09T15:44:47.232Z"
   },
   {
    "duration": 23,
    "start_time": "2025-06-09T15:44:47.641Z"
   },
   {
    "duration": 174,
    "start_time": "2025-06-09T15:44:47.666Z"
   },
   {
    "duration": 24,
    "start_time": "2025-06-09T15:44:47.842Z"
   },
   {
    "duration": 171,
    "start_time": "2025-06-09T15:44:47.868Z"
   },
   {
    "duration": 60,
    "start_time": "2025-06-09T15:44:48.042Z"
   },
   {
    "duration": 0,
    "start_time": "2025-06-09T15:44:48.104Z"
   },
   {
    "duration": 0,
    "start_time": "2025-06-09T15:44:48.105Z"
   },
   {
    "duration": 148,
    "start_time": "2025-06-09T15:47:57.498Z"
   },
   {
    "duration": 17,
    "start_time": "2025-06-09T15:55:19.140Z"
   },
   {
    "duration": 11,
    "start_time": "2025-06-09T15:57:53.343Z"
   },
   {
    "duration": 11,
    "start_time": "2025-06-09T15:58:39.050Z"
   },
   {
    "duration": 144,
    "start_time": "2025-06-09T15:58:56.145Z"
   },
   {
    "duration": 143,
    "start_time": "2025-06-09T15:59:34.740Z"
   },
   {
    "duration": 48,
    "start_time": "2025-06-09T15:59:58.392Z"
   },
   {
    "duration": 16,
    "start_time": "2025-06-09T16:00:12.296Z"
   },
   {
    "duration": 14,
    "start_time": "2025-06-09T16:01:07.543Z"
   },
   {
    "duration": 12,
    "start_time": "2025-06-09T16:02:10.034Z"
   },
   {
    "duration": 17,
    "start_time": "2025-06-09T16:03:17.107Z"
   },
   {
    "duration": 2604,
    "start_time": "2025-06-09T16:05:25.802Z"
   },
   {
    "duration": 5,
    "start_time": "2025-06-09T16:05:28.409Z"
   },
   {
    "duration": 143,
    "start_time": "2025-06-09T16:05:28.416Z"
   },
   {
    "duration": 26,
    "start_time": "2025-06-09T16:05:28.561Z"
   },
   {
    "duration": 94,
    "start_time": "2025-06-09T16:05:28.590Z"
   },
   {
    "duration": 74,
    "start_time": "2025-06-09T16:05:28.686Z"
   },
   {
    "duration": 192,
    "start_time": "2025-06-09T16:05:28.762Z"
   },
   {
    "duration": 85,
    "start_time": "2025-06-09T16:05:28.956Z"
   },
   {
    "duration": 81,
    "start_time": "2025-06-09T16:05:29.043Z"
   },
   {
    "duration": 648,
    "start_time": "2025-06-09T16:05:29.127Z"
   },
   {
    "duration": 10,
    "start_time": "2025-06-09T16:05:29.777Z"
   },
   {
    "duration": 71,
    "start_time": "2025-06-09T16:05:29.789Z"
   },
   {
    "duration": 51,
    "start_time": "2025-06-09T16:05:29.862Z"
   },
   {
    "duration": 46,
    "start_time": "2025-06-09T16:05:29.915Z"
   },
   {
    "duration": 189,
    "start_time": "2025-06-09T16:05:29.962Z"
   },
   {
    "duration": 1244,
    "start_time": "2025-06-09T16:05:30.153Z"
   },
   {
    "duration": 15,
    "start_time": "2025-06-09T16:05:31.398Z"
   },
   {
    "duration": 613,
    "start_time": "2025-06-09T16:05:31.415Z"
   },
   {
    "duration": 15,
    "start_time": "2025-06-09T16:05:32.029Z"
   },
   {
    "duration": 8451,
    "start_time": "2025-06-09T16:05:32.046Z"
   },
   {
    "duration": 4,
    "start_time": "2025-06-09T16:05:40.499Z"
   },
   {
    "duration": 2580,
    "start_time": "2025-06-09T16:05:40.505Z"
   },
   {
    "duration": 8,
    "start_time": "2025-06-09T16:05:43.087Z"
   },
   {
    "duration": 466,
    "start_time": "2025-06-09T16:05:43.096Z"
   },
   {
    "duration": 36,
    "start_time": "2025-06-09T16:05:43.564Z"
   },
   {
    "duration": 172,
    "start_time": "2025-06-09T16:05:43.602Z"
   },
   {
    "duration": 18,
    "start_time": "2025-06-09T16:05:43.776Z"
   },
   {
    "duration": 46,
    "start_time": "2025-06-09T16:05:43.797Z"
   },
   {
    "duration": 191,
    "start_time": "2025-06-09T16:05:43.845Z"
   },
   {
    "duration": 26,
    "start_time": "2025-06-09T16:05:44.037Z"
   },
   {
    "duration": 154,
    "start_time": "2025-06-09T16:05:44.065Z"
   },
   {
    "duration": 12,
    "start_time": "2025-06-09T16:05:44.220Z"
   },
   {
    "duration": 258,
    "start_time": "2025-06-09T16:05:44.234Z"
   },
   {
    "duration": 20,
    "start_time": "2025-06-09T16:05:44.495Z"
   },
   {
    "duration": 183,
    "start_time": "2025-06-09T16:05:44.517Z"
   },
   {
    "duration": 168,
    "start_time": "2025-06-09T16:05:44.702Z"
   },
   {
    "duration": 2759,
    "start_time": "2025-06-09T16:15:30.444Z"
   },
   {
    "duration": 6,
    "start_time": "2025-06-09T16:15:33.206Z"
   },
   {
    "duration": 125,
    "start_time": "2025-06-09T16:15:33.214Z"
   },
   {
    "duration": 25,
    "start_time": "2025-06-09T16:15:33.342Z"
   },
   {
    "duration": 4,
    "start_time": "2025-06-09T16:15:33.369Z"
   },
   {
    "duration": 29,
    "start_time": "2025-06-09T16:15:33.375Z"
   },
   {
    "duration": 25,
    "start_time": "2025-06-09T16:15:33.406Z"
   },
   {
    "duration": 5,
    "start_time": "2025-06-09T16:15:33.432Z"
   },
   {
    "duration": 64,
    "start_time": "2025-06-09T16:15:33.438Z"
   },
   {
    "duration": 672,
    "start_time": "2025-06-09T16:15:33.505Z"
   },
   {
    "duration": 9,
    "start_time": "2025-06-09T16:15:34.179Z"
   },
   {
    "duration": 56,
    "start_time": "2025-06-09T16:15:34.190Z"
   },
   {
    "duration": 7,
    "start_time": "2025-06-09T16:15:34.248Z"
   },
   {
    "duration": 20,
    "start_time": "2025-06-09T16:15:34.257Z"
   },
   {
    "duration": 24,
    "start_time": "2025-06-09T16:15:34.279Z"
   },
   {
    "duration": 1150,
    "start_time": "2025-06-09T16:15:34.305Z"
   },
   {
    "duration": 17,
    "start_time": "2025-06-09T16:15:35.457Z"
   },
   {
    "duration": 454,
    "start_time": "2025-06-09T16:15:35.476Z"
   },
   {
    "duration": 14,
    "start_time": "2025-06-09T16:15:35.931Z"
   },
   {
    "duration": 8654,
    "start_time": "2025-06-09T16:15:35.947Z"
   },
   {
    "duration": 4,
    "start_time": "2025-06-09T16:15:44.602Z"
   },
   {
    "duration": 3263,
    "start_time": "2025-06-09T16:15:44.608Z"
   },
   {
    "duration": 7,
    "start_time": "2025-06-09T16:15:47.873Z"
   },
   {
    "duration": 481,
    "start_time": "2025-06-09T16:15:47.881Z"
   },
   {
    "duration": 40,
    "start_time": "2025-06-09T16:15:48.363Z"
   },
   {
    "duration": 175,
    "start_time": "2025-06-09T16:15:48.404Z"
   },
   {
    "duration": 18,
    "start_time": "2025-06-09T16:15:48.581Z"
   },
   {
    "duration": 11,
    "start_time": "2025-06-09T16:15:48.603Z"
   },
   {
    "duration": 178,
    "start_time": "2025-06-09T16:15:48.616Z"
   },
   {
    "duration": 14,
    "start_time": "2025-06-09T16:15:48.796Z"
   },
   {
    "duration": 159,
    "start_time": "2025-06-09T16:15:48.812Z"
   },
   {
    "duration": 11,
    "start_time": "2025-06-09T16:15:48.973Z"
   },
   {
    "duration": 164,
    "start_time": "2025-06-09T16:15:48.986Z"
   },
   {
    "duration": 26,
    "start_time": "2025-06-09T16:15:49.152Z"
   },
   {
    "duration": 41,
    "start_time": "2025-06-09T16:15:49.179Z"
   },
   {
    "duration": 45,
    "start_time": "2025-06-09T16:15:49.222Z"
   },
   {
    "duration": 12,
    "start_time": "2025-06-09T16:19:34.684Z"
   },
   {
    "duration": 11,
    "start_time": "2025-06-09T16:19:37.552Z"
   },
   {
    "duration": 2524,
    "start_time": "2025-06-09T16:19:44.920Z"
   },
   {
    "duration": 6,
    "start_time": "2025-06-09T16:19:47.447Z"
   },
   {
    "duration": 145,
    "start_time": "2025-06-09T16:19:47.455Z"
   },
   {
    "duration": 24,
    "start_time": "2025-06-09T16:19:47.602Z"
   },
   {
    "duration": 17,
    "start_time": "2025-06-09T16:19:47.628Z"
   },
   {
    "duration": 14,
    "start_time": "2025-06-09T16:19:47.647Z"
   },
   {
    "duration": 24,
    "start_time": "2025-06-09T16:19:47.663Z"
   },
   {
    "duration": 7,
    "start_time": "2025-06-09T16:19:47.689Z"
   },
   {
    "duration": 15,
    "start_time": "2025-06-09T16:19:47.698Z"
   },
   {
    "duration": 928,
    "start_time": "2025-06-09T16:19:47.763Z"
   },
   {
    "duration": 10,
    "start_time": "2025-06-09T16:19:48.692Z"
   },
   {
    "duration": 74,
    "start_time": "2025-06-09T16:19:48.703Z"
   },
   {
    "duration": 19,
    "start_time": "2025-06-09T16:19:48.779Z"
   },
   {
    "duration": 61,
    "start_time": "2025-06-09T16:19:48.801Z"
   },
   {
    "duration": 19,
    "start_time": "2025-06-09T16:19:48.864Z"
   },
   {
    "duration": 78,
    "start_time": "2025-06-09T16:19:48.884Z"
   },
   {
    "duration": 1322,
    "start_time": "2025-06-09T16:19:48.964Z"
   },
   {
    "duration": 15,
    "start_time": "2025-06-09T16:19:50.287Z"
   },
   {
    "duration": 427,
    "start_time": "2025-06-09T16:19:50.304Z"
   },
   {
    "duration": 13,
    "start_time": "2025-06-09T16:19:50.733Z"
   },
   {
    "duration": 7702,
    "start_time": "2025-06-09T16:19:50.748Z"
   },
   {
    "duration": 4,
    "start_time": "2025-06-09T16:19:58.452Z"
   },
   {
    "duration": 2283,
    "start_time": "2025-06-09T16:19:58.463Z"
   },
   {
    "duration": 14,
    "start_time": "2025-06-09T16:20:00.748Z"
   },
   {
    "duration": 408,
    "start_time": "2025-06-09T16:20:00.764Z"
   },
   {
    "duration": 524,
    "start_time": "2025-06-09T16:20:01.174Z"
   },
   {
    "duration": 172,
    "start_time": "2025-06-09T16:20:01.700Z"
   },
   {
    "duration": 19,
    "start_time": "2025-06-09T16:20:01.874Z"
   },
   {
    "duration": 30,
    "start_time": "2025-06-09T16:20:01.895Z"
   },
   {
    "duration": 156,
    "start_time": "2025-06-09T16:20:01.927Z"
   },
   {
    "duration": 15,
    "start_time": "2025-06-09T16:20:02.084Z"
   },
   {
    "duration": 176,
    "start_time": "2025-06-09T16:20:02.101Z"
   },
   {
    "duration": 12,
    "start_time": "2025-06-09T16:20:02.279Z"
   },
   {
    "duration": 192,
    "start_time": "2025-06-09T16:20:02.292Z"
   },
   {
    "duration": 21,
    "start_time": "2025-06-09T16:20:02.486Z"
   },
   {
    "duration": 57,
    "start_time": "2025-06-09T16:20:02.509Z"
   },
   {
    "duration": 27,
    "start_time": "2025-06-09T16:20:02.568Z"
   },
   {
    "duration": 4,
    "start_time": "2025-06-09T16:20:06.359Z"
   },
   {
    "duration": 2,
    "start_time": "2025-06-09T16:20:32.407Z"
   },
   {
    "duration": 3187,
    "start_time": "2025-06-09T16:20:48.508Z"
   },
   {
    "duration": 8,
    "start_time": "2025-06-09T16:20:51.699Z"
   },
   {
    "duration": 177,
    "start_time": "2025-06-09T16:20:51.709Z"
   },
   {
    "duration": 74,
    "start_time": "2025-06-09T16:20:51.890Z"
   },
   {
    "duration": 6,
    "start_time": "2025-06-09T16:20:51.966Z"
   },
   {
    "duration": 24,
    "start_time": "2025-06-09T16:20:51.974Z"
   },
   {
    "duration": 83,
    "start_time": "2025-06-09T16:20:52.000Z"
   },
   {
    "duration": 6,
    "start_time": "2025-06-09T16:20:52.086Z"
   },
   {
    "duration": 71,
    "start_time": "2025-06-09T16:20:52.094Z"
   },
   {
    "duration": 1017,
    "start_time": "2025-06-09T16:20:52.170Z"
   },
   {
    "duration": 10,
    "start_time": "2025-06-09T16:20:53.189Z"
   },
   {
    "duration": 76,
    "start_time": "2025-06-09T16:20:53.201Z"
   },
   {
    "duration": 6,
    "start_time": "2025-06-09T16:20:53.278Z"
   },
   {
    "duration": 5,
    "start_time": "2025-06-09T16:20:53.285Z"
   },
   {
    "duration": 70,
    "start_time": "2025-06-09T16:20:53.292Z"
   },
   {
    "duration": 33,
    "start_time": "2025-06-09T16:20:53.364Z"
   },
   {
    "duration": 1522,
    "start_time": "2025-06-09T16:20:53.400Z"
   },
   {
    "duration": 15,
    "start_time": "2025-06-09T16:20:54.924Z"
   },
   {
    "duration": 506,
    "start_time": "2025-06-09T16:20:54.941Z"
   },
   {
    "duration": 24,
    "start_time": "2025-06-09T16:20:55.449Z"
   },
   {
    "duration": 8540,
    "start_time": "2025-06-09T16:20:55.475Z"
   },
   {
    "duration": 5,
    "start_time": "2025-06-09T16:21:04.018Z"
   },
   {
    "duration": 2594,
    "start_time": "2025-06-09T16:21:04.025Z"
   },
   {
    "duration": 8,
    "start_time": "2025-06-09T16:21:06.622Z"
   },
   {
    "duration": 515,
    "start_time": "2025-06-09T16:21:06.632Z"
   },
   {
    "duration": 48,
    "start_time": "2025-06-09T16:21:07.149Z"
   },
   {
    "duration": 171,
    "start_time": "2025-06-09T16:21:07.199Z"
   },
   {
    "duration": 19,
    "start_time": "2025-06-09T16:21:07.374Z"
   },
   {
    "duration": 12,
    "start_time": "2025-06-09T16:21:07.394Z"
   },
   {
    "duration": 688,
    "start_time": "2025-06-09T16:21:07.407Z"
   },
   {
    "duration": 15,
    "start_time": "2025-06-09T16:21:08.097Z"
   },
   {
    "duration": 187,
    "start_time": "2025-06-09T16:21:08.114Z"
   },
   {
    "duration": 12,
    "start_time": "2025-06-09T16:21:08.303Z"
   },
   {
    "duration": 172,
    "start_time": "2025-06-09T16:21:08.317Z"
   },
   {
    "duration": 22,
    "start_time": "2025-06-09T16:21:08.490Z"
   },
   {
    "duration": 65,
    "start_time": "2025-06-09T16:21:08.513Z"
   },
   {
    "duration": 27,
    "start_time": "2025-06-09T16:21:08.580Z"
   },
   {
    "duration": 2667,
    "start_time": "2025-06-09T16:25:19.020Z"
   },
   {
    "duration": 6,
    "start_time": "2025-06-09T16:25:21.690Z"
   },
   {
    "duration": 98,
    "start_time": "2025-06-09T16:25:21.698Z"
   },
   {
    "duration": 26,
    "start_time": "2025-06-09T16:25:21.799Z"
   },
   {
    "duration": 26,
    "start_time": "2025-06-09T16:25:21.827Z"
   },
   {
    "duration": 25,
    "start_time": "2025-06-09T16:25:21.855Z"
   },
   {
    "duration": 27,
    "start_time": "2025-06-09T16:25:21.882Z"
   },
   {
    "duration": 5,
    "start_time": "2025-06-09T16:25:21.912Z"
   },
   {
    "duration": 68,
    "start_time": "2025-06-09T16:25:21.919Z"
   },
   {
    "duration": 683,
    "start_time": "2025-06-09T16:25:21.991Z"
   },
   {
    "duration": 11,
    "start_time": "2025-06-09T16:25:22.676Z"
   },
   {
    "duration": 34,
    "start_time": "2025-06-09T16:25:22.689Z"
   },
   {
    "duration": 36,
    "start_time": "2025-06-09T16:25:22.725Z"
   },
   {
    "duration": 50,
    "start_time": "2025-06-09T16:25:22.763Z"
   },
   {
    "duration": 23,
    "start_time": "2025-06-09T16:25:22.815Z"
   },
   {
    "duration": 1217,
    "start_time": "2025-06-09T16:25:22.840Z"
   },
   {
    "duration": 11,
    "start_time": "2025-06-09T16:25:24.062Z"
   },
   {
    "duration": 40,
    "start_time": "2025-06-09T16:25:24.075Z"
   },
   {
    "duration": 427,
    "start_time": "2025-06-09T16:25:24.117Z"
   },
   {
    "duration": 24,
    "start_time": "2025-06-09T16:25:24.546Z"
   },
   {
    "duration": 9082,
    "start_time": "2025-06-09T16:25:24.572Z"
   },
   {
    "duration": 9,
    "start_time": "2025-06-09T16:25:33.656Z"
   },
   {
    "duration": 2406,
    "start_time": "2025-06-09T16:25:33.667Z"
   },
   {
    "duration": 10,
    "start_time": "2025-06-09T16:25:36.075Z"
   },
   {
    "duration": 469,
    "start_time": "2025-06-09T16:25:36.087Z"
   },
   {
    "duration": 39,
    "start_time": "2025-06-09T16:25:36.558Z"
   },
   {
    "duration": 174,
    "start_time": "2025-06-09T16:25:36.598Z"
   },
   {
    "duration": 20,
    "start_time": "2025-06-09T16:25:36.775Z"
   },
   {
    "duration": 33,
    "start_time": "2025-06-09T16:25:36.796Z"
   },
   {
    "duration": 170,
    "start_time": "2025-06-09T16:25:36.831Z"
   },
   {
    "duration": 15,
    "start_time": "2025-06-09T16:25:37.003Z"
   },
   {
    "duration": 659,
    "start_time": "2025-06-09T16:25:37.020Z"
   },
   {
    "duration": 12,
    "start_time": "2025-06-09T16:25:37.680Z"
   },
   {
    "duration": 179,
    "start_time": "2025-06-09T16:25:37.693Z"
   },
   {
    "duration": 20,
    "start_time": "2025-06-09T16:25:37.874Z"
   },
   {
    "duration": 53,
    "start_time": "2025-06-09T16:25:37.896Z"
   },
   {
    "duration": 40,
    "start_time": "2025-06-09T16:25:37.951Z"
   },
   {
    "duration": 20,
    "start_time": "2025-06-09T16:25:53.719Z"
   },
   {
    "duration": 1018,
    "start_time": "2025-06-09T16:26:36.439Z"
   },
   {
    "duration": 2595,
    "start_time": "2025-06-09T16:26:53.494Z"
   },
   {
    "duration": 7,
    "start_time": "2025-06-09T16:26:56.092Z"
   },
   {
    "duration": 100,
    "start_time": "2025-06-09T16:26:56.101Z"
   },
   {
    "duration": 27,
    "start_time": "2025-06-09T16:26:56.203Z"
   },
   {
    "duration": 4,
    "start_time": "2025-06-09T16:26:56.232Z"
   },
   {
    "duration": 24,
    "start_time": "2025-06-09T16:26:56.238Z"
   },
   {
    "duration": 24,
    "start_time": "2025-06-09T16:26:56.264Z"
   },
   {
    "duration": 4,
    "start_time": "2025-06-09T16:26:56.290Z"
   },
   {
    "duration": 6,
    "start_time": "2025-06-09T16:26:56.296Z"
   },
   {
    "duration": 667,
    "start_time": "2025-06-09T16:26:56.305Z"
   },
   {
    "duration": 9,
    "start_time": "2025-06-09T16:26:56.974Z"
   },
   {
    "duration": 41,
    "start_time": "2025-06-09T16:26:56.985Z"
   },
   {
    "duration": 8,
    "start_time": "2025-06-09T16:26:57.029Z"
   },
   {
    "duration": 18,
    "start_time": "2025-06-09T16:26:57.039Z"
   },
   {
    "duration": 24,
    "start_time": "2025-06-09T16:26:57.059Z"
   },
   {
    "duration": 1213,
    "start_time": "2025-06-09T16:26:57.085Z"
   },
   {
    "duration": 10,
    "start_time": "2025-06-09T16:26:58.300Z"
   },
   {
    "duration": 15,
    "start_time": "2025-06-09T16:26:58.312Z"
   },
   {
    "duration": 462,
    "start_time": "2025-06-09T16:26:58.328Z"
   },
   {
    "duration": 14,
    "start_time": "2025-06-09T16:26:58.792Z"
   },
   {
    "duration": 8800,
    "start_time": "2025-06-09T16:26:58.808Z"
   },
   {
    "duration": 4,
    "start_time": "2025-06-09T16:27:07.610Z"
   },
   {
    "duration": 2349,
    "start_time": "2025-06-09T16:27:07.615Z"
   },
   {
    "duration": 8,
    "start_time": "2025-06-09T16:27:09.966Z"
   },
   {
    "duration": 416,
    "start_time": "2025-06-09T16:27:09.976Z"
   },
   {
    "duration": 37,
    "start_time": "2025-06-09T16:27:10.394Z"
   },
   {
    "duration": 166,
    "start_time": "2025-06-09T16:27:10.433Z"
   },
   {
    "duration": 18,
    "start_time": "2025-06-09T16:27:10.602Z"
   },
   {
    "duration": 62,
    "start_time": "2025-06-09T16:27:10.622Z"
   },
   {
    "duration": 148,
    "start_time": "2025-06-09T16:27:10.686Z"
   },
   {
    "duration": 15,
    "start_time": "2025-06-09T16:27:10.835Z"
   },
   {
    "duration": 645,
    "start_time": "2025-06-09T16:27:10.862Z"
   },
   {
    "duration": 10,
    "start_time": "2025-06-09T16:27:11.509Z"
   },
   {
    "duration": 255,
    "start_time": "2025-06-09T16:27:11.520Z"
   },
   {
    "duration": 20,
    "start_time": "2025-06-09T16:27:11.777Z"
   },
   {
    "duration": 42,
    "start_time": "2025-06-09T16:27:11.799Z"
   },
   {
    "duration": 26,
    "start_time": "2025-06-09T16:27:11.862Z"
   },
   {
    "duration": 2460,
    "start_time": "2025-06-09T16:32:53.148Z"
   },
   {
    "duration": 5,
    "start_time": "2025-06-09T16:32:55.611Z"
   },
   {
    "duration": 163,
    "start_time": "2025-06-09T16:32:55.618Z"
   },
   {
    "duration": 23,
    "start_time": "2025-06-09T16:32:55.783Z"
   },
   {
    "duration": 4,
    "start_time": "2025-06-09T16:32:55.808Z"
   },
   {
    "duration": 22,
    "start_time": "2025-06-09T16:32:55.813Z"
   },
   {
    "duration": 37,
    "start_time": "2025-06-09T16:32:55.836Z"
   },
   {
    "duration": 5,
    "start_time": "2025-06-09T16:32:55.874Z"
   },
   {
    "duration": 22,
    "start_time": "2025-06-09T16:32:55.880Z"
   },
   {
    "duration": 657,
    "start_time": "2025-06-09T16:32:55.905Z"
   },
   {
    "duration": 10,
    "start_time": "2025-06-09T16:32:56.564Z"
   },
   {
    "duration": 36,
    "start_time": "2025-06-09T16:32:56.576Z"
   },
   {
    "duration": 6,
    "start_time": "2025-06-09T16:32:56.614Z"
   },
   {
    "duration": 76,
    "start_time": "2025-06-09T16:32:56.622Z"
   },
   {
    "duration": 39,
    "start_time": "2025-06-09T16:32:56.699Z"
   },
   {
    "duration": 1156,
    "start_time": "2025-06-09T16:32:56.740Z"
   },
   {
    "duration": 12,
    "start_time": "2025-06-09T16:32:57.898Z"
   },
   {
    "duration": 24,
    "start_time": "2025-06-09T16:32:57.913Z"
   },
   {
    "duration": 456,
    "start_time": "2025-06-09T16:32:57.962Z"
   },
   {
    "duration": 13,
    "start_time": "2025-06-09T16:32:58.420Z"
   },
   {
    "duration": 8318,
    "start_time": "2025-06-09T16:32:58.435Z"
   },
   {
    "duration": 10,
    "start_time": "2025-06-09T16:33:06.754Z"
   },
   {
    "duration": 2274,
    "start_time": "2025-06-09T16:33:06.766Z"
   },
   {
    "duration": 19,
    "start_time": "2025-06-09T16:33:09.043Z"
   },
   {
    "duration": 390,
    "start_time": "2025-06-09T16:33:09.064Z"
   },
   {
    "duration": 37,
    "start_time": "2025-06-09T16:33:09.456Z"
   },
   {
    "duration": 159,
    "start_time": "2025-06-09T16:33:09.495Z"
   },
   {
    "duration": 18,
    "start_time": "2025-06-09T16:33:09.662Z"
   },
   {
    "duration": 12,
    "start_time": "2025-06-09T16:33:09.681Z"
   },
   {
    "duration": 163,
    "start_time": "2025-06-09T16:33:09.695Z"
   },
   {
    "duration": 14,
    "start_time": "2025-06-09T16:33:09.860Z"
   },
   {
    "duration": 151,
    "start_time": "2025-06-09T16:33:09.875Z"
   },
   {
    "duration": 11,
    "start_time": "2025-06-09T16:33:10.029Z"
   },
   {
    "duration": 182,
    "start_time": "2025-06-09T16:33:10.043Z"
   },
   {
    "duration": 20,
    "start_time": "2025-06-09T16:33:10.226Z"
   },
   {
    "duration": 53,
    "start_time": "2025-06-09T16:33:10.247Z"
   },
   {
    "duration": 26,
    "start_time": "2025-06-09T16:33:10.302Z"
   },
   {
    "duration": 2499,
    "start_time": "2025-06-09T18:59:20.950Z"
   },
   {
    "duration": 6,
    "start_time": "2025-06-09T18:59:23.452Z"
   },
   {
    "duration": 180,
    "start_time": "2025-06-09T18:59:23.460Z"
   },
   {
    "duration": 25,
    "start_time": "2025-06-09T18:59:23.642Z"
   },
   {
    "duration": 4,
    "start_time": "2025-06-09T18:59:23.668Z"
   },
   {
    "duration": 11,
    "start_time": "2025-06-09T18:59:23.674Z"
   },
   {
    "duration": 23,
    "start_time": "2025-06-09T18:59:23.687Z"
   },
   {
    "duration": 8,
    "start_time": "2025-06-09T18:59:23.711Z"
   },
   {
    "duration": 18,
    "start_time": "2025-06-09T18:59:23.721Z"
   },
   {
    "duration": 613,
    "start_time": "2025-06-09T18:59:23.763Z"
   },
   {
    "duration": 10,
    "start_time": "2025-06-09T18:59:24.378Z"
   },
   {
    "duration": 21,
    "start_time": "2025-06-09T18:59:24.389Z"
   },
   {
    "duration": 6,
    "start_time": "2025-06-09T18:59:24.411Z"
   },
   {
    "duration": 19,
    "start_time": "2025-06-09T18:59:24.419Z"
   },
   {
    "duration": 41,
    "start_time": "2025-06-09T18:59:24.440Z"
   },
   {
    "duration": 1146,
    "start_time": "2025-06-09T18:59:24.482Z"
   },
   {
    "duration": 10,
    "start_time": "2025-06-09T18:59:25.629Z"
   },
   {
    "duration": 27,
    "start_time": "2025-06-09T18:59:25.640Z"
   },
   {
    "duration": 402,
    "start_time": "2025-06-09T18:59:25.668Z"
   },
   {
    "duration": 13,
    "start_time": "2025-06-09T18:59:26.072Z"
   },
   {
    "duration": 7884,
    "start_time": "2025-06-09T18:59:26.086Z"
   },
   {
    "duration": 4,
    "start_time": "2025-06-09T18:59:33.972Z"
   },
   {
    "duration": 2727,
    "start_time": "2025-06-09T18:59:33.978Z"
   },
   {
    "duration": 11,
    "start_time": "2025-06-09T18:59:36.707Z"
   },
   {
    "duration": 430,
    "start_time": "2025-06-09T18:59:36.720Z"
   },
   {
    "duration": 43,
    "start_time": "2025-06-09T18:59:37.151Z"
   },
   {
    "duration": 162,
    "start_time": "2025-06-09T18:59:37.196Z"
   },
   {
    "duration": 18,
    "start_time": "2025-06-09T18:59:37.362Z"
   },
   {
    "duration": 52,
    "start_time": "2025-06-09T18:59:37.381Z"
   },
   {
    "duration": 151,
    "start_time": "2025-06-09T18:59:37.435Z"
   },
   {
    "duration": 14,
    "start_time": "2025-06-09T18:59:37.587Z"
   },
   {
    "duration": 148,
    "start_time": "2025-06-09T18:59:37.603Z"
   },
   {
    "duration": 17,
    "start_time": "2025-06-09T18:59:37.754Z"
   },
   {
    "duration": 165,
    "start_time": "2025-06-09T18:59:37.773Z"
   },
   {
    "duration": 33,
    "start_time": "2025-06-09T18:59:37.940Z"
   },
   {
    "duration": 57,
    "start_time": "2025-06-09T18:59:37.975Z"
   },
   {
    "duration": 43,
    "start_time": "2025-06-09T18:59:38.034Z"
   },
   {
    "duration": 3007,
    "start_time": "2025-06-10T16:47:00.240Z"
   },
   {
    "duration": 1171,
    "start_time": "2025-06-10T16:47:03.249Z"
   },
   {
    "duration": 344,
    "start_time": "2025-06-10T16:47:04.422Z"
   },
   {
    "duration": 32,
    "start_time": "2025-06-10T16:47:04.768Z"
   },
   {
    "duration": 4,
    "start_time": "2025-06-10T16:47:04.803Z"
   },
   {
    "duration": 26,
    "start_time": "2025-06-10T16:47:04.809Z"
   },
   {
    "duration": 40,
    "start_time": "2025-06-10T16:47:04.837Z"
   },
   {
    "duration": 14,
    "start_time": "2025-06-10T16:47:04.880Z"
   },
   {
    "duration": 30,
    "start_time": "2025-06-10T16:47:04.896Z"
   },
   {
    "duration": 658,
    "start_time": "2025-06-10T16:47:04.928Z"
   },
   {
    "duration": 10,
    "start_time": "2025-06-10T16:47:05.589Z"
   },
   {
    "duration": 40,
    "start_time": "2025-06-10T16:47:05.601Z"
   },
   {
    "duration": 25,
    "start_time": "2025-06-10T16:47:05.643Z"
   },
   {
    "duration": 44,
    "start_time": "2025-06-10T16:47:05.669Z"
   },
   {
    "duration": 28,
    "start_time": "2025-06-10T16:47:05.715Z"
   },
   {
    "duration": 1233,
    "start_time": "2025-06-10T16:47:05.745Z"
   },
   {
    "duration": 11,
    "start_time": "2025-06-10T16:47:06.981Z"
   },
   {
    "duration": 75,
    "start_time": "2025-06-10T16:47:06.993Z"
   },
   {
    "duration": 446,
    "start_time": "2025-06-10T16:47:07.069Z"
   },
   {
    "duration": 15,
    "start_time": "2025-06-10T16:47:07.517Z"
   },
   {
    "duration": 7702,
    "start_time": "2025-06-10T16:47:07.533Z"
   },
   {
    "duration": 4,
    "start_time": "2025-06-10T16:47:15.237Z"
   },
   {
    "duration": 2343,
    "start_time": "2025-06-10T16:47:15.242Z"
   },
   {
    "duration": 8,
    "start_time": "2025-06-10T16:47:17.586Z"
   },
   {
    "duration": 440,
    "start_time": "2025-06-10T16:47:17.596Z"
   },
   {
    "duration": 46,
    "start_time": "2025-06-10T16:47:18.038Z"
   },
   {
    "duration": 155,
    "start_time": "2025-06-10T16:47:18.086Z"
   },
   {
    "duration": 25,
    "start_time": "2025-06-10T16:47:18.244Z"
   },
   {
    "duration": 77,
    "start_time": "2025-06-10T16:47:18.270Z"
   },
   {
    "duration": 194,
    "start_time": "2025-06-10T16:47:18.349Z"
   },
   {
    "duration": 22,
    "start_time": "2025-06-10T16:47:18.545Z"
   },
   {
    "duration": 602,
    "start_time": "2025-06-10T16:47:18.569Z"
   },
   {
    "duration": 10,
    "start_time": "2025-06-10T16:47:19.172Z"
   },
   {
    "duration": 141,
    "start_time": "2025-06-10T16:47:19.184Z"
   },
   {
    "duration": 16,
    "start_time": "2025-06-10T16:47:19.327Z"
   },
   {
    "duration": 49,
    "start_time": "2025-06-10T16:47:19.345Z"
   },
   {
    "duration": 46,
    "start_time": "2025-06-10T16:47:19.396Z"
   }
  ],
  "kernelspec": {
   "display_name": "Python 3 (ipykernel)",
   "language": "python",
   "name": "python3"
  },
  "language_info": {
   "codemirror_mode": {
    "name": "ipython",
    "version": 3
   },
   "file_extension": ".py",
   "mimetype": "text/x-python",
   "name": "python",
   "nbconvert_exporter": "python",
   "pygments_lexer": "ipython3",
   "version": "3.11.7"
  },
  "toc": {
   "base_numbering": 1,
   "nav_menu": {},
   "number_sections": true,
   "sideBar": true,
   "skip_h1_title": true,
   "title_cell": "Table of Contents",
   "title_sidebar": "Contents",
   "toc_cell": false,
   "toc_position": {
    "height": "calc(100% - 180px)",
    "left": "10px",
    "top": "150px",
    "width": "165px"
   },
   "toc_section_display": true,
   "toc_window_display": false
  }
 },
 "nbformat": 4,
 "nbformat_minor": 4
}
